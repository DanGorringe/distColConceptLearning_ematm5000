{
 "cells": [
  {
   "cell_type": "markdown",
   "metadata": {},
   "source": [
    "# Set-up\n",
    "---"
   ]
  },
  {
   "cell_type": "markdown",
   "metadata": {
    "ExecuteTime": {
     "end_time": "2021-03-12T09:52:54.111355Z",
     "start_time": "2021-03-12T09:52:53.821999Z"
    }
   },
   "source": [
    "## Libraries import\n",
    "Using special reload, so that don't have to restart whole notebook"
   ]
  },
  {
   "cell_type": "code",
   "execution_count": 1,
   "metadata": {
    "ExecuteTime": {
     "end_time": "2021-05-05T19:02:56.427404Z",
     "start_time": "2021-05-05T19:02:51.111338Z"
    }
   },
   "outputs": [],
   "source": [
    "%load_ext autoreload\n",
    "%autoreload 2\n",
    "\n",
    "# Importing Libraries\n",
    "from agentClass import *\n",
    "from discriminationGame import *\n",
    "from learningModels import *\n",
    "from metrics import *\n",
    "import numpy as np\n",
    "import matplotlib.pyplot as plt\n",
    "import matplotlib\n",
    "import time\n",
    "import pandas as pd\n",
    "from tqdm.notebook import tqdm # This is such a cool library\n",
    "from matplotlib import gridspec\n",
    "from utilities import *\n",
    "from pprint import pprint\n",
    "\n",
    "from scipy.spatial import Voronoi, voronoi_plot_2d"
   ]
  },
  {
   "cell_type": "markdown",
   "metadata": {},
   "source": [
    "## Graph Plotting settings"
   ]
  },
  {
   "cell_type": "code",
   "execution_count": 2,
   "metadata": {
    "ExecuteTime": {
     "end_time": "2021-05-05T19:02:56.478677Z",
     "start_time": "2021-05-05T19:02:56.430678Z"
    }
   },
   "outputs": [],
   "source": [
    "# LaTeX text\n",
    "matplotlib.rcParams['mathtext.fontset'] = 'stix'\n",
    "matplotlib.rcParams['font.family'] = 'STIXGeneral'"
   ]
  },
  {
   "cell_type": "markdown",
   "metadata": {},
   "source": [
    "## Colour Scheme"
   ]
  },
  {
   "cell_type": "code",
   "execution_count": 3,
   "metadata": {
    "ExecuteTime": {
     "end_time": "2021-05-05T19:02:58.408688Z",
     "start_time": "2021-05-05T19:02:58.363569Z"
    }
   },
   "outputs": [],
   "source": [
    "# My Colour scheme\n",
    "#  every self-respecting/loathing millenial has their own, right?\n",
    "orange = '#FFA500'\n",
    "millenialPink = '#FFAADD'\n",
    "mediumAquamarine = '#66CDAA'\n",
    "uranianBlue = '#AFDBF5'\n",
    "grey = '#ADADAD'\n",
    "\n",
    "mediumAquamarine_0 = '#66CDAA00'\n",
    "mediumAquamarine_1 = '#66CDAAFF'\n",
    "\n",
    "millenialPink_0 = '#FFAADD00'\n",
    "millenialPink_1 = '#FFAADDFF'\n",
    "\n",
    "# Custom cmap\n",
    "from matplotlib.colors import LinearSegmentedColormap\n",
    "\n",
    "colours = [orange,millenialPink]\n",
    "cm = LinearSegmentedColormap.from_list('customCmap', colours, N=1024)\n",
    "cm_mp = LinearSegmentedColormap.from_list('customCmap_mp', [millenialPink_0,millenialPink_1], N=1024)\n",
    "cm_ma = LinearSegmentedColormap.from_list('customCmap_mp', [mediumAquamarine_0,mediumAquamarine_1], N=1024)"
   ]
  },
  {
   "cell_type": "markdown",
   "metadata": {},
   "source": [
    "### Import Data"
   ]
  },
  {
   "cell_type": "code",
   "execution_count": 4,
   "metadata": {
    "ExecuteTime": {
     "end_time": "2021-05-05T19:03:05.405428Z",
     "start_time": "2021-05-05T19:03:01.033158Z"
    }
   },
   "outputs": [
    {
     "name": "stdout",
     "output_type": "stream",
     "text": [
      "(1048576, 7)\n",
      "[[121764 6764 1267464801 153 220 61 'lime green']\n",
      " [395240 18852 1267542437 94 19 13 'brown']\n",
      " [102855 5794 1267458740 108 148 46 'dark green']\n",
      " [233343 11770 1267486905 42 182 131 'bluey-green']\n",
      " [123908 6808 1267465466 183 215 217 'pale blue']\n",
      " [275896 13625 1267494929 161 51 26 'blood red']\n",
      " [953350 43447 1267755927 147 87 219 'lavender']\n",
      " [317228 15374 1267504148 149 80 190 'purple']\n",
      " [500049 23654 1267577440 243 60 160 'light purple']\n",
      " [962885 43759 1267761058 244 33 170 'fuschia']]\n"
     ]
    }
   ],
   "source": [
    "# Load data, and shuffle\n",
    "X = pd.read_csv('../DATA/XKCD/answers_202102041210.csv',header=None,names=['id','user_id','datestamp','r','b','g','colourname'])\n",
    "X = np.array(X)\n",
    "print(X.shape)\n",
    "np.random.shuffle(X)\n",
    "print(X[:10])"
   ]
  },
  {
   "cell_type": "code",
   "execution_count": 5,
   "metadata": {
    "ExecuteTime": {
     "end_time": "2021-05-05T19:03:05.474640Z",
     "start_time": "2021-05-05T19:03:05.410634Z"
    }
   },
   "outputs": [],
   "source": [
    "# Labels\n",
    "# The eleven basic color terms\n",
    "l = ['blue','green','red','orange','yellow','purple']\n",
    "l = ['black','white','red','green','yellow','blue','brown','orange','pink','purple','grey']\n",
    "l = ['red','green','yellow','blue','brown','orange','pink','purple','grey']"
   ]
  },
  {
   "cell_type": "code",
   "execution_count": 6,
   "metadata": {
    "ExecuteTime": {
     "end_time": "2021-05-05T19:03:06.266842Z",
     "start_time": "2021-05-05T19:03:05.482141Z"
    }
   },
   "outputs": [
    {
     "name": "stdout",
     "output_type": "stream",
     "text": [
      "[11000, 'red']\n",
      "[11000, 'green']\n",
      "[11000, 'yellow']\n",
      "[11000, 'blue']\n",
      "[11000, 'brown']\n",
      "[11000, 'orange']\n",
      "[11000, 'pink']\n",
      "[11000, 'purple']\n",
      "[10970, 'grey']\n",
      "(98970, 7)\n",
      "[[792485 36494 1267661269 239 192 26 'yellow']\n",
      " [580185 27180 1267596474 81 252 62 'green']\n",
      " [733782 34018 1267643218 238 245 73 'yellow']\n",
      " [1010607 45976 1267781709 229 141 58 'orange']\n",
      " [563477 26482 1267594195 194 193 175 'grey']\n",
      " [534220 25050 1267587992 114 53 17 'brown']\n",
      " [1134 51 1267423843 167 103 74 'brown']\n",
      " [631631 29478 1267612387 220 203 106 'orange']\n",
      " [877613 40100 1267710796 52 215 86 'green']\n",
      " [680498 31756 1267629435 243 60 140 'pink']]\n"
     ]
    }
   ],
   "source": [
    "# Filter colours\n",
    "r = 11000 # truncation value, to uniformly distribute colour labels\n",
    "# use r=-1 for all\n",
    "Xc = X[:,-1]\n",
    "Xi = []\n",
    "for k in l:\n",
    "    x = np.where(Xc == k)\n",
    "    Xi.extend(x[0][:r])\n",
    "    print([len(x[0][:r]),k])\n",
    "Xi = np.array(Xi) # Array of indices of labels in l\n",
    "Y = X[Xi]\n",
    "np.random.shuffle(Y)\n",
    "print(Y.shape)\n",
    "print(Y[:10])\n",
    "# Y is the refined dataset"
   ]
  },
  {
   "cell_type": "code",
   "execution_count": 7,
   "metadata": {
    "ExecuteTime": {
     "end_time": "2021-05-05T19:03:06.315128Z",
     "start_time": "2021-05-05T19:03:06.272002Z"
    }
   },
   "outputs": [],
   "source": [
    "Y_train = Y[:10000]\n",
    "Y_test = Y[-1000:]"
   ]
  },
  {
   "cell_type": "markdown",
   "metadata": {},
   "source": [
    "# Exemplar Agents"
   ]
  },
  {
   "cell_type": "markdown",
   "metadata": {},
   "source": [
    "## Agent Functions"
   ]
  },
  {
   "cell_type": "code",
   "execution_count": 8,
   "metadata": {
    "ExecuteTime": {
     "end_time": "2021-05-05T19:03:07.669718Z",
     "start_time": "2021-05-05T19:03:07.621469Z"
    }
   },
   "outputs": [],
   "source": [
    "a_exemplar = 0.2"
   ]
  },
  {
   "cell_type": "code",
   "execution_count": 9,
   "metadata": {
    "ExecuteTime": {
     "end_time": "2021-05-05T19:03:09.010077Z",
     "start_time": "2021-05-05T19:03:08.919305Z"
    }
   },
   "outputs": [],
   "source": [
    "# Label Array - also used for quantum agent\n",
    "ratioValue = 0\n",
    "def RLA(l,pf,r=ratioValue,Y=Y_train):\n",
    "    # r = ratio to use real data\n",
    "    la = {l[i]:RE(pf) for i in np.random.randint(0,len(l),size=np.random.randint(0,len(l)))}\n",
    "    for i in la:\n",
    "        if np.random.random() < r:\n",
    "            Xc = Y[:,-1]\n",
    "            #print([i,str(i)])\n",
    "            x = np.where(Xc == str(i))[0]\n",
    "            #print(Xc[x])\n",
    "            k = np.random.choice(x)\n",
    "            la[i] = [float(Y[k,3])/255,float(Y[k,4])/255,float(Y[k,5])/255]\n",
    "    return la\n",
    "        "
   ]
  },
  {
   "cell_type": "code",
   "execution_count": 10,
   "metadata": {
    "ExecuteTime": {
     "end_time": "2021-05-05T19:03:09.880803Z",
     "start_time": "2021-05-05T19:03:09.813977Z"
    }
   },
   "outputs": [],
   "source": [
    "# Agents\n",
    "def RA(pf,aArgs={'a':a_exemplar,'ratioValue':0},l=l,Y=Y_train):\n",
    "    '''\n",
    "    Create an agent with a random selection of labels with random exemplars\n",
    "    '''\n",
    "    a = aArgs['a']\n",
    "    return Agent(ExemplarLearningModel(LA=RLA(l,pf,aArgs['ratioValue'],Y),a=a),pf=pf)\n",
    "\n",
    "#Random Agent Array\n",
    "def RAA(pf,N=5,aArgs={'a':a_exemplar,'ratioValue':0},l=l,Y=Y_train):\n",
    "    agents = [RA(pf,aArgs,l,Y) for i in range(N)] # an array of N random agents\n",
    "    return agents"
   ]
  },
  {
   "cell_type": "markdown",
   "metadata": {},
   "source": [
    "## Game playing functions"
   ]
  },
  {
   "cell_type": "code",
   "execution_count": 11,
   "metadata": {
    "ExecuteTime": {
     "end_time": "2021-05-05T19:03:11.260151Z",
     "start_time": "2021-05-05T19:03:11.210026Z"
    }
   },
   "outputs": [],
   "source": [
    "def PF(n):\n",
    "    return [[0 for i in range(n)],[1 for i in range(n)]] # put in square box\n",
    "\n",
    "# This seems an ugly way to do it\n",
    "def RE(playingField):\n",
    "    return np.random.uniform(playingField[0],playingField[1])\n",
    "\n",
    "# Play a round with a random selection of elements\n",
    "def DiscriminationGameRound(A,B,pf,N=5):\n",
    "    O = [RE(pf) for i in range(N)] # Random elements for N\n",
    "    o = O[-1]\n",
    "    DiscriminationGame(A,B,O,o)"
   ]
  },
  {
   "cell_type": "code",
   "execution_count": 30,
   "metadata": {
    "ExecuteTime": {
     "end_time": "2021-05-05T19:04:45.072688Z",
     "start_time": "2021-05-05T19:04:45.013898Z"
    }
   },
   "outputs": [],
   "source": [
    "nDG = 8 # nDifferentGames\n",
    "nA = 32  # nAgents\n",
    "nI = 128 # nIterations"
   ]
  },
  {
   "cell_type": "code",
   "execution_count": 32,
   "metadata": {
    "ExecuteTime": {
     "end_time": "2021-05-05T19:05:04.110150Z",
     "start_time": "2021-05-05T19:05:04.056930Z"
    }
   },
   "outputs": [],
   "source": [
    "# Game stuff\n",
    "def GameRound(agents,pf):\n",
    "    for A in agents:\n",
    "        agents.remove(A)\n",
    "        B = np.random.choice(agents)\n",
    "        DiscriminationGameRound(A,B,pf)\n",
    "        agents.append(A)\n",
    "\n",
    "def GameN(agents,pf,n=1):\n",
    "    for i in range(n):\n",
    "        GameRound(agents,pf)\n",
    "\n",
    "def WholeGame(nDifferentGames=nDG,nAgents=nA,nIterations=nI,pf=PF(3),aArgs={'a':0.12,'ratioValue':0},RAA=RAA,Metric=RandomAccuracyMetric,metricAll=True,l=l,X_test=None,Y=Y_train):\n",
    "    resultsWhole = []\n",
    "    for i in range(nDifferentGames):\n",
    "        agents = RAA(pf,nAgents,aArgs,l,Y)\n",
    "        r = []\n",
    "        for j in range(nIterations):\n",
    "            GameRound(agents,pf)\n",
    "            if metricAll or j == nIterations - 1: # Only record metric if record all or last iteration\n",
    "                r.append(Metric(agents,X=X_test))\n",
    "            #else if j == nIterations\n",
    "        resultsWhole.append(r)\n",
    "    return resultsWhole\n",
    "\n",
    "def PltWholeGame(label,colour,nDifferentGames=nDG,nAgents=nA,nIterations=nI,pfn=3,aArgs={'a':0.12,'a_sd':6,'r':[0,0.75],'ratioValue':0},RAA=RAA,Metric=RandomAccuracyMetric,l=l,X_test=None,Y=Y_train):\n",
    "    results = np.array(WholeGame(nDifferentGames,nAgents,nIterations,pf=PF(pfn),aArgs=aArgs,RAA=RAA,Metric=Metric,l=l,X_test=X_test,Y=Y))\n",
    "    resultsAvg = np.mean(results,axis=0)\n",
    "    resultsVar = np.sqrt(np.var(results,axis=0))\n",
    "    plt.plot(range(resultsAvg.shape[0]),resultsAvg,c=colour,label=label)\n",
    "    # Use a # of s.d.?\n",
    "    plt.fill_between(range(resultsAvg.shape[0]),resultsAvg-resultsVar,resultsAvg+resultsVar,color=colour,alpha=0.25,linewidth=0.0)"
   ]
  },
  {
   "cell_type": "code",
   "execution_count": 33,
   "metadata": {
    "ExecuteTime": {
     "end_time": "2021-05-05T19:05:04.538887Z",
     "start_time": "2021-05-05T19:05:04.451247Z"
    }
   },
   "outputs": [],
   "source": [
    "def WholeGame_prog(nDifferentGames=nDG,nAgents=nA,nIterations=nI,pf=PF(3),aArgs={'a':0.12,'ratioValue':0},RAA=RAA,Metric=RandomAccuracyMetric,metricAll=True,l=l,X_test=None,Y=Y_train):\n",
    "    resultsWhole = []\n",
    "    for i in tqdm(range(nDifferentGames)):\n",
    "        agents = RAA(pf,nAgents,aArgs,l,Y)\n",
    "        r = []\n",
    "        for j in tqdm(range(nIterations),leave=False):\n",
    "            GameRound(agents,pf)\n",
    "            if metricAll or j == nIterations - 1: # Only record metric if record all or last iteration\n",
    "                r.append(Metric(agents,X=X_test))\n",
    "            #else if j == nIterations\n",
    "        resultsWhole.append(r)\n",
    "    return resultsWhole\n",
    "\n",
    "def PltWholeGame_prog(label,colour,nDifferentGames=nDG,nAgents=nA,nIterations=nI,pfn=3,aArgs={'a':0.12,'a_sd':6,'r':[0,0.75],'ratioValue':0},RAA=RAA,Metric=RandomAccuracyMetric,l=l,X_test=None,Y=Y_train):\n",
    "    results = np.array(WholeGame_prog(nDifferentGames,nAgents,nIterations,pf=PF(pfn),aArgs=aArgs,RAA=RAA,Metric=Metric,l=l,X_test=X_test,Y=Y))\n",
    "    resultsAvg = np.mean(results,axis=0)\n",
    "    resultsVar = np.sqrt(np.var(results,axis=0))\n",
    "    plt.plot(range(resultsAvg.shape[0]),resultsAvg,c=colour,label=label)\n",
    "    # Use a # of s.d.?\n",
    "    plt.fill_between(range(resultsAvg.shape[0]),resultsAvg-resultsVar,resultsAvg+resultsVar,color=colour,alpha=0.25,linewidth=0.0)"
   ]
  },
  {
   "cell_type": "markdown",
   "metadata": {
    "ExecuteTime": {
     "end_time": "2021-03-12T10:15:44.439509Z",
     "start_time": "2021-03-12T10:15:44.375196Z"
    }
   },
   "source": [
    "## Exemplar Agent Space functions"
   ]
  },
  {
   "cell_type": "code",
   "execution_count": null,
   "metadata": {
    "ExecuteTime": {
     "end_time": "2021-03-20T14:54:29.461488Z",
     "start_time": "2021-03-20T14:54:29.410383Z"
    }
   },
   "outputs": [],
   "source": [
    "# Temporary reduced labels for visulisation\n",
    "l2 = ['obnoxious florg','deep flarg','millenial floof']\n",
    "lc = {'obnoxious florg':mediumAquamarine,'deep flarg':orange,'millenial floof':millenialPink}"
   ]
  },
  {
   "cell_type": "code",
   "execution_count": null,
   "metadata": {
    "ExecuteTime": {
     "end_time": "2021-03-20T14:54:31.435084Z",
     "start_time": "2021-03-20T14:54:31.374204Z"
    }
   },
   "outputs": [],
   "source": [
    "def PlotVoroni(agent,ax,lc=lc):\n",
    "    points = [agent.FindLabelExemplar(l) for l in agent.GetLabels()]\n",
    "    points.append([100,100])\n",
    "    points.append([-100,100])\n",
    "    points.append([100,-100])\n",
    "    points.append([-100,-100])\n",
    "    vor = Voronoi(points)\n",
    "    voronoi_plot_2d(vor,ax=ax,line_width=0,show_vertices=False)\n",
    "    for r in vor.regions:\n",
    "        if -1 not in r:\n",
    "            p = [vor.vertices[j] for j in r]\n",
    "           # print(p)\n",
    "            if p:\n",
    "                try:\n",
    "                    ax.fill(*zip(*p),c=lc[agent.FindLabel(np.mean(p,axis=0))],alpha=0.25)\n",
    "                except:\n",
    "                    a = None\n",
    "    for l in agent.GetLabels():\n",
    "        x = agent.FindLabelExemplar(l)\n",
    "        ax.plot([x[0]],[x[1]],color=lc[l],marker='.',markersize=10)\n",
    "    ax.set_ylim([0,1])\n",
    "    ax.set_xlim([0,1])"
   ]
  },
  {
   "cell_type": "code",
   "execution_count": null,
   "metadata": {
    "ExecuteTime": {
     "end_time": "2021-03-20T14:54:31.981502Z",
     "start_time": "2021-03-20T14:54:31.928078Z"
    }
   },
   "outputs": [],
   "source": [
    "def PlotVoroniCollage(agents,squareN=3,t=0):\n",
    "    fig, axs = plt.subplots(squareN,squareN,figsize=(6,6))\n",
    "    fig.suptitle(\"\"\"$t=$\"\"\"+str(t),fontsize=20,weight=80)\n",
    "    #plt.subplots_adjust(bottom=-.1,top=1) # This seems suuper dodge\n",
    "    for i in range(squareN**2):\n",
    "        PlotVoroni(agents[i],axs[i//squareN,i%squareN])\n",
    "        axs[i//squareN,i%squareN].axis('off')\n",
    "    #plt.show()\n",
    "    return [fig,axs]"
   ]
  },
  {
   "cell_type": "code",
   "execution_count": null,
   "metadata": {
    "ExecuteTime": {
     "end_time": "2021-03-20T14:54:32.655367Z",
     "start_time": "2021-03-20T14:54:32.605153Z"
    }
   },
   "outputs": [],
   "source": [
    "def PlotVoroniCollageXY(agents,Y=3,X=3,t=0,fs=(15,15)):\n",
    "    fig, axs = plt.subplots(Y,X,figsize=fs)\n",
    "    gs = matplotlib.gridspec.GridSpec(Y,X,\n",
    "         wspace=0.1, hspace=0.0, \n",
    "         top=1.-0.5/(X+1), bottom=0.5/(X+1), \n",
    "         left=0.5/(Y+1), right=1-0.5/(Y+1)) \n",
    "    #fig.suptitle(\"\"\"$t=$\"\"\"+str(t),fontsize=20,weight=80)\n",
    "    #plt.subplots_adjust(bottom=-.1,top=1) # This seems suuper dodge\n",
    "    for y in range(Y):\n",
    "        for x in range(X):\n",
    "            i = x*X + y%Y\n",
    "            #print([i,[x,y],[x%X,y*Y]])\n",
    "            ax = plt.subplot(gs[y,x])\n",
    "            PlotVoroni(agents[i],ax)\n",
    "            ax.set_aspect('equal')\n",
    "            ax.axis('off')\n",
    "    #plt.show()\n",
    "    return [fig,gs]"
   ]
  },
  {
   "cell_type": "markdown",
   "metadata": {
    "heading_collapsed": true
   },
   "source": [
    "## Exemplar Agent Space Plots"
   ]
  },
  {
   "cell_type": "code",
   "execution_count": null,
   "metadata": {
    "ExecuteTime": {
     "end_time": "2021-03-20T15:13:22.229074Z",
     "start_time": "2021-03-20T15:13:22.174230Z"
    },
    "hidden": true
   },
   "outputs": [],
   "source": [
    "agents = RAA(PF(2),N=10,l=l2)\n",
    "agentsD = {i:agents[i] for i in range(len(agents))}\n",
    "agents = [agentsD[i] for i in range(len(agents))]"
   ]
  },
  {
   "cell_type": "code",
   "execution_count": null,
   "metadata": {
    "ExecuteTime": {
     "end_time": "2021-03-20T15:13:23.515867Z",
     "start_time": "2021-03-20T15:13:22.577124Z"
    },
    "hidden": true
   },
   "outputs": [],
   "source": [
    "fig,axs = PlotVoroniCollage(agentsD,t=0)\n",
    "#fig,axs = PlotVoroniCollageXY(agents,30,20,t=0,fs=(8.25,11.75))\n",
    "plt.tight_layout()\n",
    "fig.savefig('./Images/Exemplar/collage_0.pdf', transparent=False)\n",
    "#plt.subplots_adjust(wspace=0, hspace=0)\n",
    "plt.show()"
   ]
  },
  {
   "cell_type": "code",
   "execution_count": null,
   "metadata": {
    "ExecuteTime": {
     "end_time": "2021-03-20T15:13:25.098521Z",
     "start_time": "2021-03-20T15:13:25.034323Z"
    },
    "hidden": true
   },
   "outputs": [],
   "source": [
    "GameN(agents,PF(2),n=3)"
   ]
  },
  {
   "cell_type": "code",
   "execution_count": null,
   "metadata": {
    "ExecuteTime": {
     "end_time": "2021-03-20T15:13:26.930130Z",
     "start_time": "2021-03-20T15:13:25.944643Z"
    },
    "hidden": true
   },
   "outputs": [],
   "source": [
    "GameN(agents,PF(2),n=3)\n",
    "fig,axs = PlotVoroniCollage(agentsD,t=4)\n",
    "plt.tight_layout()\n",
    "fig.savefig('./Images/Exemplar/collage_4.pdf',transparent=False)\n",
    "plt.show()"
   ]
  },
  {
   "cell_type": "code",
   "execution_count": null,
   "metadata": {
    "ExecuteTime": {
     "end_time": "2021-03-20T15:13:34.132556Z",
     "start_time": "2021-03-20T15:13:33.154232Z"
    },
    "hidden": true
   },
   "outputs": [],
   "source": [
    "GameN(agents,PF(2),n=60)\n",
    "fig,axs = PlotVoroniCollage(agents,t=64)\n",
    "plt.tight_layout()\n",
    "fig.savefig('./Images/Exemplar/collage_64.pdf',transparent=False)\n",
    "plt.show()"
   ]
  },
  {
   "cell_type": "markdown",
   "metadata": {
    "heading_collapsed": true
   },
   "source": [
    "## Initial Plots"
   ]
  },
  {
   "cell_type": "code",
   "execution_count": null,
   "metadata": {
    "ExecuteTime": {
     "end_time": "2021-04-09T14:01:44.492267Z",
     "start_time": "2021-04-09T13:52:04.043778Z"
    },
    "hidden": true
   },
   "outputs": [],
   "source": [
    "# Dimensions\n",
    "PltWholeGame('2 Dimensions',millenialPink,pfn=2)\n",
    "PltWholeGame('3 Dimensions',mediumAquamarine,pfn=3)\n",
    "PltWholeGame('5 Dimensions',orange,pfn=5)\n",
    "plt.xlabel('Iterations')\n",
    "plt.ylabel('Convergence Metric')\n",
    "plt.title('Convergence of Prototype Agents')\n",
    "plt.legend()\n",
    "plt.show()"
   ]
  },
  {
   "cell_type": "markdown",
   "metadata": {
    "heading_collapsed": true
   },
   "source": [
    "## Find learning rate"
   ]
  },
  {
   "cell_type": "code",
   "execution_count": null,
   "metadata": {
    "ExecuteTime": {
     "end_time": "2021-04-09T21:37:53.028827Z",
     "start_time": "2021-04-09T17:50:44.687237Z"
    },
    "hidden": true
   },
   "outputs": [],
   "source": [
    "# Randomised convergence\n",
    "# ~Bifurcation~ plot of learning rates\n",
    "ls = np.linspace(0,1,num=50)\n",
    "results = np.array([np.array(WholeGame(nAgents=128,aArgs={'a':i,'ratioValue':0},Metric=RandomAccuracyMetric,metricAll=False))[:,-1] for i in ls])\n",
    "results_t = np.array([np.array(WholeGame(nAgents=128,aArgs={'a':i,'ratioValue':1},Metric=RandomAccuracyMetric,metricAll=False))[:,-1] for i in ls])\n",
    "plt.plot(ls,results,c=millenialPink,linestyle='none',marker='.',alpha=0.125,label='Random')\n",
    "plt.plot(ls,results_t,c=orange,linestyle='none',marker='.',alpha=0.125,label='Full Truth')\n",
    "plt.xlabel('Learning Rate')\n",
    "plt.ylabel('Agent Exemplar Metric')\n",
    "# Legend\n",
    "rando = matplotlib.patches.mlines.Line2D([], [], color=millenialPink, marker='.',alpha=0.125, label='Randomly Initialised')\n",
    "truth = matplotlib.patches.mlines.Line2D([], [], color=orange, marker='.',alpha=0.125, label='Initialised from Training data')\n",
    "plt.legend(handles=[rando,truth])\n",
    "#plt.savefig('./Images/learningRate_exemplar_randmoised.pdf')\n",
    "plt.show()"
   ]
  },
  {
   "cell_type": "code",
   "execution_count": null,
   "metadata": {
    "ExecuteTime": {
     "end_time": "2021-04-10T09:24:17.747052Z",
     "start_time": "2021-04-10T09:24:16.725027Z"
    },
    "hidden": true
   },
   "outputs": [],
   "source": [
    "rando = plt.plot(ls,results,c=millenialPink,linestyle='none',marker='.',alpha=0.125,label='Random')\n",
    "truth = plt.plot(ls,results_t,c=orange,linestyle='none',marker='.',alpha=0.125,label='Full Truth')\n",
    "plt.xlabel('Learning Rate')\n",
    "plt.ylabel('Agent Exemplar Metric')\n",
    "# Legend\n",
    "rando = matplotlib.patches.mlines.Line2D([], [],color='w', markerfacecolor=millenialPink, marker='.',alpha=0.75, label='Randomly Initialised')\n",
    "truth = matplotlib.patches.mlines.Line2D([], [],color='w', markerfacecolor=orange, marker='.',alpha=0.75, label='Initialised from Training data')\n",
    "plt.legend(handles=[rando,truth])\n",
    "plt.savefig('./Images/learningRate_exemplar_randmoised.pdf')\n",
    "plt.show()"
   ]
  },
  {
   "cell_type": "code",
   "execution_count": null,
   "metadata": {
    "ExecuteTime": {
     "end_time": "2021-04-09T21:37:53.033835Z",
     "start_time": "2021-04-09T17:50:45.238Z"
    },
    "hidden": true
   },
   "outputs": [],
   "source": [
    "# Randomised convergence\n",
    "# ~Bifurcation~ plot of learning rates\n",
    "ls = np.linspace(0,1,num=50)\n",
    "results = np.array([np.array(WholeGame(aArgs={'a':i,'ratioValue':0},Metric=RandomAccuracyMetric,metricAll=False))[:,-1] for i in ls])\n",
    "results_t = np.array([np.array(WholeGame(aArgs={'a':i,'ratioValue':1},Metric=RandomAccuracyMetric,metricAll=False))[:,-1] for i in ls])\n",
    "plt.plot(ls,results,c=millenialPink,linestyle='none',marker='.',alpha=0.125,label='Random')\n",
    "plt.plot(ls,results_t,c=orange,linestyle='none',marker='.',alpha=0.125,label='Full Truth')\n",
    "plt.xlabel('Learning Rate')\n",
    "plt.ylabel('Agent Exemplar Metric')\n",
    "#plt.savefig('./Images/learningRate_exemplar_randmoised.pdf')\n",
    "plt.show()"
   ]
  },
  {
   "cell_type": "code",
   "execution_count": null,
   "metadata": {
    "ExecuteTime": {
     "end_time": "2021-04-14T03:41:09.681226Z",
     "start_time": "2021-04-13T17:11:33.054904Z"
    },
    "hidden": true
   },
   "outputs": [],
   "source": [
    "# Training convergence\n",
    "# ~Bifurcation~ plot of learning rates\n",
    "ls = np.linspace(0,1,num=50)\n",
    "results = np.array([np.array(WholeGame(aArgs={'a':i,'ratioValue':0},Metric=TestingAccuracy,X_test=Y_test[:100],metricAll=False))[:,-1] for i in ls])\n",
    "results_t = np.array([np.array(WholeGame(aArgs={'a':i,'ratioValue':1},Metric=TestingAccuracy,X_test=Y_test[:100],metricAll=False))[:,-1] for i in ls])\n",
    "plt.plot(ls,results,c=millenialPink,linestyle='none',marker='.',alpha=0.25,label='Random')\n",
    "plt.plot(ls,results_t,c=orange,linestyle='none',marker='.',alpha=0.25,label='Full Truth')\n",
    "plt.xlabel('Learning Rate')\n",
    "plt.ylabel('Agent Exemplar Metric')\n",
    "plt.savefig('./Images/learningRate_exemplar_testing.pdf')\n",
    "plt.show()"
   ]
  },
  {
   "cell_type": "code",
   "execution_count": null,
   "metadata": {
    "ExecuteTime": {
     "end_time": "2021-04-15T09:45:59.914010Z",
     "start_time": "2021-04-15T08:47:44.022180Z"
    },
    "hidden": true
   },
   "outputs": [],
   "source": [
    "# Training convergence\n",
    "# ~Bifurcation~ plot of learning rates\n",
    "ls = np.linspace(0,1,num=50)\n",
    "results = np.array([np.array(WholeGame(aArgs={'a':i,'ratioValue':0},Metric=TestingAccuracy,X_test=Y_long_test[:100],l=l_long,Y=Y_long_train,metricAll=False))[:,-1] for i in tqdm(ls)])\n",
    "results_t = np.array([np.array(WholeGame(aArgs={'a':i,'ratioValue':1},Metric=TestingAccuracy,X_test=Y_long_test[:100],l=l_long,Y=Y_long_train,metricAll=False))[:,-1] for i in tqdm(ls)])\n",
    "plt.plot(ls,results,c=millenialPink,linestyle='none',marker='.',alpha=0.25,label='Random')\n",
    "plt.plot(ls,results_t,c=orange,linestyle='none',marker='.',alpha=0.25,label='Full Truth')\n",
    "plt.xlabel('Learning Rate')\n",
    "plt.ylabel('Agent Exemplar Metric')\n",
    "plt.savefig('./Images/learningRate_exemplar_long_testing.pdf')\n",
    "plt.show()"
   ]
  },
  {
   "cell_type": "code",
   "execution_count": null,
   "metadata": {
    "ExecuteTime": {
     "end_time": "2021-04-29T13:44:25.323641Z",
     "start_time": "2021-04-29T13:44:25.266027Z"
    },
    "hidden": true
   },
   "outputs": [],
   "source": [
    "a_exemplar = 0.2 # From these findings we prorpose this as the learning rate to use, but should we?"
   ]
  },
  {
   "cell_type": "markdown",
   "metadata": {
    "hidden": true
   },
   "source": [
    "### Truth Conververgence \n",
    "For an exemplar model investigate the imapct of inilisation with truth values on generalised random agreement convergence."
   ]
  },
  {
   "cell_type": "code",
   "execution_count": null,
   "metadata": {
    "ExecuteTime": {
     "end_time": "2021-03-12T10:25:09.524909Z",
     "start_time": "2021-03-12T10:18:42.521308Z"
    },
    "hidden": true
   },
   "outputs": [],
   "source": [
    "# Truths\n",
    "l = ['blue','green','red','orange','yellow','purple']\n",
    "PltWholeGame('Complete Random',millenialPink,nDifferentGames=32,nIterations=128,aArgs={'a':a_exemplar,'ratioValue':0},Metric=RandomAccuracyMetric)\n",
    "PltWholeGame('Half Truth',mediumAquamarine,nDifferentGames=32,nIterations=128,aArgs={'a':a_exemplar,'ratioValue':0.5},Metric=RandomAccuracyMetric)\n",
    "PltWholeGame('Full Truth',orange,nDifferentGames=32,nIterations=128,aArgs={'a':a_exemplar,'ratioValue':1},Metric=RandomAccuracyMetric)\n",
    "plt.xlabel('Iterations')\n",
    "plt.ylabel('Convergence Metric')\n",
    "plt.title('Randomised convergence of Prototype Agents')\n",
    "plt.legend()\n",
    "plt.savefig('./Images/truthPlot_exemplar.pdf')\n",
    "plt.show()\n",
    "# Plot point where cross with complete random?\n",
    "# More games to see if full truth is truly detrimental long term\n",
    "# 45 mins for 256 iterations"
   ]
  },
  {
   "cell_type": "code",
   "execution_count": null,
   "metadata": {
    "ExecuteTime": {
     "start_time": "2021-02-15T19:39:34.264Z"
    },
    "hidden": true
   },
   "outputs": [],
   "source": [
    "# Full look at truth rates\n",
    "ls = np.linspace(0,1,num=50)\n",
    "results = np.array([np.array(WholeGame(nDifferentGames=128,nIterations=32,aArgs={'a':a_exemplar,'ratioValue':i},Metric=RandomAccuracyMetric,metricAll=False))[:,-1] for i in ls])\n",
    "plt.plot(ls,results,c=millenialPink,linestyle='none',marker='.',alpha=0.25)\n",
    "plt.xlabel('Truth Rate')\n",
    "plt.ylabel('Randomised Convervgence Metric')\n",
    "plt.savefig('./Images/truthConv.png')\n",
    "plt.show()"
   ]
  },
  {
   "cell_type": "code",
   "execution_count": null,
   "metadata": {
    "ExecuteTime": {
     "start_time": "2021-02-15T19:39:34.272Z"
    },
    "hidden": true
   },
   "outputs": [],
   "source": [
    "plt.plot(ls,results,c=millenialPink,linestyle='none',marker='.',alpha=0.02)\n",
    "plt.plot(ls,np.mean(results,axis=1),c=millenialPink)\n",
    "plt.xlabel('Truth Rate')\n",
    "plt.ylabel('Randomised Convervgence Metric')\n",
    "plt.savefig('./Images/truthConv.png')\n",
    "plt.show()"
   ]
  },
  {
   "cell_type": "markdown",
   "metadata": {
    "heading_collapsed": true,
    "hidden": true
   },
   "source": [
    "### Number of agents"
   ]
  },
  {
   "cell_type": "code",
   "execution_count": null,
   "metadata": {
    "ExecuteTime": {
     "start_time": "2021-02-15T19:39:34.277Z"
    },
    "hidden": true
   },
   "outputs": [],
   "source": [
    "# Agents\n",
    "PltWholeGame('5 Agents',millenialPink,nAgents=5)\n",
    "PltWholeGame('10 Agents',mediumAquamarine,nAgents=10)\n",
    "PltWholeGame('25 Agents',orange,nAgents=25)\n",
    "plt.xlabel('Iterations')\n",
    "plt.ylabel('Convergence Metric')\n",
    "plt.legend()\n",
    "plt.savefig('./Images/agents.png')\n",
    "plt.show()"
   ]
  },
  {
   "cell_type": "code",
   "execution_count": null,
   "metadata": {
    "ExecuteTime": {
     "start_time": "2021-02-15T19:39:34.285Z"
    },
    "hidden": true
   },
   "outputs": [],
   "source": [
    "%%timeit -n 1 -r 1\n",
    "# ~Bifurcation~ plot of learning rates\n",
    "ls = np.linspace(0,1,num=50)\n",
    "results = np.array([np.array(WholeGame(aArgs={'a':i},Metric=RandomAccuracyMetric,metricAll=False))[:,-1] for i in ls])\n",
    "plt.plot(ls,results,c=millenialPink,linestyle='none',marker='.',alpha=0.25)\n",
    "plt.xlabel('Learning Rate')\n",
    "plt.ylabel('RandomAccuracyMetric')\n",
    "plt.savefig('./Images/learningRate_r.png')\n",
    "plt.show()"
   ]
  },
  {
   "cell_type": "markdown",
   "metadata": {
    "heading_collapsed": true
   },
   "source": [
    "## Variable finding Heatmaps\n",
    "further exploring the impact of learning paramters on optimal learning rate, e.g. what is the effect of higher dimensions or more agents on best learning rate."
   ]
  },
  {
   "cell_type": "code",
   "execution_count": null,
   "metadata": {
    "ExecuteTime": {
     "end_time": "2021-03-08T01:31:16.687587Z",
     "start_time": "2021-03-08T01:31:16.196611Z"
    },
    "hidden": true
   },
   "outputs": [],
   "source": [
    "# Stolen from online\n",
    "#  https://scikit-learn.org/0.18/auto_examples/model_selection/plot_confusion_matrix.html\n",
    "def plot_confusion_matrix(cm, classes,\n",
    "                          normalize=False,\n",
    "                          title='',\n",
    "                          cmap=cm_mp,\n",
    "                          precision=3,\n",
    "                          xLabel='',\n",
    "                          yLabel=''):\n",
    "    \"\"\"\n",
    "    This function prints and plots the confusion matrix.\n",
    "    Normalization can be applied by setting `normalize=True`.\n",
    "    \"\"\"\n",
    "    plt.figure(figsize = (10,10))\n",
    "    plt.imshow(cm, interpolation='nearest', cmap=cmap)\n",
    "    plt.title(title)\n",
    "    plt.xlabel(xLabel)\n",
    "    plt.ylabel(yLabel)\n",
    "    plt.colorbar()\n",
    "    #tick_marks = )\n",
    "    plt.xticks(np.arange(len(classes[0])), np.around(classes[0],3), rotation=45)\n",
    "    plt.yticks(np.arange(len(classes[1])), np.around(classes[1],3))\n",
    "\n",
    "    if normalize:\n",
    "        cm = cm.astype('float') / cm.sum(axis=1)[:, np.newaxis]\n",
    "    #    print(\"Normalized confusion matrix\")\n",
    "    #else:\n",
    "    #    print('Confusion matrix, without normalization')\n",
    "\n",
    "    #print(cm)\n",
    "\n",
    "    thresh = cm.max() / 2.\n",
    "    #for i, j in itertools.product(range(cm.shape[0]), range(cm.shape[1])):\n",
    "    for i in range(cm.shape[0]):\n",
    "        for j in range(cm.shape[1]):\n",
    "            plt.text(j, i, round(cm[i, j],precision),\n",
    "                     horizontalalignment=\"center\",\n",
    "                     color=\"black\",fontsize=18)# if cm[i, j] > thresh else \"black\")\n",
    "\n",
    "    plt.tight_layout()"
   ]
  },
  {
   "cell_type": "code",
   "execution_count": null,
   "metadata": {
    "ExecuteTime": {
     "start_time": "2021-02-15T19:39:34.369Z"
    },
    "hidden": true
   },
   "outputs": [],
   "source": [
    "#%%timeit -n 1 -r 1\n",
    "# Dimensions x Learning rate\n",
    "lr = np.linspace(0,1,11)\n",
    "dimensions = list(range(1,9))\n",
    "plt.rcParams.update({'font.size': 18})\n",
    "results = np.array([[np.mean(np.array(WholeGame(pf=PF(d),nIterations=1024,aArgs={'a':x},metricAll=False,Metric=RandomAccuracyMetric))) for d in dimensions] for x in lr])\n",
    "plot_confusion_matrix(results,[dimensions,lr],title='Convergence Heatmap Using Randomised Accuracy Metric',xLabel='Dimensions',yLabel='Learning Rate')\n",
    "plt.savefig('./Images/heatmap_dimXLearning_r_1024.png')"
   ]
  },
  {
   "cell_type": "code",
   "execution_count": null,
   "metadata": {
    "ExecuteTime": {
     "start_time": "2021-02-15T19:39:34.373Z"
    },
    "hidden": true
   },
   "outputs": [],
   "source": [
    "plot_confusion_matrix(results,[dimensions,lr],title='Convergence Heatmap Using Randomised Accuracy Metric',xLabel='Dimensions',yLabel='Learning Rate')\n",
    "plt.savefig('./Images/heatmap_dimXLearning_r_1024.png')"
   ]
  },
  {
   "cell_type": "code",
   "execution_count": null,
   "metadata": {
    "ExecuteTime": {
     "start_time": "2021-02-15T19:39:34.378Z"
    },
    "hidden": true
   },
   "outputs": [],
   "source": [
    "%%timeit -n 1 -r 1\n",
    "# Dimensions x Learning rate\n",
    "lr = np.linspace(0,1,11)\n",
    "dimensions = list(range(1,9))\n",
    "results = np.array([[np.mean(np.array(WholeGame(pf=PF(d),aArgs={'a':x},metricAll=False))) for d in dimensions] for x in lr])\n",
    "plt.rcParams.update({'font.size': 18})\n",
    "plot_confusion_matrix(results,[dimensions,lr],title='Convergence Heatmap',xLabel='Dimensions',yLabel='Learning Rate')\n",
    "plt.savefig('./Images/heatmap_dimXLearning.png')"
   ]
  },
  {
   "cell_type": "code",
   "execution_count": null,
   "metadata": {
    "ExecuteTime": {
     "start_time": "2021-02-15T19:39:34.382Z"
    },
    "hidden": true
   },
   "outputs": [],
   "source": [
    "%%timeit -n 1 -r 1\n",
    "# Dimensions x Labels\n",
    "labels = list(range(1,6))\n",
    "dimensions = list(range(1,9))\n",
    "results = np.array([[np.mean(np.array(WholeGame(pf=PF(d),l=l[:x],metricAll=False,Metric=RandomAccuracyMetric))) for d in dimensions] for x in labels])\n",
    "plt.rcParams.update({'font.size': 18})\n",
    "plot_confusion_matrix(results,[dimensions,labels],title='Convergence Heatmap',xLabel='Dimensions',yLabel='Number of Labels')\n",
    "plt.savefig('./Images/heatmap_dimXLlabels_r.png')"
   ]
  },
  {
   "cell_type": "code",
   "execution_count": null,
   "metadata": {
    "ExecuteTime": {
     "start_time": "2021-02-15T19:39:34.387Z"
    },
    "hidden": true
   },
   "outputs": [],
   "source": [
    "#%%timeit -n 1 -r 1\n",
    "# Dimensions x Labels\n",
    "labels = list(range(1,6))\n",
    "dimensions = list(range(1,9))\n",
    "plt.rcParams.update({'font.size': 18})\n",
    "results = np.array([[np.mean(np.array(WholeGame(pf=PF(d),l=l[:x],metricAll=False))) for d in dimensions] for x in labels])\n",
    "plot_confusion_matrix(results,[dimensions,labels],title='Convergence Heatmap',xLabel='Dimensions',yLabel='Number of Labels')\n",
    "plt.savefig('./Images/heatmap_dimXLlabels.png')"
   ]
  },
  {
   "cell_type": "code",
   "execution_count": null,
   "metadata": {
    "ExecuteTime": {
     "start_time": "2021-02-15T19:39:34.392Z"
    },
    "hidden": true
   },
   "outputs": [],
   "source": [
    "plt.rcParams.update({'font.size': 18})\n",
    "plot_confusion_matrix(results,[dimensions,labels],title='Convergence Heatmap',xLabel='Dimensions',yLabel='Number of Labels')\n",
    "plt.tight_layout()\n",
    "plt.savefig('./Images/heatmap_dimXLabels_tl.png')"
   ]
  },
  {
   "cell_type": "code",
   "execution_count": null,
   "metadata": {
    "ExecuteTime": {
     "start_time": "2021-02-15T19:39:34.399Z"
    },
    "hidden": true
   },
   "outputs": [],
   "source": [
    "%%timeit -n 1 -r 1\n",
    "# Dimensions x Learning rate\n",
    "lr = np.linspace(0,1,11)\n",
    "labels = list(range(1,6))\n",
    "results = np.array([[np.mean(np.array(WholeGame(l=l[:y],aArgs={'a':x},metricAll=False,Metric=RandomAccuracyMetric))) for y in labels] for x in lr])\n",
    "plt.rcParams.update({'font.size': 18})\n",
    "plot_confusion_matrix(results,[labels,lr],title='Convergence Heatmap',xLabel='Labels',yLabel='Learning Rate')\n",
    "plt.savefig('./Images/heatmap_labelsXLearning_r.png')"
   ]
  },
  {
   "cell_type": "code",
   "execution_count": null,
   "metadata": {
    "ExecuteTime": {
     "start_time": "2021-02-15T19:39:34.404Z"
    },
    "hidden": true
   },
   "outputs": [],
   "source": [
    "%%timeit -n 1 -r 1\n",
    "lr = np.linspace(0,1,11)\n",
    "labels = list(range(1,6))\n",
    "results = np.array([[np.mean(np.array(WholeGame(l=l[:y],aArgs={'a':x},metricAll=False))) for y in labels] for x in lr])\n",
    "plt.rcParams.update({'font.size': 18})\n",
    "plot_confusion_matrix(results,[labels,lr],title='Convergence Heatmap',xLabel='Labels',yLabel='Learning Rate')\n",
    "plt.savefig('./Images/heatmap_labelsXLearning.png')"
   ]
  },
  {
   "cell_type": "markdown",
   "metadata": {},
   "source": [
    "# Bayesian Prototype Agents\n",
    "---"
   ]
  },
  {
   "cell_type": "markdown",
   "metadata": {
    "heading_collapsed": true
   },
   "source": [
    "## Prototype Agent Functions"
   ]
  },
  {
   "cell_type": "code",
   "execution_count": 15,
   "metadata": {
    "ExecuteTime": {
     "end_time": "2021-05-05T19:03:23.618917Z",
     "start_time": "2021-05-05T19:03:23.575458Z"
    },
    "hidden": true
   },
   "outputs": [],
   "source": [
    "def RSD(r=[0,1]):\n",
    "    return np.random.uniform(low=r[0],high=r[1])"
   ]
  },
  {
   "cell_type": "code",
   "execution_count": 16,
   "metadata": {
    "ExecuteTime": {
     "end_time": "2021-05-05T19:03:24.048504Z",
     "start_time": "2021-05-05T19:03:23.975984Z"
    },
    "hidden": true
   },
   "outputs": [],
   "source": [
    "def RLA_bp(l,pf,r,ratioValue=0,Y=Y_train):\n",
    "    # r = ratio to use real data\n",
    "    la = {l[i]:{'c':RE(pf),'sd':RSD(r)} for i in np.random.randint(0,len(l),size=np.random.randint(0,len(l)))}\n",
    "    for i in la:\n",
    "        if np.random.random() < ratioValue:\n",
    "            Xc = Y[:,-1]\n",
    "            x = np.where(Xc == i)[0]\n",
    "            #print(Xc[x])\n",
    "            k = np.random.choice(x)\n",
    "            la[i]['c'] = [float(Y[k,3])/255,float(Y[k,4])/255,float(Y[k,5])/255]\n",
    "    return la"
   ]
  },
  {
   "cell_type": "code",
   "execution_count": 17,
   "metadata": {
    "ExecuteTime": {
     "end_time": "2021-05-05T19:03:24.432630Z",
     "start_time": "2021-05-05T19:03:24.365515Z"
    },
    "hidden": true
   },
   "outputs": [],
   "source": [
    "# Agents_BayesianPrototype\n",
    "def RA_bp(pf,aArgs={'a':0.18,'a_sd':8,'r':[0,0.75],'ratioValue':0},l=l,Y=Y_train):\n",
    "    '''\n",
    "    Create an agent with a random selection of labels with random exemplars\n",
    "    '''\n",
    "    a = aArgs['a']\n",
    "    a_sd = aArgs['a_sd']\n",
    "    r = aArgs['r']\n",
    "    return Agent(BayesianPrototypeLearningModel(LA=RLA_bp(l,pf,r,aArgs['ratioValue'],Y),a=a,a_sd=a_sd),pf=pf)\n",
    "\n",
    "#Random Agent Array\n",
    "def RAA_bp(pf,N=5,aArgs={'a':0.18,'a_sd':0.6,'r':[0,0.75],'ratioValue':0},l=l,Y=Y_train):\n",
    "    agents = [RA_bp(pf,aArgs,l=l,Y=Y) for i in range(N)] # an array of N random agents\n",
    "    return agents"
   ]
  },
  {
   "cell_type": "code",
   "execution_count": 18,
   "metadata": {
    "ExecuteTime": {
     "end_time": "2021-05-05T19:03:24.816989Z",
     "start_time": "2021-05-05T19:03:24.755504Z"
    },
    "hidden": true
   },
   "outputs": [],
   "source": [
    "# => conclude on a\n",
    "a_prototype = 0.18\n",
    "a_sd_prototype = 0.25"
   ]
  },
  {
   "cell_type": "markdown",
   "metadata": {
    "heading_collapsed": true
   },
   "source": [
    "## Protptype Agent Space"
   ]
  },
  {
   "cell_type": "code",
   "execution_count": null,
   "metadata": {
    "ExecuteTime": {
     "end_time": "2021-03-20T17:46:12.103785Z",
     "start_time": "2021-03-20T17:46:12.046133Z"
    },
    "hidden": true
   },
   "outputs": [],
   "source": [
    "# Function to plot a gradient marker\n",
    "def PlotGradientMarker_bp(agent,ax,colours=lc,N=100):\n",
    "    # Axis off doesn't seem to work and iu can't work out why so here's loads of weird stuff\n",
    "    ax.get_xaxis().set_visible(False)\n",
    "    ax.get_yaxis().set_visible(False)\n",
    "    ax.spines[\"top\"].set_visible(False)\n",
    "    ax.spines[\"right\"].set_visible(False)\n",
    "    ax.spines[\"left\"].set_visible(False)\n",
    "    ax.spines[\"bottom\"].set_visible(False)\n",
    "    j = 0\n",
    "    for l in agent.GetLabels():\n",
    "        c = agent.learningModel.LA[l]['c']\n",
    "        s = agent.learningModel.LA[l]['sd']\n",
    "        #for i in range(N):\n",
    "        #   # Axis off doesn't seem to work and iu can't work out why so here's loads of weird stuff\n",
    "        #    ax.plot([c[0]],[c[1]],color=colours[l],marker='.',markersize=800*s*i/N,alpha=.75/N)\n",
    "        #    #ax.axis('off')\n",
    "        ax.plot([c[0]],[c[1]],color=colours[l],marker='.',markersize=10)\n",
    "        ax.plot([c[0]],[c[1]],color=colours[l],marker='.',markersize=500*s,alpha=.25)\n",
    "        j += 1\n",
    "    ax.set_ylim([0,1])\n",
    "    ax.set_xlim([0,1])"
   ]
  },
  {
   "cell_type": "code",
   "execution_count": null,
   "metadata": {
    "ExecuteTime": {
     "end_time": "2021-03-20T17:46:12.451819Z",
     "start_time": "2021-03-20T17:46:12.382480Z"
    },
    "hidden": true
   },
   "outputs": [],
   "source": [
    "def PlotBPCollage(agents,squareN=3,t=0):\n",
    "    fig, axs = plt.subplots(squareN,squareN,figsize=(6,6))\n",
    "    fig.suptitle(\"\"\"$t=$\"\"\"+str(t),fontsize=20,weight=80)\n",
    "    #plt.subplots_adjust(bottom=-.1,top=1) # This seems suuper dodge\n",
    "    for i in range(squareN**2):\n",
    "        PlotGradientMarker_bp(agents[i],axs[i//squareN,i%squareN])\n",
    "        #axs[i//squareN,i%squareN].axis('off')\n",
    "    plt.show()\n",
    "    return [fig,axs]"
   ]
  },
  {
   "cell_type": "code",
   "execution_count": null,
   "metadata": {
    "ExecuteTime": {
     "end_time": "2021-03-20T17:46:12.720919Z",
     "start_time": "2021-03-20T17:46:12.673107Z"
    },
    "hidden": true
   },
   "outputs": [],
   "source": [
    "l2 = ['obnoxious florg','deep flarg','millenial floof']\n",
    "lc = {'obnoxious florg':mediumAquamarine,'deep flarg':orange,'millenial floof':millenialPink}\n",
    "print(l)"
   ]
  },
  {
   "cell_type": "code",
   "execution_count": null,
   "metadata": {
    "ExecuteTime": {
     "end_time": "2021-03-21T13:20:44.242954Z",
     "start_time": "2021-03-21T13:20:43.176674Z"
    },
    "hidden": true,
    "scrolled": true
   },
   "outputs": [],
   "source": [
    "# Do some checks that this works as expected?\n",
    "pf = PF(2)\n",
    "agents = RAA_bp(pf,N=9,l=l2)\n",
    "agentsD = {i:agents[i] for i in range(len(agents))}\n",
    "agents = [agentsD[i] for i in range(len(agents))]\n",
    "fig,axs = PlotBPCollage(agentsD)\n",
    "plt.tight_layout()\n",
    "fig.savefig('./Images/Prototypes/collage_0.pdf',transparent=False)"
   ]
  },
  {
   "cell_type": "code",
   "execution_count": null,
   "metadata": {
    "ExecuteTime": {
     "end_time": "2021-03-21T13:20:49.028330Z",
     "start_time": "2021-03-21T13:20:44.246920Z"
    },
    "hidden": true
   },
   "outputs": [],
   "source": [
    "GameN(agents,PF(2),3)\n",
    "fig,axs = PlotBPCollage(agentsD,t=4)\n",
    "plt.tight_layout()\n",
    "fig.savefig('./Images/Prototypes/collage_4.pdf',transparent=False)\n",
    "GameN(agents,PF(2),60)\n",
    "fig,axs = PlotBPCollage(agentsD,t=64)\n",
    "plt.tight_layout()\n",
    "fig.savefig('./Images/Prototypes/collage_64.pdf',transparent=False)\n",
    "GameN(agents,PF(2),64)\n",
    "fig,axs = PlotBPCollage(agentsD,t=128)\n",
    "#fig.savefig('./Images/Prototypes/collage_128.pdf')\n",
    "GameN(agents,PF(2),128)\n",
    "fig,axs = PlotBPCollage(agentsD,t=256)\n",
    "#fig.savefig('./Images/Prototypes/collage_256.pdf')"
   ]
  },
  {
   "cell_type": "code",
   "execution_count": null,
   "metadata": {
    "ExecuteTime": {
     "end_time": "2021-03-03T12:48:24.437641Z",
     "start_time": "2021-03-03T12:48:23.315531Z"
    },
    "hidden": true
   },
   "outputs": [],
   "source": [
    "GameN(agents,PF(2),60)\n",
    "fig,axs = PlotBPCollage(agents,t=64)"
   ]
  },
  {
   "cell_type": "markdown",
   "metadata": {
    "heading_collapsed": true
   },
   "source": [
    "## Find Learning Rates"
   ]
  },
  {
   "cell_type": "markdown",
   "metadata": {
    "hidden": true
   },
   "source": [
    "Initially assume exemplar learning rate is suitable for prototype model, and thus find a good standardd eviation leanring rate."
   ]
  },
  {
   "cell_type": "code",
   "execution_count": null,
   "metadata": {
    "ExecuteTime": {
     "end_time": "2021-03-21T11:41:24.684730Z",
     "start_time": "2021-03-21T11:32:12.752130Z"
    },
    "hidden": true
   },
   "outputs": [],
   "source": [
    "# Randomised convergence\n",
    "# ~Bifurcation~ plot of learning rates\n",
    "ls = np.linspace(0,2,num=51)\n",
    "results = np.array([np.array(WholeGame(nIterations=128,nDifferentGames=1,nAgents=64,aArgs={'a':a_exemplar,'a_sd':i,'r':[0,.75],'ratioValue':0},RAA=RAA_bp,Metric=RandomAccuracyMetric,metricAll=False))[:,-1] for i in tqdm(ls)])\n",
    "results_t = np.array([np.array(WholeGame(nIterations=128,nDifferentGames=1,nAgents=64,aArgs={'a':a_exemplar,'a_sd':i,'r':[0,.75],'ratioValue':1},RAA=RAA_bp,Metric=RandomAccuracyMetric,metricAll=False))[:,-1] for i in tqdm(ls)])\n",
    "plt.plot(ls,results,c=millenialPink,linestyle='none',marker='.',alpha=0.25,label='Random')\n",
    "plt.plot(ls,results_t,c=orange,linestyle='none',marker='.',alpha=0.25,label='Full Truth')\n",
    "plt.xlabel('Learning Rate')\n",
    "plt.ylabel('Randomised Convergence Metric')\n",
    "plt.savefig('./Images/learningRate_prototype_randmoised.pdf')\n",
    "plt.show()"
   ]
  },
  {
   "cell_type": "code",
   "execution_count": null,
   "metadata": {
    "ExecuteTime": {
     "end_time": "2021-03-21T11:53:46.584046Z",
     "start_time": "2021-03-21T11:41:24.689630Z"
    },
    "hidden": true
   },
   "outputs": [],
   "source": [
    "# Training convergence\n",
    "# ~Bifurcation~ plot of learning rates\n",
    "ls = np.linspace(0,2,num=21)\n",
    "results = np.array([np.array(WholeGame(nIterations=128,nDifferentGames=4,nAgents=64,aArgs={'a':a_exemplar,'a_sd':i,'r':[0,.75],'ratioValue':1},RAA=RAA_bp,Metric=TestingAccuracy,X_test=Y_test[:100],metricAll=False))[:,-1] for i in tqdm(ls)])\n",
    "results_t = np.array([np.array(WholeGame(nIterations=128,nDifferentGames=4,nAgents=64,aArgs={'a':a_exemplar,'a_sd':i,'r':[0,.75],'ratioValue':1},RAA=RAA_bp,Metric=TestingAccuracy,X_test=Y_test[:100],metricAll=False))[:,-1] for i in tqdm(ls)])\n",
    "plt.plot(ls,results,c=millenialPink,linestyle='none',marker='.',alpha=0.25,label='Random')\n",
    "plt.plot(ls,results_t,c=orange,linestyle='none',marker='.',alpha=0.25,label='Full Truth')\n",
    "plt.xlabel('Learning Rate')\n",
    "plt.ylabel('Agent Exemplar Metric')\n",
    "plt.savefig('./Images/learningRate_exemplar_testing.pdf')\n",
    "plt.show()"
   ]
  },
  {
   "cell_type": "code",
   "execution_count": 24,
   "metadata": {
    "ExecuteTime": {
     "end_time": "2021-05-05T19:03:50.845920Z",
     "start_time": "2021-05-05T19:03:50.800865Z"
    },
    "hidden": true
   },
   "outputs": [],
   "source": [
    "# => conclude on a_sd\n",
    "a_sd_prototype = 0.25"
   ]
  },
  {
   "cell_type": "code",
   "execution_count": null,
   "metadata": {
    "ExecuteTime": {
     "end_time": "2021-03-21T12:06:50.938031Z",
     "start_time": "2021-03-21T11:54:13.658316Z"
    },
    "hidden": true
   },
   "outputs": [],
   "source": [
    "# Training convergence\n",
    "# ~Bifurcation~ plot of learning rates\n",
    "ls = np.linspace(0,1,num=21)\n",
    "results = np.array([np.array(WholeGame(nIterations=128,nDifferentGames=4,nAgents=64,aArgs={'a':i,'a_sd':a_sd_prototype,'r':[0,.75],'ratioValue':1},RAA=RAA_bp,Metric=TestingAccuracy,X_test=Y_test[:100],metricAll=False))[:,-1] for i in tqdm(ls)])\n",
    "results_t = np.array([np.array(WholeGame(nIterations=128,nDifferentGames=4,nAgents=64,aArgs={'a':i,'a_sd':a_sd_prototype,'r':[0,.75],'ratioValue':1},RAA=RAA_bp,Metric=TestingAccuracy,X_test=Y_test[:100],metricAll=False))[:,-1] for i in tqdm(ls)])\n",
    "plt.plot(ls,results,c=millenialPink,linestyle='none',marker='.',alpha=0.25,label='Random')\n",
    "plt.plot(ls,results_t,c=orange,linestyle='none',marker='.',alpha=0.25,label='Full Truth')\n",
    "plt.xlabel('Learning Rate')\n",
    "plt.ylabel('Testing Agreement Metric')\n",
    "plt.show()"
   ]
  },
  {
   "cell_type": "code",
   "execution_count": 23,
   "metadata": {
    "ExecuteTime": {
     "end_time": "2021-05-05T19:03:47.544123Z",
     "start_time": "2021-05-05T19:03:47.399884Z"
    },
    "hidden": true
   },
   "outputs": [],
   "source": [
    "# => conclude on a\n",
    "a_prototype = 0.18"
   ]
  },
  {
   "cell_type": "markdown",
   "metadata": {
    "heading_collapsed": true
   },
   "source": [
    "## Plots"
   ]
  },
  {
   "cell_type": "code",
   "execution_count": null,
   "metadata": {
    "ExecuteTime": {
     "start_time": "2021-02-15T19:39:34.523Z"
    },
    "hidden": true,
    "scrolled": true
   },
   "outputs": [],
   "source": [
    "# Dimensions\n",
    "PltWholeGame('2d',millenialPink,pfn=2,RAA=RAA_bp,Metric=RandomAccuracyMetric)\n",
    "PltWholeGame('3d',mediumAquamarine,pfn=3,RAA=RAA_bp,Metric=RandomAccuracyMetric)\n",
    "PltWholeGame('5d',orange,pfn=5,RAA=RAA_bp,Metric=RandomAccuracyMetric)\n",
    "plt.xlabel('Iterations')\n",
    "plt.ylabel('Randomised Convergence Metric')\n",
    "plt.legend()\n",
    "plt.savefig('./Images/dimPlot_bp.pdf')\n",
    "plt.show()"
   ]
  },
  {
   "cell_type": "code",
   "execution_count": null,
   "metadata": {
    "ExecuteTime": {
     "end_time": "2021-02-22T13:24:18.292335Z",
     "start_time": "2021-02-22T12:39:49.539763Z"
    },
    "hidden": true
   },
   "outputs": [],
   "source": [
    "# Truths\n",
    "PltWholeGame('Complete Random',millenialPink,nDifferentGames=128,nIterations=128,aArgs={'a':0.12,'a_sd':1.15,'r':[0,0.75],'ratioValue':0},Metric=RandomAccuracyMetric,RAA=RAA_bp)\n",
    "PltWholeGame('Half Truth',mediumAquamarine,nDifferentGames=128,nIterations=128,aArgs={'a':0.12,'a_sd':1.15,'r':[0,0.75],'ratioValue':0.5},Metric=RandomAccuracyMetric,RAA=RAA_bp)\n",
    "PltWholeGame('Full Truth',orange,nDifferentGames=128,nIterations=128,aArgs={'a':0.12,'a_sd':1.15,'r':[0,0.75],'ratioValue':1},Metric=RandomAccuracyMetric,RAA=RAA_bp)\n",
    "plt.xlabel('Iterations')\n",
    "plt.ylabel('Randomised Convergence Metric')\n",
    "plt.title('Randomised convergence of Gaussian Prototype Agents')\n",
    "plt.legend()\n",
    "plt.savefig('./Images/truthPlot_bp.pdf')\n",
    "plt.show()"
   ]
  },
  {
   "cell_type": "code",
   "execution_count": null,
   "metadata": {
    "ExecuteTime": {
     "start_time": "2021-02-15T19:39:34.539Z"
    },
    "hidden": true,
    "scrolled": true
   },
   "outputs": [],
   "source": [
    "# Dimensions: Bayesian vs. Exemplar\n",
    "#PltWholeGame('Exemplar',millenialPink,nIterations=1024,Metric=RandomAccuracyMetric)\n",
    "#PltWholeGame('Gaussian Prototype',mediumAquamarine,nIterations=1024,RAA=RAA_bp,Metric=RandomAccuracyMetric)\n",
    "#plt.xlabel('Iterations')\n",
    "#plt.ylabel('Randomised Convergence Metric')\n",
    "#plt.legend()\n",
    "#plt.savefig('./Images/bpVsExemplar.png')\n",
    "#plt.show()"
   ]
  },
  {
   "cell_type": "code",
   "execution_count": null,
   "metadata": {
    "ExecuteTime": {
     "start_time": "2021-02-15T19:39:34.551Z"
    },
    "hidden": true
   },
   "outputs": [],
   "source": [
    "#%%timeit -n 1 -r 1\n",
    "# Dimensions x Learning rate (centroid)\n",
    "lr = np.linspace(0,1,11)\n",
    "dimensions = list(range(1,11))\n",
    "results = np.array([[np.mean(np.array(WholeGame(pf=PF(d),aArgs={'a':x,'a_sd':a_sd_prototype},RAA=RAA_bp,metricAll=False,Metric=RandomAccuracyMetric))) for d in dimensions] for x in lr])\n",
    "plt.rcParams.update({'font.size': 18})\n",
    "plot_confusion_matrix(results,[dimensions,lr],title='Convergence Heatmap',xLabel='Dimensions',yLabel='Learning Rate')\n",
    "plt.savefig('./Images/heatmap_learningXDim_bp.png')"
   ]
  },
  {
   "cell_type": "code",
   "execution_count": null,
   "metadata": {
    "ExecuteTime": {
     "start_time": "2021-02-15T19:39:34.554Z"
    },
    "hidden": true
   },
   "outputs": [],
   "source": [
    "plot_confusion_matrix(results.T,[lr,dimensions],title='Convergence Heatmap',xLabel='Learning Rate',yLabel='Dimensions')\n",
    "plt.savefig('./Images/heatmap_learningXDim_bp.png')"
   ]
  },
  {
   "cell_type": "code",
   "execution_count": null,
   "metadata": {
    "ExecuteTime": {
     "start_time": "2021-02-15T19:39:34.571Z"
    },
    "hidden": true
   },
   "outputs": [],
   "source": [
    "# Learning rate x Learning rate\n",
    "lr = np.linspace(0,1,11)\n",
    "lr_sd = np.linspace(0,10,11)\n",
    "results = np.array([[np.mean(np.array(WholeGame(nDifferentGames=100,aArgs={'a':i,'a_sd':j,'r':[0,1]},RAA=RAA_bp,metricAll=False,Metric=RandomAccuracyMetric))) for j in lr_sd] for i in lr])\n",
    "plt.rcParams.update({'font.size': 18})\n",
    "plot_confusion_matrix(results,[lr_sd,lr],title='Convergence Heatmap',xLabel='Prototypicality Learning Rate',yLabel='Learning Rate',cmap=cm_mp)\n",
    "plt.savefig('./Images/heatmap_learningRates_bp.png')"
   ]
  },
  {
   "cell_type": "code",
   "execution_count": null,
   "metadata": {
    "ExecuteTime": {
     "start_time": "2021-02-15T19:39:34.575Z"
    },
    "hidden": true
   },
   "outputs": [],
   "source": [
    "#lr = np.linspace(0,1,11)\n",
    "#lr_sd = np.linspace(0,10,11)\n",
    "#plot_confusion_matrix(results,[lr_sd,lr],title='Convergence Heatmap using Randomised Accuracy Metric',xLabel='Prototypicality Learning Rate',yLabel='Learning Rate',cmap=cm_mp)\n",
    "#plt.savefig('./Images/heatmap_learningRates_bp.png')"
   ]
  },
  {
   "cell_type": "code",
   "execution_count": null,
   "metadata": {
    "ExecuteTime": {
     "start_time": "2021-02-15T19:39:34.580Z"
    },
    "hidden": true
   },
   "outputs": [],
   "source": [
    "# My Colour scheme\n",
    "#  every self-respecting/loathing millenial has their own, right?\n",
    "orange = '#FFA500'\n",
    "millenialPink = '#FFAADD'\n",
    "mediumAquamarine = '#66CDAA'\n",
    "\n",
    "mediumAquamarine_0 = '#66CDAA00'\n",
    "mediumAquamarine_1 = '#66CDAAFF'\n",
    "\n",
    "millenialPink_0 = '#FFAADD00'\n",
    "millenialPink_1 = '#FFAADDFF'\n",
    "\n",
    "# Custom cmap\n",
    "from matplotlib.colors import LinearSegmentedColormap\n",
    "\n",
    "colours = [orange,millenialPink]\n",
    "cm = LinearSegmentedColormap.from_list('customCmap', colours, N=1024)\n",
    "cm_mp = LinearSegmentedColormap.from_list('customCmap_mp', [millenialPink_0,millenialPink_1], N=1024)\n",
    "cm_ma = LinearSegmentedColormap.from_list('customCmap_mp', [mediumAquamarine_0,mediumAquamarine_1], N=1024)"
   ]
  },
  {
   "cell_type": "code",
   "execution_count": null,
   "metadata": {
    "ExecuteTime": {
     "start_time": "2021-02-15T19:39:34.584Z"
    },
    "hidden": true
   },
   "outputs": [],
   "source": [
    "#%%timeit -n 1 -r 1\n",
    "# Dimensions x Learning rate\n",
    "lr = np.linspace(0,1,11)\n",
    "dimensions = list(range(1,9))\n",
    "plt.rcParams.update({'font.size': 18})\n",
    "results_bp = np.array([[np.mean(np.array(WholeGame(pf=PF(d),nIterations=256,aArgs={'a':x,'a_sd':1.15,'r':[0,1]},RAA=RAA_bp,metricAll=False,Metric=RandomAccuracyMetric))) for d in dimensions] for x in lr])\n",
    "plot_confusion_matrix(results_bp,[dimensions,lr],title='Convergence Heatmap Using Randomised Accuracy Metric',xLabel='Dimensions',yLabel='Learning Rate')\n",
    "plt.savefig('./Images/heatmap_dimXLearning_r_bp.png')"
   ]
  },
  {
   "cell_type": "markdown",
   "metadata": {},
   "source": [
    "## New heading"
   ]
  },
  {
   "cell_type": "markdown",
   "metadata": {
    "heading_collapsed": true
   },
   "source": [
    "# Ensemble Agents\n"
   ]
  },
  {
   "cell_type": "code",
   "execution_count": 19,
   "metadata": {
    "ExecuteTime": {
     "end_time": "2021-05-05T19:03:33.547745Z",
     "start_time": "2021-05-05T19:03:33.479099Z"
    },
    "hidden": true
   },
   "outputs": [],
   "source": [
    "def RAA_ensemble(pf=PF(3),nAgents=[5],RAAs=[RAA],aArgs=[{'a':.12,'a_sd':1.15,'r':[0,1],'ratioValue':0}],l=l,Y=Y_train):\n",
    "    # 'ensembleExemplarN' in aArgs deontes number of exemplar agents\n",
    "    agents = []\n",
    "    for i in range(len(RAAs)):\n",
    "        raa = RAAs[i]\n",
    "        agents.extend(raa(pf,N=nAgents[i],aArgs=aArgs[i],l=l,Y=Y))\n",
    "    return agents"
   ]
  },
  {
   "cell_type": "code",
   "execution_count": null,
   "metadata": {
    "ExecuteTime": {
     "end_time": "2021-04-14T14:55:16.904411Z",
     "start_time": "2021-04-14T14:55:16.706096Z"
    },
    "hidden": true
   },
   "outputs": [],
   "source": [
    "aArgs = {'a':.12,'a_sd':1.15,'r':[0,1],'ensembleExemplarN':2,'ratioValue':0}\n",
    "agents = RAA_ensemble(aArgs=aArgs)\n",
    "print(agents)\n",
    "print(len(agents))"
   ]
  },
  {
   "cell_type": "code",
   "execution_count": null,
   "metadata": {
    "ExecuteTime": {
     "end_time": "2021-03-05T17:47:51.557541Z",
     "start_time": "2021-03-05T17:00:50.439730Z"
    },
    "hidden": true
   },
   "outputs": [],
   "source": [
    "# Ensemble Agents\n",
    "aArgs = {'a':.12,'a_sd':1.15,'r':[0,1],'ensembleExemplarN':10,'ratioValue':0}\n",
    "PltWholeGame('10 Exemplar agents',millenialPink,nIterations=126,nAgents=10,RAA=RAA_ensemble,aArgs=aArgs,Metric=RandomAccuracyMetric)\n",
    "aArgs['ensembleExemplarN'] = 5\n",
    "PltWholeGame('5 Exemplars 5 Gaussian Prototypes agents',mediumAquamarine,nIterations=126,nAgents=10,RAA=RAA_ensemble,aArgs=aArgs,Metric=RandomAccuracyMetric)\n",
    "aArgs['ensembleExemplarN'] = 0\n",
    "PltWholeGame('10 Gaussian Prototype agents',orange,nIterations=126,nAgents=10,RAA=RAA_ensemble,aArgs=aArgs,Metric=RandomAccuracyMetric)\n",
    "plt.xlabel('Iterations')\n",
    "plt.ylabel('Convergence Metric')\n",
    "plt.legend()\n",
    "plt.show()"
   ]
  },
  {
   "cell_type": "code",
   "execution_count": null,
   "metadata": {
    "ExecuteTime": {
     "start_time": "2021-02-15T19:39:34.711Z"
    },
    "hidden": true
   },
   "outputs": [],
   "source": [
    "plt.show()\n",
    "plt.savefig('./Images/ensemble.png')\n",
    "plt.show()"
   ]
  },
  {
   "cell_type": "code",
   "execution_count": null,
   "metadata": {
    "hidden": true
   },
   "outputs": [],
   "source": []
  },
  {
   "cell_type": "code",
   "execution_count": null,
   "metadata": {
    "ExecuteTime": {
     "start_time": "2021-02-15T19:39:34.717Z"
    },
    "hidden": true
   },
   "outputs": [],
   "source": [
    "#%%timeit -n 1 -r 1\n",
    "# ~Bifurcation~ plot of learning rates\n",
    "el = range(20)\n",
    "results = np.array([np.array(WholeGame(nDifferentGames=256,nIterations=1024,aArgs={'a':.12,'a_sd':1.15,'r':[0,1],'ensembleExemplarN':i},Metric=RandomAccuracyMetric,metricAll=False))[:,-1] for i in el])"
   ]
  },
  {
   "cell_type": "code",
   "execution_count": null,
   "metadata": {
    "ExecuteTime": {
     "start_time": "2021-02-15T19:39:34.721Z"
    },
    "hidden": true
   },
   "outputs": [],
   "source": [
    "plt.plot(el,results,c=millenialPink,linestyle='none',marker='.',alpha=0.5)\n",
    "plt.xlabel('Exemplars')\n",
    "plt.xticks(el)\n",
    "plt.ylabel('RandomAccuracyMetric')\n",
    "plt.savefig('./Images/ensemble.png')\n",
    "plt.show()"
   ]
  },
  {
   "cell_type": "markdown",
   "metadata": {
    "heading_collapsed": true
   },
   "source": [
    "# MisraGries Agents (old)"
   ]
  },
  {
   "cell_type": "code",
   "execution_count": null,
   "metadata": {
    "ExecuteTime": {
     "end_time": "2021-04-04T09:54:08.776001Z",
     "start_time": "2021-04-04T09:54:08.756887Z"
    },
    "hidden": true
   },
   "outputs": [],
   "source": [
    "from agentClass import AgentMisraGries"
   ]
  },
  {
   "cell_type": "code",
   "execution_count": null,
   "metadata": {
    "ExecuteTime": {
     "end_time": "2021-04-11T15:05:20.045083Z",
     "start_time": "2021-04-11T15:05:19.969884Z"
    },
    "hidden": true
   },
   "outputs": [],
   "source": [
    "# Label Array\n",
    "# Is this misra-gries??\n",
    "ratioValue = 0\n",
    "def RLA_mg(l,pf,r=ratioValue,Y=Y_train,k=5):\n",
    "    # r = ratio to use real data\n",
    "    la = {}\n",
    "    np.random.shuffle(Y)\n",
    "    for i in range(k):\n",
    "        if np.random.random() < r:\n",
    "            x = Y[i,-1]\n",
    "            if x not in la:\n",
    "                la[i] = [float(Y[i,3])/255,float(Y[i,4])/255,float(Y[i,5])/255]\n",
    "    return la"
   ]
  },
  {
   "cell_type": "code",
   "execution_count": null,
   "metadata": {
    "ExecuteTime": {
     "end_time": "2021-04-11T15:05:20.848816Z",
     "start_time": "2021-04-11T15:05:20.798053Z"
    },
    "code_folding": [],
    "hidden": true
   },
   "outputs": [],
   "source": [
    "# Agents\n",
    "def RA_mg(pf,aArgs={'a':0.12,'ratioValue':0},l=l,Y=Y_train,k=3):\n",
    "    '''\n",
    "    Create an agent with a random selection of labels with random exemplars\n",
    "    '''\n",
    "    a = aArgs['a']\n",
    "    return AgentMisraGries(ExemplarLearningModel(LA=RLA_mg(l,pf,aArgs['ratioValue'],Y,k),a=a),pf=pf,k=k)\n",
    "\n",
    "#Random Agent Array\n",
    "def RAA_mg(pf,N=5,aArgs={'a':0.12,'ratioValue':0},l=l,Y=Y_train,k=3):\n",
    "    agents = [RA_mg(pf,aArgs,l,Y,k) for i in range(N)] # an array of N random agents\n",
    "    return agents"
   ]
  },
  {
   "cell_type": "code",
   "execution_count": null,
   "metadata": {
    "ExecuteTime": {
     "end_time": "2021-04-11T15:05:23.105957Z",
     "start_time": "2021-04-11T15:05:21.187557Z"
    },
    "hidden": true
   },
   "outputs": [],
   "source": [
    "WholeGame(nDifferentGames=1,RAA=RAA_mg)"
   ]
  },
  {
   "cell_type": "code",
   "execution_count": null,
   "metadata": {
    "ExecuteTime": {
     "end_time": "2021-04-11T15:06:04.008439Z",
     "start_time": "2021-04-11T15:05:34.942805Z"
    },
    "hidden": true
   },
   "outputs": [],
   "source": [
    "# Dimensions\n",
    "PltWholeGame('2 Dimensions',millenialPink,pfn=2,RAA=RAA_mg,Metric=RandomAccuracyMetric)\n",
    "PltWholeGame('3 Dimensions',mediumAquamarine,pfn=3,RAA=RAA_mg,Metric=RandomAccuracyMetric)\n",
    "PltWholeGame('5 Dimensions',orange,pfn=5,RAA=RAA_mg,Metric=RandomAccuracyMetric)\n",
    "plt.xlabel('Iterations')\n",
    "plt.ylabel('Convergence Metric')\n",
    "plt.title('Convergence of Prototype Misra-Gries Agents with k=3')\n",
    "plt.legend()\n",
    "plt.show()"
   ]
  },
  {
   "cell_type": "code",
   "execution_count": null,
   "metadata": {
    "ExecuteTime": {
     "end_time": "2021-02-15T22:36:50.274202Z",
     "start_time": "2021-02-15T22:24:09.992619Z"
    },
    "hidden": true
   },
   "outputs": [],
   "source": [
    "# Truths\n",
    "l = ['blue','green','red','orange','yellow','purple']\n",
    "PltWholeGame('Complete Random',millenialPink,nDifferentGames=128,nIterations=128,aArgs={'a':0.12,'ratioValue':0},Metric=RandomAccuracyMetric,RAA=RAA_mg)\n",
    "PltWholeGame('Half Truth',mediumAquamarine,nDifferentGames=128,nIterations=128,aArgs={'a':0.12,'ratioValue':0.5},Metric=RandomAccuracyMetric,RAA=RAA_mg)\n",
    "PltWholeGame('Full Truth',orange,nDifferentGames=128,nIterations=128,aArgs={'a':0.12,'ratioValue':1},Metric=RandomAccuracyMetric,RAA=RAA_mg)\n",
    "plt.xlabel('Iterations')\n",
    "plt.ylabel('Convergence Metric')\n",
    "plt.title('Randomised convergence of Prototype Misra-Gries Agents')\n",
    "plt.legend()\n",
    "plt.savefig('./Images/truthPlot_mg.pdf')\n",
    "plt.show()\n",
    "# Plot point where cross with complete random?\n",
    "# More games to see if full truth is truly detrimental long term\n",
    "# 45 mins for 256 iterations"
   ]
  },
  {
   "cell_type": "code",
   "execution_count": null,
   "metadata": {
    "ExecuteTime": {
     "end_time": "2021-02-15T22:24:09.988098Z",
     "start_time": "2021-02-15T21:57:44.368519Z"
    },
    "hidden": true
   },
   "outputs": [],
   "source": [
    "# Agents\n",
    "PltWholeGame('5 Agents',millenialPink,nAgents=5,RAA=RAA_mg,Metric=RandomAccuracyMetric)\n",
    "PltWholeGame('10 Agents',mediumAquamarine,nAgents=10,RAA=RAA_mg,Metric=RandomAccuracyMetric)\n",
    "PltWholeGame('25 Agents',orange,nAgents=25,RAA=RAA_mg,Metric=RandomAccuracyMetric)\n",
    "plt.xlabel('Iterations')\n",
    "plt.ylabel('Convergence Metric')\n",
    "plt.title('Randomised convergence of Prototype Misra-Gries Agents')\n",
    "plt.legend()\n",
    "plt.savefig('./Images/agents_mg.png')\n",
    "plt.show()"
   ]
  },
  {
   "cell_type": "markdown",
   "metadata": {},
   "source": [
    "# Quantum Agent"
   ]
  },
  {
   "cell_type": "code",
   "execution_count": 20,
   "metadata": {
    "ExecuteTime": {
     "end_time": "2021-05-05T19:03:39.375858Z",
     "start_time": "2021-05-05T19:03:39.317410Z"
    }
   },
   "outputs": [],
   "source": [
    "a_quantum = 0.3"
   ]
  },
  {
   "cell_type": "code",
   "execution_count": 21,
   "metadata": {
    "ExecuteTime": {
     "end_time": "2021-05-05T19:03:39.680591Z",
     "start_time": "2021-05-05T19:03:39.599612Z"
    }
   },
   "outputs": [],
   "source": [
    "def RA_quantum(pf,aArgs={'a':a_quantum,'ratioValue':0},l=l,Y=Y_train):\n",
    "    '''\n",
    "    Create an agent with a random selection of labels with random exemplars\n",
    "    '''\n",
    "    a = aArgs['a']\n",
    "    return Agent(QuantumAgent(LA=RLA(l,pf,aArgs['ratioValue'],Y),a=a),pf=pf)\n",
    "\n",
    "#Random Agent Array\n",
    "def RAA_quantum(pf,N=5,aArgs={'a':a_quantum,'ratioValue':0},l=l,Y=Y_train):\n",
    "    agents = [RA_quantum(pf,aArgs,l,Y) for i in range(N)] # an array of N random agents\n",
    "    return agents"
   ]
  },
  {
   "cell_type": "code",
   "execution_count": 22,
   "metadata": {
    "ExecuteTime": {
     "end_time": "2021-05-05T19:03:40.936807Z",
     "start_time": "2021-05-05T19:03:40.852012Z"
    }
   },
   "outputs": [],
   "source": [
    "def RA_quantum_dm(pf,aArgs={'a':a_quantum,'ratioValue':0},l=l,Y=Y_train):\n",
    "    '''\n",
    "    Create an agent with a random selection of labels with random exemplars\n",
    "    '''\n",
    "    a = aArgs['a']\n",
    "    return Agent(QuantumAgent_dm(LA=RLA(l,pf,aArgs['ratioValue'],Y),a=a),pf=pf)\n",
    "\n",
    "#Random Agent Array\n",
    "def RAA_quantum_dm(pf,N=5,aArgs={'a':a_quantum,'ratioValue':0},l=l,Y=Y_train):\n",
    "    agents = [RA_quantum(pf,aArgs,l,Y) for i in range(N)] # an array of N random agents\n",
    "    return agents"
   ]
  },
  {
   "cell_type": "markdown",
   "metadata": {
    "heading_collapsed": true
   },
   "source": [
    "## Agent Space"
   ]
  },
  {
   "cell_type": "code",
   "execution_count": null,
   "metadata": {
    "ExecuteTime": {
     "end_time": "2021-03-28T19:16:02.746099Z",
     "start_time": "2021-03-28T19:16:02.687842Z"
    },
    "hidden": true
   },
   "outputs": [],
   "source": [
    "# Function to plot a gradient marker\n",
    "def plotBloch(agent,ax):\n",
    "    b = q.Bloch()\n",
    "    b.axes = ax\n",
    "    b.sphere_alpha=0.1\n",
    "    b.frame_color = 'grey'\n",
    "    b.frame_alpha = .1\n",
    "    b.frame_width=0.15\n",
    "    b.vector_style = 'simple'\n",
    "    cs = []\n",
    "    for c in agent.learningModel.LA:\n",
    "        #print(c)\n",
    "        E = agent.learningModel.LA[c].eigenstates()\n",
    "        #print(E)\n",
    "        #print(E[1])\n",
    "        for i in range(len(E[0])):\n",
    "            e = E[1][i]\n",
    "            #print([c,e])\n",
    "            b.add_states(e)\n",
    "            cs.append(lc[c])\n",
    "    b.vector_color = cs\n",
    "    b.xlabel=['','']\n",
    "    b.ylabel=['','']\n",
    "    b.zlabel=['','']\n",
    "    b.show()\n",
    "    "
   ]
  },
  {
   "cell_type": "code",
   "execution_count": null,
   "metadata": {
    "ExecuteTime": {
     "end_time": "2021-03-28T19:16:03.236845Z",
     "start_time": "2021-03-28T19:16:03.177878Z"
    },
    "hidden": true
   },
   "outputs": [],
   "source": [
    "def PlotQuantumCollage(agents,squareN=3,t=0):\n",
    "    #fig, axs = plt.subplots(squareN,squareN,figsize=(6,6),projection='3d')\n",
    "    fig = plt.figure(figsize=(6,6))\n",
    "    fig.suptitle(\"\"\"$t=$\"\"\"+str(t),fontsize=20,weight=80)\n",
    "    fig.add_subplot(squareN,squareN,1)\n",
    "    #plt.subplots_adjust(bottom=-.1,top=1) # This seems suuper dodge\n",
    "    for i in range(squareN**2):\n",
    "        ax = fig.add_subplot(squareN, squareN, i+1, projection='3d')\n",
    "        plotBloch(agents[i],ax)\n",
    "        #axs[i//squareN,i%squareN].axis('off')\n",
    "    plt.tight_layout()\n",
    "    plt.show()\n",
    "    return [fig,axs]"
   ]
  },
  {
   "cell_type": "code",
   "execution_count": null,
   "metadata": {
    "ExecuteTime": {
     "end_time": "2021-03-28T19:16:03.424700Z",
     "start_time": "2021-03-28T19:16:03.359192Z"
    },
    "hidden": true
   },
   "outputs": [],
   "source": [
    "agents = RAA_quantum(pf=PF(3),N=9,l=l2)\n",
    "agentsD = {i:agents[i] for i in range(len(agents))}\n",
    "agents = [agentsD[i] for i in range(len(agents))]"
   ]
  },
  {
   "cell_type": "code",
   "execution_count": null,
   "metadata": {
    "ExecuteTime": {
     "end_time": "2021-03-28T19:16:10.040240Z",
     "start_time": "2021-03-28T19:16:04.213515Z"
    },
    "hidden": true,
    "scrolled": true
   },
   "outputs": [],
   "source": [
    "fig,axs = PlotQuantumCollage(agentsD,t=0)\n",
    "plt.tight_layout()\n",
    "fig.savefig('./Images/Quantum/collage_0.pdf')"
   ]
  },
  {
   "cell_type": "code",
   "execution_count": null,
   "metadata": {
    "ExecuteTime": {
     "end_time": "2021-03-28T19:16:10.971147Z",
     "start_time": "2021-03-28T19:16:10.208141Z"
    },
    "hidden": true
   },
   "outputs": [],
   "source": [
    "for i in range(3):\n",
    "    GameRound(agents,pf)"
   ]
  },
  {
   "cell_type": "code",
   "execution_count": null,
   "metadata": {
    "ExecuteTime": {
     "end_time": "2021-03-28T19:16:14.749250Z",
     "start_time": "2021-03-28T19:16:10.974462Z"
    },
    "hidden": true
   },
   "outputs": [],
   "source": [
    "fig,axs = PlotQuantumCollage(agentsD,t=4)\n",
    "fig.savefig('./Images/Quantum/collage_4.pdf')"
   ]
  },
  {
   "cell_type": "code",
   "execution_count": null,
   "metadata": {
    "ExecuteTime": {
     "end_time": "2021-03-28T19:16:20.874462Z",
     "start_time": "2021-03-28T19:16:14.751957Z"
    },
    "hidden": true
   },
   "outputs": [],
   "source": [
    "for i in range(60):\n",
    "    GameRound(agents,pf)"
   ]
  },
  {
   "cell_type": "code",
   "execution_count": null,
   "metadata": {
    "ExecuteTime": {
     "end_time": "2021-03-28T19:16:24.133819Z",
     "start_time": "2021-03-28T19:16:20.877234Z"
    },
    "hidden": true
   },
   "outputs": [],
   "source": [
    "fig,axs = PlotQuantumCollage(agentsD,t=64)\n",
    "fig.savefig('./Images/Quantum/collage_64.pdf')"
   ]
  },
  {
   "cell_type": "markdown",
   "metadata": {
    "heading_collapsed": true
   },
   "source": [
    "## Find learning rate"
   ]
  },
  {
   "cell_type": "code",
   "execution_count": null,
   "metadata": {
    "ExecuteTime": {
     "end_time": "2021-04-21T05:59:39.336739Z",
     "start_time": "2021-04-20T21:54:06.599256Z"
    },
    "hidden": true
   },
   "outputs": [],
   "source": [
    "# Randomised convergence\n",
    "# ~Bifurcation~ plot of learning rates\n",
    "ls = np.linspace(0,1.5,num=21)\n",
    "results = np.array([np.array(WholeGame(nIterations=64,nDifferentGames=8,nAgents=64,aArgs={'a':i,'ratioValue':0},RAA=RAA_quantum,Metric=RandomAccuracyMetric,metricAll=False))[:,-1] for i in tqdm(ls)])\n",
    "results_t = np.array([np.array(WholeGame(nIterations=64,nDifferentGames=8,nAgents=64,aArgs={'a':i,'ratioValue':1},RAA=RAA_quantum,Metric=RandomAccuracyMetric,metricAll=False))[:,-1] for i in tqdm(ls)])\n",
    "plt.plot(ls,results,c=millenialPink,linestyle='none',marker='.',alpha=.5,label='Random')\n",
    "plt.plot(ls,results_t,c=orange,linestyle='none',marker='.',alpha=.5,label='Full Truth')\n",
    "plt.xlabel('Learning Rate')\n",
    "plt.ylabel('Randomised Convergence Metric')\n",
    "plt.savefig('./Images/learningRate_quantum_randmoised.pdf')\n",
    "plt.show()"
   ]
  },
  {
   "cell_type": "code",
   "execution_count": null,
   "metadata": {
    "ExecuteTime": {
     "end_time": "2021-04-23T12:16:10.219245Z",
     "start_time": "2021-04-23T11:26:44.038611Z"
    },
    "hidden": true
   },
   "outputs": [],
   "source": [
    "# Training convergence\n",
    "# ~Bifurcation~ plot of learning rates\n",
    "ls = np.linspace(0,.5,num=11)\n",
    "results = np.array([np.array(WholeGame_prog(aArgs={'a':i,'ratioValue':0},RAA=RAA_quantum,Metric=TestingAccuracy,X_test=Y_test[:100],metricAll=False))[:,-1] for i in tqdm(ls)])\n",
    "results_t = np.array([np.array(WholeGame_prog(aArgs={'a':i,'ratioValue':1},RAA=RAA_quantum,Metric=TestingAccuracy,X_test=Y_test[:100],metricAll=False))[:,-1] for i in tqdm(ls)])\n",
    "plt.plot(ls,results,c=millenialPink,linestyle='none',marker='.',alpha=0.25,label='Random')\n",
    "plt.plot(ls,results_t,c=orange,linestyle='none',marker='.',alpha=0.25,label='Full Truth')\n",
    "plt.xlabel('Learning Rate')\n",
    "plt.ylabel('Testing Agreement Metric')\n",
    "plt.savefig('./Images/learningRate_quantum1qubit_testing_tr.pdf')\n",
    "plt.show()"
   ]
  },
  {
   "cell_type": "code",
   "execution_count": null,
   "metadata": {
    "ExecuteTime": {
     "end_time": "2021-04-20T15:22:15.935414Z",
     "start_time": "2021-04-20T15:21:40.324650Z"
    },
    "hidden": true,
    "scrolled": true
   },
   "outputs": [],
   "source": [
    "# Training convergence\n",
    "# ~Bifurcation~ plot of learning rates\n",
    "ls = np.linspace(0,1,num=10)\n",
    "results = np.array([np.array(WholeGame(aArgs={'a':i,'ratioValue':0},RAA=RAA_quantum,Metric=TestingAccuracy,X_test=Y_long_test[:100],l=l_long,Y=Y_long_train,metricAll=False))[:,-1] for i in tqdm(ls)])\n",
    "results_t = np.array([np.array(WholeGame(aArgs={'a':i,'ratioValue':1},RAA=RAA_quantum,Metric=TestingAccuracy,X_test=Y_long_test[:100],l=l_long,Y=Y_long_train,metricAll=False))[:,-1] for i in tqdm(ls)])\n",
    "plt.plot(ls,results,c=millenialPink,linestyle='none',marker='.',alpha=0.25,label='Random')\n",
    "plt.plot(ls,results_t,c=orange,linestyle='none',marker='.',alpha=0.25,label='Full Truth')\n",
    "plt.xlabel('Learning Rate')\n",
    "plt.ylabel('Testing Agreement Metric')\n",
    "plt.savefig('./Images/learningRate_quantum_long_testing.pdf')\n",
    "plt.show()"
   ]
  },
  {
   "cell_type": "code",
   "execution_count": null,
   "metadata": {
    "ExecuteTime": {
     "end_time": "2021-03-13T17:20:42.797552Z",
     "start_time": "2021-03-13T17:20:42.244814Z"
    },
    "hidden": true
   },
   "outputs": [],
   "source": [
    "plt.plot(ls,results,c=millenialPink,linestyle='none',marker='.',alpha=1,label='Random')\n",
    "plt.plot(ls,results_t,c=orange,linestyle='none',marker='.',alpha=1,label='Full Truth')\n",
    "plt.xlabel('Learning Rate')\n",
    "plt.ylabel('Testing Agreement Metric')\n",
    "plt.savefig('./Images/learningRate_quantum_testing.pdf')\n",
    "plt.show()"
   ]
  },
  {
   "cell_type": "code",
   "execution_count": null,
   "metadata": {
    "ExecuteTime": {
     "end_time": "2021-04-26T07:05:23.746995Z",
     "start_time": "2021-04-26T07:05:23.649504Z"
    },
    "hidden": true
   },
   "outputs": [],
   "source": [
    "a_quantum = 0.3"
   ]
  },
  {
   "cell_type": "code",
   "execution_count": null,
   "metadata": {
    "ExecuteTime": {
     "end_time": "2021-04-21T12:54:30.007843Z",
     "start_time": "2021-04-21T12:54:29.937356Z"
    },
    "hidden": true
   },
   "outputs": [],
   "source": [
    "agents = RAA(pf=PF(3))\n",
    "A = agents[1]\n",
    "B = agents[0]\n",
    "O = [RE(pf) for i in range(5)] # Random elements for N\n",
    "o = O[-1]\n",
    "print([A,B,O,o])"
   ]
  },
  {
   "cell_type": "code",
   "execution_count": null,
   "metadata": {
    "ExecuteTime": {
     "end_time": "2021-04-21T12:54:31.402611Z",
     "start_time": "2021-04-21T12:54:31.355149Z"
    },
    "hidden": true
   },
   "outputs": [],
   "source": [
    "A.FindLabel(o)"
   ]
  },
  {
   "cell_type": "code",
   "execution_count": null,
   "metadata": {
    "ExecuteTime": {
     "end_time": "2021-04-21T12:56:13.588371Z",
     "start_time": "2021-04-21T12:56:13.487244Z"
    },
    "hidden": true
   },
   "outputs": [],
   "source": [
    "GameRound(agents,pf=PF(3))"
   ]
  },
  {
   "cell_type": "code",
   "execution_count": null,
   "metadata": {
    "ExecuteTime": {
     "end_time": "2021-04-21T12:53:02.418758Z",
     "start_time": "2021-04-21T12:52:59.857058Z"
    },
    "hidden": true
   },
   "outputs": [],
   "source": [
    "RandomAccuracyMetric(agents)"
   ]
  },
  {
   "cell_type": "markdown",
   "metadata": {
    "ExecuteTime": {
     "end_time": "2021-03-13T14:37:01.000421Z",
     "start_time": "2021-03-13T14:37:00.937420Z"
    },
    "hidden": true
   },
   "source": [
    "\n",
    "## Plots"
   ]
  },
  {
   "cell_type": "code",
   "execution_count": null,
   "metadata": {
    "ExecuteTime": {
     "end_time": "2021-03-09T11:48:05.393742Z",
     "start_time": "2021-03-09T10:51:03.076127Z"
    },
    "hidden": true
   },
   "outputs": [],
   "source": [
    "# Quantum Comp\n",
    "PltWholeGame('Classical Exemplar',millenialPink,nDifferentGames=8,nIterations=128,Metric=RandomAccuracyMetric)\n",
    "PltWholeGame('Classical Prototype',mediumAquamarine,nDifferentGames=8,RAA=RAA_bp,nIterations=128,Metric=RandomAccuracyMetric)\n",
    "PltWholeGame('Quantum',orange,nDifferentGames=8,nIterations=128,RAA=RAA_quantum,Metric=RandomAccuracyMetric)\n",
    "plt.xlabel('Iterations')\n",
    "plt.ylabel('Convergence Metric')\n",
    "plt.title('Randomised convergence of Different Agents')\n",
    "plt.legend()\n",
    "plt.savefig('./Images/comp_rando.pdf')\n",
    "plt.show()"
   ]
  },
  {
   "cell_type": "code",
   "execution_count": null,
   "metadata": {
    "ExecuteTime": {
     "end_time": "2021-04-25T09:50:13.446826Z",
     "start_time": "2021-04-25T04:14:50.734755Z"
    },
    "hidden": true
   },
   "outputs": [],
   "source": [
    "# Nonsense\n",
    "# Quantum Comp\n",
    "PltWholeGame_prog('Classical Exemplar',millenialPink,aArgs={'a':a_exemplar,'ratioValue':0},Metric=RandomAccuracyMetric)\n",
    "PltWholeGame_prog('Classical Prototype',mediumAquamarine,aArgs={'a':a_prototype,'a_sd':a_sd_prototype,'r':[0,0.75],'ratioValue':0},RAA=RAA_bp,Metric=RandomAccuracyMetric)\n",
    "PltWholeGame_prog('Projection Operator',orange,aArgs={'a':a_quantum,'ratioValue':0},RAA=RAA_quantum,Metric=RandomAccuracyMetric)\n",
    "PltWholeGame_prog('Density Matrix','grey',aArgs={'a':a_quantum,'ratioValue':0},RAA=RAA_quantum_dm,Metric=RandomAccuracyMetric)\n",
    "plt.xlabel('Iterations')\n",
    "plt.ylabel('Convergence Metric')\n",
    "plt.title('Randomised convergence of Different Agents')\n",
    "plt.legend()\n",
    "plt.savefig('./Images/nonsense.pdf')\n",
    "plt.show()"
   ]
  },
  {
   "cell_type": "code",
   "execution_count": null,
   "metadata": {
    "ExecuteTime": {
     "end_time": "2021-04-25T04:14:50.720275Z",
     "start_time": "2021-04-24T23:04:39.141671Z"
    },
    "hidden": true
   },
   "outputs": [],
   "source": [
    "# Nonsense\n",
    "# Quantum Comp\n",
    "PltWholeGame_prog('Classical Exemplar',millenialPink,aArgs={'a':a_exemplar,'ratioValue':1},Metric=RandomAccuracyMetric)\n",
    "PltWholeGame_prog('Classical Prototype',mediumAquamarine,aArgs={'a':a_prototype,'a_sd':a_sd_prototype,'ratioValue':1,'r':[0,0.75]},RAA=RAA_bp,Metric=RandomAccuracyMetric)\n",
    "PltWholeGame_prog('Projection Operator',orange,aArgs={'a':a_quantum,'ratioValue':1},RAA=RAA_quantum,Metric=RandomAccuracyMetric)\n",
    "PltWholeGame_prog('Density Matrix','grey',aArgs={'a':a_quantum,'ratioValue':1},RAA=RAA_quantum_dm,Metric=RandomAccuracyMetric)\n",
    "plt.xlabel('Iterations')\n",
    "plt.ylabel('Convergence Metric')\n",
    "plt.title('Randomised convergence of Different Agents')\n",
    "plt.legend()\n",
    "plt.savefig('./Images/nonsense_init.pdf')\n",
    "plt.show()"
   ]
  },
  {
   "cell_type": "code",
   "execution_count": null,
   "metadata": {
    "ExecuteTime": {
     "end_time": "2021-04-24T23:04:39.134626Z",
     "start_time": "2021-04-24T20:09:38.871026Z"
    },
    "hidden": true
   },
   "outputs": [],
   "source": [
    "# Truth Comp\n",
    "PltWholeGame_prog('Classical Exemplar',millenialPink,nIterations=128,aArgs={'a':a_exemplar,'ratioValue':1},Metric=TestingAccuracy,X_test=Y_test[:50])\n",
    "PltWholeGame_prog('Classical Prototype',mediumAquamarine,nIterations=128,aArgs={'a':a_prototype,'a_sd':a_sd_prototype,'r':[0,0.75],'ratioValue':1},RAA=RAA_bp,Metric=TestingAccuracy,X_test=Y_test[:50])\n",
    "PltWholeGame_prog('Projection Operator',orange,nIterations=128,aArgs={'a':a_quantum,'ratioValue':1},RAA=RAA_quantum,Metric=TestingAccuracy,X_test=Y_test[:50])\n",
    "PltWholeGame_prog('Density Matrix','grey',nIterations=128,aArgs={'a':a_quantum,'ratioValue':1},RAA=RAA_quantum_dm,Metric=TestingAccuracy,X_test=Y_test[:50])\n",
    "plt.xlabel('Iterations')\n",
    "plt.ylabel('Test Data Agreement Metric')\n",
    "plt.title('Test Data Agreement of Different Agents')\n",
    "plt.legend()\n",
    "plt.savefig('./Images/truthComp_128.pdf')\n",
    "plt.show()"
   ]
  },
  {
   "cell_type": "code",
   "execution_count": null,
   "metadata": {
    "ExecuteTime": {
     "end_time": "2021-03-27T04:30:30.339275Z",
     "start_time": "2021-03-26T22:57:08.904119Z"
    },
    "hidden": true
   },
   "outputs": [],
   "source": [
    "# Truths\n",
    "PltWholeGame('Complete Random',millenialPink,nDifferentGames=64,nIterations=64,aArgs={'a':0.12,'ratioValue':0},RAA=RAA_quantum,Metric=RandomAccuracyMetric)\n",
    "PltWholeGame('Half Truth',mediumAquamarine,nDifferentGames=64,nIterations=64,aArgs={'a':0.12,'ratioValue':0.5},RAA=RAA_quantum,Metric=RandomAccuracyMetric)\n",
    "PltWholeGame('Full Truth',orange,nDifferentGames=64,nIterations=64,aArgs={'a':0.12,'ratioValue':1},RAA=RAA_quantum,Metric=RandomAccuracyMetric)\n",
    "plt.xlabel('Iterations')\n",
    "plt.ylabel('Convergence Metric')\n",
    "plt.title('Randomised convergence of Different Truths for Quantum')\n",
    "plt.legend()\n",
    "plt.savefig('./Images/truthPlot_quantum.pdf')\n",
    "plt.show()"
   ]
  },
  {
   "cell_type": "code",
   "execution_count": null,
   "metadata": {
    "ExecuteTime": {
     "end_time": "2021-03-27T10:05:59.912566Z",
     "start_time": "2021-03-27T04:30:30.344719Z"
    },
    "hidden": true
   },
   "outputs": [],
   "source": [
    "# Truths\n",
    "l = ['blue','green','red','orange','yellow','purple']\n",
    "PltWholeGame('Complete Random',millenialPink,nDifferentGames=64,nIterations=64,aArgs={'a':0.12,'ratioValue':0},RAA=RAA_quantum,Metric=TestingAccuracy,X_test=Y_test[:100])\n",
    "PltWholeGame('Half Truth',mediumAquamarine,nDifferentGames=64,nIterations=64,aArgs={'a':0.12,'ratioValue':0.5},RAA=RAA_quantum,Metric=TestingAccuracy,X_test=Y_test[:100])\n",
    "PltWholeGame('Full Truth',orange,nDifferentGames=64,nIterations=64,aArgs={'a':0.12,'ratioValue':1},RAA=RAA_quantum,Metric=TestingAccuracy,X_test=Y_test[:100])\n",
    "plt.xlabel('Iterations')\n",
    "plt.ylabel('Convergence Metric')\n",
    "plt.title('Test Data Agreement for Quantum')\n",
    "plt.legend()\n",
    "plt.savefig('./Images/truthPlot_quantum_real.pdf')\n",
    "plt.show()"
   ]
  },
  {
   "cell_type": "code",
   "execution_count": null,
   "metadata": {
    "ExecuteTime": {
     "end_time": "2021-03-12T19:57:13.796546Z",
     "start_time": "2021-03-12T19:57:13.649423Z"
    },
    "hidden": true
   },
   "outputs": [],
   "source": [
    "print(Y_test[:10])"
   ]
  },
  {
   "cell_type": "code",
   "execution_count": null,
   "metadata": {
    "ExecuteTime": {
     "end_time": "2021-03-26T01:26:57.493890Z",
     "start_time": "2021-03-25T21:15:38.689443Z"
    },
    "hidden": true
   },
   "outputs": [],
   "source": [
    "# Truth Comp\n",
    "PltWholeGame('Classical Exemplar',millenialPink,nAgents=32,nDifferentGames=4,nIterations=256,aArgs={'a':a_exemplar,'ratioValue':1},Metric=TestingAccuracy,X_test=Y_test[:100])\n",
    "PltWholeGame('Classical Prototype',mediumAquamarine,nAgents=32,nDifferentGames=4,nIterations=256,aArgs={'a':a_prototype,'a_sd':a_sd_prototype,'r':[0,0.75],'ratioValue':1},RAA=RAA_bp,Metric=TestingAccuracy,X_test=Y_test[:100])\n",
    "PltWholeGame('Quantum',orange,nAgents=32,nDifferentGames=4,nIterations=256,aArgs={'a':a_quantum,'ratioValue':1},RAA=RAA_quantum,Metric=TestingAccuracy,X_test=Y_test[:100])\n",
    "plt.xlabel('Iterations')\n",
    "plt.ylabel('Test Data Agreement Metric')\n",
    "plt.title('Test Data Agreement of Different Agents')\n",
    "plt.legend()\n",
    "plt.savefig('./Images/truthComp.pdf')\n",
    "plt.show()"
   ]
  },
  {
   "cell_type": "code",
   "execution_count": null,
   "metadata": {
    "ExecuteTime": {
     "end_time": "2021-04-13T16:28:54.031643Z",
     "start_time": "2021-04-13T09:10:02.991478Z"
    },
    "hidden": true
   },
   "outputs": [],
   "source": [
    "# Truth Comp\n",
    "PltWholeGame('Classical Exemplar',millenialPink,aArgs={'a':a_exemplar,'ratioValue':1},Metric=TestingAccuracy,X_test=Y_test[:100])\n",
    "PltWholeGame('Classical Prototype',mediumAquamarine,aArgs={'a':a_prototype,'a_sd':a_sd_prototype,'r':[0,0.75],'ratioValue':1},RAA=RAA_bp,Metric=TestingAccuracy,X_test=Y_test[:100])\n",
    "PltWholeGame('Quantum',orange,aArgs={'a':a_quantum,'ratioValue':1},RAA=RAA_quantum,Metric=TestingAccuracy,X_test=Y_test[:100])\n",
    "plt.xlabel('Iterations')\n",
    "plt.ylabel('Test Data Agreement Metric')\n",
    "plt.title('Test Data Agreement of Different Agents')\n",
    "plt.legend()\n",
    "plt.savefig('./Images/truthComp.pdf')\n",
    "plt.show()"
   ]
  },
  {
   "cell_type": "code",
   "execution_count": null,
   "metadata": {
    "ExecuteTime": {
     "end_time": "2021-04-16T16:07:14.108867Z",
     "start_time": "2021-04-16T12:18:32.408712Z"
    },
    "hidden": true
   },
   "outputs": [],
   "source": [
    "# Truth Comp\n",
    "PltWholeGame('Classical Exemplar',millenialPink,nDifferentGames=1,aArgs={'a':a_exemplar,'ratioValue':1},Metric=TestingAccuracy,X_test=Y_long_test[:100],l=l_long,Y=Y_long_train)\n",
    "PltWholeGame('Classical Prototype',mediumAquamarine,nDifferentGames=1,aArgs={'a':a_prototype,'a_sd':a_sd_prototype,'r':[0,0.75],'ratioValue':1},RAA=RAA_bp,Metric=TestingAccuracy,X_test=Y_long_test[:100],l=l_long,Y=Y_long_train)\n",
    "PltWholeGame('Quantum',orange,nDifferentGames=1,aArgs={'a':a_quantum,'ratioValue':1},RAA=RAA_quantum,Metric=TestingAccuracy,X_test=Y_long_test[:100],l=l_long,Y=Y_long_train)\n",
    "plt.xlabel('Iterations')\n",
    "plt.ylabel('Test Data Agreement Metric')\n",
    "plt.title('Test Data Agreement of Different Agents')\n",
    "plt.legend()\n",
    "plt.savefig('./Images/truthComp_2qbit.pdf')\n",
    "plt.show()"
   ]
  },
  {
   "cell_type": "code",
   "execution_count": null,
   "metadata": {
    "ExecuteTime": {
     "end_time": "2021-04-14T10:09:51.742917Z",
     "start_time": "2021-04-14T03:41:09.686782Z"
    },
    "hidden": true
   },
   "outputs": [],
   "source": [
    "# Truth Comp\n",
    "PltWholeGame('Classical Exemplar',millenialPink,aArgs={'a0':a_exemplar,'ratioValue':0},Metric=TestingAccuracy,X_test=Y_test[:100])\n",
    "PltWholeGame('Classical Prototype',mediumAquamarine,aArgs={'a':a_prototype,'a_sd':a_sd_prototype,'r':[0,0.75],'ratioValue':0},RAA=RAA_bp,Metric=TestingAccuracy,X_test=Y_test[:100])\n",
    "PltWholeGame('Quantum',orange,aArgs={'a':a_quantum,'ratioValue':0},RAA=RAA_quantum,Metric=TestingAccuracy,X_test=Y_test[:100])\n",
    "plt.xlabel('Iterations')\n",
    "plt.ylabel('Test Data Agreement Metric')\n",
    "plt.title('Test Data Agreement of Different Agents')\n",
    "plt.legend()\n",
    "plt.savefig('./Images/truthComp.pdf')\n",
    "plt.show()"
   ]
  },
  {
   "cell_type": "code",
   "execution_count": null,
   "metadata": {
    "ExecuteTime": {
     "end_time": "2021-03-28T12:07:18.410796Z",
     "start_time": "2021-03-28T11:56:32.197804Z"
    },
    "hidden": true
   },
   "outputs": [],
   "source": [
    "# Truth Comp\n",
    "PltWholeGame('Classical Exemplar',millenialPink,nDifferentGames=4,nIterations=64,aArgs={'a':a_exemplar,'ratioValue':1},Metric=RandomAccuracyMetric,X_test=Y_test[:100])\n",
    "PltWholeGame('Classical Prototype',mediumAquamarine,nDifferentGames=4,nIterations=64,aArgs={'a':a_prototype,'a_sd':a_sd_prototype,'r':[0,0.75],'ratioValue':1},RAA=RAA_bp,Metric=RandomAccuracyMetric,X_test=Y_test[:100])\n",
    "PltWholeGame('Quantum',orange,nDifferentGames=4,nIterations=64,aArgs={'a':a_quantum,'ratioValue':1},RAA=RAA_quantum,Metric=RandomAccuracyMetric,X_test=Y_test[:100])\n",
    "plt.xlabel('Iterations')\n",
    "plt.ylabel('Randomsied Agreement Metric')\n",
    "plt.title('Randomised Agreement of Different Agents')\n",
    "plt.legend()\n",
    "#plt.savefig('./Images/truthComp_randomised.pdf')\n",
    "plt.show()"
   ]
  },
  {
   "cell_type": "code",
   "execution_count": null,
   "metadata": {
    "ExecuteTime": {
     "end_time": "2021-03-29T10:21:47.483758Z",
     "start_time": "2021-03-29T10:10:59.332385Z"
    },
    "hidden": true
   },
   "outputs": [],
   "source": [
    "# Truth Comp\n",
    "PltWholeGame('Classical Exemplar',millenialPink,nDifferentGames=4,nIterations=64,aArgs={'a':a_exemplar,'ratioValue':0},Metric=RandomAccuracyMetric,X_test=Y_test[:100])\n",
    "PltWholeGame('Classical Prototype',mediumAquamarine,nDifferentGames=4,nIterations=64,aArgs={'a':a_prototype,'a_sd':a_sd_prototype,'r':[0,0.75],'ratioValue':0},RAA=RAA_bp,Metric=RandomAccuracyMetric,X_test=Y_test[:100])\n",
    "PltWholeGame('Quantum',orange,nDifferentGames=4,nIterations=64,aArgs={'a':a_quantum,'ratioValue':0},RAA=RAA_quantum,Metric=RandomAccuracyMetric,X_test=Y_test[:100])\n",
    "plt.xlabel('Iterations')\n",
    "plt.ylabel('Randomsied Agreement Metric')\n",
    "plt.title('Randomised Agreement of Different Agents')\n",
    "plt.legend()\n",
    "#plt.savefig('./Images/truthComp_randomised.pdf')\n",
    "plt.show()"
   ]
  },
  {
   "cell_type": "code",
   "execution_count": null,
   "metadata": {
    "ExecuteTime": {
     "end_time": "2021-02-22T20:11:45.671715Z",
     "start_time": "2021-02-22T20:11:44.980707Z"
    },
    "hidden": true
   },
   "outputs": [],
   "source": [
    "%load_ext autoreload\n",
    "%autoreload 2\n",
    "\n",
    "# Importing Libraries\n",
    "from learningModels import *\n",
    "from metrics import *"
   ]
  },
  {
   "cell_type": "code",
   "execution_count": null,
   "metadata": {
    "ExecuteTime": {
     "end_time": "2021-03-10T19:31:37.324110Z",
     "start_time": "2021-03-10T15:58:30.508311Z"
    },
    "hidden": true
   },
   "outputs": [],
   "source": [
    "# Truth Comp\n",
    "PltWholeGame('Classical Exemplar',millenialPink,nAgents=64,nDifferentGames=8,nIterations=64,aArgs={'a':0.12,'ratioValue':1},Metric=TestingAccuracy,X_test=Y_test[:100])\n",
    "PltWholeGame('Classical Prototype',mediumAquamarine,nAgents=64,nDifferentGames=8,nIterations=64,aArgs={'a':0.12,'a_sd':6,'r':[0,0.75],'ratioValue':1},RAA=RAA_bp,Metric=TestingAccuracy,X_test=Y_test[:100])\n",
    "PltWholeGame('Quantum',orange,nAgents=64,nDifferentGames=4,nIterations=64,aArgs={'a':0.2,'ratioValue':1},RAA=RAA_quantum,Metric=TestingAccuracy,X_test=Y_test[:100])\n",
    "plt.xlabel('Iterations')\n",
    "plt.ylabel('Test Data Agreement Metric')\n",
    "plt.title('Test Data Agreement of Different Agents')\n",
    "plt.legend()\n",
    "plt.show()"
   ]
  },
  {
   "cell_type": "code",
   "execution_count": null,
   "metadata": {
    "ExecuteTime": {
     "end_time": "2021-03-09T14:14:35.665173Z",
     "start_time": "2021-03-09T13:39:37.350590Z"
    },
    "hidden": true
   },
   "outputs": [],
   "source": [
    "# \n",
    "PltWholeGame('Classical Exemplar',millenialPink,nAgents=64,nDifferentGames=8,nIterations=64,aArgs={'a':0.12,'ratioValue':1},Metric=RandomAccuracyMetric,X_test=Y_test[:100])\n",
    "PltWholeGame('Classical Prototype',mediumAquamarine,nAgents=64,nDifferentGames=8,nIterations=64,aArgs={'a':0.12,'a_sd':6,'r':[0,0.75],'ratioValue':1},RAA=RAA_bp,Metric=RandomAccuracyMetric,X_test=Y_test[:100])\n",
    "PltWholeGame('Quantum',orange,nDifferentGames=8,nIterations=64,aArgs={'a':0.2,'ratioValue':1},RAA=RAA_quantum,Metric=RandomAccuracyMetric,X_test=Y_test[:100])\n",
    "plt.xlabel('Iterations')\n",
    "plt.ylabel('Random Agreement Metric')\n",
    "plt.title('Randomised Agreement of Different Agents')\n",
    "plt.legend()\n",
    "plt.show()"
   ]
  },
  {
   "cell_type": "code",
   "execution_count": null,
   "metadata": {
    "ExecuteTime": {
     "end_time": "2021-03-25T16:56:36.351689Z",
     "start_time": "2021-03-25T14:54:43.054Z"
    },
    "hidden": true
   },
   "outputs": [],
   "source": [
    "# Truths\n",
    "l = ['blue','green','red','orange','yellow','purple']\n",
    "PltWholeGame('Complete Random',millenialPink,nDifferentGames=4,nIterations=64,aArgs={'a':0.12,'ratioValue':0},RAA=RAA_quantum,Metric=TestingAccuracy,X_test=Y_test[:10])\n",
    "PltWholeGame('Half Truth',mediumAquamarine,nDifferentGames=4,nIterations=64,aArgs={'a':0.12,'ratioValue':0.5},RAA=RAA_quantum,Metric=TestingAccuracy,X_test=Y_test)\n",
    "PltWholeGame('Full Truth',orange,nDifferentGames=4,nIterations=64,aArgs={'a':0.12,'ratioValue':1},RAA=RAA_quantum,Metric=TestingAccuracy,X_test=Y_test[:100])\n",
    "plt.xlabel('Iterations')\n",
    "plt.ylabel('Test Data Agreement Metric')\n",
    "plt.title('Test Data Agreement of Different Agents')\n",
    "plt.legend()\n",
    "plt.savefig('./Images/truthPlot_quantum_test.pdf')\n",
    "plt.show()"
   ]
  },
  {
   "cell_type": "code",
   "execution_count": null,
   "metadata": {
    "ExecuteTime": {
     "end_time": "2021-02-22T20:04:34.958214Z",
     "start_time": "2021-02-22T20:03:56.619924Z"
    },
    "hidden": true
   },
   "outputs": [],
   "source": [
    "# Truths\n",
    "l = ['blue','green','red','orange','yellow','purple']\n",
    "PltWholeGame('Complete Random',millenialPink,nDifferentGames=1,nIterations=64,aArgs={'a':0.12,'ratioValue':0},RAA=RAA_quantum,Metric=TestingAccuracy,X_test=Y_test[:10])\n",
    "PltWholeGame('Half Truth',mediumAquamarine,nDifferentGames=1,nIterations=64,aArgs={'a':0.12,'ratioValue':0.5},RAA=RAA_quantum,Metric=TestingAccuracy,X_test=Y_test[:10])\n",
    "PltWholeGame('Full Truth',orange,nDifferentGames=1,nIterations=64,aArgs={'a':0.12,'ratioValue':1},RAA=RAA_quantum,Metric=TestingAccuracy,X_test=Y_test[:10])\n",
    "plt.xlabel('Iterations')\n",
    "plt.ylabel('Convergence Metric')\n",
    "plt.title('Randomised convergence of Different Agents')\n",
    "plt.legend()\n",
    "plt.savefig('./Images/truthPlot_quantum.pdf')\n",
    "plt.show()"
   ]
  },
  {
   "cell_type": "code",
   "execution_count": null,
   "metadata": {
    "ExecuteTime": {
     "end_time": "2021-03-22T21:40:01.946644Z",
     "start_time": "2021-03-22T21:29:47.186746Z"
    },
    "hidden": true
   },
   "outputs": [],
   "source": [
    "pf = PF(3)\n",
    "agents = RAA_bp(pf,N=512,aArgs={'a':a_prototype,'a_sd':a_sd_prototype,'r':[0,.75],'ratioValue':1})\n",
    "agents = RAA=RAA_quantum(pf)\n",
    "agents = RAA_qt(aArgs={'e1':256,'e2':12,'a':a_quantum})\n",
    "print(agents)\n",
    "pprint(agents[-1].GetLabels())\n",
    "for i in range(256):\n",
    "    GameRound(agents,pf)\n",
    "pprint(agents[-1].GetLabels())"
   ]
  },
  {
   "cell_type": "code",
   "execution_count": null,
   "metadata": {
    "ExecuteTime": {
     "end_time": "2021-03-22T22:04:24.311747Z",
     "start_time": "2021-03-22T22:02:04.652075Z"
    },
    "hidden": true
   },
   "outputs": [],
   "source": [
    "print(TestingAccuracy(agents,Y_test[:100]))\n",
    "#print(RandomAccuracyMetric(agents))\n",
    "for i in range(20):\n",
    "    print(Y_test[i])\n",
    "    l = np.array([a.FindLabel(Y_test[i][3:6]/255) for a in agents])\n",
    "    majorityLabel = Counter(l).most_common(1)\n",
    "    majorityLabel = majorityLabel[0][0]\n",
    "    print([Y_test[i][-1],majorityLabel])\n",
    "    print"
   ]
  },
  {
   "cell_type": "code",
   "execution_count": null,
   "metadata": {
    "ExecuteTime": {
     "end_time": "2021-03-22T22:06:25.259896Z",
     "start_time": "2021-03-22T22:04:26.451554Z"
    },
    "hidden": true
   },
   "outputs": [],
   "source": [
    "MajorityTestingAccuracy(agents,Y_test[:100])"
   ]
  },
  {
   "cell_type": "code",
   "execution_count": null,
   "metadata": {
    "ExecuteTime": {
     "end_time": "2021-02-21T18:09:22.115402Z",
     "start_time": "2021-02-21T18:09:22.069119Z"
    },
    "hidden": true
   },
   "outputs": [],
   "source": [
    "def GameRound(agents,pf):\n",
    "    for A in agents:\n",
    "        agents.remove(A)\n",
    "        B = np.random.choice(agents)\n",
    "        DiscriminationGameRound(A,B,pf)\n",
    "        agents.append(A)"
   ]
  },
  {
   "cell_type": "code",
   "execution_count": null,
   "metadata": {
    "ExecuteTime": {
     "end_time": "2021-02-21T18:09:17.921869Z",
     "start_time": "2021-02-21T18:09:12.539417Z"
    },
    "hidden": true
   },
   "outputs": [],
   "source": [
    "# Quantum Comp\n",
    "#PltWholeGame('Classical Prototype',millenialPink,nDifferentGames=16,nIterations=32,aArgs={'a':0.12,'ratioValue':0},Metric=RandomAccuracyMetric)\n",
    "PltWholeGame('Quantum',mediumAquamarine,nDifferentGames=16,nIterations=32,aArgs={'a':0.12,'ratioValue':0},RAA=RAA_quantum,Metric=RandomAccuracyMetric)\n",
    "plt.xlabel('Iterations')\n",
    "plt.ylabel('Convergence Metric')\n",
    "plt.title('Randomised convergence of Prototype Agents')\n",
    "plt.legend()\n",
    "plt.savefig('./Images/truthPlot.pdf')\n",
    "plt.show()"
   ]
  },
  {
   "cell_type": "code",
   "execution_count": null,
   "metadata": {
    "ExecuteTime": {
     "end_time": "2021-04-04T11:14:54.185241Z",
     "start_time": "2021-04-04T11:14:54.136140Z"
    },
    "hidden": true
   },
   "outputs": [],
   "source": [
    "def RAA_ensemble(pf=PF(3),nAgents=[5],RAAs=[RAA],aArgs=[{'a':.12,'a_sd':1.15,'r':[0,1],'ratioValue':0}],l=l):\n",
    "    # 'ensembleExemplarN' in aArgs deontes number of exemplar agents\n",
    "    agents = []\n",
    "    for i in range(len(RAAs)):\n",
    "        raa = RAAs[i]\n",
    "        agents.extend(raa(pf,N=nAgents[i],aArgs=aArgs[i],l=l))\n",
    "    return agents"
   ]
  },
  {
   "cell_type": "code",
   "execution_count": null,
   "metadata": {
    "ExecuteTime": {
     "end_time": "2021-03-05T18:37:36.601082Z",
     "start_time": "2021-03-05T18:37:36.542734Z"
    },
    "hidden": true
   },
   "outputs": [],
   "source": [
    "print(l)"
   ]
  },
  {
   "cell_type": "code",
   "execution_count": null,
   "metadata": {
    "ExecuteTime": {
     "end_time": "2021-03-05T18:44:56.118183Z",
     "start_time": "2021-03-05T18:44:56.072741Z"
    },
    "hidden": true
   },
   "outputs": [],
   "source": [
    "def RAA_q(pf=PF(3),nAgents=None,aArgs={'e1':4,'e2':4},l=l):\n",
    "    e1 = aArgs['e1']\n",
    "    e2 = aArgs['e2']\n",
    "    return RAA_ensemble(pf=PF(3),nAgents=[e1,e2],RAAs=[RAA,RAA_quantum],aArgs=[{'a':.12,'a_sd':1.15,'r':[0,1],'ratioValue':1},{'a':0.12,'ratioValue':1}],l=l)"
   ]
  },
  {
   "cell_type": "code",
   "execution_count": null,
   "metadata": {
    "ExecuteTime": {
     "end_time": "2021-03-05T18:44:56.540660Z",
     "start_time": "2021-03-05T18:44:56.449442Z"
    },
    "hidden": true
   },
   "outputs": [],
   "source": [
    "RAA_q()"
   ]
  },
  {
   "cell_type": "code",
   "execution_count": null,
   "metadata": {
    "ExecuteTime": {
     "end_time": "2021-03-07T00:04:56.421178Z",
     "start_time": "2021-03-06T21:18:43.493938Z"
    },
    "hidden": true
   },
   "outputs": [],
   "source": [
    "# Truths\n",
    "l = ['blue','green','red','orange','yellow','purple']\n",
    "PltWholeGame('16 Exemplar Agents',millenialPink,nDifferentGames=8,nIterations=256,aArgs={'e1':16,'e2':0},RAA=RAA_q,Metric=TestingAccuracy,X_test=Y_test[:32])\n",
    "PltWholeGame('8 Exemplar Agents & 8 Quantum Agents',mediumAquamarine,nDifferentGames=8,nIterations=256,aArgs={'e1':8,'e2':8},RAA=RAA_q,Metric=TestingAccuracy,X_test=Y_test[:32])\n",
    "PltWholeGame('16 Quantum Agents',orange,nDifferentGames=8,nIterations=256,aArgs={'e1':0,'e2':16},RAA=RAA_q,Metric=TestingAccuracy,X_test=Y_test[:32])\n",
    "plt.xlabel('Iterations')\n",
    "plt.ylabel('Convergence Metric')\n",
    "plt.title('Testing Agreement for Ensemble Swarms')\n",
    "plt.legend()\n",
    "plt.savefig('./Images/truthPlot_quantumEnsemble.pdf')\n",
    "plt.show()"
   ]
  },
  {
   "cell_type": "code",
   "execution_count": null,
   "metadata": {
    "ExecuteTime": {
     "end_time": "2021-03-26T10:48:26.503764Z",
     "start_time": "2021-03-26T10:48:26.446086Z"
    },
    "hidden": true
   },
   "outputs": [],
   "source": [
    "def RA_quantum_2qbit(pf,aArgs={'a':0.1,'ratioValue':0},l=l):\n",
    "    '''\n",
    "    Create an agent with a random selection of labels with random exemplars\n",
    "    '''\n",
    "    a = aArgs['a']\n",
    "    return Agent(QuantumAgent_2qbit(LA=RLA(l,pf,aArgs['ratioValue']),a=a),pf=pf)\n",
    "\n",
    "#Random Agent Array\n",
    "def RAA_quantum_2qbit(pf,N=5,aArgs={'a':0.1,'ratioValue':0},l=l):\n",
    "    agents = [RA_quantum_2qbit(pf,aArgs,l) for i in range(N)] # an array of N random agents\n",
    "    return agents"
   ]
  },
  {
   "cell_type": "code",
   "execution_count": null,
   "metadata": {
    "ExecuteTime": {
     "end_time": "2021-03-26T10:48:26.709435Z",
     "start_time": "2021-03-26T10:48:26.639636Z"
    },
    "hidden": true
   },
   "outputs": [],
   "source": [
    "def RAA_q_2qbit(pf=PF(3),nAgents=None,aArgs={'e1':4,'e2':4},l=l):\n",
    "    e1 = aArgs['e1']\n",
    "    e2 = aArgs['e2']\n",
    "    return RAA_ensemble(pf=PF(3),nAgents=[e1,e2],RAAs=[RAA,RAA_quantum_2qbit],aArgs=[{'a':.12,'a_sd':1.15,'r':[0,1],'ratioValue':1},{'a':0.12,'ratioValue':1}],l=l)"
   ]
  },
  {
   "cell_type": "code",
   "execution_count": null,
   "metadata": {
    "ExecuteTime": {
     "end_time": "2021-03-07T11:30:16.418051Z",
     "start_time": "2021-03-07T10:51:16.976338Z"
    },
    "hidden": true
   },
   "outputs": [],
   "source": [
    "# Truth Comp\n",
    "PltWholeGame('1-qbit',orange,nDifferentGames=4,nIterations=64,aArgs={'a':0.4,'ratioValue':1},RAA=RAA_quantum,Metric=TestingAccuracy,X_test=Y_test[:100])\n",
    "PltWholeGame('2-qbit',millenialPink,nDifferentGames=4,nIterations=64,aArgs={'a':0.4,'ratioValue':1},RAA=RAA_quantum_2qbit,Metric=TestingAccuracy,X_test=Y_test[:100])\n",
    "plt.xlabel('Iterations')\n",
    "plt.ylabel('Test Data Agreement Metric')\n",
    "plt.title('Test Data Agreement of Different Agents')\n",
    "plt.legend()\n",
    "plt.show()"
   ]
  },
  {
   "cell_type": "code",
   "execution_count": null,
   "metadata": {
    "ExecuteTime": {
     "end_time": "2021-03-08T22:50:43.960362Z",
     "start_time": "2021-03-08T18:58:29.647458Z"
    },
    "hidden": true
   },
   "outputs": [],
   "source": [
    "ls = np.linspace(0,1,num=25)\n",
    "results = np.array([np.array(WholeGame(nDifferentGames=64,nAgents=64,aArgs={'a':i,'ratioValue':1},RAA=RAA_quantum,Metric=TestingAccuracy,X_test=Y_test[:32],metricAll=False))[:,-1] for i in ls])\n",
    "plt.plot(ls,results,c=millenialPink,linestyle='none',marker='.',alpha=0.25)\n",
    "plt.xlabel('Learning Rate')\n",
    "plt.ylabel('Randomised Accuracy Metric')"
   ]
  },
  {
   "cell_type": "code",
   "execution_count": null,
   "metadata": {
    "ExecuteTime": {
     "end_time": "2021-03-08T01:31:16.172239Z",
     "start_time": "2021-03-07T20:22:05.225484Z"
    },
    "hidden": true
   },
   "outputs": [],
   "source": [
    "# Truths\n",
    "l = ['blue','green','red','orange','yellow','purple']\n",
    "PltWholeGame('16 Exemplar Agents',millenialPink,nDifferentGames=8,nIterations=256,aArgs={'e1':16,'e2':0},RAA=RAA_q_2qbit,Metric=TestingAccuracy,X_test=Y_test[:32])\n",
    "PltWholeGame('8 Exemplar Agents & 8 2-qbit Quantum Agents',mediumAquamarine,nDifferentGames=8,nIterations=256,aArgs={'e1':8,'e2':8},RAA=RAA_q_2qbit,Metric=TestingAccuracy,X_test=Y_test[:32])\n",
    "PltWholeGame('16 2-qbit Quantum Agents',orange,nDifferentGames=8,nIterations=256,aArgs={'e1':0,'e2':16},RAA=RAA_q_2qbit,Metric=TestingAccuracy,X_test=Y_test[:32])\n",
    "plt.xlabel('Iterations')\n",
    "plt.ylabel('Convergence Metric')\n",
    "plt.title('Testing Agreement for Ensemble Swarms')\n",
    "plt.legend()\n",
    "plt.savefig('./Images/truthPlot_quantumEnsemble.pdf')\n",
    "plt.show()"
   ]
  },
  {
   "cell_type": "code",
   "execution_count": null,
   "metadata": {
    "ExecuteTime": {
     "end_time": "2021-03-09T07:50:47.715693Z",
     "start_time": "2021-03-09T07:05:40.669518Z"
    },
    "hidden": true
   },
   "outputs": [],
   "source": [
    "#%%timeit -n 1 -r 1\n",
    "# Dimensions x Learning rate\n",
    "lr = np.linspace(0,1,11)\n",
    "lr_sd = np.linspace(0,10,11)\n",
    "results = np.array([[np.mean(np.array(WholeGame(aArgs={'a':x,'a_sd':y,'ratioValue':1,'r':[0,1]},RAA=RAA_bp,metricAll=False,Metric=TestingAccuracy,X_test=Y_test[:100]))) for y in lr_sd] for x in lr])\n",
    "plt.rcParams.update({'font.size': 18})\n",
    "plot_confusion_matrix(results,[lr_sd,lr],title='Convergence Heatmap',xLabel='SD learning rate',yLabel='Learning Rate')\n",
    "plt.savefig('./Images/heatmap_learning_bp.pdf')"
   ]
  },
  {
   "cell_type": "markdown",
   "metadata": {},
   "source": [
    "# Agent Truther"
   ]
  },
  {
   "cell_type": "code",
   "execution_count": 37,
   "metadata": {
    "ExecuteTime": {
     "end_time": "2021-05-06T10:55:12.464252Z",
     "start_time": "2021-05-06T10:55:12.381227Z"
    }
   },
   "outputs": [],
   "source": [
    "# Label Array - also used for quantum agent\n",
    "ratioValue = 1\n",
    "def RLA_full(l,pf,r=ratioValue,Y=Y_train):\n",
    "    # r = ratio to use real data\n",
    "    la = {l[i]:RE(pf) for i in range(len(l))}\n",
    "    for i in la:\n",
    "        if np.random.random() < r:\n",
    "            Xc = Y[:,-1]\n",
    "            x = np.where(Xc == i)[0]\n",
    "            #print(Xc[x])\n",
    "            k = np.random.choice(x)\n",
    "            la[i] = [float(Y[k,3])/255,float(Y[k,4])/255,float(Y[k,5])/255]\n",
    "    return la\n",
    "        "
   ]
  },
  {
   "cell_type": "code",
   "execution_count": 38,
   "metadata": {
    "ExecuteTime": {
     "end_time": "2021-05-06T10:55:12.632930Z",
     "start_time": "2021-05-06T10:55:12.579360Z"
    }
   },
   "outputs": [],
   "source": [
    "# Agents\n",
    "def RA_truther(pf,aArgs={'a':0.12,'ratioValue':1},l=l,Y=Y_train):\n",
    "    '''\n",
    "    Create an agent with a random selection of labels with random exemplars\n",
    "    '''\n",
    "    a = aArgs['a']\n",
    "    return AgentTruther(ExemplarLearningModel(LA=RLA_full(l,pf,1,Y),a=a),pf=pf,l=l,RLA=RLA_full,Y=Y)\n",
    "\n",
    "#Random Agent Array\n",
    "def RAA_truther(pf,N=5,aArgs={'a':0.12,'ratioValue':1},l=l,Y=Y_train):\n",
    "    agents = [RA_truther(pf,aArgs,l,Y) for i in range(N)] # an array of N random agents\n",
    "    return agents"
   ]
  },
  {
   "cell_type": "code",
   "execution_count": 39,
   "metadata": {
    "ExecuteTime": {
     "end_time": "2021-05-06T10:55:12.899062Z",
     "start_time": "2021-05-06T10:55:12.812876Z"
    }
   },
   "outputs": [],
   "source": [
    "def RAA_qt(pf=PF(3),nAgents=None,aArgs={'e1':4,'e2':4},l=l,X=Y_train):\n",
    "    e1 = aArgs['e1']\n",
    "    e2 = aArgs['e2']\n",
    "    a = aArgs['a']\n",
    "    return RAA_ensemble(pf=PF(3),nAgents=[e1,e2],RAAs=[RAA_quantum,RAA_truther],aArgs=[{'a':a_quantum,'a_sd':1.15,'r':[0,1],'ratioValue':1},{'a':0.12,'ratioValue':1}],l=l,Y=Y)"
   ]
  },
  {
   "cell_type": "code",
   "execution_count": 40,
   "metadata": {
    "ExecuteTime": {
     "end_time": "2021-05-06T10:55:13.027602Z",
     "start_time": "2021-05-06T10:55:12.982611Z"
    }
   },
   "outputs": [],
   "source": [
    "def RAA_pt(pf=PF(3),nAgents=None,aArgs={'e1':4,'e2':4},l=l,Y=Y_train):\n",
    "    e1 = aArgs['e1']\n",
    "    e2 = aArgs['e2']\n",
    "    #a = aArgs['a']\n",
    "    return RAA_ensemble(pf=PF(3),nAgents=[e1,e2],RAAs=[RAA_bp,RAA_truther],aArgs=[{'a':a_prototype,'a_sd':a_sd_prototype,'r':[0,1],'ratioValue':1},{'a':0.12,'ratioValue':1}],l=l,Y=Y)"
   ]
  },
  {
   "cell_type": "code",
   "execution_count": 41,
   "metadata": {
    "ExecuteTime": {
     "end_time": "2021-05-06T10:55:13.367414Z",
     "start_time": "2021-05-06T10:55:13.320866Z"
    }
   },
   "outputs": [],
   "source": [
    "def RAA_et(pf=PF(3),nAgents=None,aArgs={'e1':4,'e2':4},l=l,Y=Y_train):\n",
    "    e1 = aArgs['e1']\n",
    "    e2 = aArgs['e2']\n",
    "    #a = aArgs['a']\n",
    "    return RAA_ensemble(pf=PF(3),nAgents=[e1,e2],RAAs=[RAA,RAA_truther],aArgs=[{'a':a_exemplar,'ratioValue':1},{'a':0.12,'ratioValue':1}],l=l,Y=Y)"
   ]
  },
  {
   "cell_type": "code",
   "execution_count": 42,
   "metadata": {
    "ExecuteTime": {
     "end_time": "2021-05-06T10:55:13.872129Z",
     "start_time": "2021-05-06T10:55:13.813651Z"
    }
   },
   "outputs": [],
   "source": [
    "def RAA_dmt(pf=PF(3),nAgents=None,aArgs={'e1':4,'e2':4},l=l,Y=Y_train):\n",
    "    e1 = aArgs['e1']\n",
    "    e2 = aArgs['e2']\n",
    "    #a = aArgs['a']\n",
    "    return RAA_ensemble(pf=PF(3),nAgents=[e1,e2],RAAs=[RAA_quantum_dm,RAA_truther],aArgs=[{'a':a_quantum,'ratioValue':1},{'a':0.12,'ratioValue':1}],l=l,Y=Y)"
   ]
  },
  {
   "cell_type": "code",
   "execution_count": 43,
   "metadata": {
    "ExecuteTime": {
     "end_time": "2021-05-06T10:55:15.278529Z",
     "start_time": "2021-05-06T10:55:15.216386Z"
    }
   },
   "outputs": [],
   "source": [
    "def RAA_qvt(pf=PF(3),nAgents=None,aArgs={'e1':4,'e2':4},l=l,X=Y_train):\n",
    "    e1 = aArgs['e1']\n",
    "    e2 = aArgs['e2']\n",
    "    a = aArgs['a']\n",
    "    return RAA_ensemble(pf=PF(3),nAgents=[e1,e2],RAAs=[RAA_quantumv,RAA_truther],aArgs=[{'a':a_quantum,'a_sd':1.15,'r':[0,1],'ratioValue':1},{'a':0.12,'ratioValue':1}],l=l,Y=Y)"
   ]
  },
  {
   "cell_type": "code",
   "execution_count": null,
   "metadata": {
    "ExecuteTime": {
     "end_time": "2021-03-15T16:08:07.272006Z",
     "start_time": "2021-03-15T15:49:15.327831Z"
    }
   },
   "outputs": [],
   "source": [
    "l = ['blue','green','red','orange','yellow','purple']\n",
    "PltWholeGame('Truthers',orange,nDifferentGames=32,nIterations=32,aArgs={'a':0.12,'ratioValue':1},RAA=RAA_truther,Metric=RandomAccuracyMetric,X_test=Y_test[:32])\n",
    "plt.xlabel('Iterations')\n",
    "plt.ylabel('Convergence Metric')\n",
    "plt.title('Testing Agreement for Ensemble Swarms')\n",
    "plt.legend()\n",
    "plt.show()"
   ]
  },
  {
   "cell_type": "code",
   "execution_count": null,
   "metadata": {
    "ExecuteTime": {
     "end_time": "2021-03-26T10:01:55.201926Z",
     "start_time": "2021-03-26T09:27:50.116311Z"
    }
   },
   "outputs": [],
   "source": [
    "# Truths\n",
    "l = ['blue','green','red','orange','yellow','purple']\n",
    "PltWholeGame('16 Quantum Agents',millenialPink,nDifferentGames=4,nIterations=32,aArgs={'e1':16,'e2':0,'a':0.2},RAA=RAA_qt,Metric=TestingAccuracy,X_test=Y_test[:100])\n",
    "PltWholeGame('14 Quantum Agents 2 Truther',mediumAquamarine,nDifferentGames=4,nIterations=32,aArgs={'e1':14,'e2':2,'a':0.2},RAA=RAA_qt,Metric=TestingAccuracy,X_test=Y_test[:100])\n",
    "PltWholeGame('12 Quantum Agents 4 Truther',orange,nDifferentGames=4,nIterations=32,aArgs={'e1':12,'e2':4,'a':0.2},RAA=RAA_qt,Metric=TestingAccuracy,X_test=Y_test[:100])\n",
    "plt.xlabel('Iterations')\n",
    "plt.ylabel('Testing Agreement Metric')\n",
    "plt.title('Testing Agreement for Ensemble Swarms')\n",
    "plt.legend()\n",
    "plt.savefig('./Images/quantumTruthers.pdf')\n",
    "plt.show()"
   ]
  },
  {
   "cell_type": "code",
   "execution_count": null,
   "metadata": {
    "ExecuteTime": {
     "end_time": "2021-04-21T23:22:32.898913Z",
     "start_time": "2021-04-21T21:03:49.430333Z"
    }
   },
   "outputs": [],
   "source": [
    "# Truths\n",
    "l = ['blue','green','red','orange','yellow','purple']\n",
    "PltWholeGame_prog('16 Quantum Agents',millenialPink,nDifferentGames=4,nIterations=32,aArgs={'e1':16,'e2':0,'a':0.2},RAA=RAA_qt,Metric=TestingAccuracy,X_test=Y_test[:100])\n",
    "PltWholeGame_prog('14 Quantum Agents 2 Truther',mediumAquamarine,nDifferentGames=4,nIterations=32,aArgs={'e1':14,'e2':2,'a':0.2},RAA=RAA_qt,Metric=TestingAccuracy,X_test=Y_test[:100])\n",
    "PltWholeGame_prog('12 Quantum Agents 4 Truther',orange,nDifferentGames=4,nIterations=32,aArgs={'e1':12,'e2':4,'a':0.2},RAA=RAA_qt,Metric=TestingAccuracy,X_test=Y_test[:100])\n",
    "plt.xlabel('Iterations')\n",
    "plt.ylabel('Testing Agreement Metric')\n",
    "plt.title('Testing Agreement for Ensemble Swarms')\n",
    "plt.legend()\n",
    "plt.savefig('./Images/quantumTruthers.pdf')\n",
    "plt.show()"
   ]
  },
  {
   "cell_type": "code",
   "execution_count": null,
   "metadata": {
    "ExecuteTime": {
     "end_time": "2021-03-16T09:10:24.516806Z",
     "start_time": "2021-03-16T08:33:46.031316Z"
    }
   },
   "outputs": [],
   "source": [
    "# Training convergence\n",
    "# ~Bifurcation~ plot of learning rates\n",
    "ls = np.linspace(0,3,num=21)\n",
    "#results = np.array([np.array(WholeGame(nIterations=64,nDifferentGames=1,nAgents=64,aArgs={'a':i,'ratioValue':0},RAA=RAA_quantum,Metric=TestingAccuracy,X_test=Y_test[:100],metricAll=False))[:,-1] for i in tqdm(ls)])\n",
    "results_t = np.array([np.array(WholeGame(nDifferentGames=8,nIterations=32,aArgs={'e1':15,'e2':1,'a':i},RAA=RAA_qt,Metric=TestingAccuracy,X_test=Y_test[:100],metricAll=False))[:,-1] for i in tqdm(ls)])\n",
    "plt.plot(ls,results,c=millenialPink,linestyle='none',marker='.',alpha=0.25,label='Random')\n",
    "plt.plot(ls,results_t,c=orange,linestyle='none',marker='.',alpha=0.25,label='Full Truth')\n",
    "plt.xlabel('Learning Rate')\n",
    "plt.ylabel('Testing Agreement Metric')\n",
    "plt.savefig('./Images/learningRate_quantum_testing.pdf')\n",
    "plt.show()"
   ]
  },
  {
   "cell_type": "code",
   "execution_count": null,
   "metadata": {},
   "outputs": [],
   "source": [
    "np.array([np.array(WholeGame(nIterations=128,nDifferentGames=4,nAgents=64,aArgs={'a':a_exemplar,'a_sd':i,'r':[0,.75],'ratioValue':1},RAA=RAA_bp,Metric=TestingAccuracy,X_test=Y_test[:100],metricAll=False))[:,-1] for i in tqdm(ls)])"
   ]
  },
  {
   "cell_type": "code",
   "execution_count": null,
   "metadata": {
    "ExecuteTime": {
     "end_time": "2021-03-26T10:54:00.910308Z",
     "start_time": "2021-03-26T10:54:00.861563Z"
    }
   },
   "outputs": [],
   "source": [
    "print(RAA)"
   ]
  },
  {
   "cell_type": "code",
   "execution_count": null,
   "metadata": {
    "ExecuteTime": {
     "end_time": "2021-03-26T10:54:06.672723Z",
     "start_time": "2021-03-26T10:54:02.540856Z"
    }
   },
   "outputs": [],
   "source": [
    "# Truths\n",
    "l = ['blue','green','red','orange','yellow','purple']\n",
    "PltWholeGame('16 Prototype Agents',millenialPink,nDifferentGames=4,nIterations=128,aArgs={'e1':16,'e2':0,'a':0.2},RAA=RAA_pt,Metric=TestingAccuracy,X_test=Y_test[:100])\n",
    "PltWholeGame('14 Prototype Agents 2 Truther',mediumAquamarine,nDifferentGames=4,nIterations=128,aArgs={'e1':14,'e2':2,'a':0.2},RAA=RAA_pt,Metric=TestingAccuracy,X_test=Y_test[:100])\n",
    "PltWholeGame('12 Prototype Agents 4 Truther',orange,nDifferentGames=4,nIterations=128,aArgs={'e1':12,'e2':4,'a':0.2},RAA=RAA_pt,Metric=TestingAccuracy,X_test=Y_test[:100])\n",
    "plt.xlabel('Iterations')\n",
    "plt.ylabel('Testing Agreement Metric')\n",
    "plt.title('Testing Agreement for Ensemble Swarms')\n",
    "plt.legend()\n",
    "plt.savefig('./Images/prototypeTruthers.pdf')\n",
    "plt.show()"
   ]
  },
  {
   "cell_type": "code",
   "execution_count": null,
   "metadata": {
    "ExecuteTime": {
     "end_time": "2021-04-23T15:18:13.973677Z",
     "start_time": "2021-04-23T15:18:13.914086Z"
    }
   },
   "outputs": [],
   "source": [
    "#%load_ext autoreload\n",
    "#%autoreload 2\n",
    "\n",
    "# Importing Libraries\n",
    "from agentClass import *\n",
    "#from learningModels import *"
   ]
  },
  {
   "cell_type": "code",
   "execution_count": null,
   "metadata": {
    "ExecuteTime": {
     "end_time": "2021-04-23T17:16:24.742089Z",
     "start_time": "2021-04-23T16:39:22.876880Z"
    }
   },
   "outputs": [],
   "source": [
    "# Truth Comp\n",
    "PltWholeGame_prog('12 Exemplar Agents 4 Truthers',millenialPink,nDifferentGames=4,nIterations=32,aArgs={'e1':12,'e2':4,'a':0.2},RAA=RAA_et,Metric=TestingAccuracy,X_test=Y_test[:100])\n",
    "PltWholeGame_prog('12 Prototype Agents 4 Truther',mediumAquamarine,nDifferentGames=4,nIterations=32,aArgs={'e1':12,'e2':4,'a':0.2},RAA=RAA_pt,Metric=TestingAccuracy,X_test=Y_test[:100])\n",
    "PltWholeGame_prog('12 Quantum Agents 4 Truther',orange,nDifferentGames=4,nIterations=32,aArgs={'e1':12,'e2':4,'a':0.2},RAA=RAA_qt,Metric=TestingAccuracy,X_test=Y_test[:100])\n",
    "plt.xlabel('Iterations')\n",
    "plt.ylabel('Test Data Agreement Metric')\n",
    "plt.title('Test Data Agreement of Different Agents')\n",
    "plt.legend()\n",
    "plt.savefig('./Images/truthComp_withTruthers.pdf')\n",
    "plt.show()"
   ]
  },
  {
   "cell_type": "markdown",
   "metadata": {
    "heading_collapsed": true
   },
   "source": [
    "# Quantum Vector Agents"
   ]
  },
  {
   "cell_type": "code",
   "execution_count": 27,
   "metadata": {
    "ExecuteTime": {
     "end_time": "2021-05-05T19:04:10.322240Z",
     "start_time": "2021-05-05T19:04:10.271591Z"
    },
    "hidden": true
   },
   "outputs": [],
   "source": [
    "a_quantumv = 0.2"
   ]
  },
  {
   "cell_type": "code",
   "execution_count": 28,
   "metadata": {
    "ExecuteTime": {
     "end_time": "2021-05-05T19:04:10.764745Z",
     "start_time": "2021-05-05T19:04:10.686488Z"
    },
    "hidden": true
   },
   "outputs": [],
   "source": [
    "def RA_quantumv(pf,aArgs={'a':a_quantumv,'ratioValue':0},l=l,Y=Y_train):\n",
    "    '''\n",
    "    Create an agent with a random selection of labels with random exemplars\n",
    "    '''\n",
    "    a = aArgs['a']\n",
    "    return Agent(QuantumVectorAgent(LA=RLA(l,pf,aArgs['ratioValue'],Y),a=a),pf=pf)\n",
    "\n",
    "#Random Agent Array\n",
    "def RAA_quantumv(pf,N=5,aArgs={'a':a_quantumv,'ratioValue':0},l=l,Y=Y_train):\n",
    "    agents = [RA_quantumv(pf,aArgs,l,Y) for i in range(N)] # an array of N random agents\n",
    "    return agents"
   ]
  },
  {
   "cell_type": "code",
   "execution_count": null,
   "metadata": {
    "ExecuteTime": {
     "end_time": "2021-04-28T13:54:05.097035Z",
     "start_time": "2021-04-28T13:54:04.918196Z"
    },
    "hidden": true
   },
   "outputs": [],
   "source": [
    "print(l)"
   ]
  },
  {
   "cell_type": "code",
   "execution_count": null,
   "metadata": {
    "ExecuteTime": {
     "start_time": "2021-05-05T19:01:01.632Z"
    },
    "hidden": true
   },
   "outputs": [],
   "source": [
    "# Truth Comp\n",
    "dg = 16\n",
    "nas = 16\n",
    "PltWholeGame_prog('Quantum Vector',grey,nAgents=nas,nDifferentGames=dg,nIterations=128,aArgs={'a':a_quantum,'ratioValue':1},RAA=RAA_quantumv,Metric=TestingAccuracy,X_test=Y_test[:50],l=l_9,Y=Y_train)\n",
    "PltWholeGame_prog('Classical Exemplar',millenialPink,nAgents=nas,nDifferentGames=dg,nIterations=128,aArgs={'a':a_exemplar,'ratioValue':1},Metric=TestingAccuracy,X_test=Y_test[:50],l=l_9,Y=Y_train)\n",
    "PltWholeGame_prog('Classical Prototype',mediumAquamarine,nAgents=nas,nDifferentGames=dg,nIterations=128,aArgs={'a':a_prototype,'a_sd':a_sd_prototype,'r':[0,0.75],'ratioValue':1},RAA=RAA_bp,Metric=TestingAccuracy,X_test=Y_test[:50],l=l_9,Y=Y_train)\n",
    "PltWholeGame_prog('Projection Operator',orange,nAgents=nas,nDifferentGames=dg,nIterations=128,aArgs={'a':a_quantum,'ratioValue':1},RAA=RAA_quantum,Metric=TestingAccuracy,X_test=Y_test[:50],l=l_9,Y=Y_train)\n",
    "PltWholeGame_prog('Density Matrix',uranianBlue,nAgents=nas,nDifferentGames=dg,nIterations=128,aArgs={'a':a_quantum,'ratioValue':1},RAA=RAA_quantum_dm,Metric=TestingAccuracy,X_test=Y_test[:50],l=l_9,Y=Y_train)\n",
    "\n",
    "plt.xlabel('Iterations')\n",
    "plt.ylabel('Test Data Agreement Metric')\n",
    "plt.title('Test Data Agreement of Different Agents')\n",
    "plt.legend()\n",
    "plt.savefig('./Images/truthComp_128_v.pdf')\n",
    "plt.show()"
   ]
  },
  {
   "cell_type": "code",
   "execution_count": null,
   "metadata": {
    "hidden": true
   },
   "outputs": [],
   "source": [
    "def RA_quantum(pf,aArgs={'a':a_quantum,'ratioValue':0},l=l,Y=Y_train):\n",
    "    '''\n",
    "    Create an agent with a random selection of labels with random exemplars\n",
    "    '''\n",
    "    a = aArgs['a']\n",
    "    return Agent(QuantumAgent(LA=RLA(l,pf,aArgs['ratioValue'],Y),a=a),pf=pf)\n",
    "\n",
    "#Random Agent Array\n",
    "def RAA_quantum(pf,N=5,aArgs={'a':a_quantum,'ratioValue':0},l=l,Y=Y_train):\n",
    "    agents = [RA_quantum(pf,aArgs,l,Y) for i in range(N)] # an array of N random agents\n",
    "    return agents"
   ]
  },
  {
   "cell_type": "code",
   "execution_count": null,
   "metadata": {
    "ExecuteTime": {
     "end_time": "2021-03-28T16:50:00.030944Z",
     "start_time": "2021-03-28T14:50:14.062034Z"
    },
    "hidden": true
   },
   "outputs": [],
   "source": [
    "# Truth Comp\n",
    "#PltWholeGame('Classical Exemplar',millenialPink,nAgents=32,nDifferentGames=1,nIterations=64,aArgs={'a':a_exemplar,'ratioValue':1},Metric=TestingAccuracy,X_test=Y_test[:100])\n",
    "#PltWholeGame('Classical Prototype',mediumAquamarine,nAgents=32,nDifferentGames=1,nIterations=64,aArgs={'a':a_prototype,'a_sd':a_sd_prototype,'r':[0,0.75],'ratioValue':1},RAA=RAA_bp,Metric=TestingAccuracy,X_test=Y_test[:100])\n",
    "PltWholeGame('QuantumVector Agents',millenialPink,nAgents=32,nDifferentGames=4,nIterations=64,aArgs={'a':a_quantumv,'ratioValue':1},RAA=RAA_quantumv,Metric=TestingAccuracy,X_test=Y_test[:100])\n",
    "PltWholeGame('Quantum Agents',orange,nAgents=32,nDifferentGames=4,nIterations=64,aArgs={'a':a_quantum,'ratioValue':1},RAA=RAA_quantum,Metric=TestingAccuracy,X_test=Y_test[:100])\n",
    "plt.xlabel('Iterations')\n",
    "plt.ylabel('Test Data Agreement Metric')\n",
    "plt.title('Test Data Agreement of Different Agents')\n",
    "plt.legend()\n",
    "\n",
    "plt.show()"
   ]
  },
  {
   "cell_type": "code",
   "execution_count": null,
   "metadata": {
    "ExecuteTime": {
     "end_time": "2021-03-28T14:46:37.950514Z",
     "start_time": "2021-03-28T13:47:54.987544Z"
    },
    "hidden": true
   },
   "outputs": [],
   "source": [
    "# Training convergence\n",
    "# ~Bifurcation~ plot of learning rates\n",
    "ls = np.linspace(0,1,num=11)\n",
    "results = np.array([np.array(WholeGame(nIterations=32,nDifferentGames=4,nAgents=64,aArgs={'a':i,'ratioValue':0},RAA=RAA_quantumv,Metric=TestingAccuracy,X_test=Y_test[:100],metricAll=False))[:,-1] for i in tqdm(ls)])\n",
    "results_t = np.array([np.array(WholeGame(nDifferentGames=4,nIterations=32,nAgents=64,aArgs={'ratioValue':1,'a':i},RAA=RAA_quantumv,Metric=TestingAccuracy,X_test=Y_test[:100],metricAll=False))[:,-1] for i in tqdm(ls)])\n",
    "plt.plot(ls,results,c=millenialPink,linestyle='none',marker='.',alpha=0.25,label='Random')\n",
    "plt.plot(ls,results_t,c=orange,linestyle='none',marker='.',alpha=0.25,label='Full Truth')\n",
    "plt.xlabel('Learning Rate')\n",
    "plt.ylabel('Testing Agreement Metric')\n",
    "plt.savefig('./Images/learningRate_quantumvector_testing.pdf')\n",
    "plt.show()"
   ]
  },
  {
   "cell_type": "code",
   "execution_count": null,
   "metadata": {
    "ExecuteTime": {
     "end_time": "2021-03-28T14:47:56.655087Z",
     "start_time": "2021-03-28T14:47:56.390035Z"
    },
    "hidden": true
   },
   "outputs": [],
   "source": [
    "a_quantumv = 0.2"
   ]
  },
  {
   "cell_type": "markdown",
   "metadata": {},
   "source": [
    "# Comparison Plot"
   ]
  },
  {
   "cell_type": "code",
   "execution_count": null,
   "metadata": {
    "ExecuteTime": {
     "start_time": "2021-05-09T21:07:51.049Z"
    }
   },
   "outputs": [],
   "source": [
    "# Full look at truth rates\n",
    "ls = np.linspace(0,1,num=32)\n",
    "ng = 2\n",
    "results_et = np.array([np.array(WholeGame(nDifferentGames=ng,aArgs={'a':a_exemplar,'ratioValue':i},Metric=TestingAccuracy,X_test=Y_test[:100],metricAll=False))[:,-1] for i in tqdm(ls)])\n",
    "results_pt = np.array([np.array(WholeGame(nDifferentGames=ng,aArgs={'a':a_prototype,'a_sd':a_sd_prototype,'r':[0,0.75],'ratioValue':i},RAA=RAA_bp,Metric=TestingAccuracy,X_test=Y_test[:100],metricAll=False))[:,-1] for i in tqdm(ls)])\n",
    "results_qvt = np.array([np.array(WholeGame(nDifferentGames=ng,aArgs={'a':a_quantumv,'ratioValue':i},RAA=RAA_quantumv,Metric=TestingAccuracy,X_test=Y_test[:100],metricAll=False))[:,-1] for i in tqdm(ls)])\n",
    "results_dmt = np.array([np.array(WholeGame(nDifferentGames=ng,aArgs={'a':a_quantum,'ratioValue':i},RAA=RAA_quantum_dm,Metric=TestingAccuracy,X_test=Y_test[:100],metricAll=False))[:,-1] for i in tqdm(ls)])\n",
    "results_qt = np.array([np.array(WholeGame(nDifferentGames=ng,aArgs={'a':a_quantum,'ratioValue':i},RAA=RAA_quantum,Metric=TestingAccuracy,X_test=Y_test[:100],metricAll=False))[:,-1] for i in tqdm(ls)])"
   ]
  },
  {
   "cell_type": "code",
   "execution_count": 35,
   "metadata": {
    "ExecuteTime": {
     "end_time": "2021-05-06T10:14:09.249468Z",
     "start_time": "2021-05-05T19:07:54.050376Z"
    }
   },
   "outputs": [
    {
     "data": {
      "application/vnd.jupyter.widget-view+json": {
       "model_id": "c11692ce750e424389d9a4722db8794c",
       "version_major": 2,
       "version_minor": 0
      },
      "text/plain": [
       "HBox(children=(HTML(value=''), FloatProgress(value=0.0, max=8.0), HTML(value='')))"
      ]
     },
     "metadata": {},
     "output_type": "display_data"
    },
    {
     "data": {
      "application/vnd.jupyter.widget-view+json": {
       "model_id": "",
       "version_major": 2,
       "version_minor": 0
      },
      "text/plain": [
       "HBox(children=(HTML(value=''), FloatProgress(value=0.0, max=128.0), HTML(value='')))"
      ]
     },
     "metadata": {},
     "output_type": "display_data"
    },
    {
     "data": {
      "application/vnd.jupyter.widget-view+json": {
       "model_id": "",
       "version_major": 2,
       "version_minor": 0
      },
      "text/plain": [
       "HBox(children=(HTML(value=''), FloatProgress(value=0.0, max=128.0), HTML(value='')))"
      ]
     },
     "metadata": {},
     "output_type": "display_data"
    },
    {
     "data": {
      "application/vnd.jupyter.widget-view+json": {
       "model_id": "",
       "version_major": 2,
       "version_minor": 0
      },
      "text/plain": [
       "HBox(children=(HTML(value=''), FloatProgress(value=0.0, max=128.0), HTML(value='')))"
      ]
     },
     "metadata": {},
     "output_type": "display_data"
    },
    {
     "data": {
      "application/vnd.jupyter.widget-view+json": {
       "model_id": "",
       "version_major": 2,
       "version_minor": 0
      },
      "text/plain": [
       "HBox(children=(HTML(value=''), FloatProgress(value=0.0, max=128.0), HTML(value='')))"
      ]
     },
     "metadata": {},
     "output_type": "display_data"
    },
    {
     "data": {
      "application/vnd.jupyter.widget-view+json": {
       "model_id": "",
       "version_major": 2,
       "version_minor": 0
      },
      "text/plain": [
       "HBox(children=(HTML(value=''), FloatProgress(value=0.0, max=128.0), HTML(value='')))"
      ]
     },
     "metadata": {},
     "output_type": "display_data"
    },
    {
     "data": {
      "application/vnd.jupyter.widget-view+json": {
       "model_id": "",
       "version_major": 2,
       "version_minor": 0
      },
      "text/plain": [
       "HBox(children=(HTML(value=''), FloatProgress(value=0.0, max=128.0), HTML(value='')))"
      ]
     },
     "metadata": {},
     "output_type": "display_data"
    },
    {
     "data": {
      "application/vnd.jupyter.widget-view+json": {
       "model_id": "",
       "version_major": 2,
       "version_minor": 0
      },
      "text/plain": [
       "HBox(children=(HTML(value=''), FloatProgress(value=0.0, max=128.0), HTML(value='')))"
      ]
     },
     "metadata": {},
     "output_type": "display_data"
    },
    {
     "data": {
      "application/vnd.jupyter.widget-view+json": {
       "model_id": "",
       "version_major": 2,
       "version_minor": 0
      },
      "text/plain": [
       "HBox(children=(HTML(value=''), FloatProgress(value=0.0, max=128.0), HTML(value='')))"
      ]
     },
     "metadata": {},
     "output_type": "display_data"
    },
    {
     "name": "stdout",
     "output_type": "stream",
     "text": [
      "\n"
     ]
    },
    {
     "data": {
      "application/vnd.jupyter.widget-view+json": {
       "model_id": "7f157ab7566d4c74869e7eec0e5f48ed",
       "version_major": 2,
       "version_minor": 0
      },
      "text/plain": [
       "HBox(children=(HTML(value=''), FloatProgress(value=0.0, max=8.0), HTML(value='')))"
      ]
     },
     "metadata": {},
     "output_type": "display_data"
    },
    {
     "data": {
      "application/vnd.jupyter.widget-view+json": {
       "model_id": "",
       "version_major": 2,
       "version_minor": 0
      },
      "text/plain": [
       "HBox(children=(HTML(value=''), FloatProgress(value=0.0, max=128.0), HTML(value='')))"
      ]
     },
     "metadata": {},
     "output_type": "display_data"
    },
    {
     "data": {
      "application/vnd.jupyter.widget-view+json": {
       "model_id": "",
       "version_major": 2,
       "version_minor": 0
      },
      "text/plain": [
       "HBox(children=(HTML(value=''), FloatProgress(value=0.0, max=128.0), HTML(value='')))"
      ]
     },
     "metadata": {},
     "output_type": "display_data"
    },
    {
     "data": {
      "application/vnd.jupyter.widget-view+json": {
       "model_id": "",
       "version_major": 2,
       "version_minor": 0
      },
      "text/plain": [
       "HBox(children=(HTML(value=''), FloatProgress(value=0.0, max=128.0), HTML(value='')))"
      ]
     },
     "metadata": {},
     "output_type": "display_data"
    },
    {
     "data": {
      "application/vnd.jupyter.widget-view+json": {
       "model_id": "",
       "version_major": 2,
       "version_minor": 0
      },
      "text/plain": [
       "HBox(children=(HTML(value=''), FloatProgress(value=0.0, max=128.0), HTML(value='')))"
      ]
     },
     "metadata": {},
     "output_type": "display_data"
    },
    {
     "data": {
      "application/vnd.jupyter.widget-view+json": {
       "model_id": "",
       "version_major": 2,
       "version_minor": 0
      },
      "text/plain": [
       "HBox(children=(HTML(value=''), FloatProgress(value=0.0, max=128.0), HTML(value='')))"
      ]
     },
     "metadata": {},
     "output_type": "display_data"
    },
    {
     "data": {
      "application/vnd.jupyter.widget-view+json": {
       "model_id": "",
       "version_major": 2,
       "version_minor": 0
      },
      "text/plain": [
       "HBox(children=(HTML(value=''), FloatProgress(value=0.0, max=128.0), HTML(value='')))"
      ]
     },
     "metadata": {},
     "output_type": "display_data"
    },
    {
     "data": {
      "application/vnd.jupyter.widget-view+json": {
       "model_id": "",
       "version_major": 2,
       "version_minor": 0
      },
      "text/plain": [
       "HBox(children=(HTML(value=''), FloatProgress(value=0.0, max=128.0), HTML(value='')))"
      ]
     },
     "metadata": {},
     "output_type": "display_data"
    },
    {
     "data": {
      "application/vnd.jupyter.widget-view+json": {
       "model_id": "",
       "version_major": 2,
       "version_minor": 0
      },
      "text/plain": [
       "HBox(children=(HTML(value=''), FloatProgress(value=0.0, max=128.0), HTML(value='')))"
      ]
     },
     "metadata": {},
     "output_type": "display_data"
    },
    {
     "name": "stdout",
     "output_type": "stream",
     "text": [
      "\n"
     ]
    },
    {
     "data": {
      "application/vnd.jupyter.widget-view+json": {
       "model_id": "6e5626bea04845c09e11c08bc7499a30",
       "version_major": 2,
       "version_minor": 0
      },
      "text/plain": [
       "HBox(children=(HTML(value=''), FloatProgress(value=0.0, max=8.0), HTML(value='')))"
      ]
     },
     "metadata": {},
     "output_type": "display_data"
    },
    {
     "data": {
      "application/vnd.jupyter.widget-view+json": {
       "model_id": "",
       "version_major": 2,
       "version_minor": 0
      },
      "text/plain": [
       "HBox(children=(HTML(value=''), FloatProgress(value=0.0, max=128.0), HTML(value='')))"
      ]
     },
     "metadata": {},
     "output_type": "display_data"
    },
    {
     "data": {
      "application/vnd.jupyter.widget-view+json": {
       "model_id": "",
       "version_major": 2,
       "version_minor": 0
      },
      "text/plain": [
       "HBox(children=(HTML(value=''), FloatProgress(value=0.0, max=128.0), HTML(value='')))"
      ]
     },
     "metadata": {},
     "output_type": "display_data"
    },
    {
     "data": {
      "application/vnd.jupyter.widget-view+json": {
       "model_id": "",
       "version_major": 2,
       "version_minor": 0
      },
      "text/plain": [
       "HBox(children=(HTML(value=''), FloatProgress(value=0.0, max=128.0), HTML(value='')))"
      ]
     },
     "metadata": {},
     "output_type": "display_data"
    },
    {
     "data": {
      "application/vnd.jupyter.widget-view+json": {
       "model_id": "",
       "version_major": 2,
       "version_minor": 0
      },
      "text/plain": [
       "HBox(children=(HTML(value=''), FloatProgress(value=0.0, max=128.0), HTML(value='')))"
      ]
     },
     "metadata": {},
     "output_type": "display_data"
    },
    {
     "data": {
      "application/vnd.jupyter.widget-view+json": {
       "model_id": "",
       "version_major": 2,
       "version_minor": 0
      },
      "text/plain": [
       "HBox(children=(HTML(value=''), FloatProgress(value=0.0, max=128.0), HTML(value='')))"
      ]
     },
     "metadata": {},
     "output_type": "display_data"
    },
    {
     "data": {
      "application/vnd.jupyter.widget-view+json": {
       "model_id": "",
       "version_major": 2,
       "version_minor": 0
      },
      "text/plain": [
       "HBox(children=(HTML(value=''), FloatProgress(value=0.0, max=128.0), HTML(value='')))"
      ]
     },
     "metadata": {},
     "output_type": "display_data"
    },
    {
     "data": {
      "application/vnd.jupyter.widget-view+json": {
       "model_id": "",
       "version_major": 2,
       "version_minor": 0
      },
      "text/plain": [
       "HBox(children=(HTML(value=''), FloatProgress(value=0.0, max=128.0), HTML(value='')))"
      ]
     },
     "metadata": {},
     "output_type": "display_data"
    },
    {
     "data": {
      "application/vnd.jupyter.widget-view+json": {
       "model_id": "",
       "version_major": 2,
       "version_minor": 0
      },
      "text/plain": [
       "HBox(children=(HTML(value=''), FloatProgress(value=0.0, max=128.0), HTML(value='')))"
      ]
     },
     "metadata": {},
     "output_type": "display_data"
    },
    {
     "name": "stdout",
     "output_type": "stream",
     "text": [
      "\n"
     ]
    },
    {
     "data": {
      "application/vnd.jupyter.widget-view+json": {
       "model_id": "a4d4c4910bf843f09aeacfa5d6871578",
       "version_major": 2,
       "version_minor": 0
      },
      "text/plain": [
       "HBox(children=(HTML(value=''), FloatProgress(value=0.0, max=8.0), HTML(value='')))"
      ]
     },
     "metadata": {},
     "output_type": "display_data"
    },
    {
     "data": {
      "application/vnd.jupyter.widget-view+json": {
       "model_id": "",
       "version_major": 2,
       "version_minor": 0
      },
      "text/plain": [
       "HBox(children=(HTML(value=''), FloatProgress(value=0.0, max=128.0), HTML(value='')))"
      ]
     },
     "metadata": {},
     "output_type": "display_data"
    },
    {
     "data": {
      "application/vnd.jupyter.widget-view+json": {
       "model_id": "",
       "version_major": 2,
       "version_minor": 0
      },
      "text/plain": [
       "HBox(children=(HTML(value=''), FloatProgress(value=0.0, max=128.0), HTML(value='')))"
      ]
     },
     "metadata": {},
     "output_type": "display_data"
    },
    {
     "data": {
      "application/vnd.jupyter.widget-view+json": {
       "model_id": "",
       "version_major": 2,
       "version_minor": 0
      },
      "text/plain": [
       "HBox(children=(HTML(value=''), FloatProgress(value=0.0, max=128.0), HTML(value='')))"
      ]
     },
     "metadata": {},
     "output_type": "display_data"
    },
    {
     "data": {
      "application/vnd.jupyter.widget-view+json": {
       "model_id": "",
       "version_major": 2,
       "version_minor": 0
      },
      "text/plain": [
       "HBox(children=(HTML(value=''), FloatProgress(value=0.0, max=128.0), HTML(value='')))"
      ]
     },
     "metadata": {},
     "output_type": "display_data"
    },
    {
     "data": {
      "application/vnd.jupyter.widget-view+json": {
       "model_id": "",
       "version_major": 2,
       "version_minor": 0
      },
      "text/plain": [
       "HBox(children=(HTML(value=''), FloatProgress(value=0.0, max=128.0), HTML(value='')))"
      ]
     },
     "metadata": {},
     "output_type": "display_data"
    },
    {
     "data": {
      "application/vnd.jupyter.widget-view+json": {
       "model_id": "",
       "version_major": 2,
       "version_minor": 0
      },
      "text/plain": [
       "HBox(children=(HTML(value=''), FloatProgress(value=0.0, max=128.0), HTML(value='')))"
      ]
     },
     "metadata": {},
     "output_type": "display_data"
    },
    {
     "data": {
      "application/vnd.jupyter.widget-view+json": {
       "model_id": "",
       "version_major": 2,
       "version_minor": 0
      },
      "text/plain": [
       "HBox(children=(HTML(value=''), FloatProgress(value=0.0, max=128.0), HTML(value='')))"
      ]
     },
     "metadata": {},
     "output_type": "display_data"
    },
    {
     "data": {
      "application/vnd.jupyter.widget-view+json": {
       "model_id": "",
       "version_major": 2,
       "version_minor": 0
      },
      "text/plain": [
       "HBox(children=(HTML(value=''), FloatProgress(value=0.0, max=128.0), HTML(value='')))"
      ]
     },
     "metadata": {},
     "output_type": "display_data"
    },
    {
     "name": "stdout",
     "output_type": "stream",
     "text": [
      "\n"
     ]
    },
    {
     "data": {
      "application/vnd.jupyter.widget-view+json": {
       "model_id": "9339e1e215b44725894b419b2397ebc8",
       "version_major": 2,
       "version_minor": 0
      },
      "text/plain": [
       "HBox(children=(HTML(value=''), FloatProgress(value=0.0, max=8.0), HTML(value='')))"
      ]
     },
     "metadata": {},
     "output_type": "display_data"
    },
    {
     "data": {
      "application/vnd.jupyter.widget-view+json": {
       "model_id": "",
       "version_major": 2,
       "version_minor": 0
      },
      "text/plain": [
       "HBox(children=(HTML(value=''), FloatProgress(value=0.0, max=128.0), HTML(value='')))"
      ]
     },
     "metadata": {},
     "output_type": "display_data"
    },
    {
     "data": {
      "application/vnd.jupyter.widget-view+json": {
       "model_id": "",
       "version_major": 2,
       "version_minor": 0
      },
      "text/plain": [
       "HBox(children=(HTML(value=''), FloatProgress(value=0.0, max=128.0), HTML(value='')))"
      ]
     },
     "metadata": {},
     "output_type": "display_data"
    },
    {
     "data": {
      "application/vnd.jupyter.widget-view+json": {
       "model_id": "",
       "version_major": 2,
       "version_minor": 0
      },
      "text/plain": [
       "HBox(children=(HTML(value=''), FloatProgress(value=0.0, max=128.0), HTML(value='')))"
      ]
     },
     "metadata": {},
     "output_type": "display_data"
    },
    {
     "data": {
      "application/vnd.jupyter.widget-view+json": {
       "model_id": "",
       "version_major": 2,
       "version_minor": 0
      },
      "text/plain": [
       "HBox(children=(HTML(value=''), FloatProgress(value=0.0, max=128.0), HTML(value='')))"
      ]
     },
     "metadata": {},
     "output_type": "display_data"
    },
    {
     "data": {
      "application/vnd.jupyter.widget-view+json": {
       "model_id": "",
       "version_major": 2,
       "version_minor": 0
      },
      "text/plain": [
       "HBox(children=(HTML(value=''), FloatProgress(value=0.0, max=128.0), HTML(value='')))"
      ]
     },
     "metadata": {},
     "output_type": "display_data"
    },
    {
     "data": {
      "application/vnd.jupyter.widget-view+json": {
       "model_id": "",
       "version_major": 2,
       "version_minor": 0
      },
      "text/plain": [
       "HBox(children=(HTML(value=''), FloatProgress(value=0.0, max=128.0), HTML(value='')))"
      ]
     },
     "metadata": {},
     "output_type": "display_data"
    },
    {
     "data": {
      "application/vnd.jupyter.widget-view+json": {
       "model_id": "",
       "version_major": 2,
       "version_minor": 0
      },
      "text/plain": [
       "HBox(children=(HTML(value=''), FloatProgress(value=0.0, max=128.0), HTML(value='')))"
      ]
     },
     "metadata": {},
     "output_type": "display_data"
    },
    {
     "data": {
      "application/vnd.jupyter.widget-view+json": {
       "model_id": "",
       "version_major": 2,
       "version_minor": 0
      },
      "text/plain": [
       "HBox(children=(HTML(value=''), FloatProgress(value=0.0, max=128.0), HTML(value='')))"
      ]
     },
     "metadata": {},
     "output_type": "display_data"
    },
    {
     "name": "stdout",
     "output_type": "stream",
     "text": [
      "\n"
     ]
    },
    {
     "data": {
      "image/png": "[encoded data removed]",
      "text/plain": [
       "<Figure size 432x288 with 1 Axes>"
      ]
     },
     "metadata": {
      "needs_background": "light"
     },
     "output_type": "display_data"
    }
   ],
   "source": [
    "# Nonsense\n",
    "# Quantum Comp\n",
    "PltWholeGame_prog('Classical Exemplar',millenialPink,aArgs={'a':a_exemplar,'ratioValue':0},Metric=RandomAccuracyMetric)\n",
    "PltWholeGame_prog('Classical Prototype',mediumAquamarine,aArgs={'a':a_prototype,'a_sd':a_sd_prototype,'r':[0,0.75],'ratioValue':0},RAA=RAA_bp,Metric=RandomAccuracyMetric)\n",
    "PltWholeGame_prog('Quantum Vector',grey,aArgs={'a':a_quantumv,'ratioValue':0},RAA=RAA_quantumv,Metric=RandomAccuracyMetric)\n",
    "PltWholeGame_prog('Density Matrix',uranianBlue,aArgs={'a':a_quantum,'ratioValue':0},RAA=RAA_quantum_dm,Metric=RandomAccuracyMetric)\n",
    "PltWholeGame_prog('Projection Operator',orange,aArgs={'a':a_quantum,'ratioValue':0},RAA=RAA_quantum,Metric=RandomAccuracyMetric)\n",
    "plt.xlabel('Iterations')\n",
    "plt.ylabel('Convergence Metric')\n",
    "plt.title('Randomised convergence of Different Agents')\n",
    "plt.legend()\n",
    "plt.savefig('./Images/nonsense.pdf')\n",
    "plt.show()"
   ]
  },
  {
   "cell_type": "code",
   "execution_count": 44,
   "metadata": {
    "ExecuteTime": {
     "end_time": "2021-05-07T03:24:13.198664Z",
     "start_time": "2021-05-06T10:55:21.668091Z"
    }
   },
   "outputs": [
    {
     "data": {
      "application/vnd.jupyter.widget-view+json": {
       "model_id": "06d35d73f3ae4301ade0ec212502f143",
       "version_major": 2,
       "version_minor": 0
      },
      "text/plain": [
       "HBox(children=(HTML(value=''), FloatProgress(value=0.0, max=8.0), HTML(value='')))"
      ]
     },
     "metadata": {},
     "output_type": "display_data"
    },
    {
     "data": {
      "application/vnd.jupyter.widget-view+json": {
       "model_id": "",
       "version_major": 2,
       "version_minor": 0
      },
      "text/plain": [
       "HBox(children=(HTML(value=''), FloatProgress(value=0.0, max=128.0), HTML(value='')))"
      ]
     },
     "metadata": {},
     "output_type": "display_data"
    },
    {
     "data": {
      "application/vnd.jupyter.widget-view+json": {
       "model_id": "",
       "version_major": 2,
       "version_minor": 0
      },
      "text/plain": [
       "HBox(children=(HTML(value=''), FloatProgress(value=0.0, max=128.0), HTML(value='')))"
      ]
     },
     "metadata": {},
     "output_type": "display_data"
    },
    {
     "data": {
      "application/vnd.jupyter.widget-view+json": {
       "model_id": "",
       "version_major": 2,
       "version_minor": 0
      },
      "text/plain": [
       "HBox(children=(HTML(value=''), FloatProgress(value=0.0, max=128.0), HTML(value='')))"
      ]
     },
     "metadata": {},
     "output_type": "display_data"
    },
    {
     "data": {
      "application/vnd.jupyter.widget-view+json": {
       "model_id": "",
       "version_major": 2,
       "version_minor": 0
      },
      "text/plain": [
       "HBox(children=(HTML(value=''), FloatProgress(value=0.0, max=128.0), HTML(value='')))"
      ]
     },
     "metadata": {},
     "output_type": "display_data"
    },
    {
     "data": {
      "application/vnd.jupyter.widget-view+json": {
       "model_id": "",
       "version_major": 2,
       "version_minor": 0
      },
      "text/plain": [
       "HBox(children=(HTML(value=''), FloatProgress(value=0.0, max=128.0), HTML(value='')))"
      ]
     },
     "metadata": {},
     "output_type": "display_data"
    },
    {
     "data": {
      "application/vnd.jupyter.widget-view+json": {
       "model_id": "",
       "version_major": 2,
       "version_minor": 0
      },
      "text/plain": [
       "HBox(children=(HTML(value=''), FloatProgress(value=0.0, max=128.0), HTML(value='')))"
      ]
     },
     "metadata": {},
     "output_type": "display_data"
    },
    {
     "data": {
      "application/vnd.jupyter.widget-view+json": {
       "model_id": "",
       "version_major": 2,
       "version_minor": 0
      },
      "text/plain": [
       "HBox(children=(HTML(value=''), FloatProgress(value=0.0, max=128.0), HTML(value='')))"
      ]
     },
     "metadata": {},
     "output_type": "display_data"
    },
    {
     "data": {
      "application/vnd.jupyter.widget-view+json": {
       "model_id": "",
       "version_major": 2,
       "version_minor": 0
      },
      "text/plain": [
       "HBox(children=(HTML(value=''), FloatProgress(value=0.0, max=128.0), HTML(value='')))"
      ]
     },
     "metadata": {},
     "output_type": "display_data"
    },
    {
     "name": "stdout",
     "output_type": "stream",
     "text": [
      "\n"
     ]
    },
    {
     "data": {
      "application/vnd.jupyter.widget-view+json": {
       "model_id": "e6229fe9130943b88106d337fedfef63",
       "version_major": 2,
       "version_minor": 0
      },
      "text/plain": [
       "HBox(children=(HTML(value=''), FloatProgress(value=0.0, max=8.0), HTML(value='')))"
      ]
     },
     "metadata": {},
     "output_type": "display_data"
    },
    {
     "data": {
      "application/vnd.jupyter.widget-view+json": {
       "model_id": "",
       "version_major": 2,
       "version_minor": 0
      },
      "text/plain": [
       "HBox(children=(HTML(value=''), FloatProgress(value=0.0, max=128.0), HTML(value='')))"
      ]
     },
     "metadata": {},
     "output_type": "display_data"
    },
    {
     "data": {
      "application/vnd.jupyter.widget-view+json": {
       "model_id": "",
       "version_major": 2,
       "version_minor": 0
      },
      "text/plain": [
       "HBox(children=(HTML(value=''), FloatProgress(value=0.0, max=128.0), HTML(value='')))"
      ]
     },
     "metadata": {},
     "output_type": "display_data"
    },
    {
     "data": {
      "application/vnd.jupyter.widget-view+json": {
       "model_id": "",
       "version_major": 2,
       "version_minor": 0
      },
      "text/plain": [
       "HBox(children=(HTML(value=''), FloatProgress(value=0.0, max=128.0), HTML(value='')))"
      ]
     },
     "metadata": {},
     "output_type": "display_data"
    },
    {
     "data": {
      "application/vnd.jupyter.widget-view+json": {
       "model_id": "",
       "version_major": 2,
       "version_minor": 0
      },
      "text/plain": [
       "HBox(children=(HTML(value=''), FloatProgress(value=0.0, max=128.0), HTML(value='')))"
      ]
     },
     "metadata": {},
     "output_type": "display_data"
    },
    {
     "data": {
      "application/vnd.jupyter.widget-view+json": {
       "model_id": "",
       "version_major": 2,
       "version_minor": 0
      },
      "text/plain": [
       "HBox(children=(HTML(value=''), FloatProgress(value=0.0, max=128.0), HTML(value='')))"
      ]
     },
     "metadata": {},
     "output_type": "display_data"
    },
    {
     "data": {
      "application/vnd.jupyter.widget-view+json": {
       "model_id": "",
       "version_major": 2,
       "version_minor": 0
      },
      "text/plain": [
       "HBox(children=(HTML(value=''), FloatProgress(value=0.0, max=128.0), HTML(value='')))"
      ]
     },
     "metadata": {},
     "output_type": "display_data"
    },
    {
     "data": {
      "application/vnd.jupyter.widget-view+json": {
       "model_id": "",
       "version_major": 2,
       "version_minor": 0
      },
      "text/plain": [
       "HBox(children=(HTML(value=''), FloatProgress(value=0.0, max=128.0), HTML(value='')))"
      ]
     },
     "metadata": {},
     "output_type": "display_data"
    },
    {
     "data": {
      "application/vnd.jupyter.widget-view+json": {
       "model_id": "",
       "version_major": 2,
       "version_minor": 0
      },
      "text/plain": [
       "HBox(children=(HTML(value=''), FloatProgress(value=0.0, max=128.0), HTML(value='')))"
      ]
     },
     "metadata": {},
     "output_type": "display_data"
    },
    {
     "name": "stdout",
     "output_type": "stream",
     "text": [
      "\n"
     ]
    },
    {
     "data": {
      "application/vnd.jupyter.widget-view+json": {
       "model_id": "587b0f7703434f1fb78f008a3bc711aa",
       "version_major": 2,
       "version_minor": 0
      },
      "text/plain": [
       "HBox(children=(HTML(value=''), FloatProgress(value=0.0, max=8.0), HTML(value='')))"
      ]
     },
     "metadata": {},
     "output_type": "display_data"
    },
    {
     "data": {
      "application/vnd.jupyter.widget-view+json": {
       "model_id": "",
       "version_major": 2,
       "version_minor": 0
      },
      "text/plain": [
       "HBox(children=(HTML(value=''), FloatProgress(value=0.0, max=128.0), HTML(value='')))"
      ]
     },
     "metadata": {},
     "output_type": "display_data"
    },
    {
     "data": {
      "application/vnd.jupyter.widget-view+json": {
       "model_id": "",
       "version_major": 2,
       "version_minor": 0
      },
      "text/plain": [
       "HBox(children=(HTML(value=''), FloatProgress(value=0.0, max=128.0), HTML(value='')))"
      ]
     },
     "metadata": {},
     "output_type": "display_data"
    },
    {
     "data": {
      "application/vnd.jupyter.widget-view+json": {
       "model_id": "",
       "version_major": 2,
       "version_minor": 0
      },
      "text/plain": [
       "HBox(children=(HTML(value=''), FloatProgress(value=0.0, max=128.0), HTML(value='')))"
      ]
     },
     "metadata": {},
     "output_type": "display_data"
    },
    {
     "data": {
      "application/vnd.jupyter.widget-view+json": {
       "model_id": "",
       "version_major": 2,
       "version_minor": 0
      },
      "text/plain": [
       "HBox(children=(HTML(value=''), FloatProgress(value=0.0, max=128.0), HTML(value='')))"
      ]
     },
     "metadata": {},
     "output_type": "display_data"
    },
    {
     "data": {
      "application/vnd.jupyter.widget-view+json": {
       "model_id": "",
       "version_major": 2,
       "version_minor": 0
      },
      "text/plain": [
       "HBox(children=(HTML(value=''), FloatProgress(value=0.0, max=128.0), HTML(value='')))"
      ]
     },
     "metadata": {},
     "output_type": "display_data"
    },
    {
     "data": {
      "application/vnd.jupyter.widget-view+json": {
       "model_id": "",
       "version_major": 2,
       "version_minor": 0
      },
      "text/plain": [
       "HBox(children=(HTML(value=''), FloatProgress(value=0.0, max=128.0), HTML(value='')))"
      ]
     },
     "metadata": {},
     "output_type": "display_data"
    },
    {
     "data": {
      "application/vnd.jupyter.widget-view+json": {
       "model_id": "",
       "version_major": 2,
       "version_minor": 0
      },
      "text/plain": [
       "HBox(children=(HTML(value=''), FloatProgress(value=0.0, max=128.0), HTML(value='')))"
      ]
     },
     "metadata": {},
     "output_type": "display_data"
    },
    {
     "data": {
      "application/vnd.jupyter.widget-view+json": {
       "model_id": "",
       "version_major": 2,
       "version_minor": 0
      },
      "text/plain": [
       "HBox(children=(HTML(value=''), FloatProgress(value=0.0, max=128.0), HTML(value='')))"
      ]
     },
     "metadata": {},
     "output_type": "display_data"
    },
    {
     "name": "stdout",
     "output_type": "stream",
     "text": [
      "\n"
     ]
    },
    {
     "data": {
      "application/vnd.jupyter.widget-view+json": {
       "model_id": "f9a07f0fd4ba40109218a6a4fae92b1f",
       "version_major": 2,
       "version_minor": 0
      },
      "text/plain": [
       "HBox(children=(HTML(value=''), FloatProgress(value=0.0, max=8.0), HTML(value='')))"
      ]
     },
     "metadata": {},
     "output_type": "display_data"
    },
    {
     "data": {
      "application/vnd.jupyter.widget-view+json": {
       "model_id": "",
       "version_major": 2,
       "version_minor": 0
      },
      "text/plain": [
       "HBox(children=(HTML(value=''), FloatProgress(value=0.0, max=128.0), HTML(value='')))"
      ]
     },
     "metadata": {},
     "output_type": "display_data"
    },
    {
     "data": {
      "application/vnd.jupyter.widget-view+json": {
       "model_id": "",
       "version_major": 2,
       "version_minor": 0
      },
      "text/plain": [
       "HBox(children=(HTML(value=''), FloatProgress(value=0.0, max=128.0), HTML(value='')))"
      ]
     },
     "metadata": {},
     "output_type": "display_data"
    },
    {
     "data": {
      "application/vnd.jupyter.widget-view+json": {
       "model_id": "",
       "version_major": 2,
       "version_minor": 0
      },
      "text/plain": [
       "HBox(children=(HTML(value=''), FloatProgress(value=0.0, max=128.0), HTML(value='')))"
      ]
     },
     "metadata": {},
     "output_type": "display_data"
    },
    {
     "data": {
      "application/vnd.jupyter.widget-view+json": {
       "model_id": "",
       "version_major": 2,
       "version_minor": 0
      },
      "text/plain": [
       "HBox(children=(HTML(value=''), FloatProgress(value=0.0, max=128.0), HTML(value='')))"
      ]
     },
     "metadata": {},
     "output_type": "display_data"
    },
    {
     "data": {
      "application/vnd.jupyter.widget-view+json": {
       "model_id": "",
       "version_major": 2,
       "version_minor": 0
      },
      "text/plain": [
       "HBox(children=(HTML(value=''), FloatProgress(value=0.0, max=128.0), HTML(value='')))"
      ]
     },
     "metadata": {},
     "output_type": "display_data"
    },
    {
     "data": {
      "application/vnd.jupyter.widget-view+json": {
       "model_id": "",
       "version_major": 2,
       "version_minor": 0
      },
      "text/plain": [
       "HBox(children=(HTML(value=''), FloatProgress(value=0.0, max=128.0), HTML(value='')))"
      ]
     },
     "metadata": {},
     "output_type": "display_data"
    },
    {
     "data": {
      "application/vnd.jupyter.widget-view+json": {
       "model_id": "",
       "version_major": 2,
       "version_minor": 0
      },
      "text/plain": [
       "HBox(children=(HTML(value=''), FloatProgress(value=0.0, max=128.0), HTML(value='')))"
      ]
     },
     "metadata": {},
     "output_type": "display_data"
    },
    {
     "data": {
      "application/vnd.jupyter.widget-view+json": {
       "model_id": "",
       "version_major": 2,
       "version_minor": 0
      },
      "text/plain": [
       "HBox(children=(HTML(value=''), FloatProgress(value=0.0, max=128.0), HTML(value='')))"
      ]
     },
     "metadata": {},
     "output_type": "display_data"
    },
    {
     "name": "stdout",
     "output_type": "stream",
     "text": [
      "\n"
     ]
    },
    {
     "data": {
      "application/vnd.jupyter.widget-view+json": {
       "model_id": "7cf9f4f3d98c48f6a9e7df6e1a0f652f",
       "version_major": 2,
       "version_minor": 0
      },
      "text/plain": [
       "HBox(children=(HTML(value=''), FloatProgress(value=0.0, max=8.0), HTML(value='')))"
      ]
     },
     "metadata": {},
     "output_type": "display_data"
    },
    {
     "data": {
      "application/vnd.jupyter.widget-view+json": {
       "model_id": "",
       "version_major": 2,
       "version_minor": 0
      },
      "text/plain": [
       "HBox(children=(HTML(value=''), FloatProgress(value=0.0, max=128.0), HTML(value='')))"
      ]
     },
     "metadata": {},
     "output_type": "display_data"
    },
    {
     "data": {
      "application/vnd.jupyter.widget-view+json": {
       "model_id": "",
       "version_major": 2,
       "version_minor": 0
      },
      "text/plain": [
       "HBox(children=(HTML(value=''), FloatProgress(value=0.0, max=128.0), HTML(value='')))"
      ]
     },
     "metadata": {},
     "output_type": "display_data"
    },
    {
     "data": {
      "application/vnd.jupyter.widget-view+json": {
       "model_id": "",
       "version_major": 2,
       "version_minor": 0
      },
      "text/plain": [
       "HBox(children=(HTML(value=''), FloatProgress(value=0.0, max=128.0), HTML(value='')))"
      ]
     },
     "metadata": {},
     "output_type": "display_data"
    },
    {
     "data": {
      "application/vnd.jupyter.widget-view+json": {
       "model_id": "",
       "version_major": 2,
       "version_minor": 0
      },
      "text/plain": [
       "HBox(children=(HTML(value=''), FloatProgress(value=0.0, max=128.0), HTML(value='')))"
      ]
     },
     "metadata": {},
     "output_type": "display_data"
    },
    {
     "data": {
      "application/vnd.jupyter.widget-view+json": {
       "model_id": "",
       "version_major": 2,
       "version_minor": 0
      },
      "text/plain": [
       "HBox(children=(HTML(value=''), FloatProgress(value=0.0, max=128.0), HTML(value='')))"
      ]
     },
     "metadata": {},
     "output_type": "display_data"
    },
    {
     "data": {
      "application/vnd.jupyter.widget-view+json": {
       "model_id": "",
       "version_major": 2,
       "version_minor": 0
      },
      "text/plain": [
       "HBox(children=(HTML(value=''), FloatProgress(value=0.0, max=128.0), HTML(value='')))"
      ]
     },
     "metadata": {},
     "output_type": "display_data"
    },
    {
     "data": {
      "application/vnd.jupyter.widget-view+json": {
       "model_id": "",
       "version_major": 2,
       "version_minor": 0
      },
      "text/plain": [
       "HBox(children=(HTML(value=''), FloatProgress(value=0.0, max=128.0), HTML(value='')))"
      ]
     },
     "metadata": {},
     "output_type": "display_data"
    },
    {
     "data": {
      "application/vnd.jupyter.widget-view+json": {
       "model_id": "",
       "version_major": 2,
       "version_minor": 0
      },
      "text/plain": [
       "HBox(children=(HTML(value=''), FloatProgress(value=0.0, max=128.0), HTML(value='')))"
      ]
     },
     "metadata": {},
     "output_type": "display_data"
    },
    {
     "name": "stdout",
     "output_type": "stream",
     "text": [
      "\n"
     ]
    },
    {
     "data": {
      "image/png": "[encoded data removed]",
      "text/plain": [
       "<Figure size 432x288 with 1 Axes>"
      ]
     },
     "metadata": {
      "needs_background": "light"
     },
     "output_type": "display_data"
    }
   ],
   "source": [
    "# Nonsense\n",
    "# Quantum Comp\n",
    "PltWholeGame_prog('Classical Exemplar',millenialPink,aArgs={'a':a_exemplar,'ratioValue':1},Metric=RandomAccuracyMetric)\n",
    "PltWholeGame_prog('Classical Prototype',mediumAquamarine,aArgs={'a':a_prototype,'a_sd':a_sd_prototype,'r':[0,0.75],'ratioValue':1},RAA=RAA_bp,Metric=RandomAccuracyMetric)\n",
    "PltWholeGame_prog('Quantum Vector',grey,aArgs={'a':a_quantumv,'ratioValue':1},RAA=RAA_quantumv,Metric=RandomAccuracyMetric)\n",
    "PltWholeGame_prog('Density Matrix',uranianBlue,aArgs={'a':a_quantum,'ratioValue':1},RAA=RAA_quantum_dm,Metric=RandomAccuracyMetric)\n",
    "PltWholeGame_prog('Projection Operator',orange,aArgs={'a':a_quantum,'ratioValue':1},RAA=RAA_quantum,Metric=RandomAccuracyMetric)\n",
    "plt.xlabel('Iterations')\n",
    "plt.ylabel('Convergence Metric')\n",
    "plt.title('Randomised convergence of Different Agents')\n",
    "plt.legend()\n",
    "plt.savefig('./Images/nonsense_init.pdf')\n",
    "plt.show()"
   ]
  },
  {
   "cell_type": "code",
   "execution_count": 45,
   "metadata": {
    "ExecuteTime": {
     "end_time": "2021-05-07T22:08:51.462328Z",
     "start_time": "2021-05-07T03:24:13.206328Z"
    }
   },
   "outputs": [
    {
     "data": {
      "application/vnd.jupyter.widget-view+json": {
       "model_id": "48ce71c6c3244716b072a720f81298f7",
       "version_major": 2,
       "version_minor": 0
      },
      "text/plain": [
       "HBox(children=(HTML(value=''), FloatProgress(value=0.0, max=8.0), HTML(value='')))"
      ]
     },
     "metadata": {},
     "output_type": "display_data"
    },
    {
     "data": {
      "application/vnd.jupyter.widget-view+json": {
       "model_id": "",
       "version_major": 2,
       "version_minor": 0
      },
      "text/plain": [
       "HBox(children=(HTML(value=''), FloatProgress(value=0.0, max=128.0), HTML(value='')))"
      ]
     },
     "metadata": {},
     "output_type": "display_data"
    },
    {
     "data": {
      "application/vnd.jupyter.widget-view+json": {
       "model_id": "",
       "version_major": 2,
       "version_minor": 0
      },
      "text/plain": [
       "HBox(children=(HTML(value=''), FloatProgress(value=0.0, max=128.0), HTML(value='')))"
      ]
     },
     "metadata": {},
     "output_type": "display_data"
    },
    {
     "data": {
      "application/vnd.jupyter.widget-view+json": {
       "model_id": "",
       "version_major": 2,
       "version_minor": 0
      },
      "text/plain": [
       "HBox(children=(HTML(value=''), FloatProgress(value=0.0, max=128.0), HTML(value='')))"
      ]
     },
     "metadata": {},
     "output_type": "display_data"
    },
    {
     "data": {
      "application/vnd.jupyter.widget-view+json": {
       "model_id": "",
       "version_major": 2,
       "version_minor": 0
      },
      "text/plain": [
       "HBox(children=(HTML(value=''), FloatProgress(value=0.0, max=128.0), HTML(value='')))"
      ]
     },
     "metadata": {},
     "output_type": "display_data"
    },
    {
     "data": {
      "application/vnd.jupyter.widget-view+json": {
       "model_id": "",
       "version_major": 2,
       "version_minor": 0
      },
      "text/plain": [
       "HBox(children=(HTML(value=''), FloatProgress(value=0.0, max=128.0), HTML(value='')))"
      ]
     },
     "metadata": {},
     "output_type": "display_data"
    },
    {
     "data": {
      "application/vnd.jupyter.widget-view+json": {
       "model_id": "",
       "version_major": 2,
       "version_minor": 0
      },
      "text/plain": [
       "HBox(children=(HTML(value=''), FloatProgress(value=0.0, max=128.0), HTML(value='')))"
      ]
     },
     "metadata": {},
     "output_type": "display_data"
    },
    {
     "data": {
      "application/vnd.jupyter.widget-view+json": {
       "model_id": "",
       "version_major": 2,
       "version_minor": 0
      },
      "text/plain": [
       "HBox(children=(HTML(value=''), FloatProgress(value=0.0, max=128.0), HTML(value='')))"
      ]
     },
     "metadata": {},
     "output_type": "display_data"
    },
    {
     "data": {
      "application/vnd.jupyter.widget-view+json": {
       "model_id": "",
       "version_major": 2,
       "version_minor": 0
      },
      "text/plain": [
       "HBox(children=(HTML(value=''), FloatProgress(value=0.0, max=128.0), HTML(value='')))"
      ]
     },
     "metadata": {},
     "output_type": "display_data"
    },
    {
     "name": "stdout",
     "output_type": "stream",
     "text": [
      "\n"
     ]
    },
    {
     "data": {
      "application/vnd.jupyter.widget-view+json": {
       "model_id": "a02966375c1a487cac9ad702d52ed03a",
       "version_major": 2,
       "version_minor": 0
      },
      "text/plain": [
       "HBox(children=(HTML(value=''), FloatProgress(value=0.0, max=8.0), HTML(value='')))"
      ]
     },
     "metadata": {},
     "output_type": "display_data"
    },
    {
     "data": {
      "application/vnd.jupyter.widget-view+json": {
       "model_id": "",
       "version_major": 2,
       "version_minor": 0
      },
      "text/plain": [
       "HBox(children=(HTML(value=''), FloatProgress(value=0.0, max=128.0), HTML(value='')))"
      ]
     },
     "metadata": {},
     "output_type": "display_data"
    },
    {
     "data": {
      "application/vnd.jupyter.widget-view+json": {
       "model_id": "",
       "version_major": 2,
       "version_minor": 0
      },
      "text/plain": [
       "HBox(children=(HTML(value=''), FloatProgress(value=0.0, max=128.0), HTML(value='')))"
      ]
     },
     "metadata": {},
     "output_type": "display_data"
    },
    {
     "data": {
      "application/vnd.jupyter.widget-view+json": {
       "model_id": "",
       "version_major": 2,
       "version_minor": 0
      },
      "text/plain": [
       "HBox(children=(HTML(value=''), FloatProgress(value=0.0, max=128.0), HTML(value='')))"
      ]
     },
     "metadata": {},
     "output_type": "display_data"
    },
    {
     "data": {
      "application/vnd.jupyter.widget-view+json": {
       "model_id": "",
       "version_major": 2,
       "version_minor": 0
      },
      "text/plain": [
       "HBox(children=(HTML(value=''), FloatProgress(value=0.0, max=128.0), HTML(value='')))"
      ]
     },
     "metadata": {},
     "output_type": "display_data"
    },
    {
     "data": {
      "application/vnd.jupyter.widget-view+json": {
       "model_id": "",
       "version_major": 2,
       "version_minor": 0
      },
      "text/plain": [
       "HBox(children=(HTML(value=''), FloatProgress(value=0.0, max=128.0), HTML(value='')))"
      ]
     },
     "metadata": {},
     "output_type": "display_data"
    },
    {
     "data": {
      "application/vnd.jupyter.widget-view+json": {
       "model_id": "",
       "version_major": 2,
       "version_minor": 0
      },
      "text/plain": [
       "HBox(children=(HTML(value=''), FloatProgress(value=0.0, max=128.0), HTML(value='')))"
      ]
     },
     "metadata": {},
     "output_type": "display_data"
    },
    {
     "data": {
      "application/vnd.jupyter.widget-view+json": {
       "model_id": "",
       "version_major": 2,
       "version_minor": 0
      },
      "text/plain": [
       "HBox(children=(HTML(value=''), FloatProgress(value=0.0, max=128.0), HTML(value='')))"
      ]
     },
     "metadata": {},
     "output_type": "display_data"
    },
    {
     "data": {
      "application/vnd.jupyter.widget-view+json": {
       "model_id": "",
       "version_major": 2,
       "version_minor": 0
      },
      "text/plain": [
       "HBox(children=(HTML(value=''), FloatProgress(value=0.0, max=128.0), HTML(value='')))"
      ]
     },
     "metadata": {},
     "output_type": "display_data"
    },
    {
     "name": "stdout",
     "output_type": "stream",
     "text": [
      "\n"
     ]
    },
    {
     "data": {
      "application/vnd.jupyter.widget-view+json": {
       "model_id": "961c347289764da1a9d30428e30c5cf5",
       "version_major": 2,
       "version_minor": 0
      },
      "text/plain": [
       "HBox(children=(HTML(value=''), FloatProgress(value=0.0, max=8.0), HTML(value='')))"
      ]
     },
     "metadata": {},
     "output_type": "display_data"
    },
    {
     "data": {
      "application/vnd.jupyter.widget-view+json": {
       "model_id": "",
       "version_major": 2,
       "version_minor": 0
      },
      "text/plain": [
       "HBox(children=(HTML(value=''), FloatProgress(value=0.0, max=128.0), HTML(value='')))"
      ]
     },
     "metadata": {},
     "output_type": "display_data"
    },
    {
     "data": {
      "application/vnd.jupyter.widget-view+json": {
       "model_id": "",
       "version_major": 2,
       "version_minor": 0
      },
      "text/plain": [
       "HBox(children=(HTML(value=''), FloatProgress(value=0.0, max=128.0), HTML(value='')))"
      ]
     },
     "metadata": {},
     "output_type": "display_data"
    },
    {
     "data": {
      "application/vnd.jupyter.widget-view+json": {
       "model_id": "",
       "version_major": 2,
       "version_minor": 0
      },
      "text/plain": [
       "HBox(children=(HTML(value=''), FloatProgress(value=0.0, max=128.0), HTML(value='')))"
      ]
     },
     "metadata": {},
     "output_type": "display_data"
    },
    {
     "data": {
      "application/vnd.jupyter.widget-view+json": {
       "model_id": "",
       "version_major": 2,
       "version_minor": 0
      },
      "text/plain": [
       "HBox(children=(HTML(value=''), FloatProgress(value=0.0, max=128.0), HTML(value='')))"
      ]
     },
     "metadata": {},
     "output_type": "display_data"
    },
    {
     "data": {
      "application/vnd.jupyter.widget-view+json": {
       "model_id": "",
       "version_major": 2,
       "version_minor": 0
      },
      "text/plain": [
       "HBox(children=(HTML(value=''), FloatProgress(value=0.0, max=128.0), HTML(value='')))"
      ]
     },
     "metadata": {},
     "output_type": "display_data"
    },
    {
     "data": {
      "application/vnd.jupyter.widget-view+json": {
       "model_id": "",
       "version_major": 2,
       "version_minor": 0
      },
      "text/plain": [
       "HBox(children=(HTML(value=''), FloatProgress(value=0.0, max=128.0), HTML(value='')))"
      ]
     },
     "metadata": {},
     "output_type": "display_data"
    },
    {
     "data": {
      "application/vnd.jupyter.widget-view+json": {
       "model_id": "",
       "version_major": 2,
       "version_minor": 0
      },
      "text/plain": [
       "HBox(children=(HTML(value=''), FloatProgress(value=0.0, max=128.0), HTML(value='')))"
      ]
     },
     "metadata": {},
     "output_type": "display_data"
    },
    {
     "data": {
      "application/vnd.jupyter.widget-view+json": {
       "model_id": "",
       "version_major": 2,
       "version_minor": 0
      },
      "text/plain": [
       "HBox(children=(HTML(value=''), FloatProgress(value=0.0, max=128.0), HTML(value='')))"
      ]
     },
     "metadata": {},
     "output_type": "display_data"
    },
    {
     "name": "stdout",
     "output_type": "stream",
     "text": [
      "\n"
     ]
    },
    {
     "data": {
      "application/vnd.jupyter.widget-view+json": {
       "model_id": "3d6c4f8bdb5a4c9f987db1c6903473bb",
       "version_major": 2,
       "version_minor": 0
      },
      "text/plain": [
       "HBox(children=(HTML(value=''), FloatProgress(value=0.0, max=8.0), HTML(value='')))"
      ]
     },
     "metadata": {},
     "output_type": "display_data"
    },
    {
     "data": {
      "application/vnd.jupyter.widget-view+json": {
       "model_id": "",
       "version_major": 2,
       "version_minor": 0
      },
      "text/plain": [
       "HBox(children=(HTML(value=''), FloatProgress(value=0.0, max=128.0), HTML(value='')))"
      ]
     },
     "metadata": {},
     "output_type": "display_data"
    },
    {
     "data": {
      "application/vnd.jupyter.widget-view+json": {
       "model_id": "",
       "version_major": 2,
       "version_minor": 0
      },
      "text/plain": [
       "HBox(children=(HTML(value=''), FloatProgress(value=0.0, max=128.0), HTML(value='')))"
      ]
     },
     "metadata": {},
     "output_type": "display_data"
    },
    {
     "data": {
      "application/vnd.jupyter.widget-view+json": {
       "model_id": "",
       "version_major": 2,
       "version_minor": 0
      },
      "text/plain": [
       "HBox(children=(HTML(value=''), FloatProgress(value=0.0, max=128.0), HTML(value='')))"
      ]
     },
     "metadata": {},
     "output_type": "display_data"
    },
    {
     "data": {
      "application/vnd.jupyter.widget-view+json": {
       "model_id": "",
       "version_major": 2,
       "version_minor": 0
      },
      "text/plain": [
       "HBox(children=(HTML(value=''), FloatProgress(value=0.0, max=128.0), HTML(value='')))"
      ]
     },
     "metadata": {},
     "output_type": "display_data"
    },
    {
     "data": {
      "application/vnd.jupyter.widget-view+json": {
       "model_id": "",
       "version_major": 2,
       "version_minor": 0
      },
      "text/plain": [
       "HBox(children=(HTML(value=''), FloatProgress(value=0.0, max=128.0), HTML(value='')))"
      ]
     },
     "metadata": {},
     "output_type": "display_data"
    },
    {
     "data": {
      "application/vnd.jupyter.widget-view+json": {
       "model_id": "",
       "version_major": 2,
       "version_minor": 0
      },
      "text/plain": [
       "HBox(children=(HTML(value=''), FloatProgress(value=0.0, max=128.0), HTML(value='')))"
      ]
     },
     "metadata": {},
     "output_type": "display_data"
    },
    {
     "data": {
      "application/vnd.jupyter.widget-view+json": {
       "model_id": "",
       "version_major": 2,
       "version_minor": 0
      },
      "text/plain": [
       "HBox(children=(HTML(value=''), FloatProgress(value=0.0, max=128.0), HTML(value='')))"
      ]
     },
     "metadata": {},
     "output_type": "display_data"
    },
    {
     "data": {
      "application/vnd.jupyter.widget-view+json": {
       "model_id": "",
       "version_major": 2,
       "version_minor": 0
      },
      "text/plain": [
       "HBox(children=(HTML(value=''), FloatProgress(value=0.0, max=128.0), HTML(value='')))"
      ]
     },
     "metadata": {},
     "output_type": "display_data"
    },
    {
     "name": "stdout",
     "output_type": "stream",
     "text": [
      "\n"
     ]
    },
    {
     "data": {
      "application/vnd.jupyter.widget-view+json": {
       "model_id": "f04a6c2aef854ab9b8a8f9d65d0c650f",
       "version_major": 2,
       "version_minor": 0
      },
      "text/plain": [
       "HBox(children=(HTML(value=''), FloatProgress(value=0.0, max=8.0), HTML(value='')))"
      ]
     },
     "metadata": {},
     "output_type": "display_data"
    },
    {
     "data": {
      "application/vnd.jupyter.widget-view+json": {
       "model_id": "",
       "version_major": 2,
       "version_minor": 0
      },
      "text/plain": [
       "HBox(children=(HTML(value=''), FloatProgress(value=0.0, max=128.0), HTML(value='')))"
      ]
     },
     "metadata": {},
     "output_type": "display_data"
    },
    {
     "data": {
      "application/vnd.jupyter.widget-view+json": {
       "model_id": "",
       "version_major": 2,
       "version_minor": 0
      },
      "text/plain": [
       "HBox(children=(HTML(value=''), FloatProgress(value=0.0, max=128.0), HTML(value='')))"
      ]
     },
     "metadata": {},
     "output_type": "display_data"
    },
    {
     "data": {
      "application/vnd.jupyter.widget-view+json": {
       "model_id": "",
       "version_major": 2,
       "version_minor": 0
      },
      "text/plain": [
       "HBox(children=(HTML(value=''), FloatProgress(value=0.0, max=128.0), HTML(value='')))"
      ]
     },
     "metadata": {},
     "output_type": "display_data"
    },
    {
     "data": {
      "application/vnd.jupyter.widget-view+json": {
       "model_id": "",
       "version_major": 2,
       "version_minor": 0
      },
      "text/plain": [
       "HBox(children=(HTML(value=''), FloatProgress(value=0.0, max=128.0), HTML(value='')))"
      ]
     },
     "metadata": {},
     "output_type": "display_data"
    },
    {
     "data": {
      "application/vnd.jupyter.widget-view+json": {
       "model_id": "",
       "version_major": 2,
       "version_minor": 0
      },
      "text/plain": [
       "HBox(children=(HTML(value=''), FloatProgress(value=0.0, max=128.0), HTML(value='')))"
      ]
     },
     "metadata": {},
     "output_type": "display_data"
    },
    {
     "data": {
      "application/vnd.jupyter.widget-view+json": {
       "model_id": "",
       "version_major": 2,
       "version_minor": 0
      },
      "text/plain": [
       "HBox(children=(HTML(value=''), FloatProgress(value=0.0, max=128.0), HTML(value='')))"
      ]
     },
     "metadata": {},
     "output_type": "display_data"
    },
    {
     "data": {
      "application/vnd.jupyter.widget-view+json": {
       "model_id": "",
       "version_major": 2,
       "version_minor": 0
      },
      "text/plain": [
       "HBox(children=(HTML(value=''), FloatProgress(value=0.0, max=128.0), HTML(value='')))"
      ]
     },
     "metadata": {},
     "output_type": "display_data"
    },
    {
     "data": {
      "application/vnd.jupyter.widget-view+json": {
       "model_id": "",
       "version_major": 2,
       "version_minor": 0
      },
      "text/plain": [
       "HBox(children=(HTML(value=''), FloatProgress(value=0.0, max=128.0), HTML(value='')))"
      ]
     },
     "metadata": {},
     "output_type": "display_data"
    },
    {
     "name": "stdout",
     "output_type": "stream",
     "text": [
      "\n"
     ]
    },
    {
     "data": {
      "image/png": "[encoded data removed]",
      "text/plain": [
       "<Figure size 432x288 with 1 Axes>"
      ]
     },
     "metadata": {
      "needs_background": "light"
     },
     "output_type": "display_data"
    }
   ],
   "source": [
    "# Nonsense\n",
    "# Quantum Comp\n",
    "PltWholeGame_prog('Classical Exemplar',millenialPink,aArgs={'a':a_exemplar,'ratioValue':1},Metric=TestingAccuracy,X_test=Y_test[:100])\n",
    "PltWholeGame_prog('Classical Prototype',mediumAquamarine,aArgs={'a':a_prototype,'a_sd':a_sd_prototype,'r':[0,0.75],'ratioValue':1},RAA=RAA_bp,Metric=TestingAccuracy,X_test=Y_test[:100])\n",
    "PltWholeGame_prog('Quantum Vector',grey,aArgs={'a':a_quantumv,'ratioValue':1},RAA=RAA_quantumv,Metric=TestingAccuracy,X_test=Y_test[:100])\n",
    "PltWholeGame_prog('Density Matrix',uranianBlue,aArgs={'a':a_quantum,'ratioValue':1},RAA=RAA_quantum_dm,Metric=TestingAccuracy,X_test=Y_test[:100])\n",
    "PltWholeGame_prog('Projection Operator',orange,aArgs={'a':a_quantum,'ratioValue':1},RAA=RAA_quantum,Metric=TestingAccuracy,X_test=Y_test[:100])\n",
    "plt.xlabel('Iterations')\n",
    "plt.ylabel('Convergence Metric')\n",
    "plt.title('Randomised convergence of Different Agents')\n",
    "plt.legend()\n",
    "plt.savefig('./Images/truthComp.pdf')\n",
    "plt.show()"
   ]
  },
  {
   "cell_type": "code",
   "execution_count": 48,
   "metadata": {
    "ExecuteTime": {
     "end_time": "2021-05-09T01:31:39.423402Z",
     "start_time": "2021-05-08T11:42:06.928217Z"
    }
   },
   "outputs": [
    {
     "data": {
      "application/vnd.jupyter.widget-view+json": {
       "model_id": "54fba1c37bc642c880141c5316d93994",
       "version_major": 2,
       "version_minor": 0
      },
      "text/plain": [
       "HBox(children=(HTML(value=''), FloatProgress(value=0.0, max=8.0), HTML(value='')))"
      ]
     },
     "metadata": {},
     "output_type": "display_data"
    },
    {
     "data": {
      "application/vnd.jupyter.widget-view+json": {
       "model_id": "",
       "version_major": 2,
       "version_minor": 0
      },
      "text/plain": [
       "HBox(children=(HTML(value=''), FloatProgress(value=0.0, max=128.0), HTML(value='')))"
      ]
     },
     "metadata": {},
     "output_type": "display_data"
    },
    {
     "data": {
      "application/vnd.jupyter.widget-view+json": {
       "model_id": "",
       "version_major": 2,
       "version_minor": 0
      },
      "text/plain": [
       "HBox(children=(HTML(value=''), FloatProgress(value=0.0, max=128.0), HTML(value='')))"
      ]
     },
     "metadata": {},
     "output_type": "display_data"
    },
    {
     "data": {
      "application/vnd.jupyter.widget-view+json": {
       "model_id": "",
       "version_major": 2,
       "version_minor": 0
      },
      "text/plain": [
       "HBox(children=(HTML(value=''), FloatProgress(value=0.0, max=128.0), HTML(value='')))"
      ]
     },
     "metadata": {},
     "output_type": "display_data"
    },
    {
     "data": {
      "application/vnd.jupyter.widget-view+json": {
       "model_id": "",
       "version_major": 2,
       "version_minor": 0
      },
      "text/plain": [
       "HBox(children=(HTML(value=''), FloatProgress(value=0.0, max=128.0), HTML(value='')))"
      ]
     },
     "metadata": {},
     "output_type": "display_data"
    },
    {
     "data": {
      "application/vnd.jupyter.widget-view+json": {
       "model_id": "",
       "version_major": 2,
       "version_minor": 0
      },
      "text/plain": [
       "HBox(children=(HTML(value=''), FloatProgress(value=0.0, max=128.0), HTML(value='')))"
      ]
     },
     "metadata": {},
     "output_type": "display_data"
    },
    {
     "data": {
      "application/vnd.jupyter.widget-view+json": {
       "model_id": "",
       "version_major": 2,
       "version_minor": 0
      },
      "text/plain": [
       "HBox(children=(HTML(value=''), FloatProgress(value=0.0, max=128.0), HTML(value='')))"
      ]
     },
     "metadata": {},
     "output_type": "display_data"
    },
    {
     "data": {
      "application/vnd.jupyter.widget-view+json": {
       "model_id": "",
       "version_major": 2,
       "version_minor": 0
      },
      "text/plain": [
       "HBox(children=(HTML(value=''), FloatProgress(value=0.0, max=128.0), HTML(value='')))"
      ]
     },
     "metadata": {},
     "output_type": "display_data"
    },
    {
     "data": {
      "application/vnd.jupyter.widget-view+json": {
       "model_id": "",
       "version_major": 2,
       "version_minor": 0
      },
      "text/plain": [
       "HBox(children=(HTML(value=''), FloatProgress(value=0.0, max=128.0), HTML(value='')))"
      ]
     },
     "metadata": {},
     "output_type": "display_data"
    },
    {
     "name": "stdout",
     "output_type": "stream",
     "text": [
      "\n"
     ]
    },
    {
     "data": {
      "application/vnd.jupyter.widget-view+json": {
       "model_id": "4b225c604aa1435b8991ef660ca4005e",
       "version_major": 2,
       "version_minor": 0
      },
      "text/plain": [
       "HBox(children=(HTML(value=''), FloatProgress(value=0.0, max=8.0), HTML(value='')))"
      ]
     },
     "metadata": {},
     "output_type": "display_data"
    },
    {
     "data": {
      "application/vnd.jupyter.widget-view+json": {
       "model_id": "",
       "version_major": 2,
       "version_minor": 0
      },
      "text/plain": [
       "HBox(children=(HTML(value=''), FloatProgress(value=0.0, max=128.0), HTML(value='')))"
      ]
     },
     "metadata": {},
     "output_type": "display_data"
    },
    {
     "data": {
      "application/vnd.jupyter.widget-view+json": {
       "model_id": "",
       "version_major": 2,
       "version_minor": 0
      },
      "text/plain": [
       "HBox(children=(HTML(value=''), FloatProgress(value=0.0, max=128.0), HTML(value='')))"
      ]
     },
     "metadata": {},
     "output_type": "display_data"
    },
    {
     "data": {
      "application/vnd.jupyter.widget-view+json": {
       "model_id": "",
       "version_major": 2,
       "version_minor": 0
      },
      "text/plain": [
       "HBox(children=(HTML(value=''), FloatProgress(value=0.0, max=128.0), HTML(value='')))"
      ]
     },
     "metadata": {},
     "output_type": "display_data"
    },
    {
     "data": {
      "application/vnd.jupyter.widget-view+json": {
       "model_id": "",
       "version_major": 2,
       "version_minor": 0
      },
      "text/plain": [
       "HBox(children=(HTML(value=''), FloatProgress(value=0.0, max=128.0), HTML(value='')))"
      ]
     },
     "metadata": {},
     "output_type": "display_data"
    },
    {
     "data": {
      "application/vnd.jupyter.widget-view+json": {
       "model_id": "",
       "version_major": 2,
       "version_minor": 0
      },
      "text/plain": [
       "HBox(children=(HTML(value=''), FloatProgress(value=0.0, max=128.0), HTML(value='')))"
      ]
     },
     "metadata": {},
     "output_type": "display_data"
    },
    {
     "data": {
      "application/vnd.jupyter.widget-view+json": {
       "model_id": "",
       "version_major": 2,
       "version_minor": 0
      },
      "text/plain": [
       "HBox(children=(HTML(value=''), FloatProgress(value=0.0, max=128.0), HTML(value='')))"
      ]
     },
     "metadata": {},
     "output_type": "display_data"
    },
    {
     "data": {
      "application/vnd.jupyter.widget-view+json": {
       "model_id": "",
       "version_major": 2,
       "version_minor": 0
      },
      "text/plain": [
       "HBox(children=(HTML(value=''), FloatProgress(value=0.0, max=128.0), HTML(value='')))"
      ]
     },
     "metadata": {},
     "output_type": "display_data"
    },
    {
     "data": {
      "application/vnd.jupyter.widget-view+json": {
       "model_id": "",
       "version_major": 2,
       "version_minor": 0
      },
      "text/plain": [
       "HBox(children=(HTML(value=''), FloatProgress(value=0.0, max=128.0), HTML(value='')))"
      ]
     },
     "metadata": {},
     "output_type": "display_data"
    },
    {
     "name": "stdout",
     "output_type": "stream",
     "text": [
      "\n"
     ]
    },
    {
     "data": {
      "application/vnd.jupyter.widget-view+json": {
       "model_id": "28140a2b938f449a8a6b6ad4512e1f24",
       "version_major": 2,
       "version_minor": 0
      },
      "text/plain": [
       "HBox(children=(HTML(value=''), FloatProgress(value=0.0, max=8.0), HTML(value='')))"
      ]
     },
     "metadata": {},
     "output_type": "display_data"
    },
    {
     "data": {
      "application/vnd.jupyter.widget-view+json": {
       "model_id": "",
       "version_major": 2,
       "version_minor": 0
      },
      "text/plain": [
       "HBox(children=(HTML(value=''), FloatProgress(value=0.0, max=128.0), HTML(value='')))"
      ]
     },
     "metadata": {},
     "output_type": "display_data"
    },
    {
     "data": {
      "application/vnd.jupyter.widget-view+json": {
       "model_id": "",
       "version_major": 2,
       "version_minor": 0
      },
      "text/plain": [
       "HBox(children=(HTML(value=''), FloatProgress(value=0.0, max=128.0), HTML(value='')))"
      ]
     },
     "metadata": {},
     "output_type": "display_data"
    },
    {
     "data": {
      "application/vnd.jupyter.widget-view+json": {
       "model_id": "",
       "version_major": 2,
       "version_minor": 0
      },
      "text/plain": [
       "HBox(children=(HTML(value=''), FloatProgress(value=0.0, max=128.0), HTML(value='')))"
      ]
     },
     "metadata": {},
     "output_type": "display_data"
    },
    {
     "data": {
      "application/vnd.jupyter.widget-view+json": {
       "model_id": "",
       "version_major": 2,
       "version_minor": 0
      },
      "text/plain": [
       "HBox(children=(HTML(value=''), FloatProgress(value=0.0, max=128.0), HTML(value='')))"
      ]
     },
     "metadata": {},
     "output_type": "display_data"
    },
    {
     "data": {
      "application/vnd.jupyter.widget-view+json": {
       "model_id": "",
       "version_major": 2,
       "version_minor": 0
      },
      "text/plain": [
       "HBox(children=(HTML(value=''), FloatProgress(value=0.0, max=128.0), HTML(value='')))"
      ]
     },
     "metadata": {},
     "output_type": "display_data"
    },
    {
     "data": {
      "application/vnd.jupyter.widget-view+json": {
       "model_id": "",
       "version_major": 2,
       "version_minor": 0
      },
      "text/plain": [
       "HBox(children=(HTML(value=''), FloatProgress(value=0.0, max=128.0), HTML(value='')))"
      ]
     },
     "metadata": {},
     "output_type": "display_data"
    },
    {
     "data": {
      "application/vnd.jupyter.widget-view+json": {
       "model_id": "",
       "version_major": 2,
       "version_minor": 0
      },
      "text/plain": [
       "HBox(children=(HTML(value=''), FloatProgress(value=0.0, max=128.0), HTML(value='')))"
      ]
     },
     "metadata": {},
     "output_type": "display_data"
    },
    {
     "data": {
      "application/vnd.jupyter.widget-view+json": {
       "model_id": "",
       "version_major": 2,
       "version_minor": 0
      },
      "text/plain": [
       "HBox(children=(HTML(value=''), FloatProgress(value=0.0, max=128.0), HTML(value='')))"
      ]
     },
     "metadata": {},
     "output_type": "display_data"
    },
    {
     "name": "stdout",
     "output_type": "stream",
     "text": [
      "\n"
     ]
    },
    {
     "data": {
      "application/vnd.jupyter.widget-view+json": {
       "model_id": "9c48fe8fc7bd45eaa1fb8c72c73e2d23",
       "version_major": 2,
       "version_minor": 0
      },
      "text/plain": [
       "HBox(children=(HTML(value=''), FloatProgress(value=0.0, max=8.0), HTML(value='')))"
      ]
     },
     "metadata": {},
     "output_type": "display_data"
    },
    {
     "data": {
      "application/vnd.jupyter.widget-view+json": {
       "model_id": "",
       "version_major": 2,
       "version_minor": 0
      },
      "text/plain": [
       "HBox(children=(HTML(value=''), FloatProgress(value=0.0, max=128.0), HTML(value='')))"
      ]
     },
     "metadata": {},
     "output_type": "display_data"
    },
    {
     "data": {
      "application/vnd.jupyter.widget-view+json": {
       "model_id": "",
       "version_major": 2,
       "version_minor": 0
      },
      "text/plain": [
       "HBox(children=(HTML(value=''), FloatProgress(value=0.0, max=128.0), HTML(value='')))"
      ]
     },
     "metadata": {},
     "output_type": "display_data"
    },
    {
     "data": {
      "application/vnd.jupyter.widget-view+json": {
       "model_id": "",
       "version_major": 2,
       "version_minor": 0
      },
      "text/plain": [
       "HBox(children=(HTML(value=''), FloatProgress(value=0.0, max=128.0), HTML(value='')))"
      ]
     },
     "metadata": {},
     "output_type": "display_data"
    },
    {
     "data": {
      "application/vnd.jupyter.widget-view+json": {
       "model_id": "",
       "version_major": 2,
       "version_minor": 0
      },
      "text/plain": [
       "HBox(children=(HTML(value=''), FloatProgress(value=0.0, max=128.0), HTML(value='')))"
      ]
     },
     "metadata": {},
     "output_type": "display_data"
    },
    {
     "data": {
      "application/vnd.jupyter.widget-view+json": {
       "model_id": "",
       "version_major": 2,
       "version_minor": 0
      },
      "text/plain": [
       "HBox(children=(HTML(value=''), FloatProgress(value=0.0, max=128.0), HTML(value='')))"
      ]
     },
     "metadata": {},
     "output_type": "display_data"
    },
    {
     "data": {
      "application/vnd.jupyter.widget-view+json": {
       "model_id": "",
       "version_major": 2,
       "version_minor": 0
      },
      "text/plain": [
       "HBox(children=(HTML(value=''), FloatProgress(value=0.0, max=128.0), HTML(value='')))"
      ]
     },
     "metadata": {},
     "output_type": "display_data"
    },
    {
     "data": {
      "application/vnd.jupyter.widget-view+json": {
       "model_id": "",
       "version_major": 2,
       "version_minor": 0
      },
      "text/plain": [
       "HBox(children=(HTML(value=''), FloatProgress(value=0.0, max=128.0), HTML(value='')))"
      ]
     },
     "metadata": {},
     "output_type": "display_data"
    },
    {
     "data": {
      "application/vnd.jupyter.widget-view+json": {
       "model_id": "",
       "version_major": 2,
       "version_minor": 0
      },
      "text/plain": [
       "HBox(children=(HTML(value=''), FloatProgress(value=0.0, max=128.0), HTML(value='')))"
      ]
     },
     "metadata": {},
     "output_type": "display_data"
    },
    {
     "name": "stdout",
     "output_type": "stream",
     "text": [
      "\n"
     ]
    },
    {
     "data": {
      "application/vnd.jupyter.widget-view+json": {
       "model_id": "0b6912e206d7405cb6fc36104bcf86a5",
       "version_major": 2,
       "version_minor": 0
      },
      "text/plain": [
       "HBox(children=(HTML(value=''), FloatProgress(value=0.0, max=8.0), HTML(value='')))"
      ]
     },
     "metadata": {},
     "output_type": "display_data"
    },
    {
     "data": {
      "application/vnd.jupyter.widget-view+json": {
       "model_id": "",
       "version_major": 2,
       "version_minor": 0
      },
      "text/plain": [
       "HBox(children=(HTML(value=''), FloatProgress(value=0.0, max=128.0), HTML(value='')))"
      ]
     },
     "metadata": {},
     "output_type": "display_data"
    },
    {
     "data": {
      "application/vnd.jupyter.widget-view+json": {
       "model_id": "",
       "version_major": 2,
       "version_minor": 0
      },
      "text/plain": [
       "HBox(children=(HTML(value=''), FloatProgress(value=0.0, max=128.0), HTML(value='')))"
      ]
     },
     "metadata": {},
     "output_type": "display_data"
    },
    {
     "data": {
      "application/vnd.jupyter.widget-view+json": {
       "model_id": "",
       "version_major": 2,
       "version_minor": 0
      },
      "text/plain": [
       "HBox(children=(HTML(value=''), FloatProgress(value=0.0, max=128.0), HTML(value='')))"
      ]
     },
     "metadata": {},
     "output_type": "display_data"
    },
    {
     "data": {
      "application/vnd.jupyter.widget-view+json": {
       "model_id": "",
       "version_major": 2,
       "version_minor": 0
      },
      "text/plain": [
       "HBox(children=(HTML(value=''), FloatProgress(value=0.0, max=128.0), HTML(value='')))"
      ]
     },
     "metadata": {},
     "output_type": "display_data"
    },
    {
     "data": {
      "application/vnd.jupyter.widget-view+json": {
       "model_id": "",
       "version_major": 2,
       "version_minor": 0
      },
      "text/plain": [
       "HBox(children=(HTML(value=''), FloatProgress(value=0.0, max=128.0), HTML(value='')))"
      ]
     },
     "metadata": {},
     "output_type": "display_data"
    },
    {
     "data": {
      "application/vnd.jupyter.widget-view+json": {
       "model_id": "",
       "version_major": 2,
       "version_minor": 0
      },
      "text/plain": [
       "HBox(children=(HTML(value=''), FloatProgress(value=0.0, max=128.0), HTML(value='')))"
      ]
     },
     "metadata": {},
     "output_type": "display_data"
    },
    {
     "data": {
      "application/vnd.jupyter.widget-view+json": {
       "model_id": "",
       "version_major": 2,
       "version_minor": 0
      },
      "text/plain": [
       "HBox(children=(HTML(value=''), FloatProgress(value=0.0, max=128.0), HTML(value='')))"
      ]
     },
     "metadata": {},
     "output_type": "display_data"
    },
    {
     "data": {
      "application/vnd.jupyter.widget-view+json": {
       "model_id": "",
       "version_major": 2,
       "version_minor": 0
      },
      "text/plain": [
       "HBox(children=(HTML(value=''), FloatProgress(value=0.0, max=128.0), HTML(value='')))"
      ]
     },
     "metadata": {},
     "output_type": "display_data"
    },
    {
     "name": "stdout",
     "output_type": "stream",
     "text": [
      "\n"
     ]
    },
    {
     "data": {
      "image/png": "[encoded data removed]",
      "text/plain": [
       "<Figure size 432x288 with 1 Axes>"
      ]
     },
     "metadata": {
      "needs_background": "light"
     },
     "output_type": "display_data"
    }
   ],
   "source": [
    "# Compare with parents\n",
    "# Truth Comp\n",
    "PltWholeGame_prog('12 Exemplar Agents 4 Truthers',millenialPink,nDifferentGames=8,nIterations=128,aArgs={'e1':12,'e2':4,'a':0.2},RAA=RAA_et,Metric=TestingAccuracy,X_test=Y_test[:100])\n",
    "PltWholeGame_prog('12 Prototype Agents 4 Truther',mediumAquamarine,nDifferentGames=8,nIterations=128,aArgs={'e1':12,'e2':4,'a':0.2},RAA=RAA_pt,Metric=TestingAccuracy,X_test=Y_test[:100])\n",
    "PltWholeGame_prog('12 Quantum Vector Agents 4 Truther',grey,nDifferentGames=8,nIterations=128,aArgs={'e1':12,'e2':4,'a':0.2},RAA=RAA_qvt,Metric=TestingAccuracy,X_test=Y_test[:100])\n",
    "PltWholeGame_prog('12 Density Matrix Agents 4 Truther',uranianBlue,nDifferentGames=8,nIterations=128,aArgs={'e1':12,'e2':4,'a':0.2},RAA=RAA_dmt,Metric=TestingAccuracy,X_test=Y_test[:100])\n",
    "PltWholeGame_prog('12 Projection Operators Agents 4 Truther',orange,nDifferentGames=8,nIterations=128,aArgs={'e1':12,'e2':4,'a':0.2},RAA=RAA_qt,Metric=TestingAccuracy,X_test=Y_test[:100])\n",
    "plt.xlabel('Iterations')\n",
    "plt.ylabel('Test Data Agreement Metric')\n",
    "plt.title('Test Data Agreement of Different Agents')\n",
    "plt.legend()\n",
    "plt.savefig('./Images/truthComp_withTruthers.pdf')\n",
    "plt.show()"
   ]
  },
  {
   "cell_type": "markdown",
   "metadata": {},
   "source": [
    "# Lots of colours"
   ]
  },
  {
   "cell_type": "code",
   "execution_count": 50,
   "metadata": {
    "ExecuteTime": {
     "end_time": "2021-05-09T06:38:44.330370Z",
     "start_time": "2021-05-09T06:38:44.023121Z"
    }
   },
   "outputs": [
    {
     "name": "stdout",
     "output_type": "stream",
     "text": [
      "['aliceblue', 'antiquewhite', 'aqua', 'aquamarine', 'azure', 'beige', 'bisque', 'black', 'blanchedalmond', 'blue', 'blueviolet', 'brown', 'burlywood', 'cadetblue', 'chartreuse', 'chocolate', 'coral', 'cornflowerblue', 'cornsilk', 'crimson', 'cyan', 'darkblue', 'darkcyan', 'darkgoldenrod', 'darkgray', 'darkgreen', 'darkgrey', 'darkkhaki', 'darkmagenta', 'darkolivegreen', 'darkorange', 'darkorchid', 'darkred', 'darksalmon', 'darkseagreen', 'darkslateblue', 'darkslategray', 'darkslategrey', 'darkturquoise', 'darkviolet', 'deeppink', 'deepskyblue', 'dimgray', 'dimgrey', 'dodgerblue', 'firebrick', 'floralwhite', 'forestgreen', 'fuchsia', 'gainsboro', 'ghostwhite', 'gold', 'goldenrod', 'gray', 'green', 'greenyellow', 'grey', 'honeydew', 'hotpink', 'indianred', 'indigo', 'ivory', 'khaki', 'lavender', 'lavenderblush', 'lawngreen', 'lemonchiffon', 'lightblue', 'lightcoral', 'lightcyan', 'lightgoldenrodyellow', 'lightgray', 'lightgreen', 'lightgrey', 'lightpink', 'lightsalmon', 'lightseagreen', 'lightskyblue', 'lightslategray', 'lightslategrey', 'lightsteelblue', 'lightyellow', 'lime', 'limegreen', 'linen', 'magenta', 'maroon', 'mediumaquamarine', 'mediumblue', 'mediumorchid', 'mediumpurple', 'mediumseagreen', 'mediumslateblue', 'mediumspringgreen', 'mediumturquoise', 'mediumvioletred', 'midnightblue', 'mintcream', 'mistyrose', 'moccasin', 'navajowhite', 'navy', 'oldlace', 'olive', 'olivedrab', 'orange', 'orangered', 'orchid', 'palegoldenrod', 'palegreen', 'paleturquoise', 'palevioletred', 'papayawhip', 'peachpuff', 'peru', 'pink', 'plum', 'powderblue', 'purple', 'rebeccapurple', 'red', 'rosybrown', 'royalblue', 'saddlebrown', 'salmon', 'sandybrown', 'seagreen', 'seashell', 'sienna', 'silver', 'skyblue', 'slateblue', 'slategray', 'slategrey', 'snow', 'springgreen', 'steelblue', 'tan', 'teal', 'thistle', 'tomato', 'turquoise', 'violet', 'wheat', 'white', 'whitesmoke', 'yellow', 'yellowgreen']\n"
     ]
    }
   ],
   "source": [
    "l_long = list(matplotlib.colors.CSS4_COLORS.keys())\n",
    "print(l_long)"
   ]
  },
  {
   "cell_type": "code",
   "execution_count": 52,
   "metadata": {
    "ExecuteTime": {
     "end_time": "2021-05-09T06:39:09.835078Z",
     "start_time": "2021-05-09T06:38:56.265693Z"
    }
   },
   "outputs": [
    {
     "name": "stdout",
     "output_type": "stream",
     "text": [
      "[7108, 'aqua']\n",
      "[2453, 'aquamarine']\n",
      "[534, 'azure']\n",
      "[4463, 'beige']\n",
      "[4365, 'black']\n",
      "[86598, 'blue']\n",
      "[23123, 'brown']\n",
      "[1487, 'chartreuse']\n",
      "[340, 'chocolate']\n",
      "[700, 'coral']\n",
      "[901, 'crimson']\n",
      "[7752, 'cyan']\n",
      "[1104, 'fuchsia']\n",
      "[2002, 'gold']\n",
      "[1039, 'goldenrod']\n",
      "[5502, 'gray']\n",
      "[95003, 'green']\n",
      "[10970, 'grey']\n",
      "[3315, 'indigo']\n",
      "[1494, 'khaki']\n",
      "[8258, 'lavender']\n",
      "[3407, 'lime']\n",
      "[13917, 'magenta']\n",
      "[5226, 'maroon']\n",
      "[2186, 'navy']\n",
      "[5399, 'olive']\n",
      "[15845, 'orange']\n",
      "[376, 'orchid']\n",
      "[40056, 'pink']\n",
      "[1811, 'plum']\n",
      "[76778, 'purple']\n",
      "[21498, 'red']\n",
      "[4417, 'salmon']\n",
      "[135, 'seagreen']\n",
      "[363, 'sienna']\n",
      "[112, 'silver']\n",
      "[7579, 'tan']\n",
      "[17807, 'teal']\n",
      "[8288, 'turquoise']\n",
      "[9724, 'violet']\n",
      "[700, 'white']\n",
      "[13364, 'yellow']\n",
      "(517499, 7)\n",
      "[[539930 25354 1267589963 39 232 29 'green']\n",
      " [815152 37440 1267669750 141 18 158 'violet']\n",
      " [988300 45027 1267770293 244 87 235 'pink']\n",
      " [801594 36920 1267664650 31 188 184 'cyan']\n",
      " [1046985 47612 1267803299 65 227 131 'green']\n",
      " [716404 33264 1267638381 100 197 96 'green']\n",
      " [92464 5153 1267455463 239 105 28 'orange']\n",
      " [208499 10539 1267482624 13 164 148 'cyan']\n",
      " [997290 45396 1267774113 94 237 241 'blue']\n",
      " [1024890 46666 1267793248 106 43 34 'brown']]\n"
     ]
    }
   ],
   "source": [
    "# Filter colours\n",
    "r = 100 # truncation value, to uniformly distribute colour labels\n",
    "# use r=-1 for all\n",
    "Xc = X[:,-1]\n",
    "Xi = []\n",
    "l_long_1 = []\n",
    "for k in l_long:\n",
    "    x = np.where(Xc == k)\n",
    "    if len(x[0]) > r:\n",
    "        Xi.extend(x[0][:])\n",
    "        print([len(x[0][:]),k])\n",
    "        l_long_1.append(k)\n",
    "l_long = l_long_1\n",
    "Xi = np.array(Xi) # Array of indices of labels in l\n",
    "Y = X[Xi]\n",
    "np.random.shuffle(Y)\n",
    "print(Y.shape)\n",
    "print(Y[:10])\n",
    "# Y is the refined dataset"
   ]
  },
  {
   "cell_type": "code",
   "execution_count": 53,
   "metadata": {
    "ExecuteTime": {
     "end_time": "2021-05-09T06:39:09.922902Z",
     "start_time": "2021-05-09T06:39:09.842547Z"
    }
   },
   "outputs": [],
   "source": [
    "Y_long_train = Y[:50000]\n",
    "Y_long_test = Y[-1000:]"
   ]
  },
  {
   "cell_type": "code",
   "execution_count": null,
   "metadata": {
    "ExecuteTime": {
     "end_time": "2021-05-09T06:38:50.332864Z",
     "start_time": "2021-05-09T06:38:46.050Z"
    },
    "scrolled": true
   },
   "outputs": [],
   "source": [
    "# Truth Comp\n",
    "PltWholeGame('Classical Exemplar',millenialPink,nAgents=32,nDifferentGames=4,nIterations=64,aArgs={'a':a_exemplar,'ratioValue':1},Metric=TestingAccuracy,X_test=Y_long_test[:100],l=l_long)\n",
    "PltWholeGame('Classical Prototype',mediumAquamarine,nAgents=32,nDifferentGames=4,nIterations=64,aArgs={'a':a_prototype,'a_sd':a_sd_prototype,'r':[0,0.75],'ratioValue':1},RAA=RAA_bp,Metric=TestingAccuracy,X_test=Y_long_test[:100],l=l_long)\n",
    "PltWholeGame('Quantum',orange,nAgents=32,nDifferentGames=4,nIterations=64,aArgs={'a':a_quantum,'ratioValue':1},RAA=RAA_quantum,Metric=TestingAccuracy,X_test=Y_long_test[:100],l=l_long)\n",
    "plt.xlabel('Iterations')\n",
    "plt.ylabel('Test Data Agreement Metric')\n",
    "plt.title('Test Data Agreement of Different Agents')\n",
    "plt.legend()\n",
    "plt.savefig('./Images/truthComp_long.pdf')\n",
    "plt.show()"
   ]
  },
  {
   "cell_type": "code",
   "execution_count": null,
   "metadata": {
    "ExecuteTime": {
     "end_time": "2021-03-22T22:24:01.663665Z",
     "start_time": "2021-03-22T22:24:01.588799Z"
    }
   },
   "outputs": [],
   "source": [
    "# Label Array - also used for quantum agent\n",
    "ratioValue = 0\n",
    "def RLA(l,pf,r=ratioValue,Y=Y_long_train):\n",
    "    # r = ratio to use real data\n",
    "    la = {l[i]:RE(pf) for i in np.random.randint(0,len(l),size=np.random.randint(0,len(l)))}\n",
    "    for i in la:\n",
    "        if np.random.random() < r:\n",
    "            Xc = Y[:,-1]\n",
    "            x = np.where(Xc == i)[0]\n",
    "            #print(Xc[x])\n",
    "            k = np.random.choice(x)\n",
    "            la[i] = [float(Y[k,3])/255,float(Y[k,4])/255,float(Y[k,5])/255]\n",
    "    return la\n",
    "        "
   ]
  },
  {
   "cell_type": "code",
   "execution_count": null,
   "metadata": {
    "ExecuteTime": {
     "end_time": "2021-03-22T22:26:12.831454Z",
     "start_time": "2021-03-22T22:26:12.702458Z"
    }
   },
   "outputs": [],
   "source": [
    "def RLA_bp(l,pf,r,ratioValue=0,Y=Y_long_train):\n",
    "    # r = ratio to use real data\n",
    "    la = {l[i]:{'c':RE(pf),'sd':RSD(r)} for i in np.random.randint(0,len(l),size=np.random.randint(0,len(l)))}\n",
    "    for i in la:\n",
    "        if np.random.random() < ratioValue:\n",
    "            Xc = Y[:,-1]\n",
    "            x = np.where(Xc == i)[0]\n",
    "            #print(Xc[x])\n",
    "            k = np.random.choice(x)\n",
    "            la[i]['c'] = [float(Y[k,3])/255,float(Y[k,4])/255,float(Y[k,5])/255]\n",
    "    return la"
   ]
  },
  {
   "cell_type": "code",
   "execution_count": null,
   "metadata": {
    "ExecuteTime": {
     "end_time": "2021-03-28T11:08:11.765880Z",
     "start_time": "2021-03-28T11:05:49.595894Z"
    }
   },
   "outputs": [],
   "source": [
    "pf = PF(3)\n",
    "l = ['blue','green','red','orange','yellow','purple']\n",
    "agents = RAA_bp(pf,N=512,aArgs={'a':a_prototype,'a_sd':a_sd_prototype,'r':[0,.75],'ratioValue':1})\n",
    "agents = RAA=RAA_quantum(pf,N=64,l=l)\n",
    "print(agents)\n",
    "pprint(agents[-1].GetLabels())\n",
    "for i in range(256):\n",
    "    GameRound(agents,pf)\n",
    "pprint(agents[-1].GetLabels())"
   ]
  },
  {
   "cell_type": "code",
   "execution_count": null,
   "metadata": {
    "ExecuteTime": {
     "end_time": "2021-03-28T11:45:00.452812Z",
     "start_time": "2021-03-28T11:43:42.634498Z"
    }
   },
   "outputs": [],
   "source": [
    "print(TestingAccuracy(agents,Y_long_test[:100]))\n",
    "print(RandomAccuracyMetric(agents))\n",
    "for i in range(20):\n",
    "    print(Y_test[i])\n",
    "    l = np.array([a.FindLabel(Y_long_test[i][3:6]/255) for a in agents])\n",
    "    majorityLabel = Counter(l).most_common(1)\n",
    "    majorityLabel = majorityLabel[0][0]\n",
    "    print([Y_long_test[i][-1],majorityLabel])\n",
    "    print(l)"
   ]
  },
  {
   "cell_type": "code",
   "execution_count": null,
   "metadata": {
    "ExecuteTime": {
     "end_time": "2021-03-23T08:46:07.010615Z",
     "start_time": "2021-03-23T08:46:06.870731Z"
    }
   },
   "outputs": [],
   "source": [
    "print(agents)"
   ]
  },
  {
   "cell_type": "code",
   "execution_count": null,
   "metadata": {
    "ExecuteTime": {
     "end_time": "2021-03-23T08:46:25.653824Z",
     "start_time": "2021-03-23T08:46:25.601033Z"
    }
   },
   "outputs": [],
   "source": [
    "print(l)"
   ]
  },
  {
   "cell_type": "code",
   "execution_count": null,
   "metadata": {
    "ExecuteTime": {
     "end_time": "2021-04-06T13:39:15.118680Z",
     "start_time": "2021-04-06T12:57:47.463640Z"
    }
   },
   "outputs": [],
   "source": [
    "# Training convergence\n",
    "# ~Bifurcation~ plot of learning rates\n",
    "ls = np.linspace(0,1,num=10)\n",
    "results = np.array([np.array(WholeGame(nAgents=32,aArgs={'a':i,'ratioValue':0},Metric=TestingAccuracy,X_test=Y_long_test[:100],metricAll=False,l=l_long,Y=Y_long_train))[:,-1] for i in ls])\n",
    "results_t = np.array([np.array(WholeGame(nAgents=32,aArgs={'a':i,'ratioValue':1},Metric=TestingAccuracy,X_test=Y_long_test[:100],metricAll=False,l=l_long,Y=Y_long_train))[:,-1] for i in ls])\n",
    "plt.plot(ls,results,c=millenialPink,linestyle='none',marker='.',alpha=0.25,label='Random')\n",
    "plt.plot(ls,results_t,c=orange,linestyle='none',marker='.',alpha=0.25,label='Full Truth')\n",
    "plt.xlabel('Learning Rate')\n",
    "plt.ylabel('Agent Exemplar Metric')\n",
    "plt.savefig('./Images/learningRate_exemplar_testing_long.pdf')\n",
    "plt.show()"
   ]
  },
  {
   "cell_type": "markdown",
   "metadata": {},
   "source": [
    "## Full dataset"
   ]
  },
  {
   "cell_type": "code",
   "execution_count": 54,
   "metadata": {
    "ExecuteTime": {
     "end_time": "2021-05-09T06:40:49.640086Z",
     "start_time": "2021-05-09T06:39:16.705493Z"
    }
   },
   "outputs": [
    {
     "name": "stdout",
     "output_type": "stream",
     "text": [
      "True\n",
      "(1048576,)\n",
      "(69222,)\n",
      "[1 1 1 ... 1 1 1]\n"
     ]
    }
   ],
   "source": [
    "x = np.array(X[:,-1]).astype(str)\n",
    "print('blue' in x)\n",
    "l_all,l_all_counts = np.unique(x,return_counts=True)\n",
    "print(x.shape)\n",
    "print(l_all.shape)\n",
    "print(l_all_counts)"
   ]
  },
  {
   "cell_type": "code",
   "execution_count": 55,
   "metadata": {
    "ExecuteTime": {
     "end_time": "2021-05-09T06:40:50.277985Z",
     "start_time": "2021-05-09T06:40:49.664218Z"
    }
   },
   "outputs": [
    {
     "name": "stdout",
     "output_type": "stream",
     "text": [
      "[' blue' ' green' '#0000ff' ... 'zombie green' 'Зеленый' 'Синий']\n",
      "(0, 1048576, 7)\n",
      "False\n"
     ]
    },
    {
     "name": "stderr",
     "output_type": "stream",
     "text": [
      "/usr/local/anaconda3/envs/fyp/lib/python3.6/site-packages/ipykernel_launcher.py:7: FutureWarning: elementwise comparison failed; returning scalar instead, but in the future will perform elementwise comparison\n",
      "  import sys\n",
      "/usr/local/anaconda3/envs/fyp/lib/python3.6/site-packages/ipykernel_launcher.py:9: FutureWarning: elementwise comparison failed; returning scalar instead, but in the future will perform elementwise comparison\n",
      "  if __name__ == '__main__':\n"
     ]
    }
   ],
   "source": [
    "l_all_2 = l_all[np.where(l_all_counts>9)]\n",
    "l_all_2 = list(l_all_2)\n",
    "l_all_2.remove('nan')\n",
    "l_all_2 = np.array(l_all_2)\n",
    "l_all_2_counts = l_all_counts[np.where(l_all_counts>9)]\n",
    "print(l_all_2)\n",
    "Y_all_2 = X[np.where(X[:,-1]) == l_all_2]\n",
    "print(Y_all_2.shape)\n",
    "print(np.where(X[:,-1]) == l_all_2)"
   ]
  },
  {
   "cell_type": "code",
   "execution_count": 56,
   "metadata": {
    "ExecuteTime": {
     "end_time": "2021-05-09T06:40:50.512050Z",
     "start_time": "2021-05-09T06:40:50.306018Z"
    }
   },
   "outputs": [
    {
     "data": {
      "text/plain": [
       "True"
      ]
     },
     "execution_count": 56,
     "metadata": {},
     "output_type": "execute_result"
    }
   ],
   "source": [
    "'blue' in l_all_2"
   ]
  },
  {
   "cell_type": "code",
   "execution_count": 57,
   "metadata": {
    "ExecuteTime": {
     "end_time": "2021-05-09T06:44:00.675884Z",
     "start_time": "2021-05-09T06:40:50.544081Z"
    }
   },
   "outputs": [
    {
     "data": {
      "application/vnd.jupyter.widget-view+json": {
       "model_id": "76e94c80e30e482093ca35b9b0c87ef1",
       "version_major": 2,
       "version_minor": 0
      },
      "text/plain": [
       "HBox(children=(HTML(value=''), FloatProgress(value=0.0, max=3328.0), HTML(value='')))"
      ]
     },
     "metadata": {},
     "output_type": "display_data"
    },
    {
     "name": "stdout",
     "output_type": "stream",
     "text": [
      "86598\n",
      "\n"
     ]
    }
   ],
   "source": [
    "Xi = []\n",
    "l_long_1 = []\n",
    "ld = {}\n",
    "for k in tqdm(l_all_2):\n",
    "    x = np.where(Xc == k)\n",
    "    Xi.extend(x[0][:])\n",
    "    #print([len(x[0][:]),k])\n",
    "    if k == 'blue':\n",
    "        print(len(x[0][:]))\n",
    "    ld[k] = len(x[0][:])\n",
    "    l_long_1.append(k)\n",
    "Y_all_2 = X[Xi]"
   ]
  },
  {
   "cell_type": "code",
   "execution_count": 58,
   "metadata": {
    "ExecuteTime": {
     "end_time": "2021-05-09T06:44:00.782908Z",
     "start_time": "2021-05-09T06:44:00.691378Z"
    }
   },
   "outputs": [
    {
     "name": "stdout",
     "output_type": "stream",
     "text": [
      "['red', 'green', 'yellow', 'blue', 'brown', 'orange', 'pink', 'purple', 'grey']\n"
     ]
    }
   ],
   "source": [
    "print(l)"
   ]
  },
  {
   "cell_type": "code",
   "execution_count": 59,
   "metadata": {
    "ExecuteTime": {
     "end_time": "2021-05-09T06:44:00.945918Z",
     "start_time": "2021-05-09T06:44:00.794162Z"
    }
   },
   "outputs": [
    {
     "name": "stdout",
     "output_type": "stream",
     "text": [
      "['green', 95003]\n",
      "['blue', 86598]\n",
      "['purple', 76778]\n",
      "['pink', 40056]\n",
      "['brown', 23123]\n",
      "['red', 21498]\n",
      "['light blue', 18459]\n",
      "['teal', 17807]\n",
      "['orange', 15845]\n",
      "['light green', 15729]\n",
      "['magenta', 13917]\n",
      "['yellow', 13364]\n",
      "['grey', 10970]\n",
      "['sky blue', 10912]\n",
      "['lime green', 9829]\n",
      "['violet', 9724]\n",
      "['light purple', 9442]\n",
      "['turquoise', 8288]\n",
      "['lavender', 8258]\n",
      "['cyan', 7752]\n",
      "['dark green', 7595]\n",
      "['tan', 7579]\n",
      "['dark blue', 7431]\n",
      "['aqua', 7108]\n",
      "['forest green', 6287]\n",
      "['bright green', 6109]\n",
      "['mauve', 5988]\n",
      "['gray', 5502]\n",
      "['dark purple', 5481]\n",
      "['olive', 5399]\n"
     ]
    }
   ],
   "source": [
    "ldc = dict(ld)\n",
    "for i in range(30):\n",
    "    x = MaxArgDict(ldc)\n",
    "    print([x,ldc[x]])\n",
    "    del ldc[x]\n",
    "ldc = dict(ld)"
   ]
  },
  {
   "cell_type": "code",
   "execution_count": 60,
   "metadata": {
    "ExecuteTime": {
     "end_time": "2021-05-09T06:44:01.017247Z",
     "start_time": "2021-05-09T06:44:00.955509Z"
    }
   },
   "outputs": [
    {
     "name": "stdout",
     "output_type": "stream",
     "text": [
      "700\n"
     ]
    }
   ],
   "source": [
    "print(ld['white'])"
   ]
  },
  {
   "cell_type": "code",
   "execution_count": 61,
   "metadata": {
    "ExecuteTime": {
     "end_time": "2021-05-09T06:44:01.156718Z",
     "start_time": "2021-05-09T06:44:01.028630Z"
    }
   },
   "outputs": [
    {
     "name": "stdout",
     "output_type": "stream",
     "text": [
      "[[102800 5804 1267458722 ... 88 163 ' blue']\n",
      " [538204 25223 1267589380 ... 62 231 ' blue']\n",
      " [917536 41911 1267736285 ... 229 162 ' blue']\n",
      " ...\n",
      " [243767 12199 1267488788 ... 203 234 'Синий']\n",
      " [243367 12199 1267488732 ... 117 240 'Синий']\n",
      " [243357 12199 1267488730 ... 127 205 'Синий']]\n"
     ]
    }
   ],
   "source": [
    "print(Y_all_2)"
   ]
  },
  {
   "cell_type": "code",
   "execution_count": 62,
   "metadata": {
    "ExecuteTime": {
     "end_time": "2021-05-09T06:44:01.274649Z",
     "start_time": "2021-05-09T06:44:01.171062Z"
    }
   },
   "outputs": [
    {
     "name": "stdout",
     "output_type": "stream",
     "text": [
      "(2500,)\n"
     ]
    }
   ],
   "source": [
    "l_all_2_counts = list(l_all_2_counts)\n",
    "l_all_2_counts_sorted = np.sort(l_all_2_counts)[:2500]\n",
    "print(l_all_2_counts_sorted.shape)"
   ]
  },
  {
   "cell_type": "code",
   "execution_count": 63,
   "metadata": {
    "ExecuteTime": {
     "end_time": "2021-05-09T06:44:02.249279Z",
     "start_time": "2021-05-09T06:44:01.297589Z"
    }
   },
   "outputs": [
    {
     "data": {
      "text/plain": [
       "(array([250., 203.,   0., 172.,   0., 160.,   0., 133.,   0., 108.,   0.,\n",
       "        100.,   0., 107.,   0.,  75.,   0.,  76.,   0.,  87.,   0.,  56.,\n",
       "          0.,  55.,   0.,  55.,   0.,  58.,   0.,  39.,   0.,  48.,   0.,\n",
       "         36.,   0.,  40.,   0.,  41.,   0.,  36.,   0.,  39.,   0.,  37.,\n",
       "          0.,  28.,   0.,  33.,   0.,  25.,   0.,  27.,   0.,  19.,   0.,\n",
       "         14.,   0.,  28.,   0.,  24.,   0.,  18.,   0.,  24.,   0.,  16.,\n",
       "          0.,  15.,   0.,  17.,   0.,  14.,   0.,  15.,   0.,  16.,   0.,\n",
       "         21.,   0.,   8.,   0.,  18.,   0.,  11.,   0.,   9.,   0.,  19.,\n",
       "          0.,   8.,   0.,  13.,   0.,  15.,   0.,  11.,   0.,  14.,   0.,\n",
       "          5.,   4.]),\n",
       " array([10.        , 10.5049505 , 11.00990099, 11.51485149, 12.01980198,\n",
       "        12.52475248, 13.02970297, 13.53465347, 14.03960396, 14.54455446,\n",
       "        15.04950495, 15.55445545, 16.05940594, 16.56435644, 17.06930693,\n",
       "        17.57425743, 18.07920792, 18.58415842, 19.08910891, 19.59405941,\n",
       "        20.0990099 , 20.6039604 , 21.10891089, 21.61386139, 22.11881188,\n",
       "        22.62376238, 23.12871287, 23.63366337, 24.13861386, 24.64356436,\n",
       "        25.14851485, 25.65346535, 26.15841584, 26.66336634, 27.16831683,\n",
       "        27.67326733, 28.17821782, 28.68316832, 29.18811881, 29.69306931,\n",
       "        30.1980198 , 30.7029703 , 31.20792079, 31.71287129, 32.21782178,\n",
       "        32.72277228, 33.22772277, 33.73267327, 34.23762376, 34.74257426,\n",
       "        35.24752475, 35.75247525, 36.25742574, 36.76237624, 37.26732673,\n",
       "        37.77227723, 38.27722772, 38.78217822, 39.28712871, 39.79207921,\n",
       "        40.2970297 , 40.8019802 , 41.30693069, 41.81188119, 42.31683168,\n",
       "        42.82178218, 43.32673267, 43.83168317, 44.33663366, 44.84158416,\n",
       "        45.34653465, 45.85148515, 46.35643564, 46.86138614, 47.36633663,\n",
       "        47.87128713, 48.37623762, 48.88118812, 49.38613861, 49.89108911,\n",
       "        50.3960396 , 50.9009901 , 51.40594059, 51.91089109, 52.41584158,\n",
       "        52.92079208, 53.42574257, 53.93069307, 54.43564356, 54.94059406,\n",
       "        55.44554455, 55.95049505, 56.45544554, 56.96039604, 57.46534653,\n",
       "        57.97029703, 58.47524752, 58.98019802, 59.48514851, 59.99009901,\n",
       "        60.4950495 , 61.        ]),\n",
       " <BarContainer object of 101 artists>)"
      ]
     },
     "execution_count": 63,
     "metadata": {},
     "output_type": "execute_result"
    },
    {
     "data": {
      "image/png": "[encoded data removed]",
      "text/plain": [
       "<Figure size 432x288 with 1 Axes>"
      ]
     },
     "metadata": {
      "needs_background": "light"
     },
     "output_type": "display_data"
    }
   ],
   "source": [
    "plt.hist(l_all_2_counts_sorted,101)"
   ]
  },
  {
   "cell_type": "code",
   "execution_count": 64,
   "metadata": {
    "ExecuteTime": {
     "end_time": "2021-05-09T06:44:02.493702Z",
     "start_time": "2021-05-09T06:44:02.256448Z"
    }
   },
   "outputs": [],
   "source": [
    "l_all = X[:-1]"
   ]
  },
  {
   "cell_type": "code",
   "execution_count": null,
   "metadata": {},
   "outputs": [],
   "source": [
    "# Maybe I should do this but with at least another identical answer?\n",
    "# or rather top 1000 labels?"
   ]
  },
  {
   "cell_type": "markdown",
   "metadata": {},
   "source": [
    "# Misra-Gries"
   ]
  },
  {
   "cell_type": "code",
   "execution_count": 65,
   "metadata": {
    "ExecuteTime": {
     "end_time": "2021-05-09T06:44:02.676928Z",
     "start_time": "2021-05-09T06:44:02.505361Z"
    }
   },
   "outputs": [],
   "source": [
    "# Label Array\n",
    "# Is this misra-gries??\n",
    "ratioValue = 0\n",
    "def RLA_mg(l,pf,r=ratioValue,Y=Y_long_train,k=3):\n",
    "    # r = ratio to use real data\n",
    "    la = {l[i]:RE(pf) for i in np.random.randint(0,len(l),size=np.random.randint(0,k))}\n",
    "    for i in la:\n",
    "        if np.random.random() < r:\n",
    "            Xc = Y[:,-1]\n",
    "            x = np.where(Xc == i)[0]\n",
    "            #print(Xc[x])\n",
    "            k = np.random.choice(x)\n",
    "            la[i] = [float(Y[k,3])/255,float(Y[k,4])/255,float(Y[k,5])/255]\n",
    "    return la"
   ]
  },
  {
   "cell_type": "code",
   "execution_count": 66,
   "metadata": {
    "ExecuteTime": {
     "end_time": "2021-05-09T06:44:02.776499Z",
     "start_time": "2021-05-09T06:44:02.684191Z"
    }
   },
   "outputs": [],
   "source": [
    "# Label Array\n",
    "# Is this misra-gries??\n",
    "ratioValue = 1\n",
    "def RLA_mg(l,pf,r=ratioValue,Y=Y_train,k=5):\n",
    "    # r = ratio to use real data\n",
    "    k = 8\n",
    "    la = {}\n",
    "    #np.random.shuffle(Y)\n",
    "    for i in np.random.choice(len(Y),size=k):\n",
    "        if np.random.random() < r:\n",
    "            x = Y[i,-1]\n",
    "            if x not in la:\n",
    "                la[x] = [float(Y[i,3])/255,float(Y[i,4])/255,float(Y[i,5])/255]\n",
    "    return la"
   ]
  },
  {
   "cell_type": "code",
   "execution_count": 67,
   "metadata": {
    "ExecuteTime": {
     "end_time": "2021-05-09T06:44:02.911779Z",
     "start_time": "2021-05-09T06:44:02.785470Z"
    }
   },
   "outputs": [],
   "source": [
    "# Agents\n",
    "def RA_truther_mg(pf,aArgs={'a':0.12,'ratioValue':1},l=l,Y=Y_train):\n",
    "    '''\n",
    "    Create an agent with a random selection of labels with random exemplars\n",
    "    '''\n",
    "    a = aArgs['a']\n",
    "    return AgentTruther(ExemplarLearningModel(LA=RLA_mg(l,pf,1,Y),a=a),pf=pf,l=l,RLA=RLA_mg,Y=Y)\n",
    "\n",
    "#Random Agent Array\n",
    "def RAA_truther_mg(pf,N=5,aArgs={'a':0.12,'ratioValue':1},l=l,Y=Y_train):\n",
    "    agents = [RA_truther_mg(pf,aArgs,l,Y) for i in range(N)] # an array of N random agents\n",
    "    return agents"
   ]
  },
  {
   "cell_type": "markdown",
   "metadata": {},
   "source": [
    "## Exemplar"
   ]
  },
  {
   "cell_type": "code",
   "execution_count": 68,
   "metadata": {
    "ExecuteTime": {
     "end_time": "2021-05-09T06:44:03.019915Z",
     "start_time": "2021-05-09T06:44:02.923769Z"
    }
   },
   "outputs": [],
   "source": [
    "# Agents\n",
    "def RA_mg(pf,aArgs={'a':0.12,'ratioValue':1,'k':3},l=l,Y=Y_train):\n",
    "    '''\n",
    "    Create an agent with a random selection of labels with random exemplars\n",
    "    '''\n",
    "    a = aArgs['a']\n",
    "    k = aArgs['k']\n",
    "    return AgentMisraGries(ExemplarLearningModel(LA=RLA_mg(l,pf,aArgs['ratioValue'],Y,k),a=a),pf=pf,k=k)\n",
    "\n",
    "#Random Agent Array\n",
    "def RAA_mg(pf,N=5,aArgs={'a':0.12,'ratioValue':1,'k':3},l=l,Y=Y_train):\n",
    "    #k = aArgs['k']\n",
    "    agents = [RA_mg(pf,aArgs,l,Y) for i in range(N)] # an array of N random agents\n",
    "    return agents"
   ]
  },
  {
   "cell_type": "code",
   "execution_count": 69,
   "metadata": {
    "ExecuteTime": {
     "end_time": "2021-05-09T06:44:03.133631Z",
     "start_time": "2021-05-09T06:44:03.036761Z"
    }
   },
   "outputs": [],
   "source": [
    "def RAA_et_mg(pf=PF(3),nAgents=None,aArgs={'e1':4,'e2':4},l=l,Y=Y_train):\n",
    "    e1 = aArgs['e1']\n",
    "    e2 = aArgs['e2']\n",
    "    a = aArgs['a']\n",
    "    k = aArgs['k']\n",
    "    return RAA_ensemble(pf=PF(3),nAgents=[e1,e2],RAAs=[RAA_mg,RAA_truther_mg],aArgs=[{'a':a,'k':k,'ratioValue':1},{'a':0.12,'ratioValue':1}],Y=Y,l=l)"
   ]
  },
  {
   "cell_type": "code",
   "execution_count": null,
   "metadata": {
    "ExecuteTime": {
     "end_time": "2021-05-09T01:31:40.114649Z",
     "start_time": "2021-05-08T21:40:08.276Z"
    }
   },
   "outputs": [],
   "source": [
    "# Truths\n",
    "#l = ['blue','green','red','orange','yellow','purple']\n",
    "PltWholeGame('k = 2',millenialPink,nAgents=32,nDifferentGames=4,nIterations=128,aArgs={'a':a_exemplar,'ratioValue':1,'k':2},Metric=TestingAccuracy,X_test=Y_test[:100],RAA=RAA_mg)\n",
    "PltWholeGame('k = 4',mediumAquamarine,nAgents=32,nDifferentGames=4,nIterations=128,aArgs={'a':a_exemplar,'ratioValue':1,'k':4},Metric=TestingAccuracy,X_test=Y_test[:100],RAA=RAA_mg)\n",
    "PltWholeGame('k = 8',orange,nAgents=32,nDifferentGames=4,nIterations=128,aArgs={'a':a_exemplar,'ratioValue':1,'k':8},Metric=TestingAccuracy,X_test=Y_test[:100],RAA=RAA_mg)\n",
    "plt.xlabel('Iterations')\n",
    "plt.ylabel('Testing Agreement Metric')\n",
    "plt.title('Testing Agreement of Exemplar Misra-Gries Agents')\n",
    "plt.legend()\n",
    "plt.savefig('./Images/truthPlot_mg.pdf')\n",
    "plt.show()"
   ]
  },
  {
   "cell_type": "code",
   "execution_count": null,
   "metadata": {
    "ExecuteTime": {
     "end_time": "2021-04-11T15:53:53.880579Z",
     "start_time": "2021-04-11T15:17:20.935265Z"
    }
   },
   "outputs": [],
   "source": [
    "# Truths\n",
    "#l = ['blue','green','red','orange','yellow','purple']\n",
    "PltWholeGame('k = 8',millenialPink,nAgents=32,nDifferentGames=4,nIterations=128,aArgs={'a':a_exemplar,'ratioValue':1,'k':2},Metric=TestingAccuracy,X_test=Y_long_test[:1000],RAA=RAA_mg,l=l_long)\n",
    "PltWholeGame('k = 16',mediumAquamarine,nAgents=32,nDifferentGames=4,nIterations=128,aArgs={'a':a_exemplar,'ratioValue':1,'k':4},Metric=TestingAccuracy,X_test=Y_long_test[:1000],RAA=RAA_mg,l=l_long)\n",
    "PltWholeGame('k = 32',orange,nAgents=32,nDifferentGames=4,nIterations=128,aArgs={'a':a_exemplar,'ratioValue':1,'k':8},Metric=TestingAccuracy,X_test=Y_long_test[:1000],RAA=RAA_mg,l=l_long)\n",
    "plt.xlabel('Iterations')\n",
    "plt.ylabel('Testing Agreement Metric')\n",
    "plt.title('Testing Agreement of Exemplar Misra-Gries Agents')\n",
    "plt.legend()\n",
    "plt.savefig('./Images/truthPlot_mg_long.pdf')\n",
    "plt.show()\n",
    "# Plot point where cross with complete random?\n",
    "# More games to see if full truth is truly detrimental long term\n",
    "# 45 mins for 256 iterations"
   ]
  },
  {
   "cell_type": "code",
   "execution_count": null,
   "metadata": {
    "ExecuteTime": {
     "end_time": "2021-04-11T16:01:27.228492Z",
     "start_time": "2021-04-11T15:59:36.853810Z"
    }
   },
   "outputs": [],
   "source": [
    "# Truths\n",
    "#l = ['blue','green','red','orange','yellow','purple']\n",
    "PltWholeGame('k = 4',millenialPink,nDifferentGames=4,nIterations=8,aArgs={'a':a_exemplar,'e1':16,'e2':4,'k':8},Metric=TestingAccuracy,X_test=Y_long_test[:100],RAA=RAA_et_mg,l=l,Y=Y_train)\n",
    "PltWholeGame('k = 8',mediumAquamarine,nDifferentGames=4,nIterations=8,aArgs={'a':a_exemplar,'e1':16,'e2':4,'k':16},Metric=TestingAccuracy,X_test=Y_long_test[:100],RAA=RAA_et_mg,l=l,Y=Y_train)\n",
    "PltWholeGame('k = 16',orange,nDifferentGames=4,nIterations=8,aArgs={'a':a_exemplar,'e1':16,'e2':4,'k':32},Metric=TestingAccuracy,X_test=Y_long_test[:100],RAA=RAA_et_mg,l=l,Y=Y_train)\n",
    "plt.xlabel('Iterations')\n",
    "plt.ylabel('Testing Agreement Metric')\n",
    "plt.title('Testing Agreement of Exemplar Misra-Gries Agents for Lots of Labels with Parents')\n",
    "plt.legend()\n",
    "#plt.savefig('./Images/truthPlot_mg_parents.pdf')\n",
    "plt.show()"
   ]
  },
  {
   "cell_type": "code",
   "execution_count": null,
   "metadata": {
    "ExecuteTime": {
     "end_time": "2021-04-06T10:18:11.164007Z",
     "start_time": "2021-04-06T09:04:15.977423Z"
    }
   },
   "outputs": [],
   "source": [
    "# Truths\n",
    "#l = ['blue','green','red','orange','yellow','purple']\n",
    "PltWholeGame('k = 8',millenialPink,nDifferentGames=1,nIterations=8,aArgs={'a':a_exemplar,'e1':16,'e2':4,'k':8},Metric=TestingAccuracy,X_test=Y_long_test[:1000],RAA=RAA_et_mg,l=l_long,Y=Y_long_train)\n",
    "PltWholeGame('k = 16',mediumAquamarine,nDifferentGames=1,nIterations=8,aArgs={'a':a_exemplar,'e1':16,'e2':4,'k':16},Metric=TestingAccuracy,X_test=Y_long_test[:1000],RAA=RAA_et_mg,l=l_long,Y=Y_long_train)\n",
    "PltWholeGame('k = 32',orange,nDifferentGames=1,nIterations=8,aArgs={'a':a_exemplar,'e1':16,'e2':4,'k':32},Metric=TestingAccuracy,X_test=Y_long_test[:1000],RAA=RAA_et_mg,l=l_long,Y=Y_long_train)\n",
    "plt.xlabel('Iterations')\n",
    "plt.ylabel('Testing Agreement Metric')\n",
    "plt.title('Testing Agreement of Exemplar Misra-Gries Agents for Lots of Labels with Parents')\n",
    "plt.legend()\n",
    "plt.savefig('./Images/truthPlot_mg_long_parents.pdf')\n",
    "plt.show()"
   ]
  },
  {
   "cell_type": "code",
   "execution_count": null,
   "metadata": {
    "ExecuteTime": {
     "end_time": "2021-04-14T16:59:20.453273Z",
     "start_time": "2021-04-14T16:59:18.736791Z"
    }
   },
   "outputs": [],
   "source": [
    "np.random.shuffle(Y_all_2)"
   ]
  },
  {
   "cell_type": "code",
   "execution_count": null,
   "metadata": {
    "ExecuteTime": {
     "end_time": "2021-04-14T17:21:41.947264Z",
     "start_time": "2021-04-14T17:19:52.326312Z"
    }
   },
   "outputs": [],
   "source": [
    "GameRound(agents,pf)"
   ]
  },
  {
   "cell_type": "code",
   "execution_count": null,
   "metadata": {
    "ExecuteTime": {
     "end_time": "2021-04-14T18:11:53.751698Z",
     "start_time": "2021-04-14T18:11:53.693832Z"
    }
   },
   "outputs": [],
   "source": [
    "agents = RAA_et_mg(pf,aArgs={'a':a_exemplar,'e1':1,'e2':1,'k':32},Y=Y_all_2,l=l_all_2)"
   ]
  },
  {
   "cell_type": "code",
   "execution_count": null,
   "metadata": {
    "ExecuteTime": {
     "end_time": "2021-04-20T15:37:27.036433Z",
     "start_time": "2021-04-20T15:37:26.976752Z"
    }
   },
   "outputs": [],
   "source": [
    "agents = RAA_qt_mg(pf,aArgs={'a':a_exemplar,'e1':1,'e2':1,'k':32},Y=Y_all_2,l=l_all_2)"
   ]
  },
  {
   "cell_type": "code",
   "execution_count": null,
   "metadata": {
    "ExecuteTime": {
     "end_time": "2021-04-20T15:37:28.762026Z",
     "start_time": "2021-04-20T15:37:28.709100Z"
    }
   },
   "outputs": [],
   "source": [
    "A = agents[1]\n",
    "B = agents[0]\n",
    "O = [RE(pf) for i in range(5)] # Random elements for N\n",
    "o = O[-1]\n",
    "print([A,B,O,o])"
   ]
  },
  {
   "cell_type": "code",
   "execution_count": null,
   "metadata": {
    "ExecuteTime": {
     "end_time": "2021-04-21T21:00:38.404844Z",
     "start_time": "2021-04-21T21:00:38.322273Z"
    }
   },
   "outputs": [],
   "source": [
    "a1 = AgentTruther(ExemplarLearningModel(),l=l_all_2,RLA=RLA_mg,Y=Y_all_2)"
   ]
  },
  {
   "cell_type": "code",
   "execution_count": null,
   "metadata": {
    "ExecuteTime": {
     "end_time": "2021-04-20T15:38:41.959988Z",
     "start_time": "2021-04-20T15:38:41.902509Z"
    }
   },
   "outputs": [],
   "source": [
    "DiscriminationGame(B,A,O,o)"
   ]
  },
  {
   "cell_type": "code",
   "execution_count": null,
   "metadata": {
    "ExecuteTime": {
     "end_time": "2021-04-20T15:37:50.317430Z",
     "start_time": "2021-04-20T15:37:50.273254Z"
    }
   },
   "outputs": [],
   "source": [
    "f = A.FindLabel(o)"
   ]
  },
  {
   "cell_type": "code",
   "execution_count": null,
   "metadata": {
    "ExecuteTime": {
     "end_time": "2021-04-20T15:38:23.997999Z",
     "start_time": "2021-04-20T15:38:23.942784Z"
    },
    "scrolled": true
   },
   "outputs": [],
   "source": [
    "A.RLA"
   ]
  },
  {
   "cell_type": "code",
   "execution_count": null,
   "metadata": {
    "ExecuteTime": {
     "end_time": "2021-04-14T17:26:01.821011Z",
     "start_time": "2021-04-14T17:26:01.766414Z"
    }
   },
   "outputs": [],
   "source": [
    "A = RA"
   ]
  },
  {
   "cell_type": "code",
   "execution_count": null,
   "metadata": {
    "ExecuteTime": {
     "end_time": "2021-04-14T17:25:27.744540Z",
     "start_time": "2021-04-14T17:25:27.675335Z"
    },
    "scrolled": true
   },
   "outputs": [],
   "source": [
    "A.RLA"
   ]
  },
  {
   "cell_type": "code",
   "execution_count": null,
   "metadata": {
    "ExecuteTime": {
     "end_time": "2021-04-29T14:04:41.298997Z",
     "start_time": "2021-04-29T14:04:37.761634Z"
    },
    "scrolled": true
   },
   "outputs": [],
   "source": [
    "pf = PF(3)\n",
    "agents = RAA_et_mg(pf,aArgs={'a':a_exemplar,'e1':256,'e2':32,'k':64},Y=Y_all_2,l=l_all_2)\n",
    "pprint(agents[-0].GetLabels())\n",
    "for i in tqdm(range(512)):\n",
    "    GameRound(agents,pf)\n",
    "pprint(agents[0].GetLabels())\n",
    "print(agents[0].LAK)\n",
    "print(agents[0].k)"
   ]
  },
  {
   "cell_type": "code",
   "execution_count": null,
   "metadata": {
    "ExecuteTime": {
     "end_time": "2021-05-09T01:31:40.130227Z",
     "start_time": "2021-05-08T21:40:23.416Z"
    }
   },
   "outputs": [],
   "source": [
    "def clean(LAK):\n",
    "    deletelist = []\n",
    "    for a in LAK:\n",
    "        if LAK[a] == 1:\n",
    "            deletelist.append(a)\n",
    "    for a in deletelist:\n",
    "        del LAK[a]\n",
    "    return LAK\n",
    "        "
   ]
  },
  {
   "cell_type": "code",
   "execution_count": null,
   "metadata": {
    "ExecuteTime": {
     "end_time": "2021-04-14T18:27:37.504763Z",
     "start_time": "2021-04-14T18:27:37.397034Z"
    },
    "scrolled": true
   },
   "outputs": [],
   "source": [
    "pprint(clean(agents[0].LAK))"
   ]
  },
  {
   "cell_type": "code",
   "execution_count": null,
   "metadata": {
    "ExecuteTime": {
     "end_time": "2021-04-24T12:38:11.218042Z",
     "start_time": "2021-04-24T12:38:11.158579Z"
    }
   },
   "outputs": [],
   "source": [
    "#%load_ext autoreload\n",
    "#%autoreload 2\n",
    "\n",
    "# Importing Libraries\n",
    "from agentClass import *\n",
    "#from learningModels import *"
   ]
  },
  {
   "cell_type": "code",
   "execution_count": null,
   "metadata": {
    "ExecuteTime": {
     "end_time": "2021-04-26T08:48:44.758176Z",
     "start_time": "2021-04-26T08:48:14.578940Z"
    },
    "scrolled": true
   },
   "outputs": [],
   "source": [
    "pf = PF(3)\n",
    "agents = RAA_et_mg(pf,aArgs={'a':a_exemplar,'e1':256,'e2':32,'k':128},Y=Y_all_2,l=l_all_2)\n",
    "pprint(agents[-0].GetLabels())\n",
    "print(agents[0].LAK)\n",
    "for i in tqdm(range(2048)):\n",
    "    GameRound(agents,pf)\n",
    "pprint(agents[0].GetLabels())\n",
    "print(agents[0].LAK)\n",
    "print(agents[0].k)"
   ]
  },
  {
   "cell_type": "code",
   "execution_count": null,
   "metadata": {
    "ExecuteTime": {
     "end_time": "2021-04-16T20:29:30.037525Z",
     "start_time": "2021-04-16T20:28:26.863876Z"
    }
   },
   "outputs": [],
   "source": [
    "print(TestingAccuracy(agents[:255],Y_test[:1000]))\n",
    "pprint(agents[0].LAK)\n",
    "print(len(agents[0].LAK))"
   ]
  },
  {
   "cell_type": "code",
   "execution_count": null,
   "metadata": {
    "ExecuteTime": {
     "end_time": "2021-04-16T21:04:56.064357Z",
     "start_time": "2021-04-16T21:04:55.988977Z"
    }
   },
   "outputs": [],
   "source": [
    "ldc = dict(ld)\n",
    "lakc = dict(agents[0].LAK)\n",
    "for i in range(15):\n",
    "    x = MaxArgDict(ldc)\n",
    "    y = MaxArgDict(lakc)\n",
    "    print([y,x])\n",
    "    del ldc[x]\n",
    "    del lakc[y]"
   ]
  },
  {
   "cell_type": "code",
   "execution_count": null,
   "metadata": {
    "ExecuteTime": {
     "end_time": "2021-04-16T20:29:30.179786Z",
     "start_time": "2021-04-16T20:29:30.054570Z"
    }
   },
   "outputs": [],
   "source": [
    "x = list(clean(agents[0].LAK).keys())\n",
    "print(x)\n",
    "print(l)\n",
    "print(set(l)-set(x))\n",
    "print(set(x)&set(l))"
   ]
  },
  {
   "cell_type": "code",
   "execution_count": null,
   "metadata": {
    "ExecuteTime": {
     "end_time": "2021-04-14T16:30:36.667333Z",
     "start_time": "2021-04-14T16:28:15.710178Z"
    }
   },
   "outputs": [],
   "source": [
    "# Truths\n",
    "#l = ['blue','green','red','orange','yellow','purple']\n",
    "PltWholeGame('k = 8',millenialPink,nDifferentGames=1,nIterations=8,aArgs={'a':a_exemplar,'e1':16,'e2':4,'k':8},Metric=TestingAccuracy,X_test=Y_long_test[:1000],RAA=RAA_et_mg,l=l_all_2,Y=Y_all_2)\n",
    "PltWholeGame('k = 16',mediumAquamarine,nDifferentGames=1,nIterations=8,aArgs={'a':a_exemplar,'e1':16,'e2':4,'k':16},Metric=TestingAccuracy,X_test=Y_long_test[:1000],RAA=RAA_et_mg,l=l_all_2,Y=Y_all_2)\n",
    "PltWholeGame('k = 32',orange,nDifferentGames=1,nIterations=8,aArgs={'a':a_exemplar,'e1':16,'e2':4,'k':32},Metric=TestingAccuracy,X_test=Y_long_test[:1000],RAA=RAA_et_mg,l=l_all_2,Y=Y_all_2)\n",
    "plt.xlabel('Iterations')\n",
    "plt.ylabel('Testing Agreement Metric')\n",
    "plt.title('Testing Agreement of Exemplar Misra-Gries Agents for Lots of Labels with Parents')\n",
    "plt.legend()\n",
    "plt.savefig('./Images/truthPlot_mg_long_parents.pdf')\n",
    "plt.show()"
   ]
  },
  {
   "cell_type": "code",
   "execution_count": null,
   "metadata": {
    "ExecuteTime": {
     "end_time": "2021-04-06T20:35:08.770851Z",
     "start_time": "2021-04-06T20:35:08.680148Z"
    }
   },
   "outputs": [],
   "source": [
    "pprint(agents[0].LAK)"
   ]
  },
  {
   "cell_type": "code",
   "execution_count": null,
   "metadata": {
    "ExecuteTime": {
     "end_time": "2021-04-06T17:00:10.201763Z",
     "start_time": "2021-04-06T15:31:17.796Z"
    }
   },
   "outputs": [],
   "source": [
    "print(TestingAccuracy(agents[:],Y_long_test[:100]))"
   ]
  },
  {
   "cell_type": "markdown",
   "metadata": {},
   "source": [
    "## Prototype"
   ]
  },
  {
   "cell_type": "code",
   "execution_count": 70,
   "metadata": {
    "ExecuteTime": {
     "end_time": "2021-05-09T06:44:03.217422Z",
     "start_time": "2021-05-09T06:44:03.143708Z"
    }
   },
   "outputs": [],
   "source": [
    "# Not convinced there's anything different in the mg version?\n",
    "def RLA_bp_mg(l,pf,r,ratioValue=0,Y=Y_train):\n",
    "    # r = ratio to use real data\n",
    "    la = {l[i]:{'c':RE(pf),'sd':RSD(r)} for i in np.random.randint(0,len(l),size=np.random.randint(0,len(l)))}\n",
    "    for i in la:\n",
    "        if np.random.random() < ratioValue:\n",
    "            Xc = Y[:,-1]\n",
    "            x = np.where(Xc == i)[0]\n",
    "            #print(Xc[x])\n",
    "            k = np.random.choice(x)\n",
    "            la[i]['c'] = [float(Y[k,3])/255,float(Y[k,4])/255,float(Y[k,5])/255]\n",
    "    return la"
   ]
  },
  {
   "cell_type": "code",
   "execution_count": 71,
   "metadata": {
    "ExecuteTime": {
     "end_time": "2021-05-09T06:44:03.304196Z",
     "start_time": "2021-05-09T06:44:03.224001Z"
    }
   },
   "outputs": [],
   "source": [
    "# Label Array\n",
    "# Is this misra-gries??\n",
    "ratioValue = 1\n",
    "def RLA_bp_mg(l,pf,r=ratioValue,Y=Y_train,k=5):\n",
    "    # r = ratio to use real data\n",
    "    k = 8\n",
    "    la = {}\n",
    "    #np.random.shuffle(Y)\n",
    "    for i in np.random.choice(len(Y),size=k):\n",
    "        x = Y[i,-1]\n",
    "        if x not in la:\n",
    "            la[x] = {}\n",
    "            la[x]['c'] = [float(Y[i,3])/255,float(Y[i,4])/255,float(Y[i,5])/255]\n",
    "            la[x]['sd'] = np.random.random()\n",
    "    return la"
   ]
  },
  {
   "cell_type": "code",
   "execution_count": null,
   "metadata": {
    "ExecuteTime": {
     "end_time": "2021-04-29T20:53:11.811224Z",
     "start_time": "2021-04-29T20:53:11.621334Z"
    }
   },
   "outputs": [],
   "source": [
    "RLA_bp_mg(l,PF(3),k=10)"
   ]
  },
  {
   "cell_type": "code",
   "execution_count": 72,
   "metadata": {
    "ExecuteTime": {
     "end_time": "2021-05-09T06:44:03.383083Z",
     "start_time": "2021-05-09T06:44:03.312742Z"
    }
   },
   "outputs": [],
   "source": [
    "# Agents_BayesianPrototype\n",
    "def RA_bp_mg(pf,aArgs={'a':a_prototype,'a_sd':a_sd_prototype,'r':[0,0.75],'ratioValue':0,'k':8},l=l,Y=Y_train):\n",
    "    '''\n",
    "    Create an agent with a random selection of labels with random exemplars\n",
    "    '''\n",
    "    a = aArgs['a']\n",
    "    a_sd = aArgs['a_sd']\n",
    "    r = aArgs['r']\n",
    "    k = aArgs['k']\n",
    "    return AgentMisraGries(BayesianPrototypeLearningModel(LA=RLA_bp_mg(l,pf,r=aArgs['ratioValue'],Y=Y),a=a,a_sd=a_sd),pf=pf,k=k)\n",
    "\n",
    "#Random Agent Array\n",
    "def RAA_bp_mg(pf,N=5,aArgs={'a':a_prototype,'a_sd':a_sd_prototype,'r':[0,0.75],'ratioValue':0,'k':8},l=l,Y=Y_train):\n",
    "    agents = [RA_bp_mg(pf,aArgs,l=l,Y=Y) for i in range(N)] # an array of N random agents\n",
    "    return agents"
   ]
  },
  {
   "cell_type": "code",
   "execution_count": 73,
   "metadata": {
    "ExecuteTime": {
     "end_time": "2021-05-09T06:44:03.467363Z",
     "start_time": "2021-05-09T06:44:03.394455Z"
    }
   },
   "outputs": [],
   "source": [
    "def RAA_pt_mg(pf=PF(3),nAgents=None,aArgs={'e1':4,'e2':4,'a':a_prototype,'a_sd':a_sd_prototype,'r':[0,1],'k':5},l=l,Y=Y_train):\n",
    "    e1 = aArgs['e1']\n",
    "    e2 = aArgs['e2']\n",
    "    a = aArgs['a']\n",
    "    a_sd = aArgs['a_sd']\n",
    "    r = aArgs['r']\n",
    "    k = aArgs['k']\n",
    "    return RAA_ensemble(pf=PF(3),nAgents=[e1,e2],RAAs=[RAA_bp_mg,RAA_truther_mg],aArgs=[{'a':a,'a_sd':a_sd,'k':k,'ratioValue':1,'r':r},{'a':0.12,'ratioValue':1}],Y=Y,l=l)"
   ]
  },
  {
   "cell_type": "markdown",
   "metadata": {},
   "source": [
    "## Quantum"
   ]
  },
  {
   "cell_type": "code",
   "execution_count": 74,
   "metadata": {
    "ExecuteTime": {
     "end_time": "2021-05-09T06:44:03.715550Z",
     "start_time": "2021-05-09T06:44:03.476371Z"
    }
   },
   "outputs": [],
   "source": [
    "# Agents\n",
    "def RA_q_mg(pf,aArgs={'a':0.12,'ratioValue':1,'k':3},l=l,Y=Y_train):\n",
    "    '''\n",
    "    Create an agent with a random selection of labels with random exemplars\n",
    "    '''\n",
    "    a = aArgs['a']\n",
    "    k = aArgs['k']\n",
    "    return AgentMisraGries(QuantumAgent(LA=RLA_mg(l,pf,aArgs['ratioValue'],Y,k),a=a),pf=pf,k=k)\n",
    "\n",
    "#Random Agent Array\n",
    "def RAA_q_mg(pf,N=5,aArgs={'a':0.12,'ratioValue':1,'k':3},l=l,Y=Y_train):\n",
    "    #k = aArgs['k']\n",
    "    agents = [RA_q_mg(pf,aArgs,l,Y) for i in range(N)] # an array of N random agents\n",
    "    return agents"
   ]
  },
  {
   "cell_type": "code",
   "execution_count": 75,
   "metadata": {
    "ExecuteTime": {
     "end_time": "2021-05-09T06:44:03.819544Z",
     "start_time": "2021-05-09T06:44:03.730591Z"
    }
   },
   "outputs": [],
   "source": [
    "def RAA_qt_mg(pf=PF(3),nAgents=None,aArgs={'e1':4,'e2':4},l=l,Y=Y_train):\n",
    "    e1 = aArgs['e1']\n",
    "    e2 = aArgs['e2']\n",
    "    a = aArgs['a']\n",
    "    k = aArgs['k']\n",
    "    return RAA_ensemble(pf=PF(3),nAgents=[e1,e2],RAAs=[RAA_q_mg,RAA_truther_mg],aArgs=[{'a':a,'k':k,'ratioValue':1},{'a':0.12,'ratioValue':1}],Y=Y,l=l)"
   ]
  },
  {
   "cell_type": "markdown",
   "metadata": {
    "ExecuteTime": {
     "end_time": "2021-04-30T11:32:08.659178Z",
     "start_time": "2021-04-30T11:32:08.427685Z"
    }
   },
   "source": [
    "### Density Matrix Agents"
   ]
  },
  {
   "cell_type": "code",
   "execution_count": 76,
   "metadata": {
    "ExecuteTime": {
     "end_time": "2021-05-09T06:44:03.921593Z",
     "start_time": "2021-05-09T06:44:03.837012Z"
    }
   },
   "outputs": [],
   "source": [
    "# Agents\n",
    "def RA_dm_mg(pf,aArgs={'a':0.12,'ratioValue':1,'k':3},l=l,Y=Y_train):\n",
    "    '''\n",
    "    Create an agent with a random selection of labels with random exemplars\n",
    "    '''\n",
    "    a = aArgs['a']\n",
    "    k = aArgs['k']\n",
    "    return AgentMisraGries(QuantumAgent_dm(LA=RLA_mg(l,pf,aArgs['ratioValue'],Y,k),a=a),pf=pf,k=k)\n",
    "\n",
    "#Random Agent Array\n",
    "def RAA_dm_mg(pf,N=5,aArgs={'a':0.12,'ratioValue':1,'k':3},l=l,Y=Y_train):\n",
    "    #k = aArgs['k']\n",
    "    agents = [RA_dm_mg(pf,aArgs,l,Y) for i in range(N)] # an array of N random agents\n",
    "    return agents"
   ]
  },
  {
   "cell_type": "code",
   "execution_count": 77,
   "metadata": {
    "ExecuteTime": {
     "end_time": "2021-05-09T06:44:04.109985Z",
     "start_time": "2021-05-09T06:44:03.980791Z"
    }
   },
   "outputs": [],
   "source": [
    "def RAA_dmt_mg(pf=PF(3),nAgents=None,aArgs={'e1':4,'e2':4},l=l,Y=Y_train):\n",
    "    e1 = aArgs['e1']\n",
    "    e2 = aArgs['e2']\n",
    "    a = aArgs['a']\n",
    "    k = aArgs['k']\n",
    "    return RAA_ensemble(pf=PF(3),nAgents=[e1,e2],RAAs=[RAA_dm_mg,RAA_truther_mg],aArgs=[{'a':a,'k':k,'ratioValue':1},{'a':0.12,'ratioValue':1}],Y=Y,l=l)"
   ]
  },
  {
   "cell_type": "markdown",
   "metadata": {},
   "source": [
    "### quantum Vector"
   ]
  },
  {
   "cell_type": "code",
   "execution_count": 78,
   "metadata": {
    "ExecuteTime": {
     "end_time": "2021-05-09T06:44:04.200232Z",
     "start_time": "2021-05-09T06:44:04.117354Z"
    }
   },
   "outputs": [],
   "source": [
    "# Agents\n",
    "def RA_qv_mg(pf,aArgs={'a':0.12,'ratioValue':1,'k':3},l=l,Y=Y_train):\n",
    "    '''\n",
    "    Create an agent with a random selection of labels with random exemplars\n",
    "    '''\n",
    "    a = aArgs['a']\n",
    "    k = aArgs['k']\n",
    "    return AgentMisraGries(QuantumVectorAgent(LA=RLA_mg(l,pf,aArgs['ratioValue'],Y,k),a=a),pf=pf,k=k)\n",
    "\n",
    "#Random Agent Array\n",
    "def RAA_qv_mg(pf,N=5,aArgs={'a':0.12,'ratioValue':1,'k':3},l=l,Y=Y_train):\n",
    "    #k = aArgs['k']\n",
    "    agents = [RA_qv_mg(pf,aArgs,l,Y) for i in range(N)] # an array of N random agents\n",
    "    return agents"
   ]
  },
  {
   "cell_type": "code",
   "execution_count": 79,
   "metadata": {
    "ExecuteTime": {
     "end_time": "2021-05-09T06:44:04.328747Z",
     "start_time": "2021-05-09T06:44:04.216686Z"
    }
   },
   "outputs": [],
   "source": [
    "def RAA_qvt_mg(pf=PF(3),nAgents=None,aArgs={'e1':4,'e2':4},l=l,Y=Y_train):\n",
    "    e1 = aArgs['e1']\n",
    "    e2 = aArgs['e2']\n",
    "    a = aArgs['a']\n",
    "    k = aArgs['k']\n",
    "    return RAA_ensemble(pf=PF(3),nAgents=[e1,e2],RAAs=[RAA_qv_mg,RAA_truther_mg],aArgs=[{'a':a,'k':k,'ratioValue':1},{'a':0.12,'ratioValue':1}],Y=Y,l=l)"
   ]
  },
  {
   "cell_type": "markdown",
   "metadata": {},
   "source": [
    "## Plots"
   ]
  },
  {
   "cell_type": "code",
   "execution_count": 80,
   "metadata": {
    "ExecuteTime": {
     "end_time": "2021-05-09T06:44:04.444931Z",
     "start_time": "2021-05-09T06:44:04.336294Z"
    }
   },
   "outputs": [],
   "source": [
    "def MGColsDict(RAA,nDifferentGames=nDG,nIterations=nI,nAgents=nA,aArgs={'a':0.12,'ratioValue':1,'k':32,'e1':64,'e2':64},l=l,Y=Y_train,pf=PF(3)):\n",
    "    resultsWhole = {}\n",
    "    for i in tqdm(range(nDifferentGames),leave=False):\n",
    "        rTemp = {}\n",
    "        agents = RAA(pf,nAgents,aArgs,l,Y)\n",
    "        for j in range(nIterations):\n",
    "            cols = {}\n",
    "            for a in agents:\n",
    "                try:\n",
    "                    for c in a.LAK:\n",
    "                        cols[c] = cols.get(c,0) + a.LAK[c]\n",
    "                except:\n",
    "                    None #print('error')\n",
    "            for c in set(list(cols.keys()))|set(list(rTemp.keys())):\n",
    "                rTemp[c] = np.append(rTemp.get(c,np.zeros(j)),cols.get(c,0))\n",
    "                #print(len(rTemp[c]))\n",
    "            GameRound(agents,pf)\n",
    "        for c in set(list(rTemp.keys()))|set(list(resultsWhole.keys())):\n",
    "            #print(c)\n",
    "            #print(resultsWhole.get(c,np.zeros((i,nIterations))))\n",
    "            #print(rTemp.get(c,np.zeros(nIterations)))\n",
    "            resultsWhole[c] = np.append(resultsWhole.get(c,np.zeros((i,nIterations))),[rTemp.get(c,np.zeros(nIterations))],axis=0)\n",
    "    return resultsWhole"
   ]
  },
  {
   "cell_type": "markdown",
   "metadata": {},
   "source": [
    "### Iterations"
   ]
  },
  {
   "cell_type": "code",
   "execution_count": 81,
   "metadata": {
    "ExecuteTime": {
     "end_time": "2021-05-09T06:44:13.572599Z",
     "start_time": "2021-05-09T06:44:04.459453Z"
    },
    "scrolled": true
   },
   "outputs": [
    {
     "data": {
      "application/vnd.jupyter.widget-view+json": {
       "model_id": "82027dc0a96e46da8783475b2caa3cd3",
       "version_major": 2,
       "version_minor": 0
      },
      "text/plain": [
       "HBox(children=(HTML(value=''), FloatProgress(value=0.0, max=16.0), HTML(value='')))"
      ]
     },
     "metadata": {},
     "output_type": "display_data"
    },
    {
     "ename": "KeyboardInterrupt",
     "evalue": "",
     "output_type": "error",
     "traceback": [
      "\u001b[0;31m---------------------------------------------------------------------------\u001b[0m",
      "\u001b[0;31mKeyboardInterrupt\u001b[0m                         Traceback (most recent call last)",
      "\u001b[0;32m<ipython-input-81-3685971e46ec>\u001b[0m in \u001b[0;36m<module>\u001b[0;34m\u001b[0m\n\u001b[0;32m----> 1\u001b[0;31m \u001b[0mx\u001b[0m \u001b[0;34m=\u001b[0m \u001b[0mMGColsDict\u001b[0m\u001b[0;34m(\u001b[0m\u001b[0mRAA_et_mg\u001b[0m\u001b[0;34m,\u001b[0m\u001b[0ml\u001b[0m\u001b[0;34m=\u001b[0m\u001b[0ml_all_2\u001b[0m\u001b[0;34m,\u001b[0m\u001b[0mY\u001b[0m\u001b[0;34m=\u001b[0m\u001b[0mY_all_2\u001b[0m\u001b[0;34m,\u001b[0m\u001b[0mnDifferentGames\u001b[0m\u001b[0;34m=\u001b[0m\u001b[0;36m16\u001b[0m\u001b[0;34m,\u001b[0m\u001b[0mnIterations\u001b[0m\u001b[0;34m=\u001b[0m\u001b[0;36m512\u001b[0m\u001b[0;34m)\u001b[0m\u001b[0;34m\u001b[0m\u001b[0;34m\u001b[0m\u001b[0m\n\u001b[0m\u001b[1;32m      2\u001b[0m \u001b[0;31m#pprint(x.keys())\u001b[0m\u001b[0;34m\u001b[0m\u001b[0;34m\u001b[0m\u001b[0;34m\u001b[0m\u001b[0m\n",
      "\u001b[0;32m<ipython-input-80-978c463056c4>\u001b[0m in \u001b[0;36mMGColsDict\u001b[0;34m(RAA, nDifferentGames, nIterations, nAgents, aArgs, l, Y, pf)\u001b[0m\n\u001b[1;32m     15\u001b[0m                 \u001b[0mrTemp\u001b[0m\u001b[0;34m[\u001b[0m\u001b[0mc\u001b[0m\u001b[0;34m]\u001b[0m \u001b[0;34m=\u001b[0m \u001b[0mnp\u001b[0m\u001b[0;34m.\u001b[0m\u001b[0mappend\u001b[0m\u001b[0;34m(\u001b[0m\u001b[0mrTemp\u001b[0m\u001b[0;34m.\u001b[0m\u001b[0mget\u001b[0m\u001b[0;34m(\u001b[0m\u001b[0mc\u001b[0m\u001b[0;34m,\u001b[0m\u001b[0mnp\u001b[0m\u001b[0;34m.\u001b[0m\u001b[0mzeros\u001b[0m\u001b[0;34m(\u001b[0m\u001b[0mj\u001b[0m\u001b[0;34m)\u001b[0m\u001b[0;34m)\u001b[0m\u001b[0;34m,\u001b[0m\u001b[0mcols\u001b[0m\u001b[0;34m.\u001b[0m\u001b[0mget\u001b[0m\u001b[0;34m(\u001b[0m\u001b[0mc\u001b[0m\u001b[0;34m,\u001b[0m\u001b[0;36m0\u001b[0m\u001b[0;34m)\u001b[0m\u001b[0;34m)\u001b[0m\u001b[0;34m\u001b[0m\u001b[0;34m\u001b[0m\u001b[0m\n\u001b[1;32m     16\u001b[0m                 \u001b[0;31m#print(len(rTemp[c]))\u001b[0m\u001b[0;34m\u001b[0m\u001b[0;34m\u001b[0m\u001b[0;34m\u001b[0m\u001b[0m\n\u001b[0;32m---> 17\u001b[0;31m             \u001b[0mGameRound\u001b[0m\u001b[0;34m(\u001b[0m\u001b[0magents\u001b[0m\u001b[0;34m,\u001b[0m\u001b[0mpf\u001b[0m\u001b[0;34m)\u001b[0m\u001b[0;34m\u001b[0m\u001b[0;34m\u001b[0m\u001b[0m\n\u001b[0m\u001b[1;32m     18\u001b[0m         \u001b[0;32mfor\u001b[0m \u001b[0mc\u001b[0m \u001b[0;32min\u001b[0m \u001b[0mset\u001b[0m\u001b[0;34m(\u001b[0m\u001b[0mlist\u001b[0m\u001b[0;34m(\u001b[0m\u001b[0mrTemp\u001b[0m\u001b[0;34m.\u001b[0m\u001b[0mkeys\u001b[0m\u001b[0;34m(\u001b[0m\u001b[0;34m)\u001b[0m\u001b[0;34m)\u001b[0m\u001b[0;34m)\u001b[0m\u001b[0;34m|\u001b[0m\u001b[0mset\u001b[0m\u001b[0;34m(\u001b[0m\u001b[0mlist\u001b[0m\u001b[0;34m(\u001b[0m\u001b[0mresultsWhole\u001b[0m\u001b[0;34m.\u001b[0m\u001b[0mkeys\u001b[0m\u001b[0;34m(\u001b[0m\u001b[0;34m)\u001b[0m\u001b[0;34m)\u001b[0m\u001b[0;34m)\u001b[0m\u001b[0;34m:\u001b[0m\u001b[0;34m\u001b[0m\u001b[0;34m\u001b[0m\u001b[0m\n\u001b[1;32m     19\u001b[0m             \u001b[0;31m#print(c)\u001b[0m\u001b[0;34m\u001b[0m\u001b[0;34m\u001b[0m\u001b[0;34m\u001b[0m\u001b[0m\n",
      "\u001b[0;32m<ipython-input-32-08bd2c18d735>\u001b[0m in \u001b[0;36mGameRound\u001b[0;34m(agents, pf)\u001b[0m\n\u001b[1;32m      4\u001b[0m         \u001b[0magents\u001b[0m\u001b[0;34m.\u001b[0m\u001b[0mremove\u001b[0m\u001b[0;34m(\u001b[0m\u001b[0mA\u001b[0m\u001b[0;34m)\u001b[0m\u001b[0;34m\u001b[0m\u001b[0;34m\u001b[0m\u001b[0m\n\u001b[1;32m      5\u001b[0m         \u001b[0mB\u001b[0m \u001b[0;34m=\u001b[0m \u001b[0mnp\u001b[0m\u001b[0;34m.\u001b[0m\u001b[0mrandom\u001b[0m\u001b[0;34m.\u001b[0m\u001b[0mchoice\u001b[0m\u001b[0;34m(\u001b[0m\u001b[0magents\u001b[0m\u001b[0;34m)\u001b[0m\u001b[0;34m\u001b[0m\u001b[0;34m\u001b[0m\u001b[0m\n\u001b[0;32m----> 6\u001b[0;31m         \u001b[0mDiscriminationGameRound\u001b[0m\u001b[0;34m(\u001b[0m\u001b[0mA\u001b[0m\u001b[0;34m,\u001b[0m\u001b[0mB\u001b[0m\u001b[0;34m,\u001b[0m\u001b[0mpf\u001b[0m\u001b[0;34m)\u001b[0m\u001b[0;34m\u001b[0m\u001b[0;34m\u001b[0m\u001b[0m\n\u001b[0m\u001b[1;32m      7\u001b[0m         \u001b[0magents\u001b[0m\u001b[0;34m.\u001b[0m\u001b[0mappend\u001b[0m\u001b[0;34m(\u001b[0m\u001b[0mA\u001b[0m\u001b[0;34m)\u001b[0m\u001b[0;34m\u001b[0m\u001b[0;34m\u001b[0m\u001b[0m\n\u001b[1;32m      8\u001b[0m \u001b[0;34m\u001b[0m\u001b[0m\n",
      "\u001b[0;32m<ipython-input-11-18c7e0e19802>\u001b[0m in \u001b[0;36mDiscriminationGameRound\u001b[0;34m(A, B, pf, N)\u001b[0m\n\u001b[1;32m      8\u001b[0m \u001b[0;31m# Play a round with a random selection of elements\u001b[0m\u001b[0;34m\u001b[0m\u001b[0;34m\u001b[0m\u001b[0;34m\u001b[0m\u001b[0m\n\u001b[1;32m      9\u001b[0m \u001b[0;32mdef\u001b[0m \u001b[0mDiscriminationGameRound\u001b[0m\u001b[0;34m(\u001b[0m\u001b[0mA\u001b[0m\u001b[0;34m,\u001b[0m\u001b[0mB\u001b[0m\u001b[0;34m,\u001b[0m\u001b[0mpf\u001b[0m\u001b[0;34m,\u001b[0m\u001b[0mN\u001b[0m\u001b[0;34m=\u001b[0m\u001b[0;36m5\u001b[0m\u001b[0;34m)\u001b[0m\u001b[0;34m:\u001b[0m\u001b[0;34m\u001b[0m\u001b[0;34m\u001b[0m\u001b[0m\n\u001b[0;32m---> 10\u001b[0;31m     \u001b[0mO\u001b[0m \u001b[0;34m=\u001b[0m \u001b[0;34m[\u001b[0m\u001b[0mRE\u001b[0m\u001b[0;34m(\u001b[0m\u001b[0mpf\u001b[0m\u001b[0;34m)\u001b[0m \u001b[0;32mfor\u001b[0m \u001b[0mi\u001b[0m \u001b[0;32min\u001b[0m \u001b[0mrange\u001b[0m\u001b[0;34m(\u001b[0m\u001b[0mN\u001b[0m\u001b[0;34m)\u001b[0m\u001b[0;34m]\u001b[0m \u001b[0;31m# Random elements for N\u001b[0m\u001b[0;34m\u001b[0m\u001b[0;34m\u001b[0m\u001b[0m\n\u001b[0m\u001b[1;32m     11\u001b[0m     \u001b[0mo\u001b[0m \u001b[0;34m=\u001b[0m \u001b[0mO\u001b[0m\u001b[0;34m[\u001b[0m\u001b[0;34m-\u001b[0m\u001b[0;36m1\u001b[0m\u001b[0;34m]\u001b[0m\u001b[0;34m\u001b[0m\u001b[0;34m\u001b[0m\u001b[0m\n\u001b[1;32m     12\u001b[0m     \u001b[0mDiscriminationGame\u001b[0m\u001b[0;34m(\u001b[0m\u001b[0mA\u001b[0m\u001b[0;34m,\u001b[0m\u001b[0mB\u001b[0m\u001b[0;34m,\u001b[0m\u001b[0mO\u001b[0m\u001b[0;34m,\u001b[0m\u001b[0mo\u001b[0m\u001b[0;34m)\u001b[0m\u001b[0;34m\u001b[0m\u001b[0;34m\u001b[0m\u001b[0m\n",
      "\u001b[0;32m<ipython-input-11-18c7e0e19802>\u001b[0m in \u001b[0;36m<listcomp>\u001b[0;34m(.0)\u001b[0m\n\u001b[1;32m      8\u001b[0m \u001b[0;31m# Play a round with a random selection of elements\u001b[0m\u001b[0;34m\u001b[0m\u001b[0;34m\u001b[0m\u001b[0;34m\u001b[0m\u001b[0m\n\u001b[1;32m      9\u001b[0m \u001b[0;32mdef\u001b[0m \u001b[0mDiscriminationGameRound\u001b[0m\u001b[0;34m(\u001b[0m\u001b[0mA\u001b[0m\u001b[0;34m,\u001b[0m\u001b[0mB\u001b[0m\u001b[0;34m,\u001b[0m\u001b[0mpf\u001b[0m\u001b[0;34m,\u001b[0m\u001b[0mN\u001b[0m\u001b[0;34m=\u001b[0m\u001b[0;36m5\u001b[0m\u001b[0;34m)\u001b[0m\u001b[0;34m:\u001b[0m\u001b[0;34m\u001b[0m\u001b[0;34m\u001b[0m\u001b[0m\n\u001b[0;32m---> 10\u001b[0;31m     \u001b[0mO\u001b[0m \u001b[0;34m=\u001b[0m \u001b[0;34m[\u001b[0m\u001b[0mRE\u001b[0m\u001b[0;34m(\u001b[0m\u001b[0mpf\u001b[0m\u001b[0;34m)\u001b[0m \u001b[0;32mfor\u001b[0m \u001b[0mi\u001b[0m \u001b[0;32min\u001b[0m \u001b[0mrange\u001b[0m\u001b[0;34m(\u001b[0m\u001b[0mN\u001b[0m\u001b[0;34m)\u001b[0m\u001b[0;34m]\u001b[0m \u001b[0;31m# Random elements for N\u001b[0m\u001b[0;34m\u001b[0m\u001b[0;34m\u001b[0m\u001b[0m\n\u001b[0m\u001b[1;32m     11\u001b[0m     \u001b[0mo\u001b[0m \u001b[0;34m=\u001b[0m \u001b[0mO\u001b[0m\u001b[0;34m[\u001b[0m\u001b[0;34m-\u001b[0m\u001b[0;36m1\u001b[0m\u001b[0;34m]\u001b[0m\u001b[0;34m\u001b[0m\u001b[0;34m\u001b[0m\u001b[0m\n\u001b[1;32m     12\u001b[0m     \u001b[0mDiscriminationGame\u001b[0m\u001b[0;34m(\u001b[0m\u001b[0mA\u001b[0m\u001b[0;34m,\u001b[0m\u001b[0mB\u001b[0m\u001b[0;34m,\u001b[0m\u001b[0mO\u001b[0m\u001b[0;34m,\u001b[0m\u001b[0mo\u001b[0m\u001b[0;34m)\u001b[0m\u001b[0;34m\u001b[0m\u001b[0;34m\u001b[0m\u001b[0m\n",
      "\u001b[0;32m<ipython-input-11-18c7e0e19802>\u001b[0m in \u001b[0;36mRE\u001b[0;34m(playingField)\u001b[0m\n\u001b[1;32m      4\u001b[0m \u001b[0;31m# This seems an ugly way to do it\u001b[0m\u001b[0;34m\u001b[0m\u001b[0;34m\u001b[0m\u001b[0;34m\u001b[0m\u001b[0m\n\u001b[1;32m      5\u001b[0m \u001b[0;32mdef\u001b[0m \u001b[0mRE\u001b[0m\u001b[0;34m(\u001b[0m\u001b[0mplayingField\u001b[0m\u001b[0;34m)\u001b[0m\u001b[0;34m:\u001b[0m\u001b[0;34m\u001b[0m\u001b[0;34m\u001b[0m\u001b[0m\n\u001b[0;32m----> 6\u001b[0;31m     \u001b[0;32mreturn\u001b[0m \u001b[0mnp\u001b[0m\u001b[0;34m.\u001b[0m\u001b[0mrandom\u001b[0m\u001b[0;34m.\u001b[0m\u001b[0muniform\u001b[0m\u001b[0;34m(\u001b[0m\u001b[0mplayingField\u001b[0m\u001b[0;34m[\u001b[0m\u001b[0;36m0\u001b[0m\u001b[0;34m]\u001b[0m\u001b[0;34m,\u001b[0m\u001b[0mplayingField\u001b[0m\u001b[0;34m[\u001b[0m\u001b[0;36m1\u001b[0m\u001b[0;34m]\u001b[0m\u001b[0;34m)\u001b[0m\u001b[0;34m\u001b[0m\u001b[0;34m\u001b[0m\u001b[0m\n\u001b[0m\u001b[1;32m      7\u001b[0m \u001b[0;34m\u001b[0m\u001b[0m\n\u001b[1;32m      8\u001b[0m \u001b[0;31m# Play a round with a random selection of elements\u001b[0m\u001b[0;34m\u001b[0m\u001b[0;34m\u001b[0m\u001b[0;34m\u001b[0m\u001b[0m\n",
      "\u001b[0;32mmtrand.pyx\u001b[0m in \u001b[0;36mnumpy.random.mtrand.RandomState.uniform\u001b[0;34m()\u001b[0m\n",
      "\u001b[0;32m<__array_function__ internals>\u001b[0m in \u001b[0;36mall\u001b[0;34m(*args, **kwargs)\u001b[0m\n",
      "\u001b[0;32m/usr/local/anaconda3/envs/fyp/lib/python3.6/site-packages/numpy/core/fromnumeric.py\u001b[0m in \u001b[0;36mall\u001b[0;34m(a, axis, out, keepdims)\u001b[0m\n\u001b[1;32m   2396\u001b[0m \u001b[0;34m\u001b[0m\u001b[0m\n\u001b[1;32m   2397\u001b[0m     \"\"\"\n\u001b[0;32m-> 2398\u001b[0;31m     \u001b[0;32mreturn\u001b[0m \u001b[0m_wrapreduction\u001b[0m\u001b[0;34m(\u001b[0m\u001b[0ma\u001b[0m\u001b[0;34m,\u001b[0m \u001b[0mnp\u001b[0m\u001b[0;34m.\u001b[0m\u001b[0mlogical_and\u001b[0m\u001b[0;34m,\u001b[0m \u001b[0;34m'all'\u001b[0m\u001b[0;34m,\u001b[0m \u001b[0maxis\u001b[0m\u001b[0;34m,\u001b[0m \u001b[0;32mNone\u001b[0m\u001b[0;34m,\u001b[0m \u001b[0mout\u001b[0m\u001b[0;34m,\u001b[0m \u001b[0mkeepdims\u001b[0m\u001b[0;34m=\u001b[0m\u001b[0mkeepdims\u001b[0m\u001b[0;34m)\u001b[0m\u001b[0;34m\u001b[0m\u001b[0;34m\u001b[0m\u001b[0m\n\u001b[0m\u001b[1;32m   2399\u001b[0m \u001b[0;34m\u001b[0m\u001b[0m\n\u001b[1;32m   2400\u001b[0m \u001b[0;34m\u001b[0m\u001b[0m\n",
      "\u001b[0;32m/usr/local/anaconda3/envs/fyp/lib/python3.6/site-packages/numpy/core/fromnumeric.py\u001b[0m in \u001b[0;36m_wrapreduction\u001b[0;34m(obj, ufunc, method, axis, dtype, out, **kwargs)\u001b[0m\n\u001b[1;32m     71\u001b[0m \u001b[0;34m\u001b[0m\u001b[0m\n\u001b[1;32m     72\u001b[0m \u001b[0;34m\u001b[0m\u001b[0m\n\u001b[0;32m---> 73\u001b[0;31m \u001b[0;32mdef\u001b[0m \u001b[0m_wrapreduction\u001b[0m\u001b[0;34m(\u001b[0m\u001b[0mobj\u001b[0m\u001b[0;34m,\u001b[0m \u001b[0mufunc\u001b[0m\u001b[0;34m,\u001b[0m \u001b[0mmethod\u001b[0m\u001b[0;34m,\u001b[0m \u001b[0maxis\u001b[0m\u001b[0;34m,\u001b[0m \u001b[0mdtype\u001b[0m\u001b[0;34m,\u001b[0m \u001b[0mout\u001b[0m\u001b[0;34m,\u001b[0m \u001b[0;34m**\u001b[0m\u001b[0mkwargs\u001b[0m\u001b[0;34m)\u001b[0m\u001b[0;34m:\u001b[0m\u001b[0;34m\u001b[0m\u001b[0;34m\u001b[0m\u001b[0m\n\u001b[0m\u001b[1;32m     74\u001b[0m     passkwargs = {k: v for k, v in kwargs.items()\n\u001b[1;32m     75\u001b[0m                   if v is not np._NoValue}\n",
      "\u001b[0;31mKeyboardInterrupt\u001b[0m: "
     ]
    }
   ],
   "source": [
    "x = MGColsDict(RAA_et_mg,l=l_all_2,Y=Y_all_2,nDifferentGames=16,nIterations=512)\n",
    "#pprint(x.keys())"
   ]
  },
  {
   "cell_type": "code",
   "execution_count": null,
   "metadata": {
    "ExecuteTime": {
     "end_time": "2021-05-02T13:52:06.983168Z",
     "start_time": "2021-05-02T13:52:05.670314Z"
    }
   },
   "outputs": [],
   "source": [
    "al = 1/16\n",
    "\n",
    "for c in set(list(x.keys()))&set(l_long):\n",
    "    resultsAvg = np.mean(x[c],axis=0)\n",
    "    #print(resultsAvg)\n",
    "    resultsVar = np.sqrt(np.var(x[c],axis=0))\n",
    "    plt.plot(range(resultsAvg.shape[0]),resultsAvg,c=c,label=c)\n",
    "    # Use a # of s.d.?\n",
    "    plt.fill_between(range(resultsAvg.shape[0]),resultsAvg-resultsVar,resultsAvg+resultsVar,color=c,alpha=al,linewidth=0.0)\n",
    "    #plt.plot(y,linestyle='none',marker='.',c=c,alpha=al)\n",
    "plt.ylabel('$k$-values')\n",
    "plt.xlabel('Iteration')\n",
    "plt.savefig('./Images/mgColsEx.pdf')\n",
    "plt.show()"
   ]
  },
  {
   "cell_type": "code",
   "execution_count": null,
   "metadata": {
    "ExecuteTime": {
     "end_time": "2021-05-02T11:23:20.544023Z",
     "start_time": "2021-05-02T11:23:20.379528Z"
    }
   },
   "outputs": [],
   "source": [
    "print(x['blue'])"
   ]
  },
  {
   "cell_type": "code",
   "execution_count": null,
   "metadata": {
    "ExecuteTime": {
     "end_time": "2021-05-02T11:23:20.595279Z",
     "start_time": "2021-05-02T11:23:20.550612Z"
    }
   },
   "outputs": [],
   "source": [
    "print(len(l_all_2))"
   ]
  },
  {
   "cell_type": "code",
   "execution_count": null,
   "metadata": {
    "ExecuteTime": {
     "end_time": "2021-04-24T16:11:12.325157Z",
     "start_time": "2021-04-24T16:11:11.198382Z"
    }
   },
   "outputs": [],
   "source": [
    "al = 1/16\n",
    "\n",
    "for c in set(list(x.keys()))&set(l_long):\n",
    "    resultsAvg = np.mean(x[c],axis=0)\n",
    "    #print(resultsAvg)\n",
    "    resultsVar = np.sqrt(np.var(x[c],axis=0))\n",
    "    plt.plot(range(resultsAvg.shape[0]),resultsAvg,c=c,label=c)\n",
    "    # Use a # of s.d.?\n",
    "    plt.fill_between(range(resultsAvg.shape[0]),resultsAvg-resultsVar,resultsAvg+resultsVar,color=c,alpha=al,linewidth=0.0)\n",
    "    #plt.plot(y,linestyle='none',marker='.',c=c,alpha=al)\n",
    "plt.ylim(bottom=1)\n",
    "plt.yscale('log')\n",
    "plt.show()"
   ]
  },
  {
   "cell_type": "markdown",
   "metadata": {
    "ExecuteTime": {
     "end_time": "2021-04-24T14:59:47.350372Z",
     "start_time": "2021-04-24T14:59:47.299116Z"
    }
   },
   "source": [
    "### k-bifurcation"
   ]
  },
  {
   "cell_type": "code",
   "execution_count": 83,
   "metadata": {
    "ExecuteTime": {
     "end_time": "2021-05-09T06:44:33.643942Z",
     "start_time": "2021-05-09T06:44:33.577733Z"
    }
   },
   "outputs": [],
   "source": [
    "def kMGResults(k):\n",
    "    return MGColsDict(RAA_et_mg,l=l_all_2,Y=Y_all_2,nDifferentGames=16,nIterations=256,aArgs={'a':0.12,'ratioValue':1,'k':k,'e1':32,'e2':32},pf=PF(3))"
   ]
  },
  {
   "cell_type": "code",
   "execution_count": 84,
   "metadata": {
    "ExecuteTime": {
     "end_time": "2021-05-09T06:45:15.410989Z",
     "start_time": "2021-05-09T06:44:35.974694Z"
    }
   },
   "outputs": [
    {
     "data": {
      "application/vnd.jupyter.widget-view+json": {
       "model_id": "f3ab3be798dc4fe78b6efc7dd0ab2613",
       "version_major": 2,
       "version_minor": 0
      },
      "text/plain": [
       "HBox(children=(HTML(value=''), FloatProgress(value=0.0, max=128.0), HTML(value='')))"
      ]
     },
     "metadata": {},
     "output_type": "display_data"
    },
    {
     "data": {
      "application/vnd.jupyter.widget-view+json": {
       "model_id": "3aa6938c0d084df1b4a7103d47c20027",
       "version_major": 2,
       "version_minor": 0
      },
      "text/plain": [
       "HBox(children=(HTML(value=''), FloatProgress(value=0.0, max=16.0), HTML(value='')))"
      ]
     },
     "metadata": {},
     "output_type": "display_data"
    },
    {
     "ename": "KeyboardInterrupt",
     "evalue": "",
     "output_type": "error",
     "traceback": [
      "\u001b[0;31m---------------------------------------------------------------------------\u001b[0m",
      "\u001b[0;31mKeyboardInterrupt\u001b[0m                         Traceback (most recent call last)",
      "\u001b[0;32m<ipython-input-84-77326ae9dc33>\u001b[0m in \u001b[0;36m<module>\u001b[0;34m\u001b[0m\n\u001b[1;32m      1\u001b[0m \u001b[0mks\u001b[0m \u001b[0;34m=\u001b[0m \u001b[0mlist\u001b[0m\u001b[0;34m(\u001b[0m\u001b[0mrange\u001b[0m\u001b[0;34m(\u001b[0m\u001b[0;36m128\u001b[0m\u001b[0;34m)\u001b[0m\u001b[0;34m)\u001b[0m\u001b[0;34m\u001b[0m\u001b[0;34m\u001b[0m\u001b[0m\n\u001b[0;32m----> 2\u001b[0;31m \u001b[0mresults_k\u001b[0m \u001b[0;34m=\u001b[0m \u001b[0;34m[\u001b[0m\u001b[0mkMGResults\u001b[0m\u001b[0;34m(\u001b[0m\u001b[0mk\u001b[0m\u001b[0;34m)\u001b[0m \u001b[0;32mfor\u001b[0m \u001b[0mk\u001b[0m \u001b[0;32min\u001b[0m \u001b[0mtqdm\u001b[0m\u001b[0;34m(\u001b[0m\u001b[0mks\u001b[0m\u001b[0;34m)\u001b[0m\u001b[0;34m]\u001b[0m\u001b[0;34m\u001b[0m\u001b[0;34m\u001b[0m\u001b[0m\n\u001b[0m",
      "\u001b[0;32m<ipython-input-84-77326ae9dc33>\u001b[0m in \u001b[0;36m<listcomp>\u001b[0;34m(.0)\u001b[0m\n\u001b[1;32m      1\u001b[0m \u001b[0mks\u001b[0m \u001b[0;34m=\u001b[0m \u001b[0mlist\u001b[0m\u001b[0;34m(\u001b[0m\u001b[0mrange\u001b[0m\u001b[0;34m(\u001b[0m\u001b[0;36m128\u001b[0m\u001b[0;34m)\u001b[0m\u001b[0;34m)\u001b[0m\u001b[0;34m\u001b[0m\u001b[0;34m\u001b[0m\u001b[0m\n\u001b[0;32m----> 2\u001b[0;31m \u001b[0mresults_k\u001b[0m \u001b[0;34m=\u001b[0m \u001b[0;34m[\u001b[0m\u001b[0mkMGResults\u001b[0m\u001b[0;34m(\u001b[0m\u001b[0mk\u001b[0m\u001b[0;34m)\u001b[0m \u001b[0;32mfor\u001b[0m \u001b[0mk\u001b[0m \u001b[0;32min\u001b[0m \u001b[0mtqdm\u001b[0m\u001b[0;34m(\u001b[0m\u001b[0mks\u001b[0m\u001b[0;34m)\u001b[0m\u001b[0;34m]\u001b[0m\u001b[0;34m\u001b[0m\u001b[0;34m\u001b[0m\u001b[0m\n\u001b[0m",
      "\u001b[0;32m<ipython-input-83-243bba9fb93e>\u001b[0m in \u001b[0;36mkMGResults\u001b[0;34m(k)\u001b[0m\n\u001b[1;32m      1\u001b[0m \u001b[0;32mdef\u001b[0m \u001b[0mkMGResults\u001b[0m\u001b[0;34m(\u001b[0m\u001b[0mk\u001b[0m\u001b[0;34m)\u001b[0m\u001b[0;34m:\u001b[0m\u001b[0;34m\u001b[0m\u001b[0;34m\u001b[0m\u001b[0m\n\u001b[0;32m----> 2\u001b[0;31m     \u001b[0;32mreturn\u001b[0m \u001b[0mMGColsDict\u001b[0m\u001b[0;34m(\u001b[0m\u001b[0mRAA_et_mg\u001b[0m\u001b[0;34m,\u001b[0m\u001b[0ml\u001b[0m\u001b[0;34m=\u001b[0m\u001b[0ml_all_2\u001b[0m\u001b[0;34m,\u001b[0m\u001b[0mY\u001b[0m\u001b[0;34m=\u001b[0m\u001b[0mY_all_2\u001b[0m\u001b[0;34m,\u001b[0m\u001b[0mnDifferentGames\u001b[0m\u001b[0;34m=\u001b[0m\u001b[0;36m16\u001b[0m\u001b[0;34m,\u001b[0m\u001b[0mnIterations\u001b[0m\u001b[0;34m=\u001b[0m\u001b[0;36m256\u001b[0m\u001b[0;34m,\u001b[0m\u001b[0maArgs\u001b[0m\u001b[0;34m=\u001b[0m\u001b[0;34m{\u001b[0m\u001b[0;34m'a'\u001b[0m\u001b[0;34m:\u001b[0m\u001b[0;36m0.12\u001b[0m\u001b[0;34m,\u001b[0m\u001b[0;34m'ratioValue'\u001b[0m\u001b[0;34m:\u001b[0m\u001b[0;36m1\u001b[0m\u001b[0;34m,\u001b[0m\u001b[0;34m'k'\u001b[0m\u001b[0;34m:\u001b[0m\u001b[0mk\u001b[0m\u001b[0;34m,\u001b[0m\u001b[0;34m'e1'\u001b[0m\u001b[0;34m:\u001b[0m\u001b[0;36m32\u001b[0m\u001b[0;34m,\u001b[0m\u001b[0;34m'e2'\u001b[0m\u001b[0;34m:\u001b[0m\u001b[0;36m32\u001b[0m\u001b[0;34m}\u001b[0m\u001b[0;34m,\u001b[0m\u001b[0mpf\u001b[0m\u001b[0;34m=\u001b[0m\u001b[0mPF\u001b[0m\u001b[0;34m(\u001b[0m\u001b[0;36m3\u001b[0m\u001b[0;34m)\u001b[0m\u001b[0;34m)\u001b[0m\u001b[0;34m\u001b[0m\u001b[0;34m\u001b[0m\u001b[0m\n\u001b[0m",
      "\u001b[0;32m<ipython-input-80-978c463056c4>\u001b[0m in \u001b[0;36mMGColsDict\u001b[0;34m(RAA, nDifferentGames, nIterations, nAgents, aArgs, l, Y, pf)\u001b[0m\n\u001b[1;32m     15\u001b[0m                 \u001b[0mrTemp\u001b[0m\u001b[0;34m[\u001b[0m\u001b[0mc\u001b[0m\u001b[0;34m]\u001b[0m \u001b[0;34m=\u001b[0m \u001b[0mnp\u001b[0m\u001b[0;34m.\u001b[0m\u001b[0mappend\u001b[0m\u001b[0;34m(\u001b[0m\u001b[0mrTemp\u001b[0m\u001b[0;34m.\u001b[0m\u001b[0mget\u001b[0m\u001b[0;34m(\u001b[0m\u001b[0mc\u001b[0m\u001b[0;34m,\u001b[0m\u001b[0mnp\u001b[0m\u001b[0;34m.\u001b[0m\u001b[0mzeros\u001b[0m\u001b[0;34m(\u001b[0m\u001b[0mj\u001b[0m\u001b[0;34m)\u001b[0m\u001b[0;34m)\u001b[0m\u001b[0;34m,\u001b[0m\u001b[0mcols\u001b[0m\u001b[0;34m.\u001b[0m\u001b[0mget\u001b[0m\u001b[0;34m(\u001b[0m\u001b[0mc\u001b[0m\u001b[0;34m,\u001b[0m\u001b[0;36m0\u001b[0m\u001b[0;34m)\u001b[0m\u001b[0;34m)\u001b[0m\u001b[0;34m\u001b[0m\u001b[0;34m\u001b[0m\u001b[0m\n\u001b[1;32m     16\u001b[0m                 \u001b[0;31m#print(len(rTemp[c]))\u001b[0m\u001b[0;34m\u001b[0m\u001b[0;34m\u001b[0m\u001b[0;34m\u001b[0m\u001b[0m\n\u001b[0;32m---> 17\u001b[0;31m             \u001b[0mGameRound\u001b[0m\u001b[0;34m(\u001b[0m\u001b[0magents\u001b[0m\u001b[0;34m,\u001b[0m\u001b[0mpf\u001b[0m\u001b[0;34m)\u001b[0m\u001b[0;34m\u001b[0m\u001b[0;34m\u001b[0m\u001b[0m\n\u001b[0m\u001b[1;32m     18\u001b[0m         \u001b[0;32mfor\u001b[0m \u001b[0mc\u001b[0m \u001b[0;32min\u001b[0m \u001b[0mset\u001b[0m\u001b[0;34m(\u001b[0m\u001b[0mlist\u001b[0m\u001b[0;34m(\u001b[0m\u001b[0mrTemp\u001b[0m\u001b[0;34m.\u001b[0m\u001b[0mkeys\u001b[0m\u001b[0;34m(\u001b[0m\u001b[0;34m)\u001b[0m\u001b[0;34m)\u001b[0m\u001b[0;34m)\u001b[0m\u001b[0;34m|\u001b[0m\u001b[0mset\u001b[0m\u001b[0;34m(\u001b[0m\u001b[0mlist\u001b[0m\u001b[0;34m(\u001b[0m\u001b[0mresultsWhole\u001b[0m\u001b[0;34m.\u001b[0m\u001b[0mkeys\u001b[0m\u001b[0;34m(\u001b[0m\u001b[0;34m)\u001b[0m\u001b[0;34m)\u001b[0m\u001b[0;34m)\u001b[0m\u001b[0;34m:\u001b[0m\u001b[0;34m\u001b[0m\u001b[0;34m\u001b[0m\u001b[0m\n\u001b[1;32m     19\u001b[0m             \u001b[0;31m#print(c)\u001b[0m\u001b[0;34m\u001b[0m\u001b[0;34m\u001b[0m\u001b[0;34m\u001b[0m\u001b[0m\n",
      "\u001b[0;32m<ipython-input-32-08bd2c18d735>\u001b[0m in \u001b[0;36mGameRound\u001b[0;34m(agents, pf)\u001b[0m\n\u001b[1;32m      4\u001b[0m         \u001b[0magents\u001b[0m\u001b[0;34m.\u001b[0m\u001b[0mremove\u001b[0m\u001b[0;34m(\u001b[0m\u001b[0mA\u001b[0m\u001b[0;34m)\u001b[0m\u001b[0;34m\u001b[0m\u001b[0;34m\u001b[0m\u001b[0m\n\u001b[1;32m      5\u001b[0m         \u001b[0mB\u001b[0m \u001b[0;34m=\u001b[0m \u001b[0mnp\u001b[0m\u001b[0;34m.\u001b[0m\u001b[0mrandom\u001b[0m\u001b[0;34m.\u001b[0m\u001b[0mchoice\u001b[0m\u001b[0;34m(\u001b[0m\u001b[0magents\u001b[0m\u001b[0;34m)\u001b[0m\u001b[0;34m\u001b[0m\u001b[0;34m\u001b[0m\u001b[0m\n\u001b[0;32m----> 6\u001b[0;31m         \u001b[0mDiscriminationGameRound\u001b[0m\u001b[0;34m(\u001b[0m\u001b[0mA\u001b[0m\u001b[0;34m,\u001b[0m\u001b[0mB\u001b[0m\u001b[0;34m,\u001b[0m\u001b[0mpf\u001b[0m\u001b[0;34m)\u001b[0m\u001b[0;34m\u001b[0m\u001b[0;34m\u001b[0m\u001b[0m\n\u001b[0m\u001b[1;32m      7\u001b[0m         \u001b[0magents\u001b[0m\u001b[0;34m.\u001b[0m\u001b[0mappend\u001b[0m\u001b[0;34m(\u001b[0m\u001b[0mA\u001b[0m\u001b[0;34m)\u001b[0m\u001b[0;34m\u001b[0m\u001b[0;34m\u001b[0m\u001b[0m\n\u001b[1;32m      8\u001b[0m \u001b[0;34m\u001b[0m\u001b[0m\n",
      "\u001b[0;32m<ipython-input-11-18c7e0e19802>\u001b[0m in \u001b[0;36mDiscriminationGameRound\u001b[0;34m(A, B, pf, N)\u001b[0m\n\u001b[1;32m      8\u001b[0m \u001b[0;31m# Play a round with a random selection of elements\u001b[0m\u001b[0;34m\u001b[0m\u001b[0;34m\u001b[0m\u001b[0;34m\u001b[0m\u001b[0m\n\u001b[1;32m      9\u001b[0m \u001b[0;32mdef\u001b[0m \u001b[0mDiscriminationGameRound\u001b[0m\u001b[0;34m(\u001b[0m\u001b[0mA\u001b[0m\u001b[0;34m,\u001b[0m\u001b[0mB\u001b[0m\u001b[0;34m,\u001b[0m\u001b[0mpf\u001b[0m\u001b[0;34m,\u001b[0m\u001b[0mN\u001b[0m\u001b[0;34m=\u001b[0m\u001b[0;36m5\u001b[0m\u001b[0;34m)\u001b[0m\u001b[0;34m:\u001b[0m\u001b[0;34m\u001b[0m\u001b[0;34m\u001b[0m\u001b[0m\n\u001b[0;32m---> 10\u001b[0;31m     \u001b[0mO\u001b[0m \u001b[0;34m=\u001b[0m \u001b[0;34m[\u001b[0m\u001b[0mRE\u001b[0m\u001b[0;34m(\u001b[0m\u001b[0mpf\u001b[0m\u001b[0;34m)\u001b[0m \u001b[0;32mfor\u001b[0m \u001b[0mi\u001b[0m \u001b[0;32min\u001b[0m \u001b[0mrange\u001b[0m\u001b[0;34m(\u001b[0m\u001b[0mN\u001b[0m\u001b[0;34m)\u001b[0m\u001b[0;34m]\u001b[0m \u001b[0;31m# Random elements for N\u001b[0m\u001b[0;34m\u001b[0m\u001b[0;34m\u001b[0m\u001b[0m\n\u001b[0m\u001b[1;32m     11\u001b[0m     \u001b[0mo\u001b[0m \u001b[0;34m=\u001b[0m \u001b[0mO\u001b[0m\u001b[0;34m[\u001b[0m\u001b[0;34m-\u001b[0m\u001b[0;36m1\u001b[0m\u001b[0;34m]\u001b[0m\u001b[0;34m\u001b[0m\u001b[0;34m\u001b[0m\u001b[0m\n\u001b[1;32m     12\u001b[0m     \u001b[0mDiscriminationGame\u001b[0m\u001b[0;34m(\u001b[0m\u001b[0mA\u001b[0m\u001b[0;34m,\u001b[0m\u001b[0mB\u001b[0m\u001b[0;34m,\u001b[0m\u001b[0mO\u001b[0m\u001b[0;34m,\u001b[0m\u001b[0mo\u001b[0m\u001b[0;34m)\u001b[0m\u001b[0;34m\u001b[0m\u001b[0;34m\u001b[0m\u001b[0m\n",
      "\u001b[0;32m<ipython-input-11-18c7e0e19802>\u001b[0m in \u001b[0;36m<listcomp>\u001b[0;34m(.0)\u001b[0m\n\u001b[1;32m      8\u001b[0m \u001b[0;31m# Play a round with a random selection of elements\u001b[0m\u001b[0;34m\u001b[0m\u001b[0;34m\u001b[0m\u001b[0;34m\u001b[0m\u001b[0m\n\u001b[1;32m      9\u001b[0m \u001b[0;32mdef\u001b[0m \u001b[0mDiscriminationGameRound\u001b[0m\u001b[0;34m(\u001b[0m\u001b[0mA\u001b[0m\u001b[0;34m,\u001b[0m\u001b[0mB\u001b[0m\u001b[0;34m,\u001b[0m\u001b[0mpf\u001b[0m\u001b[0;34m,\u001b[0m\u001b[0mN\u001b[0m\u001b[0;34m=\u001b[0m\u001b[0;36m5\u001b[0m\u001b[0;34m)\u001b[0m\u001b[0;34m:\u001b[0m\u001b[0;34m\u001b[0m\u001b[0;34m\u001b[0m\u001b[0m\n\u001b[0;32m---> 10\u001b[0;31m     \u001b[0mO\u001b[0m \u001b[0;34m=\u001b[0m \u001b[0;34m[\u001b[0m\u001b[0mRE\u001b[0m\u001b[0;34m(\u001b[0m\u001b[0mpf\u001b[0m\u001b[0;34m)\u001b[0m \u001b[0;32mfor\u001b[0m \u001b[0mi\u001b[0m \u001b[0;32min\u001b[0m \u001b[0mrange\u001b[0m\u001b[0;34m(\u001b[0m\u001b[0mN\u001b[0m\u001b[0;34m)\u001b[0m\u001b[0;34m]\u001b[0m \u001b[0;31m# Random elements for N\u001b[0m\u001b[0;34m\u001b[0m\u001b[0;34m\u001b[0m\u001b[0m\n\u001b[0m\u001b[1;32m     11\u001b[0m     \u001b[0mo\u001b[0m \u001b[0;34m=\u001b[0m \u001b[0mO\u001b[0m\u001b[0;34m[\u001b[0m\u001b[0;34m-\u001b[0m\u001b[0;36m1\u001b[0m\u001b[0;34m]\u001b[0m\u001b[0;34m\u001b[0m\u001b[0;34m\u001b[0m\u001b[0m\n\u001b[1;32m     12\u001b[0m     \u001b[0mDiscriminationGame\u001b[0m\u001b[0;34m(\u001b[0m\u001b[0mA\u001b[0m\u001b[0;34m,\u001b[0m\u001b[0mB\u001b[0m\u001b[0;34m,\u001b[0m\u001b[0mO\u001b[0m\u001b[0;34m,\u001b[0m\u001b[0mo\u001b[0m\u001b[0;34m)\u001b[0m\u001b[0;34m\u001b[0m\u001b[0;34m\u001b[0m\u001b[0m\n",
      "\u001b[0;32m<ipython-input-11-18c7e0e19802>\u001b[0m in \u001b[0;36mRE\u001b[0;34m(playingField)\u001b[0m\n\u001b[1;32m      4\u001b[0m \u001b[0;31m# This seems an ugly way to do it\u001b[0m\u001b[0;34m\u001b[0m\u001b[0;34m\u001b[0m\u001b[0;34m\u001b[0m\u001b[0m\n\u001b[1;32m      5\u001b[0m \u001b[0;32mdef\u001b[0m \u001b[0mRE\u001b[0m\u001b[0;34m(\u001b[0m\u001b[0mplayingField\u001b[0m\u001b[0;34m)\u001b[0m\u001b[0;34m:\u001b[0m\u001b[0;34m\u001b[0m\u001b[0;34m\u001b[0m\u001b[0m\n\u001b[0;32m----> 6\u001b[0;31m     \u001b[0;32mreturn\u001b[0m \u001b[0mnp\u001b[0m\u001b[0;34m.\u001b[0m\u001b[0mrandom\u001b[0m\u001b[0;34m.\u001b[0m\u001b[0muniform\u001b[0m\u001b[0;34m(\u001b[0m\u001b[0mplayingField\u001b[0m\u001b[0;34m[\u001b[0m\u001b[0;36m0\u001b[0m\u001b[0;34m]\u001b[0m\u001b[0;34m,\u001b[0m\u001b[0mplayingField\u001b[0m\u001b[0;34m[\u001b[0m\u001b[0;36m1\u001b[0m\u001b[0;34m]\u001b[0m\u001b[0;34m)\u001b[0m\u001b[0;34m\u001b[0m\u001b[0;34m\u001b[0m\u001b[0m\n\u001b[0m\u001b[1;32m      7\u001b[0m \u001b[0;34m\u001b[0m\u001b[0m\n\u001b[1;32m      8\u001b[0m \u001b[0;31m# Play a round with a random selection of elements\u001b[0m\u001b[0;34m\u001b[0m\u001b[0;34m\u001b[0m\u001b[0;34m\u001b[0m\u001b[0m\n",
      "\u001b[0;32mmtrand.pyx\u001b[0m in \u001b[0;36mnumpy.random.mtrand.RandomState.uniform\u001b[0;34m()\u001b[0m\n",
      "\u001b[0;32m<__array_function__ internals>\u001b[0m in \u001b[0;36mall\u001b[0;34m(*args, **kwargs)\u001b[0m\n",
      "\u001b[0;31mKeyboardInterrupt\u001b[0m: "
     ]
    }
   ],
   "source": [
    "ks = list(range(128))\n",
    "results_k = [kMGResults(k) for k in tqdm(ks)]"
   ]
  },
  {
   "cell_type": "code",
   "execution_count": null,
   "metadata": {
    "ExecuteTime": {
     "end_time": "2021-05-03T21:23:05.984399Z",
     "start_time": "2021-05-03T21:23:01.890262Z"
    }
   },
   "outputs": [],
   "source": [
    "al = 1/16\n",
    "\n",
    "for c in l_long:\n",
    "    try:\n",
    "        x = np.array([r[c] for r in results_k])\n",
    "        resultsAvg = np.mean(x[:,:,-1],axis=1)\n",
    "        #print(resultsAvg)\n",
    "        resultsVar = np.sqrt(np.var(x[:,:,-1],axis=1))\n",
    "        plt.plot(ks,resultsAvg,c=c,label=c)\n",
    "        # Use a # of s.d.?\n",
    "        plt.fill_between(ks,resultsAvg-resultsVar,resultsAvg+resultsVar,color=c,alpha=al,linewidth=0.0)\n",
    "        #plt.plot(y,linestyle='none',marker='.',c=c,alpha=al)\n",
    "    except:\n",
    "        None\n",
    "plt.ylabel('')        \n",
    "plt.xlabel('$k$')\n",
    "plt.savefig('./Images/mgKBigEx.pdf')\n",
    "plt.show()"
   ]
  },
  {
   "cell_type": "code",
   "execution_count": null,
   "metadata": {
    "ExecuteTime": {
     "end_time": "2021-05-02T11:06:49.508659Z",
     "start_time": "2021-05-02T11:06:45.501424Z"
    }
   },
   "outputs": [],
   "source": [
    "al = 1/16\n",
    "\n",
    "for c in l_long:\n",
    "    try:\n",
    "        x = np.array([r[c] for r in results_k])\n",
    "        resultsAvg = np.mean(x[:,:,-1],axis=1)\n",
    "        #print(resultsAvg)\n",
    "        resultsVar = np.sqrt(np.var(x[:,:,-1],axis=1))\n",
    "        plt.plot(ks,resultsAvg,c=c,label=c)\n",
    "        # Use a # of s.d.?\n",
    "        plt.fill_between(ks,resultsAvg-resultsVar,resultsAvg+resultsVar,color=c,alpha=al,linewidth=0.0)\n",
    "        #plt.plot(y,linestyle='none',marker='.',c=c,alpha=al)\n",
    "    except:\n",
    "        None\n",
    "plt.ylim(bottom=1)\n",
    "plt.yscale('log')\n",
    "plt.savefig('./Images/kBifExemCols.pdf')\n",
    "plt.show()"
   ]
  },
  {
   "cell_type": "markdown",
   "metadata": {},
   "source": [
    "### Focal Colours"
   ]
  },
  {
   "cell_type": "code",
   "execution_count": 85,
   "metadata": {
    "ExecuteTime": {
     "end_time": "2021-05-09T06:45:30.996566Z",
     "start_time": "2021-05-09T06:45:30.934193Z"
    }
   },
   "outputs": [],
   "source": [
    "def Percentage(x,l=l):\n",
    "    return len(set(x)&set(l))/len(l)"
   ]
  },
  {
   "cell_type": "code",
   "execution_count": 86,
   "metadata": {
    "ExecuteTime": {
     "end_time": "2021-05-09T06:45:31.485379Z",
     "start_time": "2021-05-09T06:45:31.412615Z"
    }
   },
   "outputs": [],
   "source": [
    "def MGColsDict(RAA,nDifferentGames=nDG,nIterations=nI,nAgents=nA,aArgs={'a':0.12,'ratioValue':1,'k':64,'e1':4,'e2':4},l=l,Y=Y_train,pf=PF(3)):\n",
    "    resultsWhole = {}\n",
    "    for i in range(nDifferentGames):\n",
    "        rTemp = {}\n",
    "        agents = RAA(pf,nAgents,aArgs,l,Y)\n",
    "        for j in range(nIterations):\n",
    "            cols = {}\n",
    "            for a in agents:\n",
    "                try:\n",
    "                    for c in a.LAK:\n",
    "                        cols[c] = cols.get(c,0) + a.LAK[c]\n",
    "                except:\n",
    "                    None #print('error')\n",
    "            for c in set(list(cols.keys()))|set(list(rTemp.keys())):\n",
    "                rTemp[c] = np.append(rTemp.get(c,np.zeros(j)),cols.get(c,0))\n",
    "                #print(len(rTemp[c]))\n",
    "            GameRound(agents,pf)\n",
    "        for c in set(list(rTemp.keys()))|set(list(resultsWhole.keys())):\n",
    "            #print(c)\n",
    "            #print(resultsWhole.get(c,np.zeros((i,nIterations))))\n",
    "            #print(rTemp.get(c,np.zeros(nIterations)))\n",
    "            resultsWhole[c] = np.append(resultsWhole.get(c,np.zeros((i,nIterations))),[rTemp.get(c,np.zeros(nIterations))],axis=0)\n",
    "    return resultsWhole"
   ]
  },
  {
   "cell_type": "code",
   "execution_count": 91,
   "metadata": {
    "ExecuteTime": {
     "end_time": "2021-05-09T06:46:14.108329Z",
     "start_time": "2021-05-09T06:46:14.019920Z"
    }
   },
   "outputs": [],
   "source": [
    "def FocalPercentage(RAA,nDifferentGames=nDG,nIterations=nI,nAgents=nA,aArgs={'a':0.12,'ratioValue':1,'k':64,'e1':4,'e2':4},l=l_all_2,Y=Y_all_2,pf=PF(3),l_focal=l):\n",
    "    y = []\n",
    "    for i in tqdm(range(nDifferentGames),leave=False):\n",
    "        x = []\n",
    "        agents = RAA(pf,nAgents,aArgs,l,Y)\n",
    "        for j in range(nIterations):\n",
    "            GameRound(agents,pf)\n",
    "        for a in agents:\n",
    "            try:\n",
    "                x.append(Percentage(list(a.LAK.keys()),l_focal))\n",
    "            except:\n",
    "                None\n",
    "        y.append(np.mean(x))\n",
    "    return np.mean(y)"
   ]
  },
  {
   "cell_type": "code",
   "execution_count": 95,
   "metadata": {
    "ExecuteTime": {
     "end_time": "2021-05-09T06:46:39.078721Z",
     "start_time": "2021-05-09T06:46:39.010578Z"
    }
   },
   "outputs": [],
   "source": [
    "def FocalPercentages(RAA,nDifferentGames=nDG,nIterations=nI,nAgents=nA,aArgs={'a':0.12,'ratioValue':1,'k':64,'e1':4,'e2':4},l=l_all_2,Y=Y_all_2,pf=PF(3),l_focal=l,k=64):\n",
    "    y_11 = []\n",
    "    y_9 = []\n",
    "    aArgs['k'] = k\n",
    "    for i in tqdm(range(nDifferentGames),leave=False):\n",
    "        x_11 = []\n",
    "        x_9  = []\n",
    "        agents = RAA(pf,nAgents,aArgs,l,Y)\n",
    "        for j in range(nIterations):\n",
    "            GameRound(agents,pf)\n",
    "        for a in agents:\n",
    "            try:\n",
    "                x_11.append(Percentage(list(a.LAK.keys()),l_11))\n",
    "                x_9.append(Percentage(list(a.LAK.keys()),l_9))\n",
    "            except:\n",
    "                None\n",
    "        y_11.append(np.mean(x_11))\n",
    "        y_9.append(np.mean(x_9))\n",
    "    return [np.mean(y_9),np.sqrt(np.var(y_9))],[np.mean(y_11),np.sqrt(np.var(y_11))]"
   ]
  },
  {
   "cell_type": "code",
   "execution_count": 96,
   "metadata": {
    "ExecuteTime": {
     "end_time": "2021-05-09T06:46:40.361393Z",
     "start_time": "2021-05-09T06:46:40.279921Z"
    }
   },
   "outputs": [],
   "source": [
    "def FocalPercentagesPlot(RAA,nDifferentGames,nIterations,nk,c,label,aArgs={'a':a_exemplar,'ratioValue':1,'e1':4,'e2':4}):\n",
    "    results = [FocalPercentages(RAA,l=l_all_2,Y=Y_all_2,nDifferentGames=nDifferentGames,nIterations=nIterations,aArgs=aArgs,pf=PF(3),k=k) for k in tqdm(range(nk))]\n",
    "    results = np.array(results)\n",
    "    results_9 = results[:,0]\n",
    "    results_11 = results[:,1]\n",
    "    results_9_var = results_9[:,1]\n",
    "    results_11_var = results_11[:,1]\n",
    "    plt.plot(range(n),results_9[:,0],c=c,label=label)\n",
    "    plt.fill_between(range(n),results_9[:,0]-results_9_var,results_9[:,0]+results_9_var,color=c,alpha=0.125,linewidth=0.0)\n",
    "    plt.plot(range(n),results_11[:,0],c=c,linestyle='--')\n",
    "    plt.fill_between(range(n),results_11[:,0]-results_11_var,results_11[:,0]+results_11_var,color=c,alpha=0.125,linewidth=0.0)\n",
    "    "
   ]
  },
  {
   "cell_type": "code",
   "execution_count": 97,
   "metadata": {
    "ExecuteTime": {
     "end_time": "2021-05-09T06:47:13.871678Z",
     "start_time": "2021-05-09T06:46:41.358008Z"
    },
    "scrolled": true
   },
   "outputs": [
    {
     "data": {
      "application/vnd.jupyter.widget-view+json": {
       "model_id": "",
       "version_major": 2,
       "version_minor": 0
      },
      "text/plain": [
       "HBox(children=(HTML(value=''), FloatProgress(value=0.0, max=32.0), HTML(value='')))"
      ]
     },
     "metadata": {},
     "output_type": "display_data"
    },
    {
     "ename": "NameError",
     "evalue": "name 'mean' is not defined",
     "output_type": "error",
     "traceback": [
      "\u001b[0;31m---------------------------------------------------------------------------\u001b[0m",
      "\u001b[0;31mNameError\u001b[0m                                 Traceback (most recent call last)",
      "\u001b[0;32m<ipython-input-97-806f68e9a17d>\u001b[0m in \u001b[0;36m<module>\u001b[0;34m\u001b[0m\n\u001b[1;32m      3\u001b[0m \u001b[0mni\u001b[0m \u001b[0;34m=\u001b[0m \u001b[0;36m256\u001b[0m\u001b[0;34m\u001b[0m\u001b[0;34m\u001b[0m\u001b[0m\n\u001b[1;32m      4\u001b[0m \u001b[0mx_9\u001b[0m\u001b[0;34m,\u001b[0m\u001b[0mx_11\u001b[0m \u001b[0;34m=\u001b[0m \u001b[0mFocalPercentages\u001b[0m\u001b[0;34m(\u001b[0m\u001b[0mRAA_et_mg\u001b[0m\u001b[0;34m,\u001b[0m\u001b[0ml\u001b[0m\u001b[0;34m=\u001b[0m\u001b[0ml_all_2\u001b[0m\u001b[0;34m,\u001b[0m\u001b[0mY\u001b[0m\u001b[0;34m=\u001b[0m\u001b[0mY_all_2\u001b[0m\u001b[0;34m,\u001b[0m\u001b[0mnDifferentGames\u001b[0m\u001b[0;34m=\u001b[0m\u001b[0;36m32\u001b[0m\u001b[0;34m,\u001b[0m\u001b[0mnIterations\u001b[0m\u001b[0;34m=\u001b[0m\u001b[0;36m256\u001b[0m\u001b[0;34m,\u001b[0m\u001b[0maArgs\u001b[0m\u001b[0;34m=\u001b[0m\u001b[0;34m{\u001b[0m\u001b[0;34m'a'\u001b[0m\u001b[0;34m:\u001b[0m\u001b[0ma_exemplar\u001b[0m\u001b[0;34m,\u001b[0m\u001b[0;34m'ratioValue'\u001b[0m\u001b[0;34m:\u001b[0m\u001b[0;36m1\u001b[0m\u001b[0;34m,\u001b[0m\u001b[0;34m'e1'\u001b[0m\u001b[0;34m:\u001b[0m\u001b[0;36m4\u001b[0m\u001b[0;34m,\u001b[0m\u001b[0;34m'e2'\u001b[0m\u001b[0;34m:\u001b[0m\u001b[0;36m4\u001b[0m\u001b[0;34m}\u001b[0m\u001b[0;34m,\u001b[0m\u001b[0mpf\u001b[0m\u001b[0;34m=\u001b[0m\u001b[0mPF\u001b[0m\u001b[0;34m(\u001b[0m\u001b[0;36m3\u001b[0m\u001b[0;34m)\u001b[0m\u001b[0;34m)\u001b[0m\u001b[0;34m\u001b[0m\u001b[0;34m\u001b[0m\u001b[0m\n\u001b[0;32m----> 5\u001b[0;31m \u001b[0mprint\u001b[0m\u001b[0;34m(\u001b[0m\u001b[0mmean\u001b[0m\u001b[0;34m)\u001b[0m\u001b[0;34m\u001b[0m\u001b[0;34m\u001b[0m\u001b[0m\n\u001b[0m",
      "\u001b[0;31mNameError\u001b[0m: name 'mean' is not defined"
     ]
    }
   ],
   "source": [
    "k = 128\n",
    "ng = 4\n",
    "ni = 256\n",
    "x_9,x_11 = FocalPercentages(RAA_et_mg,l=l_all_2,Y=Y_all_2,nDifferentGames=32,nIterations=256,aArgs={'a':a_exemplar,'ratioValue':1,'e1':4,'e2':4},pf=PF(3))\n"
   ]
  },
  {
   "cell_type": "code",
   "execution_count": null,
   "metadata": {
    "ExecuteTime": {
     "end_time": "2021-04-30T14:08:53.135344Z",
     "start_time": "2021-04-30T14:08:49.907Z"
    }
   },
   "outputs": [],
   "source": [
    "print(x_9)"
   ]
  },
  {
   "cell_type": "code",
   "execution_count": null,
   "metadata": {},
   "outputs": [],
   "source": [
    "# Full look at truth rates\n",
    "ls = np.linspace(0,1,num=32)\n",
    "ng = 2\n",
    "results_et = np.array([np.array(WholeGame(nDifferentGames=ng,aArgs={'a':a_exemplar,'ratioValue':i},Metric=RandomAccuracyMetric,metricAll=False))[:,-1] for i in tqdm(ls)])\n",
    "results_pt = np.array([np.array(WholeGame(nDifferentGames=ng,aArgs={'a':a_prototype,'a_sd':a_sd_prototype,'r':[0,0.75],'ratioValue':i},RAA=RAA_bp,Metric=RandomAccuracyMetric,metricAll=False))[:,-1] for i in tqdm(ls)])\n",
    "results_qvt = np.array([np.array(WholeGame(nDifferentGames=ng,aArgs={'a':a_quantumv,'ratioValue':i},RAA=RAA_quantumv,Metric=RandomAccuracyMetric,metricAll=False))[:,-1] for i in tqdm(ls)])\n",
    "results_dmt = np.array([np.array(WholeGame(nDifferentGames=ng,aArgs={'a':a_quantum,'ratioValue':i},RAA=RAA_quantum_dm,Metric=RandomAccuracyMetric,metricAll=False))[:,-1] for i in tqdm(ls)])\n",
    "results_qt = np.array([np.array(WholeGame(nDifferentGames=ng,aArgs={'a':a_quantum,'ratioValue':i},RAA=RAA_quantum,Metric=RandomAccuracyMetric,metricAll=False))[:,-1] for i in tqdm(ls)])"
   ]
  },
  {
   "cell_type": "code",
   "execution_count": null,
   "metadata": {
    "ExecuteTime": {
     "start_time": "2021-05-09T19:42:17.299Z"
    }
   },
   "outputs": [
    {
     "data": {
      "application/vnd.jupyter.widget-view+json": {
       "model_id": "c0c19a04969748a7b5aed1d195e2ce29",
       "version_major": 2,
       "version_minor": 0
      },
      "text/plain": [
       "HBox(children=(HTML(value=''), FloatProgress(value=0.0, max=128.0), HTML(value='')))"
      ]
     },
     "metadata": {},
     "output_type": "display_data"
    },
    {
     "data": {
      "application/vnd.jupyter.widget-view+json": {
       "model_id": "",
       "version_major": 2,
       "version_minor": 0
      },
      "text/plain": [
       "HBox(children=(HTML(value=''), FloatProgress(value=0.0, max=2.0), HTML(value='')))"
      ]
     },
     "metadata": {},
     "output_type": "display_data"
    },
    {
     "data": {
      "application/vnd.jupyter.widget-view+json": {
       "model_id": "",
       "version_major": 2,
       "version_minor": 0
      },
      "text/plain": [
       "HBox(children=(HTML(value=''), FloatProgress(value=0.0, max=2.0), HTML(value='')))"
      ]
     },
     "metadata": {},
     "output_type": "display_data"
    },
    {
     "data": {
      "application/vnd.jupyter.widget-view+json": {
       "model_id": "",
       "version_major": 2,
       "version_minor": 0
      },
      "text/plain": [
       "HBox(children=(HTML(value=''), FloatProgress(value=0.0, max=2.0), HTML(value='')))"
      ]
     },
     "metadata": {},
     "output_type": "display_data"
    },
    {
     "data": {
      "application/vnd.jupyter.widget-view+json": {
       "model_id": "",
       "version_major": 2,
       "version_minor": 0
      },
      "text/plain": [
       "HBox(children=(HTML(value=''), FloatProgress(value=0.0, max=2.0), HTML(value='')))"
      ]
     },
     "metadata": {},
     "output_type": "display_data"
    },
    {
     "data": {
      "application/vnd.jupyter.widget-view+json": {
       "model_id": "",
       "version_major": 2,
       "version_minor": 0
      },
      "text/plain": [
       "HBox(children=(HTML(value=''), FloatProgress(value=0.0, max=2.0), HTML(value='')))"
      ]
     },
     "metadata": {},
     "output_type": "display_data"
    },
    {
     "data": {
      "application/vnd.jupyter.widget-view+json": {
       "model_id": "",
       "version_major": 2,
       "version_minor": 0
      },
      "text/plain": [
       "HBox(children=(HTML(value=''), FloatProgress(value=0.0, max=2.0), HTML(value='')))"
      ]
     },
     "metadata": {},
     "output_type": "display_data"
    },
    {
     "data": {
      "application/vnd.jupyter.widget-view+json": {
       "model_id": "",
       "version_major": 2,
       "version_minor": 0
      },
      "text/plain": [
       "HBox(children=(HTML(value=''), FloatProgress(value=0.0, max=2.0), HTML(value='')))"
      ]
     },
     "metadata": {},
     "output_type": "display_data"
    },
    {
     "data": {
      "application/vnd.jupyter.widget-view+json": {
       "model_id": "",
       "version_major": 2,
       "version_minor": 0
      },
      "text/plain": [
       "HBox(children=(HTML(value=''), FloatProgress(value=0.0, max=2.0), HTML(value='')))"
      ]
     },
     "metadata": {},
     "output_type": "display_data"
    },
    {
     "data": {
      "application/vnd.jupyter.widget-view+json": {
       "model_id": "",
       "version_major": 2,
       "version_minor": 0
      },
      "text/plain": [
       "HBox(children=(HTML(value=''), FloatProgress(value=0.0, max=2.0), HTML(value='')))"
      ]
     },
     "metadata": {},
     "output_type": "display_data"
    },
    {
     "data": {
      "application/vnd.jupyter.widget-view+json": {
       "model_id": "",
       "version_major": 2,
       "version_minor": 0
      },
      "text/plain": [
       "HBox(children=(HTML(value=''), FloatProgress(value=0.0, max=2.0), HTML(value='')))"
      ]
     },
     "metadata": {},
     "output_type": "display_data"
    },
    {
     "data": {
      "application/vnd.jupyter.widget-view+json": {
       "model_id": "",
       "version_major": 2,
       "version_minor": 0
      },
      "text/plain": [
       "HBox(children=(HTML(value=''), FloatProgress(value=0.0, max=2.0), HTML(value='')))"
      ]
     },
     "metadata": {},
     "output_type": "display_data"
    },
    {
     "data": {
      "application/vnd.jupyter.widget-view+json": {
       "model_id": "",
       "version_major": 2,
       "version_minor": 0
      },
      "text/plain": [
       "HBox(children=(HTML(value=''), FloatProgress(value=0.0, max=2.0), HTML(value='')))"
      ]
     },
     "metadata": {},
     "output_type": "display_data"
    },
    {
     "data": {
      "application/vnd.jupyter.widget-view+json": {
       "model_id": "",
       "version_major": 2,
       "version_minor": 0
      },
      "text/plain": [
       "HBox(children=(HTML(value=''), FloatProgress(value=0.0, max=2.0), HTML(value='')))"
      ]
     },
     "metadata": {},
     "output_type": "display_data"
    },
    {
     "data": {
      "application/vnd.jupyter.widget-view+json": {
       "model_id": "",
       "version_major": 2,
       "version_minor": 0
      },
      "text/plain": [
       "HBox(children=(HTML(value=''), FloatProgress(value=0.0, max=2.0), HTML(value='')))"
      ]
     },
     "metadata": {},
     "output_type": "display_data"
    },
    {
     "data": {
      "application/vnd.jupyter.widget-view+json": {
       "model_id": "",
       "version_major": 2,
       "version_minor": 0
      },
      "text/plain": [
       "HBox(children=(HTML(value=''), FloatProgress(value=0.0, max=2.0), HTML(value='')))"
      ]
     },
     "metadata": {},
     "output_type": "display_data"
    },
    {
     "data": {
      "application/vnd.jupyter.widget-view+json": {
       "model_id": "",
       "version_major": 2,
       "version_minor": 0
      },
      "text/plain": [
       "HBox(children=(HTML(value=''), FloatProgress(value=0.0, max=2.0), HTML(value='')))"
      ]
     },
     "metadata": {},
     "output_type": "display_data"
    },
    {
     "data": {
      "application/vnd.jupyter.widget-view+json": {
       "model_id": "",
       "version_major": 2,
       "version_minor": 0
      },
      "text/plain": [
       "HBox(children=(HTML(value=''), FloatProgress(value=0.0, max=2.0), HTML(value='')))"
      ]
     },
     "metadata": {},
     "output_type": "display_data"
    },
    {
     "data": {
      "application/vnd.jupyter.widget-view+json": {
       "model_id": "",
       "version_major": 2,
       "version_minor": 0
      },
      "text/plain": [
       "HBox(children=(HTML(value=''), FloatProgress(value=0.0, max=2.0), HTML(value='')))"
      ]
     },
     "metadata": {},
     "output_type": "display_data"
    },
    {
     "data": {
      "application/vnd.jupyter.widget-view+json": {
       "model_id": "",
       "version_major": 2,
       "version_minor": 0
      },
      "text/plain": [
       "HBox(children=(HTML(value=''), FloatProgress(value=0.0, max=2.0), HTML(value='')))"
      ]
     },
     "metadata": {},
     "output_type": "display_data"
    },
    {
     "data": {
      "application/vnd.jupyter.widget-view+json": {
       "model_id": "",
       "version_major": 2,
       "version_minor": 0
      },
      "text/plain": [
       "HBox(children=(HTML(value=''), FloatProgress(value=0.0, max=2.0), HTML(value='')))"
      ]
     },
     "metadata": {},
     "output_type": "display_data"
    },
    {
     "data": {
      "application/vnd.jupyter.widget-view+json": {
       "model_id": "",
       "version_major": 2,
       "version_minor": 0
      },
      "text/plain": [
       "HBox(children=(HTML(value=''), FloatProgress(value=0.0, max=2.0), HTML(value='')))"
      ]
     },
     "metadata": {},
     "output_type": "display_data"
    },
    {
     "data": {
      "application/vnd.jupyter.widget-view+json": {
       "model_id": "",
       "version_major": 2,
       "version_minor": 0
      },
      "text/plain": [
       "HBox(children=(HTML(value=''), FloatProgress(value=0.0, max=2.0), HTML(value='')))"
      ]
     },
     "metadata": {},
     "output_type": "display_data"
    },
    {
     "data": {
      "application/vnd.jupyter.widget-view+json": {
       "model_id": "",
       "version_major": 2,
       "version_minor": 0
      },
      "text/plain": [
       "HBox(children=(HTML(value=''), FloatProgress(value=0.0, max=2.0), HTML(value='')))"
      ]
     },
     "metadata": {},
     "output_type": "display_data"
    },
    {
     "data": {
      "application/vnd.jupyter.widget-view+json": {
       "model_id": "",
       "version_major": 2,
       "version_minor": 0
      },
      "text/plain": [
       "HBox(children=(HTML(value=''), FloatProgress(value=0.0, max=2.0), HTML(value='')))"
      ]
     },
     "metadata": {},
     "output_type": "display_data"
    },
    {
     "data": {
      "application/vnd.jupyter.widget-view+json": {
       "model_id": "",
       "version_major": 2,
       "version_minor": 0
      },
      "text/plain": [
       "HBox(children=(HTML(value=''), FloatProgress(value=0.0, max=2.0), HTML(value='')))"
      ]
     },
     "metadata": {},
     "output_type": "display_data"
    },
    {
     "data": {
      "application/vnd.jupyter.widget-view+json": {
       "model_id": "",
       "version_major": 2,
       "version_minor": 0
      },
      "text/plain": [
       "HBox(children=(HTML(value=''), FloatProgress(value=0.0, max=2.0), HTML(value='')))"
      ]
     },
     "metadata": {},
     "output_type": "display_data"
    },
    {
     "data": {
      "application/vnd.jupyter.widget-view+json": {
       "model_id": "",
       "version_major": 2,
       "version_minor": 0
      },
      "text/plain": [
       "HBox(children=(HTML(value=''), FloatProgress(value=0.0, max=2.0), HTML(value='')))"
      ]
     },
     "metadata": {},
     "output_type": "display_data"
    },
    {
     "data": {
      "application/vnd.jupyter.widget-view+json": {
       "model_id": "",
       "version_major": 2,
       "version_minor": 0
      },
      "text/plain": [
       "HBox(children=(HTML(value=''), FloatProgress(value=0.0, max=2.0), HTML(value='')))"
      ]
     },
     "metadata": {},
     "output_type": "display_data"
    },
    {
     "data": {
      "application/vnd.jupyter.widget-view+json": {
       "model_id": "",
       "version_major": 2,
       "version_minor": 0
      },
      "text/plain": [
       "HBox(children=(HTML(value=''), FloatProgress(value=0.0, max=2.0), HTML(value='')))"
      ]
     },
     "metadata": {},
     "output_type": "display_data"
    },
    {
     "data": {
      "application/vnd.jupyter.widget-view+json": {
       "model_id": "",
       "version_major": 2,
       "version_minor": 0
      },
      "text/plain": [
       "HBox(children=(HTML(value=''), FloatProgress(value=0.0, max=2.0), HTML(value='')))"
      ]
     },
     "metadata": {},
     "output_type": "display_data"
    },
    {
     "data": {
      "application/vnd.jupyter.widget-view+json": {
       "model_id": "",
       "version_major": 2,
       "version_minor": 0
      },
      "text/plain": [
       "HBox(children=(HTML(value=''), FloatProgress(value=0.0, max=2.0), HTML(value='')))"
      ]
     },
     "metadata": {},
     "output_type": "display_data"
    },
    {
     "data": {
      "application/vnd.jupyter.widget-view+json": {
       "model_id": "",
       "version_major": 2,
       "version_minor": 0
      },
      "text/plain": [
       "HBox(children=(HTML(value=''), FloatProgress(value=0.0, max=2.0), HTML(value='')))"
      ]
     },
     "metadata": {},
     "output_type": "display_data"
    },
    {
     "data": {
      "application/vnd.jupyter.widget-view+json": {
       "model_id": "",
       "version_major": 2,
       "version_minor": 0
      },
      "text/plain": [
       "HBox(children=(HTML(value=''), FloatProgress(value=0.0, max=2.0), HTML(value='')))"
      ]
     },
     "metadata": {},
     "output_type": "display_data"
    },
    {
     "data": {
      "application/vnd.jupyter.widget-view+json": {
       "model_id": "",
       "version_major": 2,
       "version_minor": 0
      },
      "text/plain": [
       "HBox(children=(HTML(value=''), FloatProgress(value=0.0, max=2.0), HTML(value='')))"
      ]
     },
     "metadata": {},
     "output_type": "display_data"
    },
    {
     "data": {
      "application/vnd.jupyter.widget-view+json": {
       "model_id": "",
       "version_major": 2,
       "version_minor": 0
      },
      "text/plain": [
       "HBox(children=(HTML(value=''), FloatProgress(value=0.0, max=2.0), HTML(value='')))"
      ]
     },
     "metadata": {},
     "output_type": "display_data"
    },
    {
     "data": {
      "application/vnd.jupyter.widget-view+json": {
       "model_id": "",
       "version_major": 2,
       "version_minor": 0
      },
      "text/plain": [
       "HBox(children=(HTML(value=''), FloatProgress(value=0.0, max=2.0), HTML(value='')))"
      ]
     },
     "metadata": {},
     "output_type": "display_data"
    },
    {
     "data": {
      "application/vnd.jupyter.widget-view+json": {
       "model_id": "",
       "version_major": 2,
       "version_minor": 0
      },
      "text/plain": [
       "HBox(children=(HTML(value=''), FloatProgress(value=0.0, max=2.0), HTML(value='')))"
      ]
     },
     "metadata": {},
     "output_type": "display_data"
    },
    {
     "data": {
      "application/vnd.jupyter.widget-view+json": {
       "model_id": "",
       "version_major": 2,
       "version_minor": 0
      },
      "text/plain": [
       "HBox(children=(HTML(value=''), FloatProgress(value=0.0, max=2.0), HTML(value='')))"
      ]
     },
     "metadata": {},
     "output_type": "display_data"
    },
    {
     "data": {
      "application/vnd.jupyter.widget-view+json": {
       "model_id": "",
       "version_major": 2,
       "version_minor": 0
      },
      "text/plain": [
       "HBox(children=(HTML(value=''), FloatProgress(value=0.0, max=2.0), HTML(value='')))"
      ]
     },
     "metadata": {},
     "output_type": "display_data"
    },
    {
     "data": {
      "application/vnd.jupyter.widget-view+json": {
       "model_id": "",
       "version_major": 2,
       "version_minor": 0
      },
      "text/plain": [
       "HBox(children=(HTML(value=''), FloatProgress(value=0.0, max=2.0), HTML(value='')))"
      ]
     },
     "metadata": {},
     "output_type": "display_data"
    },
    {
     "data": {
      "application/vnd.jupyter.widget-view+json": {
       "model_id": "",
       "version_major": 2,
       "version_minor": 0
      },
      "text/plain": [
       "HBox(children=(HTML(value=''), FloatProgress(value=0.0, max=2.0), HTML(value='')))"
      ]
     },
     "metadata": {},
     "output_type": "display_data"
    },
    {
     "data": {
      "application/vnd.jupyter.widget-view+json": {
       "model_id": "",
       "version_major": 2,
       "version_minor": 0
      },
      "text/plain": [
       "HBox(children=(HTML(value=''), FloatProgress(value=0.0, max=2.0), HTML(value='')))"
      ]
     },
     "metadata": {},
     "output_type": "display_data"
    },
    {
     "data": {
      "application/vnd.jupyter.widget-view+json": {
       "model_id": "",
       "version_major": 2,
       "version_minor": 0
      },
      "text/plain": [
       "HBox(children=(HTML(value=''), FloatProgress(value=0.0, max=2.0), HTML(value='')))"
      ]
     },
     "metadata": {},
     "output_type": "display_data"
    },
    {
     "data": {
      "application/vnd.jupyter.widget-view+json": {
       "model_id": "",
       "version_major": 2,
       "version_minor": 0
      },
      "text/plain": [
       "HBox(children=(HTML(value=''), FloatProgress(value=0.0, max=2.0), HTML(value='')))"
      ]
     },
     "metadata": {},
     "output_type": "display_data"
    },
    {
     "data": {
      "application/vnd.jupyter.widget-view+json": {
       "model_id": "",
       "version_major": 2,
       "version_minor": 0
      },
      "text/plain": [
       "HBox(children=(HTML(value=''), FloatProgress(value=0.0, max=2.0), HTML(value='')))"
      ]
     },
     "metadata": {},
     "output_type": "display_data"
    },
    {
     "data": {
      "application/vnd.jupyter.widget-view+json": {
       "model_id": "",
       "version_major": 2,
       "version_minor": 0
      },
      "text/plain": [
       "HBox(children=(HTML(value=''), FloatProgress(value=0.0, max=2.0), HTML(value='')))"
      ]
     },
     "metadata": {},
     "output_type": "display_data"
    },
    {
     "data": {
      "application/vnd.jupyter.widget-view+json": {
       "model_id": "",
       "version_major": 2,
       "version_minor": 0
      },
      "text/plain": [
       "HBox(children=(HTML(value=''), FloatProgress(value=0.0, max=2.0), HTML(value='')))"
      ]
     },
     "metadata": {},
     "output_type": "display_data"
    },
    {
     "data": {
      "application/vnd.jupyter.widget-view+json": {
       "model_id": "",
       "version_major": 2,
       "version_minor": 0
      },
      "text/plain": [
       "HBox(children=(HTML(value=''), FloatProgress(value=0.0, max=2.0), HTML(value='')))"
      ]
     },
     "metadata": {},
     "output_type": "display_data"
    },
    {
     "data": {
      "application/vnd.jupyter.widget-view+json": {
       "model_id": "",
       "version_major": 2,
       "version_minor": 0
      },
      "text/plain": [
       "HBox(children=(HTML(value=''), FloatProgress(value=0.0, max=2.0), HTML(value='')))"
      ]
     },
     "metadata": {},
     "output_type": "display_data"
    },
    {
     "data": {
      "application/vnd.jupyter.widget-view+json": {
       "model_id": "",
       "version_major": 2,
       "version_minor": 0
      },
      "text/plain": [
       "HBox(children=(HTML(value=''), FloatProgress(value=0.0, max=2.0), HTML(value='')))"
      ]
     },
     "metadata": {},
     "output_type": "display_data"
    },
    {
     "data": {
      "application/vnd.jupyter.widget-view+json": {
       "model_id": "",
       "version_major": 2,
       "version_minor": 0
      },
      "text/plain": [
       "HBox(children=(HTML(value=''), FloatProgress(value=0.0, max=2.0), HTML(value='')))"
      ]
     },
     "metadata": {},
     "output_type": "display_data"
    },
    {
     "data": {
      "application/vnd.jupyter.widget-view+json": {
       "model_id": "",
       "version_major": 2,
       "version_minor": 0
      },
      "text/plain": [
       "HBox(children=(HTML(value=''), FloatProgress(value=0.0, max=2.0), HTML(value='')))"
      ]
     },
     "metadata": {},
     "output_type": "display_data"
    },
    {
     "data": {
      "application/vnd.jupyter.widget-view+json": {
       "model_id": "",
       "version_major": 2,
       "version_minor": 0
      },
      "text/plain": [
       "HBox(children=(HTML(value=''), FloatProgress(value=0.0, max=2.0), HTML(value='')))"
      ]
     },
     "metadata": {},
     "output_type": "display_data"
    },
    {
     "data": {
      "application/vnd.jupyter.widget-view+json": {
       "model_id": "",
       "version_major": 2,
       "version_minor": 0
      },
      "text/plain": [
       "HBox(children=(HTML(value=''), FloatProgress(value=0.0, max=2.0), HTML(value='')))"
      ]
     },
     "metadata": {},
     "output_type": "display_data"
    },
    {
     "data": {
      "application/vnd.jupyter.widget-view+json": {
       "model_id": "",
       "version_major": 2,
       "version_minor": 0
      },
      "text/plain": [
       "HBox(children=(HTML(value=''), FloatProgress(value=0.0, max=2.0), HTML(value='')))"
      ]
     },
     "metadata": {},
     "output_type": "display_data"
    },
    {
     "data": {
      "application/vnd.jupyter.widget-view+json": {
       "model_id": "",
       "version_major": 2,
       "version_minor": 0
      },
      "text/plain": [
       "HBox(children=(HTML(value=''), FloatProgress(value=0.0, max=2.0), HTML(value='')))"
      ]
     },
     "metadata": {},
     "output_type": "display_data"
    },
    {
     "data": {
      "application/vnd.jupyter.widget-view+json": {
       "model_id": "",
       "version_major": 2,
       "version_minor": 0
      },
      "text/plain": [
       "HBox(children=(HTML(value=''), FloatProgress(value=0.0, max=2.0), HTML(value='')))"
      ]
     },
     "metadata": {},
     "output_type": "display_data"
    },
    {
     "data": {
      "application/vnd.jupyter.widget-view+json": {
       "model_id": "",
       "version_major": 2,
       "version_minor": 0
      },
      "text/plain": [
       "HBox(children=(HTML(value=''), FloatProgress(value=0.0, max=2.0), HTML(value='')))"
      ]
     },
     "metadata": {},
     "output_type": "display_data"
    },
    {
     "data": {
      "application/vnd.jupyter.widget-view+json": {
       "model_id": "",
       "version_major": 2,
       "version_minor": 0
      },
      "text/plain": [
       "HBox(children=(HTML(value=''), FloatProgress(value=0.0, max=2.0), HTML(value='')))"
      ]
     },
     "metadata": {},
     "output_type": "display_data"
    },
    {
     "data": {
      "application/vnd.jupyter.widget-view+json": {
       "model_id": "",
       "version_major": 2,
       "version_minor": 0
      },
      "text/plain": [
       "HBox(children=(HTML(value=''), FloatProgress(value=0.0, max=2.0), HTML(value='')))"
      ]
     },
     "metadata": {},
     "output_type": "display_data"
    },
    {
     "data": {
      "application/vnd.jupyter.widget-view+json": {
       "model_id": "",
       "version_major": 2,
       "version_minor": 0
      },
      "text/plain": [
       "HBox(children=(HTML(value=''), FloatProgress(value=0.0, max=2.0), HTML(value='')))"
      ]
     },
     "metadata": {},
     "output_type": "display_data"
    },
    {
     "data": {
      "application/vnd.jupyter.widget-view+json": {
       "model_id": "",
       "version_major": 2,
       "version_minor": 0
      },
      "text/plain": [
       "HBox(children=(HTML(value=''), FloatProgress(value=0.0, max=2.0), HTML(value='')))"
      ]
     },
     "metadata": {},
     "output_type": "display_data"
    },
    {
     "data": {
      "application/vnd.jupyter.widget-view+json": {
       "model_id": "",
       "version_major": 2,
       "version_minor": 0
      },
      "text/plain": [
       "HBox(children=(HTML(value=''), FloatProgress(value=0.0, max=2.0), HTML(value='')))"
      ]
     },
     "metadata": {},
     "output_type": "display_data"
    },
    {
     "data": {
      "application/vnd.jupyter.widget-view+json": {
       "model_id": "",
       "version_major": 2,
       "version_minor": 0
      },
      "text/plain": [
       "HBox(children=(HTML(value=''), FloatProgress(value=0.0, max=2.0), HTML(value='')))"
      ]
     },
     "metadata": {},
     "output_type": "display_data"
    },
    {
     "data": {
      "application/vnd.jupyter.widget-view+json": {
       "model_id": "",
       "version_major": 2,
       "version_minor": 0
      },
      "text/plain": [
       "HBox(children=(HTML(value=''), FloatProgress(value=0.0, max=2.0), HTML(value='')))"
      ]
     },
     "metadata": {},
     "output_type": "display_data"
    },
    {
     "data": {
      "application/vnd.jupyter.widget-view+json": {
       "model_id": "",
       "version_major": 2,
       "version_minor": 0
      },
      "text/plain": [
       "HBox(children=(HTML(value=''), FloatProgress(value=0.0, max=2.0), HTML(value='')))"
      ]
     },
     "metadata": {},
     "output_type": "display_data"
    },
    {
     "data": {
      "application/vnd.jupyter.widget-view+json": {
       "model_id": "",
       "version_major": 2,
       "version_minor": 0
      },
      "text/plain": [
       "HBox(children=(HTML(value=''), FloatProgress(value=0.0, max=2.0), HTML(value='')))"
      ]
     },
     "metadata": {},
     "output_type": "display_data"
    },
    {
     "data": {
      "application/vnd.jupyter.widget-view+json": {
       "model_id": "",
       "version_major": 2,
       "version_minor": 0
      },
      "text/plain": [
       "HBox(children=(HTML(value=''), FloatProgress(value=0.0, max=2.0), HTML(value='')))"
      ]
     },
     "metadata": {},
     "output_type": "display_data"
    },
    {
     "data": {
      "application/vnd.jupyter.widget-view+json": {
       "model_id": "",
       "version_major": 2,
       "version_minor": 0
      },
      "text/plain": [
       "HBox(children=(HTML(value=''), FloatProgress(value=0.0, max=2.0), HTML(value='')))"
      ]
     },
     "metadata": {},
     "output_type": "display_data"
    },
    {
     "data": {
      "application/vnd.jupyter.widget-view+json": {
       "model_id": "",
       "version_major": 2,
       "version_minor": 0
      },
      "text/plain": [
       "HBox(children=(HTML(value=''), FloatProgress(value=0.0, max=2.0), HTML(value='')))"
      ]
     },
     "metadata": {},
     "output_type": "display_data"
    },
    {
     "data": {
      "application/vnd.jupyter.widget-view+json": {
       "model_id": "",
       "version_major": 2,
       "version_minor": 0
      },
      "text/plain": [
       "HBox(children=(HTML(value=''), FloatProgress(value=0.0, max=2.0), HTML(value='')))"
      ]
     },
     "metadata": {},
     "output_type": "display_data"
    },
    {
     "data": {
      "application/vnd.jupyter.widget-view+json": {
       "model_id": "",
       "version_major": 2,
       "version_minor": 0
      },
      "text/plain": [
       "HBox(children=(HTML(value=''), FloatProgress(value=0.0, max=2.0), HTML(value='')))"
      ]
     },
     "metadata": {},
     "output_type": "display_data"
    },
    {
     "data": {
      "application/vnd.jupyter.widget-view+json": {
       "model_id": "",
       "version_major": 2,
       "version_minor": 0
      },
      "text/plain": [
       "HBox(children=(HTML(value=''), FloatProgress(value=0.0, max=2.0), HTML(value='')))"
      ]
     },
     "metadata": {},
     "output_type": "display_data"
    },
    {
     "data": {
      "application/vnd.jupyter.widget-view+json": {
       "model_id": "",
       "version_major": 2,
       "version_minor": 0
      },
      "text/plain": [
       "HBox(children=(HTML(value=''), FloatProgress(value=0.0, max=2.0), HTML(value='')))"
      ]
     },
     "metadata": {},
     "output_type": "display_data"
    },
    {
     "data": {
      "application/vnd.jupyter.widget-view+json": {
       "model_id": "",
       "version_major": 2,
       "version_minor": 0
      },
      "text/plain": [
       "HBox(children=(HTML(value=''), FloatProgress(value=0.0, max=2.0), HTML(value='')))"
      ]
     },
     "metadata": {},
     "output_type": "display_data"
    },
    {
     "data": {
      "application/vnd.jupyter.widget-view+json": {
       "model_id": "",
       "version_major": 2,
       "version_minor": 0
      },
      "text/plain": [
       "HBox(children=(HTML(value=''), FloatProgress(value=0.0, max=2.0), HTML(value='')))"
      ]
     },
     "metadata": {},
     "output_type": "display_data"
    },
    {
     "data": {
      "application/vnd.jupyter.widget-view+json": {
       "model_id": "",
       "version_major": 2,
       "version_minor": 0
      },
      "text/plain": [
       "HBox(children=(HTML(value=''), FloatProgress(value=0.0, max=2.0), HTML(value='')))"
      ]
     },
     "metadata": {},
     "output_type": "display_data"
    },
    {
     "data": {
      "application/vnd.jupyter.widget-view+json": {
       "model_id": "",
       "version_major": 2,
       "version_minor": 0
      },
      "text/plain": [
       "HBox(children=(HTML(value=''), FloatProgress(value=0.0, max=2.0), HTML(value='')))"
      ]
     },
     "metadata": {},
     "output_type": "display_data"
    },
    {
     "data": {
      "application/vnd.jupyter.widget-view+json": {
       "model_id": "",
       "version_major": 2,
       "version_minor": 0
      },
      "text/plain": [
       "HBox(children=(HTML(value=''), FloatProgress(value=0.0, max=2.0), HTML(value='')))"
      ]
     },
     "metadata": {},
     "output_type": "display_data"
    },
    {
     "data": {
      "application/vnd.jupyter.widget-view+json": {
       "model_id": "",
       "version_major": 2,
       "version_minor": 0
      },
      "text/plain": [
       "HBox(children=(HTML(value=''), FloatProgress(value=0.0, max=2.0), HTML(value='')))"
      ]
     },
     "metadata": {},
     "output_type": "display_data"
    },
    {
     "data": {
      "application/vnd.jupyter.widget-view+json": {
       "model_id": "",
       "version_major": 2,
       "version_minor": 0
      },
      "text/plain": [
       "HBox(children=(HTML(value=''), FloatProgress(value=0.0, max=2.0), HTML(value='')))"
      ]
     },
     "metadata": {},
     "output_type": "display_data"
    },
    {
     "data": {
      "application/vnd.jupyter.widget-view+json": {
       "model_id": "",
       "version_major": 2,
       "version_minor": 0
      },
      "text/plain": [
       "HBox(children=(HTML(value=''), FloatProgress(value=0.0, max=2.0), HTML(value='')))"
      ]
     },
     "metadata": {},
     "output_type": "display_data"
    },
    {
     "data": {
      "application/vnd.jupyter.widget-view+json": {
       "model_id": "",
       "version_major": 2,
       "version_minor": 0
      },
      "text/plain": [
       "HBox(children=(HTML(value=''), FloatProgress(value=0.0, max=2.0), HTML(value='')))"
      ]
     },
     "metadata": {},
     "output_type": "display_data"
    },
    {
     "data": {
      "application/vnd.jupyter.widget-view+json": {
       "model_id": "",
       "version_major": 2,
       "version_minor": 0
      },
      "text/plain": [
       "HBox(children=(HTML(value=''), FloatProgress(value=0.0, max=2.0), HTML(value='')))"
      ]
     },
     "metadata": {},
     "output_type": "display_data"
    },
    {
     "data": {
      "application/vnd.jupyter.widget-view+json": {
       "model_id": "",
       "version_major": 2,
       "version_minor": 0
      },
      "text/plain": [
       "HBox(children=(HTML(value=''), FloatProgress(value=0.0, max=2.0), HTML(value='')))"
      ]
     },
     "metadata": {},
     "output_type": "display_data"
    },
    {
     "data": {
      "application/vnd.jupyter.widget-view+json": {
       "model_id": "",
       "version_major": 2,
       "version_minor": 0
      },
      "text/plain": [
       "HBox(children=(HTML(value=''), FloatProgress(value=0.0, max=2.0), HTML(value='')))"
      ]
     },
     "metadata": {},
     "output_type": "display_data"
    },
    {
     "data": {
      "application/vnd.jupyter.widget-view+json": {
       "model_id": "",
       "version_major": 2,
       "version_minor": 0
      },
      "text/plain": [
       "HBox(children=(HTML(value=''), FloatProgress(value=0.0, max=2.0), HTML(value='')))"
      ]
     },
     "metadata": {},
     "output_type": "display_data"
    },
    {
     "data": {
      "application/vnd.jupyter.widget-view+json": {
       "model_id": "",
       "version_major": 2,
       "version_minor": 0
      },
      "text/plain": [
       "HBox(children=(HTML(value=''), FloatProgress(value=0.0, max=2.0), HTML(value='')))"
      ]
     },
     "metadata": {},
     "output_type": "display_data"
    },
    {
     "data": {
      "application/vnd.jupyter.widget-view+json": {
       "model_id": "",
       "version_major": 2,
       "version_minor": 0
      },
      "text/plain": [
       "HBox(children=(HTML(value=''), FloatProgress(value=0.0, max=2.0), HTML(value='')))"
      ]
     },
     "metadata": {},
     "output_type": "display_data"
    },
    {
     "data": {
      "application/vnd.jupyter.widget-view+json": {
       "model_id": "",
       "version_major": 2,
       "version_minor": 0
      },
      "text/plain": [
       "HBox(children=(HTML(value=''), FloatProgress(value=0.0, max=2.0), HTML(value='')))"
      ]
     },
     "metadata": {},
     "output_type": "display_data"
    },
    {
     "data": {
      "application/vnd.jupyter.widget-view+json": {
       "model_id": "",
       "version_major": 2,
       "version_minor": 0
      },
      "text/plain": [
       "HBox(children=(HTML(value=''), FloatProgress(value=0.0, max=2.0), HTML(value='')))"
      ]
     },
     "metadata": {},
     "output_type": "display_data"
    },
    {
     "data": {
      "application/vnd.jupyter.widget-view+json": {
       "model_id": "",
       "version_major": 2,
       "version_minor": 0
      },
      "text/plain": [
       "HBox(children=(HTML(value=''), FloatProgress(value=0.0, max=2.0), HTML(value='')))"
      ]
     },
     "metadata": {},
     "output_type": "display_data"
    },
    {
     "data": {
      "application/vnd.jupyter.widget-view+json": {
       "model_id": "",
       "version_major": 2,
       "version_minor": 0
      },
      "text/plain": [
       "HBox(children=(HTML(value=''), FloatProgress(value=0.0, max=2.0), HTML(value='')))"
      ]
     },
     "metadata": {},
     "output_type": "display_data"
    },
    {
     "data": {
      "application/vnd.jupyter.widget-view+json": {
       "model_id": "",
       "version_major": 2,
       "version_minor": 0
      },
      "text/plain": [
       "HBox(children=(HTML(value=''), FloatProgress(value=0.0, max=2.0), HTML(value='')))"
      ]
     },
     "metadata": {},
     "output_type": "display_data"
    },
    {
     "data": {
      "application/vnd.jupyter.widget-view+json": {
       "model_id": "",
       "version_major": 2,
       "version_minor": 0
      },
      "text/plain": [
       "HBox(children=(HTML(value=''), FloatProgress(value=0.0, max=2.0), HTML(value='')))"
      ]
     },
     "metadata": {},
     "output_type": "display_data"
    },
    {
     "data": {
      "application/vnd.jupyter.widget-view+json": {
       "model_id": "",
       "version_major": 2,
       "version_minor": 0
      },
      "text/plain": [
       "HBox(children=(HTML(value=''), FloatProgress(value=0.0, max=2.0), HTML(value='')))"
      ]
     },
     "metadata": {},
     "output_type": "display_data"
    },
    {
     "data": {
      "application/vnd.jupyter.widget-view+json": {
       "model_id": "",
       "version_major": 2,
       "version_minor": 0
      },
      "text/plain": [
       "HBox(children=(HTML(value=''), FloatProgress(value=0.0, max=2.0), HTML(value='')))"
      ]
     },
     "metadata": {},
     "output_type": "display_data"
    },
    {
     "data": {
      "application/vnd.jupyter.widget-view+json": {
       "model_id": "",
       "version_major": 2,
       "version_minor": 0
      },
      "text/plain": [
       "HBox(children=(HTML(value=''), FloatProgress(value=0.0, max=2.0), HTML(value='')))"
      ]
     },
     "metadata": {},
     "output_type": "display_data"
    },
    {
     "data": {
      "application/vnd.jupyter.widget-view+json": {
       "model_id": "",
       "version_major": 2,
       "version_minor": 0
      },
      "text/plain": [
       "HBox(children=(HTML(value=''), FloatProgress(value=0.0, max=2.0), HTML(value='')))"
      ]
     },
     "metadata": {},
     "output_type": "display_data"
    },
    {
     "data": {
      "application/vnd.jupyter.widget-view+json": {
       "model_id": "",
       "version_major": 2,
       "version_minor": 0
      },
      "text/plain": [
       "HBox(children=(HTML(value=''), FloatProgress(value=0.0, max=2.0), HTML(value='')))"
      ]
     },
     "metadata": {},
     "output_type": "display_data"
    },
    {
     "data": {
      "application/vnd.jupyter.widget-view+json": {
       "model_id": "",
       "version_major": 2,
       "version_minor": 0
      },
      "text/plain": [
       "HBox(children=(HTML(value=''), FloatProgress(value=0.0, max=2.0), HTML(value='')))"
      ]
     },
     "metadata": {},
     "output_type": "display_data"
    },
    {
     "data": {
      "application/vnd.jupyter.widget-view+json": {
       "model_id": "",
       "version_major": 2,
       "version_minor": 0
      },
      "text/plain": [
       "HBox(children=(HTML(value=''), FloatProgress(value=0.0, max=2.0), HTML(value='')))"
      ]
     },
     "metadata": {},
     "output_type": "display_data"
    },
    {
     "data": {
      "application/vnd.jupyter.widget-view+json": {
       "model_id": "",
       "version_major": 2,
       "version_minor": 0
      },
      "text/plain": [
       "HBox(children=(HTML(value=''), FloatProgress(value=0.0, max=2.0), HTML(value='')))"
      ]
     },
     "metadata": {},
     "output_type": "display_data"
    },
    {
     "data": {
      "application/vnd.jupyter.widget-view+json": {
       "model_id": "",
       "version_major": 2,
       "version_minor": 0
      },
      "text/plain": [
       "HBox(children=(HTML(value=''), FloatProgress(value=0.0, max=2.0), HTML(value='')))"
      ]
     },
     "metadata": {},
     "output_type": "display_data"
    },
    {
     "data": {
      "application/vnd.jupyter.widget-view+json": {
       "model_id": "",
       "version_major": 2,
       "version_minor": 0
      },
      "text/plain": [
       "HBox(children=(HTML(value=''), FloatProgress(value=0.0, max=2.0), HTML(value='')))"
      ]
     },
     "metadata": {},
     "output_type": "display_data"
    },
    {
     "data": {
      "application/vnd.jupyter.widget-view+json": {
       "model_id": "",
       "version_major": 2,
       "version_minor": 0
      },
      "text/plain": [
       "HBox(children=(HTML(value=''), FloatProgress(value=0.0, max=2.0), HTML(value='')))"
      ]
     },
     "metadata": {},
     "output_type": "display_data"
    },
    {
     "data": {
      "application/vnd.jupyter.widget-view+json": {
       "model_id": "",
       "version_major": 2,
       "version_minor": 0
      },
      "text/plain": [
       "HBox(children=(HTML(value=''), FloatProgress(value=0.0, max=2.0), HTML(value='')))"
      ]
     },
     "metadata": {},
     "output_type": "display_data"
    },
    {
     "data": {
      "application/vnd.jupyter.widget-view+json": {
       "model_id": "",
       "version_major": 2,
       "version_minor": 0
      },
      "text/plain": [
       "HBox(children=(HTML(value=''), FloatProgress(value=0.0, max=2.0), HTML(value='')))"
      ]
     },
     "metadata": {},
     "output_type": "display_data"
    },
    {
     "data": {
      "application/vnd.jupyter.widget-view+json": {
       "model_id": "",
       "version_major": 2,
       "version_minor": 0
      },
      "text/plain": [
       "HBox(children=(HTML(value=''), FloatProgress(value=0.0, max=2.0), HTML(value='')))"
      ]
     },
     "metadata": {},
     "output_type": "display_data"
    },
    {
     "data": {
      "application/vnd.jupyter.widget-view+json": {
       "model_id": "",
       "version_major": 2,
       "version_minor": 0
      },
      "text/plain": [
       "HBox(children=(HTML(value=''), FloatProgress(value=0.0, max=2.0), HTML(value='')))"
      ]
     },
     "metadata": {},
     "output_type": "display_data"
    },
    {
     "data": {
      "application/vnd.jupyter.widget-view+json": {
       "model_id": "",
       "version_major": 2,
       "version_minor": 0
      },
      "text/plain": [
       "HBox(children=(HTML(value=''), FloatProgress(value=0.0, max=2.0), HTML(value='')))"
      ]
     },
     "metadata": {},
     "output_type": "display_data"
    },
    {
     "data": {
      "application/vnd.jupyter.widget-view+json": {
       "model_id": "",
       "version_major": 2,
       "version_minor": 0
      },
      "text/plain": [
       "HBox(children=(HTML(value=''), FloatProgress(value=0.0, max=2.0), HTML(value='')))"
      ]
     },
     "metadata": {},
     "output_type": "display_data"
    },
    {
     "data": {
      "application/vnd.jupyter.widget-view+json": {
       "model_id": "",
       "version_major": 2,
       "version_minor": 0
      },
      "text/plain": [
       "HBox(children=(HTML(value=''), FloatProgress(value=0.0, max=2.0), HTML(value='')))"
      ]
     },
     "metadata": {},
     "output_type": "display_data"
    },
    {
     "data": {
      "application/vnd.jupyter.widget-view+json": {
       "model_id": "",
       "version_major": 2,
       "version_minor": 0
      },
      "text/plain": [
       "HBox(children=(HTML(value=''), FloatProgress(value=0.0, max=2.0), HTML(value='')))"
      ]
     },
     "metadata": {},
     "output_type": "display_data"
    },
    {
     "data": {
      "application/vnd.jupyter.widget-view+json": {
       "model_id": "",
       "version_major": 2,
       "version_minor": 0
      },
      "text/plain": [
       "HBox(children=(HTML(value=''), FloatProgress(value=0.0, max=2.0), HTML(value='')))"
      ]
     },
     "metadata": {},
     "output_type": "display_data"
    },
    {
     "data": {
      "application/vnd.jupyter.widget-view+json": {
       "model_id": "",
       "version_major": 2,
       "version_minor": 0
      },
      "text/plain": [
       "HBox(children=(HTML(value=''), FloatProgress(value=0.0, max=2.0), HTML(value='')))"
      ]
     },
     "metadata": {},
     "output_type": "display_data"
    },
    {
     "data": {
      "application/vnd.jupyter.widget-view+json": {
       "model_id": "",
       "version_major": 2,
       "version_minor": 0
      },
      "text/plain": [
       "HBox(children=(HTML(value=''), FloatProgress(value=0.0, max=2.0), HTML(value='')))"
      ]
     },
     "metadata": {},
     "output_type": "display_data"
    },
    {
     "data": {
      "application/vnd.jupyter.widget-view+json": {
       "model_id": "",
       "version_major": 2,
       "version_minor": 0
      },
      "text/plain": [
       "HBox(children=(HTML(value=''), FloatProgress(value=0.0, max=2.0), HTML(value='')))"
      ]
     },
     "metadata": {},
     "output_type": "display_data"
    },
    {
     "data": {
      "application/vnd.jupyter.widget-view+json": {
       "model_id": "",
       "version_major": 2,
       "version_minor": 0
      },
      "text/plain": [
       "HBox(children=(HTML(value=''), FloatProgress(value=0.0, max=2.0), HTML(value='')))"
      ]
     },
     "metadata": {},
     "output_type": "display_data"
    },
    {
     "data": {
      "application/vnd.jupyter.widget-view+json": {
       "model_id": "",
       "version_major": 2,
       "version_minor": 0
      },
      "text/plain": [
       "HBox(children=(HTML(value=''), FloatProgress(value=0.0, max=2.0), HTML(value='')))"
      ]
     },
     "metadata": {},
     "output_type": "display_data"
    },
    {
     "data": {
      "application/vnd.jupyter.widget-view+json": {
       "model_id": "",
       "version_major": 2,
       "version_minor": 0
      },
      "text/plain": [
       "HBox(children=(HTML(value=''), FloatProgress(value=0.0, max=2.0), HTML(value='')))"
      ]
     },
     "metadata": {},
     "output_type": "display_data"
    },
    {
     "data": {
      "application/vnd.jupyter.widget-view+json": {
       "model_id": "",
       "version_major": 2,
       "version_minor": 0
      },
      "text/plain": [
       "HBox(children=(HTML(value=''), FloatProgress(value=0.0, max=2.0), HTML(value='')))"
      ]
     },
     "metadata": {},
     "output_type": "display_data"
    },
    {
     "data": {
      "application/vnd.jupyter.widget-view+json": {
       "model_id": "",
       "version_major": 2,
       "version_minor": 0
      },
      "text/plain": [
       "HBox(children=(HTML(value=''), FloatProgress(value=0.0, max=2.0), HTML(value='')))"
      ]
     },
     "metadata": {},
     "output_type": "display_data"
    },
    {
     "data": {
      "application/vnd.jupyter.widget-view+json": {
       "model_id": "",
       "version_major": 2,
       "version_minor": 0
      },
      "text/plain": [
       "HBox(children=(HTML(value=''), FloatProgress(value=0.0, max=2.0), HTML(value='')))"
      ]
     },
     "metadata": {},
     "output_type": "display_data"
    },
    {
     "data": {
      "application/vnd.jupyter.widget-view+json": {
       "model_id": "",
       "version_major": 2,
       "version_minor": 0
      },
      "text/plain": [
       "HBox(children=(HTML(value=''), FloatProgress(value=0.0, max=2.0), HTML(value='')))"
      ]
     },
     "metadata": {},
     "output_type": "display_data"
    },
    {
     "data": {
      "application/vnd.jupyter.widget-view+json": {
       "model_id": "",
       "version_major": 2,
       "version_minor": 0
      },
      "text/plain": [
       "HBox(children=(HTML(value=''), FloatProgress(value=0.0, max=2.0), HTML(value='')))"
      ]
     },
     "metadata": {},
     "output_type": "display_data"
    },
    {
     "data": {
      "application/vnd.jupyter.widget-view+json": {
       "model_id": "",
       "version_major": 2,
       "version_minor": 0
      },
      "text/plain": [
       "HBox(children=(HTML(value=''), FloatProgress(value=0.0, max=2.0), HTML(value='')))"
      ]
     },
     "metadata": {},
     "output_type": "display_data"
    },
    {
     "data": {
      "application/vnd.jupyter.widget-view+json": {
       "model_id": "",
       "version_major": 2,
       "version_minor": 0
      },
      "text/plain": [
       "HBox(children=(HTML(value=''), FloatProgress(value=0.0, max=2.0), HTML(value='')))"
      ]
     },
     "metadata": {},
     "output_type": "display_data"
    },
    {
     "name": "stdout",
     "output_type": "stream",
     "text": [
      "\n"
     ]
    },
    {
     "data": {
      "application/vnd.jupyter.widget-view+json": {
       "model_id": "4321bca7b79f489cae746da22892f98e",
       "version_major": 2,
       "version_minor": 0
      },
      "text/plain": [
       "HBox(children=(HTML(value=''), FloatProgress(value=0.0, max=128.0), HTML(value='')))"
      ]
     },
     "metadata": {},
     "output_type": "display_data"
    },
    {
     "data": {
      "application/vnd.jupyter.widget-view+json": {
       "model_id": "",
       "version_major": 2,
       "version_minor": 0
      },
      "text/plain": [
       "HBox(children=(HTML(value=''), FloatProgress(value=0.0, max=2.0), HTML(value='')))"
      ]
     },
     "metadata": {},
     "output_type": "display_data"
    },
    {
     "data": {
      "application/vnd.jupyter.widget-view+json": {
       "model_id": "",
       "version_major": 2,
       "version_minor": 0
      },
      "text/plain": [
       "HBox(children=(HTML(value=''), FloatProgress(value=0.0, max=2.0), HTML(value='')))"
      ]
     },
     "metadata": {},
     "output_type": "display_data"
    },
    {
     "data": {
      "application/vnd.jupyter.widget-view+json": {
       "model_id": "",
       "version_major": 2,
       "version_minor": 0
      },
      "text/plain": [
       "HBox(children=(HTML(value=''), FloatProgress(value=0.0, max=2.0), HTML(value='')))"
      ]
     },
     "metadata": {},
     "output_type": "display_data"
    },
    {
     "data": {
      "application/vnd.jupyter.widget-view+json": {
       "model_id": "",
       "version_major": 2,
       "version_minor": 0
      },
      "text/plain": [
       "HBox(children=(HTML(value=''), FloatProgress(value=0.0, max=2.0), HTML(value='')))"
      ]
     },
     "metadata": {},
     "output_type": "display_data"
    },
    {
     "data": {
      "application/vnd.jupyter.widget-view+json": {
       "model_id": "",
       "version_major": 2,
       "version_minor": 0
      },
      "text/plain": [
       "HBox(children=(HTML(value=''), FloatProgress(value=0.0, max=2.0), HTML(value='')))"
      ]
     },
     "metadata": {},
     "output_type": "display_data"
    },
    {
     "data": {
      "application/vnd.jupyter.widget-view+json": {
       "model_id": "",
       "version_major": 2,
       "version_minor": 0
      },
      "text/plain": [
       "HBox(children=(HTML(value=''), FloatProgress(value=0.0, max=2.0), HTML(value='')))"
      ]
     },
     "metadata": {},
     "output_type": "display_data"
    },
    {
     "data": {
      "application/vnd.jupyter.widget-view+json": {
       "model_id": "",
       "version_major": 2,
       "version_minor": 0
      },
      "text/plain": [
       "HBox(children=(HTML(value=''), FloatProgress(value=0.0, max=2.0), HTML(value='')))"
      ]
     },
     "metadata": {},
     "output_type": "display_data"
    },
    {
     "data": {
      "application/vnd.jupyter.widget-view+json": {
       "model_id": "",
       "version_major": 2,
       "version_minor": 0
      },
      "text/plain": [
       "HBox(children=(HTML(value=''), FloatProgress(value=0.0, max=2.0), HTML(value='')))"
      ]
     },
     "metadata": {},
     "output_type": "display_data"
    },
    {
     "data": {
      "application/vnd.jupyter.widget-view+json": {
       "model_id": "",
       "version_major": 2,
       "version_minor": 0
      },
      "text/plain": [
       "HBox(children=(HTML(value=''), FloatProgress(value=0.0, max=2.0), HTML(value='')))"
      ]
     },
     "metadata": {},
     "output_type": "display_data"
    },
    {
     "data": {
      "application/vnd.jupyter.widget-view+json": {
       "model_id": "",
       "version_major": 2,
       "version_minor": 0
      },
      "text/plain": [
       "HBox(children=(HTML(value=''), FloatProgress(value=0.0, max=2.0), HTML(value='')))"
      ]
     },
     "metadata": {},
     "output_type": "display_data"
    },
    {
     "data": {
      "application/vnd.jupyter.widget-view+json": {
       "model_id": "",
       "version_major": 2,
       "version_minor": 0
      },
      "text/plain": [
       "HBox(children=(HTML(value=''), FloatProgress(value=0.0, max=2.0), HTML(value='')))"
      ]
     },
     "metadata": {},
     "output_type": "display_data"
    },
    {
     "data": {
      "application/vnd.jupyter.widget-view+json": {
       "model_id": "",
       "version_major": 2,
       "version_minor": 0
      },
      "text/plain": [
       "HBox(children=(HTML(value=''), FloatProgress(value=0.0, max=2.0), HTML(value='')))"
      ]
     },
     "metadata": {},
     "output_type": "display_data"
    },
    {
     "data": {
      "application/vnd.jupyter.widget-view+json": {
       "model_id": "",
       "version_major": 2,
       "version_minor": 0
      },
      "text/plain": [
       "HBox(children=(HTML(value=''), FloatProgress(value=0.0, max=2.0), HTML(value='')))"
      ]
     },
     "metadata": {},
     "output_type": "display_data"
    },
    {
     "data": {
      "application/vnd.jupyter.widget-view+json": {
       "model_id": "",
       "version_major": 2,
       "version_minor": 0
      },
      "text/plain": [
       "HBox(children=(HTML(value=''), FloatProgress(value=0.0, max=2.0), HTML(value='')))"
      ]
     },
     "metadata": {},
     "output_type": "display_data"
    },
    {
     "data": {
      "application/vnd.jupyter.widget-view+json": {
       "model_id": "",
       "version_major": 2,
       "version_minor": 0
      },
      "text/plain": [
       "HBox(children=(HTML(value=''), FloatProgress(value=0.0, max=2.0), HTML(value='')))"
      ]
     },
     "metadata": {},
     "output_type": "display_data"
    },
    {
     "data": {
      "application/vnd.jupyter.widget-view+json": {
       "model_id": "",
       "version_major": 2,
       "version_minor": 0
      },
      "text/plain": [
       "HBox(children=(HTML(value=''), FloatProgress(value=0.0, max=2.0), HTML(value='')))"
      ]
     },
     "metadata": {},
     "output_type": "display_data"
    },
    {
     "data": {
      "application/vnd.jupyter.widget-view+json": {
       "model_id": "",
       "version_major": 2,
       "version_minor": 0
      },
      "text/plain": [
       "HBox(children=(HTML(value=''), FloatProgress(value=0.0, max=2.0), HTML(value='')))"
      ]
     },
     "metadata": {},
     "output_type": "display_data"
    },
    {
     "data": {
      "application/vnd.jupyter.widget-view+json": {
       "model_id": "",
       "version_major": 2,
       "version_minor": 0
      },
      "text/plain": [
       "HBox(children=(HTML(value=''), FloatProgress(value=0.0, max=2.0), HTML(value='')))"
      ]
     },
     "metadata": {},
     "output_type": "display_data"
    },
    {
     "data": {
      "application/vnd.jupyter.widget-view+json": {
       "model_id": "",
       "version_major": 2,
       "version_minor": 0
      },
      "text/plain": [
       "HBox(children=(HTML(value=''), FloatProgress(value=0.0, max=2.0), HTML(value='')))"
      ]
     },
     "metadata": {},
     "output_type": "display_data"
    },
    {
     "data": {
      "application/vnd.jupyter.widget-view+json": {
       "model_id": "",
       "version_major": 2,
       "version_minor": 0
      },
      "text/plain": [
       "HBox(children=(HTML(value=''), FloatProgress(value=0.0, max=2.0), HTML(value='')))"
      ]
     },
     "metadata": {},
     "output_type": "display_data"
    },
    {
     "data": {
      "application/vnd.jupyter.widget-view+json": {
       "model_id": "",
       "version_major": 2,
       "version_minor": 0
      },
      "text/plain": [
       "HBox(children=(HTML(value=''), FloatProgress(value=0.0, max=2.0), HTML(value='')))"
      ]
     },
     "metadata": {},
     "output_type": "display_data"
    },
    {
     "data": {
      "application/vnd.jupyter.widget-view+json": {
       "model_id": "",
       "version_major": 2,
       "version_minor": 0
      },
      "text/plain": [
       "HBox(children=(HTML(value=''), FloatProgress(value=0.0, max=2.0), HTML(value='')))"
      ]
     },
     "metadata": {},
     "output_type": "display_data"
    },
    {
     "data": {
      "application/vnd.jupyter.widget-view+json": {
       "model_id": "",
       "version_major": 2,
       "version_minor": 0
      },
      "text/plain": [
       "HBox(children=(HTML(value=''), FloatProgress(value=0.0, max=2.0), HTML(value='')))"
      ]
     },
     "metadata": {},
     "output_type": "display_data"
    },
    {
     "data": {
      "application/vnd.jupyter.widget-view+json": {
       "model_id": "",
       "version_major": 2,
       "version_minor": 0
      },
      "text/plain": [
       "HBox(children=(HTML(value=''), FloatProgress(value=0.0, max=2.0), HTML(value='')))"
      ]
     },
     "metadata": {},
     "output_type": "display_data"
    },
    {
     "data": {
      "application/vnd.jupyter.widget-view+json": {
       "model_id": "",
       "version_major": 2,
       "version_minor": 0
      },
      "text/plain": [
       "HBox(children=(HTML(value=''), FloatProgress(value=0.0, max=2.0), HTML(value='')))"
      ]
     },
     "metadata": {},
     "output_type": "display_data"
    },
    {
     "data": {
      "application/vnd.jupyter.widget-view+json": {
       "model_id": "",
       "version_major": 2,
       "version_minor": 0
      },
      "text/plain": [
       "HBox(children=(HTML(value=''), FloatProgress(value=0.0, max=2.0), HTML(value='')))"
      ]
     },
     "metadata": {},
     "output_type": "display_data"
    },
    {
     "data": {
      "application/vnd.jupyter.widget-view+json": {
       "model_id": "",
       "version_major": 2,
       "version_minor": 0
      },
      "text/plain": [
       "HBox(children=(HTML(value=''), FloatProgress(value=0.0, max=2.0), HTML(value='')))"
      ]
     },
     "metadata": {},
     "output_type": "display_data"
    },
    {
     "data": {
      "application/vnd.jupyter.widget-view+json": {
       "model_id": "",
       "version_major": 2,
       "version_minor": 0
      },
      "text/plain": [
       "HBox(children=(HTML(value=''), FloatProgress(value=0.0, max=2.0), HTML(value='')))"
      ]
     },
     "metadata": {},
     "output_type": "display_data"
    },
    {
     "data": {
      "application/vnd.jupyter.widget-view+json": {
       "model_id": "",
       "version_major": 2,
       "version_minor": 0
      },
      "text/plain": [
       "HBox(children=(HTML(value=''), FloatProgress(value=0.0, max=2.0), HTML(value='')))"
      ]
     },
     "metadata": {},
     "output_type": "display_data"
    },
    {
     "data": {
      "application/vnd.jupyter.widget-view+json": {
       "model_id": "",
       "version_major": 2,
       "version_minor": 0
      },
      "text/plain": [
       "HBox(children=(HTML(value=''), FloatProgress(value=0.0, max=2.0), HTML(value='')))"
      ]
     },
     "metadata": {},
     "output_type": "display_data"
    },
    {
     "data": {
      "application/vnd.jupyter.widget-view+json": {
       "model_id": "",
       "version_major": 2,
       "version_minor": 0
      },
      "text/plain": [
       "HBox(children=(HTML(value=''), FloatProgress(value=0.0, max=2.0), HTML(value='')))"
      ]
     },
     "metadata": {},
     "output_type": "display_data"
    },
    {
     "data": {
      "application/vnd.jupyter.widget-view+json": {
       "model_id": "",
       "version_major": 2,
       "version_minor": 0
      },
      "text/plain": [
       "HBox(children=(HTML(value=''), FloatProgress(value=0.0, max=2.0), HTML(value='')))"
      ]
     },
     "metadata": {},
     "output_type": "display_data"
    },
    {
     "data": {
      "application/vnd.jupyter.widget-view+json": {
       "model_id": "",
       "version_major": 2,
       "version_minor": 0
      },
      "text/plain": [
       "HBox(children=(HTML(value=''), FloatProgress(value=0.0, max=2.0), HTML(value='')))"
      ]
     },
     "metadata": {},
     "output_type": "display_data"
    },
    {
     "data": {
      "application/vnd.jupyter.widget-view+json": {
       "model_id": "",
       "version_major": 2,
       "version_minor": 0
      },
      "text/plain": [
       "HBox(children=(HTML(value=''), FloatProgress(value=0.0, max=2.0), HTML(value='')))"
      ]
     },
     "metadata": {},
     "output_type": "display_data"
    },
    {
     "data": {
      "application/vnd.jupyter.widget-view+json": {
       "model_id": "",
       "version_major": 2,
       "version_minor": 0
      },
      "text/plain": [
       "HBox(children=(HTML(value=''), FloatProgress(value=0.0, max=2.0), HTML(value='')))"
      ]
     },
     "metadata": {},
     "output_type": "display_data"
    },
    {
     "data": {
      "application/vnd.jupyter.widget-view+json": {
       "model_id": "",
       "version_major": 2,
       "version_minor": 0
      },
      "text/plain": [
       "HBox(children=(HTML(value=''), FloatProgress(value=0.0, max=2.0), HTML(value='')))"
      ]
     },
     "metadata": {},
     "output_type": "display_data"
    },
    {
     "data": {
      "application/vnd.jupyter.widget-view+json": {
       "model_id": "",
       "version_major": 2,
       "version_minor": 0
      },
      "text/plain": [
       "HBox(children=(HTML(value=''), FloatProgress(value=0.0, max=2.0), HTML(value='')))"
      ]
     },
     "metadata": {},
     "output_type": "display_data"
    },
    {
     "data": {
      "application/vnd.jupyter.widget-view+json": {
       "model_id": "",
       "version_major": 2,
       "version_minor": 0
      },
      "text/plain": [
       "HBox(children=(HTML(value=''), FloatProgress(value=0.0, max=2.0), HTML(value='')))"
      ]
     },
     "metadata": {},
     "output_type": "display_data"
    },
    {
     "data": {
      "application/vnd.jupyter.widget-view+json": {
       "model_id": "",
       "version_major": 2,
       "version_minor": 0
      },
      "text/plain": [
       "HBox(children=(HTML(value=''), FloatProgress(value=0.0, max=2.0), HTML(value='')))"
      ]
     },
     "metadata": {},
     "output_type": "display_data"
    },
    {
     "data": {
      "application/vnd.jupyter.widget-view+json": {
       "model_id": "",
       "version_major": 2,
       "version_minor": 0
      },
      "text/plain": [
       "HBox(children=(HTML(value=''), FloatProgress(value=0.0, max=2.0), HTML(value='')))"
      ]
     },
     "metadata": {},
     "output_type": "display_data"
    },
    {
     "data": {
      "application/vnd.jupyter.widget-view+json": {
       "model_id": "",
       "version_major": 2,
       "version_minor": 0
      },
      "text/plain": [
       "HBox(children=(HTML(value=''), FloatProgress(value=0.0, max=2.0), HTML(value='')))"
      ]
     },
     "metadata": {},
     "output_type": "display_data"
    },
    {
     "data": {
      "application/vnd.jupyter.widget-view+json": {
       "model_id": "",
       "version_major": 2,
       "version_minor": 0
      },
      "text/plain": [
       "HBox(children=(HTML(value=''), FloatProgress(value=0.0, max=2.0), HTML(value='')))"
      ]
     },
     "metadata": {},
     "output_type": "display_data"
    },
    {
     "data": {
      "application/vnd.jupyter.widget-view+json": {
       "model_id": "",
       "version_major": 2,
       "version_minor": 0
      },
      "text/plain": [
       "HBox(children=(HTML(value=''), FloatProgress(value=0.0, max=2.0), HTML(value='')))"
      ]
     },
     "metadata": {},
     "output_type": "display_data"
    },
    {
     "data": {
      "application/vnd.jupyter.widget-view+json": {
       "model_id": "",
       "version_major": 2,
       "version_minor": 0
      },
      "text/plain": [
       "HBox(children=(HTML(value=''), FloatProgress(value=0.0, max=2.0), HTML(value='')))"
      ]
     },
     "metadata": {},
     "output_type": "display_data"
    },
    {
     "data": {
      "application/vnd.jupyter.widget-view+json": {
       "model_id": "",
       "version_major": 2,
       "version_minor": 0
      },
      "text/plain": [
       "HBox(children=(HTML(value=''), FloatProgress(value=0.0, max=2.0), HTML(value='')))"
      ]
     },
     "metadata": {},
     "output_type": "display_data"
    },
    {
     "data": {
      "application/vnd.jupyter.widget-view+json": {
       "model_id": "",
       "version_major": 2,
       "version_minor": 0
      },
      "text/plain": [
       "HBox(children=(HTML(value=''), FloatProgress(value=0.0, max=2.0), HTML(value='')))"
      ]
     },
     "metadata": {},
     "output_type": "display_data"
    },
    {
     "data": {
      "application/vnd.jupyter.widget-view+json": {
       "model_id": "",
       "version_major": 2,
       "version_minor": 0
      },
      "text/plain": [
       "HBox(children=(HTML(value=''), FloatProgress(value=0.0, max=2.0), HTML(value='')))"
      ]
     },
     "metadata": {},
     "output_type": "display_data"
    },
    {
     "data": {
      "application/vnd.jupyter.widget-view+json": {
       "model_id": "",
       "version_major": 2,
       "version_minor": 0
      },
      "text/plain": [
       "HBox(children=(HTML(value=''), FloatProgress(value=0.0, max=2.0), HTML(value='')))"
      ]
     },
     "metadata": {},
     "output_type": "display_data"
    },
    {
     "data": {
      "application/vnd.jupyter.widget-view+json": {
       "model_id": "",
       "version_major": 2,
       "version_minor": 0
      },
      "text/plain": [
       "HBox(children=(HTML(value=''), FloatProgress(value=0.0, max=2.0), HTML(value='')))"
      ]
     },
     "metadata": {},
     "output_type": "display_data"
    },
    {
     "data": {
      "application/vnd.jupyter.widget-view+json": {
       "model_id": "",
       "version_major": 2,
       "version_minor": 0
      },
      "text/plain": [
       "HBox(children=(HTML(value=''), FloatProgress(value=0.0, max=2.0), HTML(value='')))"
      ]
     },
     "metadata": {},
     "output_type": "display_data"
    },
    {
     "data": {
      "application/vnd.jupyter.widget-view+json": {
       "model_id": "",
       "version_major": 2,
       "version_minor": 0
      },
      "text/plain": [
       "HBox(children=(HTML(value=''), FloatProgress(value=0.0, max=2.0), HTML(value='')))"
      ]
     },
     "metadata": {},
     "output_type": "display_data"
    },
    {
     "data": {
      "application/vnd.jupyter.widget-view+json": {
       "model_id": "",
       "version_major": 2,
       "version_minor": 0
      },
      "text/plain": [
       "HBox(children=(HTML(value=''), FloatProgress(value=0.0, max=2.0), HTML(value='')))"
      ]
     },
     "metadata": {},
     "output_type": "display_data"
    },
    {
     "data": {
      "application/vnd.jupyter.widget-view+json": {
       "model_id": "",
       "version_major": 2,
       "version_minor": 0
      },
      "text/plain": [
       "HBox(children=(HTML(value=''), FloatProgress(value=0.0, max=2.0), HTML(value='')))"
      ]
     },
     "metadata": {},
     "output_type": "display_data"
    },
    {
     "data": {
      "application/vnd.jupyter.widget-view+json": {
       "model_id": "",
       "version_major": 2,
       "version_minor": 0
      },
      "text/plain": [
       "HBox(children=(HTML(value=''), FloatProgress(value=0.0, max=2.0), HTML(value='')))"
      ]
     },
     "metadata": {},
     "output_type": "display_data"
    },
    {
     "data": {
      "application/vnd.jupyter.widget-view+json": {
       "model_id": "",
       "version_major": 2,
       "version_minor": 0
      },
      "text/plain": [
       "HBox(children=(HTML(value=''), FloatProgress(value=0.0, max=2.0), HTML(value='')))"
      ]
     },
     "metadata": {},
     "output_type": "display_data"
    },
    {
     "data": {
      "application/vnd.jupyter.widget-view+json": {
       "model_id": "",
       "version_major": 2,
       "version_minor": 0
      },
      "text/plain": [
       "HBox(children=(HTML(value=''), FloatProgress(value=0.0, max=2.0), HTML(value='')))"
      ]
     },
     "metadata": {},
     "output_type": "display_data"
    },
    {
     "data": {
      "application/vnd.jupyter.widget-view+json": {
       "model_id": "",
       "version_major": 2,
       "version_minor": 0
      },
      "text/plain": [
       "HBox(children=(HTML(value=''), FloatProgress(value=0.0, max=2.0), HTML(value='')))"
      ]
     },
     "metadata": {},
     "output_type": "display_data"
    },
    {
     "data": {
      "application/vnd.jupyter.widget-view+json": {
       "model_id": "",
       "version_major": 2,
       "version_minor": 0
      },
      "text/plain": [
       "HBox(children=(HTML(value=''), FloatProgress(value=0.0, max=2.0), HTML(value='')))"
      ]
     },
     "metadata": {},
     "output_type": "display_data"
    },
    {
     "data": {
      "application/vnd.jupyter.widget-view+json": {
       "model_id": "",
       "version_major": 2,
       "version_minor": 0
      },
      "text/plain": [
       "HBox(children=(HTML(value=''), FloatProgress(value=0.0, max=2.0), HTML(value='')))"
      ]
     },
     "metadata": {},
     "output_type": "display_data"
    },
    {
     "data": {
      "application/vnd.jupyter.widget-view+json": {
       "model_id": "",
       "version_major": 2,
       "version_minor": 0
      },
      "text/plain": [
       "HBox(children=(HTML(value=''), FloatProgress(value=0.0, max=2.0), HTML(value='')))"
      ]
     },
     "metadata": {},
     "output_type": "display_data"
    },
    {
     "data": {
      "application/vnd.jupyter.widget-view+json": {
       "model_id": "",
       "version_major": 2,
       "version_minor": 0
      },
      "text/plain": [
       "HBox(children=(HTML(value=''), FloatProgress(value=0.0, max=2.0), HTML(value='')))"
      ]
     },
     "metadata": {},
     "output_type": "display_data"
    },
    {
     "data": {
      "application/vnd.jupyter.widget-view+json": {
       "model_id": "",
       "version_major": 2,
       "version_minor": 0
      },
      "text/plain": [
       "HBox(children=(HTML(value=''), FloatProgress(value=0.0, max=2.0), HTML(value='')))"
      ]
     },
     "metadata": {},
     "output_type": "display_data"
    },
    {
     "data": {
      "application/vnd.jupyter.widget-view+json": {
       "model_id": "",
       "version_major": 2,
       "version_minor": 0
      },
      "text/plain": [
       "HBox(children=(HTML(value=''), FloatProgress(value=0.0, max=2.0), HTML(value='')))"
      ]
     },
     "metadata": {},
     "output_type": "display_data"
    },
    {
     "data": {
      "application/vnd.jupyter.widget-view+json": {
       "model_id": "",
       "version_major": 2,
       "version_minor": 0
      },
      "text/plain": [
       "HBox(children=(HTML(value=''), FloatProgress(value=0.0, max=2.0), HTML(value='')))"
      ]
     },
     "metadata": {},
     "output_type": "display_data"
    },
    {
     "data": {
      "application/vnd.jupyter.widget-view+json": {
       "model_id": "",
       "version_major": 2,
       "version_minor": 0
      },
      "text/plain": [
       "HBox(children=(HTML(value=''), FloatProgress(value=0.0, max=2.0), HTML(value='')))"
      ]
     },
     "metadata": {},
     "output_type": "display_data"
    },
    {
     "data": {
      "application/vnd.jupyter.widget-view+json": {
       "model_id": "",
       "version_major": 2,
       "version_minor": 0
      },
      "text/plain": [
       "HBox(children=(HTML(value=''), FloatProgress(value=0.0, max=2.0), HTML(value='')))"
      ]
     },
     "metadata": {},
     "output_type": "display_data"
    },
    {
     "data": {
      "application/vnd.jupyter.widget-view+json": {
       "model_id": "",
       "version_major": 2,
       "version_minor": 0
      },
      "text/plain": [
       "HBox(children=(HTML(value=''), FloatProgress(value=0.0, max=2.0), HTML(value='')))"
      ]
     },
     "metadata": {},
     "output_type": "display_data"
    },
    {
     "data": {
      "application/vnd.jupyter.widget-view+json": {
       "model_id": "",
       "version_major": 2,
       "version_minor": 0
      },
      "text/plain": [
       "HBox(children=(HTML(value=''), FloatProgress(value=0.0, max=2.0), HTML(value='')))"
      ]
     },
     "metadata": {},
     "output_type": "display_data"
    },
    {
     "data": {
      "application/vnd.jupyter.widget-view+json": {
       "model_id": "",
       "version_major": 2,
       "version_minor": 0
      },
      "text/plain": [
       "HBox(children=(HTML(value=''), FloatProgress(value=0.0, max=2.0), HTML(value='')))"
      ]
     },
     "metadata": {},
     "output_type": "display_data"
    },
    {
     "data": {
      "application/vnd.jupyter.widget-view+json": {
       "model_id": "",
       "version_major": 2,
       "version_minor": 0
      },
      "text/plain": [
       "HBox(children=(HTML(value=''), FloatProgress(value=0.0, max=2.0), HTML(value='')))"
      ]
     },
     "metadata": {},
     "output_type": "display_data"
    },
    {
     "data": {
      "application/vnd.jupyter.widget-view+json": {
       "model_id": "",
       "version_major": 2,
       "version_minor": 0
      },
      "text/plain": [
       "HBox(children=(HTML(value=''), FloatProgress(value=0.0, max=2.0), HTML(value='')))"
      ]
     },
     "metadata": {},
     "output_type": "display_data"
    },
    {
     "data": {
      "application/vnd.jupyter.widget-view+json": {
       "model_id": "",
       "version_major": 2,
       "version_minor": 0
      },
      "text/plain": [
       "HBox(children=(HTML(value=''), FloatProgress(value=0.0, max=2.0), HTML(value='')))"
      ]
     },
     "metadata": {},
     "output_type": "display_data"
    },
    {
     "data": {
      "application/vnd.jupyter.widget-view+json": {
       "model_id": "",
       "version_major": 2,
       "version_minor": 0
      },
      "text/plain": [
       "HBox(children=(HTML(value=''), FloatProgress(value=0.0, max=2.0), HTML(value='')))"
      ]
     },
     "metadata": {},
     "output_type": "display_data"
    },
    {
     "data": {
      "application/vnd.jupyter.widget-view+json": {
       "model_id": "",
       "version_major": 2,
       "version_minor": 0
      },
      "text/plain": [
       "HBox(children=(HTML(value=''), FloatProgress(value=0.0, max=2.0), HTML(value='')))"
      ]
     },
     "metadata": {},
     "output_type": "display_data"
    },
    {
     "data": {
      "application/vnd.jupyter.widget-view+json": {
       "model_id": "",
       "version_major": 2,
       "version_minor": 0
      },
      "text/plain": [
       "HBox(children=(HTML(value=''), FloatProgress(value=0.0, max=2.0), HTML(value='')))"
      ]
     },
     "metadata": {},
     "output_type": "display_data"
    },
    {
     "data": {
      "application/vnd.jupyter.widget-view+json": {
       "model_id": "",
       "version_major": 2,
       "version_minor": 0
      },
      "text/plain": [
       "HBox(children=(HTML(value=''), FloatProgress(value=0.0, max=2.0), HTML(value='')))"
      ]
     },
     "metadata": {},
     "output_type": "display_data"
    },
    {
     "data": {
      "application/vnd.jupyter.widget-view+json": {
       "model_id": "",
       "version_major": 2,
       "version_minor": 0
      },
      "text/plain": [
       "HBox(children=(HTML(value=''), FloatProgress(value=0.0, max=2.0), HTML(value='')))"
      ]
     },
     "metadata": {},
     "output_type": "display_data"
    },
    {
     "data": {
      "application/vnd.jupyter.widget-view+json": {
       "model_id": "",
       "version_major": 2,
       "version_minor": 0
      },
      "text/plain": [
       "HBox(children=(HTML(value=''), FloatProgress(value=0.0, max=2.0), HTML(value='')))"
      ]
     },
     "metadata": {},
     "output_type": "display_data"
    },
    {
     "data": {
      "application/vnd.jupyter.widget-view+json": {
       "model_id": "",
       "version_major": 2,
       "version_minor": 0
      },
      "text/plain": [
       "HBox(children=(HTML(value=''), FloatProgress(value=0.0, max=2.0), HTML(value='')))"
      ]
     },
     "metadata": {},
     "output_type": "display_data"
    },
    {
     "data": {
      "application/vnd.jupyter.widget-view+json": {
       "model_id": "",
       "version_major": 2,
       "version_minor": 0
      },
      "text/plain": [
       "HBox(children=(HTML(value=''), FloatProgress(value=0.0, max=2.0), HTML(value='')))"
      ]
     },
     "metadata": {},
     "output_type": "display_data"
    },
    {
     "data": {
      "application/vnd.jupyter.widget-view+json": {
       "model_id": "",
       "version_major": 2,
       "version_minor": 0
      },
      "text/plain": [
       "HBox(children=(HTML(value=''), FloatProgress(value=0.0, max=2.0), HTML(value='')))"
      ]
     },
     "metadata": {},
     "output_type": "display_data"
    },
    {
     "data": {
      "application/vnd.jupyter.widget-view+json": {
       "model_id": "",
       "version_major": 2,
       "version_minor": 0
      },
      "text/plain": [
       "HBox(children=(HTML(value=''), FloatProgress(value=0.0, max=2.0), HTML(value='')))"
      ]
     },
     "metadata": {},
     "output_type": "display_data"
    },
    {
     "data": {
      "application/vnd.jupyter.widget-view+json": {
       "model_id": "",
       "version_major": 2,
       "version_minor": 0
      },
      "text/plain": [
       "HBox(children=(HTML(value=''), FloatProgress(value=0.0, max=2.0), HTML(value='')))"
      ]
     },
     "metadata": {},
     "output_type": "display_data"
    },
    {
     "data": {
      "application/vnd.jupyter.widget-view+json": {
       "model_id": "",
       "version_major": 2,
       "version_minor": 0
      },
      "text/plain": [
       "HBox(children=(HTML(value=''), FloatProgress(value=0.0, max=2.0), HTML(value='')))"
      ]
     },
     "metadata": {},
     "output_type": "display_data"
    },
    {
     "data": {
      "application/vnd.jupyter.widget-view+json": {
       "model_id": "",
       "version_major": 2,
       "version_minor": 0
      },
      "text/plain": [
       "HBox(children=(HTML(value=''), FloatProgress(value=0.0, max=2.0), HTML(value='')))"
      ]
     },
     "metadata": {},
     "output_type": "display_data"
    },
    {
     "data": {
      "application/vnd.jupyter.widget-view+json": {
       "model_id": "",
       "version_major": 2,
       "version_minor": 0
      },
      "text/plain": [
       "HBox(children=(HTML(value=''), FloatProgress(value=0.0, max=2.0), HTML(value='')))"
      ]
     },
     "metadata": {},
     "output_type": "display_data"
    },
    {
     "data": {
      "application/vnd.jupyter.widget-view+json": {
       "model_id": "",
       "version_major": 2,
       "version_minor": 0
      },
      "text/plain": [
       "HBox(children=(HTML(value=''), FloatProgress(value=0.0, max=2.0), HTML(value='')))"
      ]
     },
     "metadata": {},
     "output_type": "display_data"
    },
    {
     "data": {
      "application/vnd.jupyter.widget-view+json": {
       "model_id": "",
       "version_major": 2,
       "version_minor": 0
      },
      "text/plain": [
       "HBox(children=(HTML(value=''), FloatProgress(value=0.0, max=2.0), HTML(value='')))"
      ]
     },
     "metadata": {},
     "output_type": "display_data"
    },
    {
     "data": {
      "application/vnd.jupyter.widget-view+json": {
       "model_id": "",
       "version_major": 2,
       "version_minor": 0
      },
      "text/plain": [
       "HBox(children=(HTML(value=''), FloatProgress(value=0.0, max=2.0), HTML(value='')))"
      ]
     },
     "metadata": {},
     "output_type": "display_data"
    },
    {
     "data": {
      "application/vnd.jupyter.widget-view+json": {
       "model_id": "",
       "version_major": 2,
       "version_minor": 0
      },
      "text/plain": [
       "HBox(children=(HTML(value=''), FloatProgress(value=0.0, max=2.0), HTML(value='')))"
      ]
     },
     "metadata": {},
     "output_type": "display_data"
    },
    {
     "data": {
      "application/vnd.jupyter.widget-view+json": {
       "model_id": "",
       "version_major": 2,
       "version_minor": 0
      },
      "text/plain": [
       "HBox(children=(HTML(value=''), FloatProgress(value=0.0, max=2.0), HTML(value='')))"
      ]
     },
     "metadata": {},
     "output_type": "display_data"
    },
    {
     "data": {
      "application/vnd.jupyter.widget-view+json": {
       "model_id": "",
       "version_major": 2,
       "version_minor": 0
      },
      "text/plain": [
       "HBox(children=(HTML(value=''), FloatProgress(value=0.0, max=2.0), HTML(value='')))"
      ]
     },
     "metadata": {},
     "output_type": "display_data"
    },
    {
     "data": {
      "application/vnd.jupyter.widget-view+json": {
       "model_id": "",
       "version_major": 2,
       "version_minor": 0
      },
      "text/plain": [
       "HBox(children=(HTML(value=''), FloatProgress(value=0.0, max=2.0), HTML(value='')))"
      ]
     },
     "metadata": {},
     "output_type": "display_data"
    },
    {
     "data": {
      "application/vnd.jupyter.widget-view+json": {
       "model_id": "",
       "version_major": 2,
       "version_minor": 0
      },
      "text/plain": [
       "HBox(children=(HTML(value=''), FloatProgress(value=0.0, max=2.0), HTML(value='')))"
      ]
     },
     "metadata": {},
     "output_type": "display_data"
    },
    {
     "data": {
      "application/vnd.jupyter.widget-view+json": {
       "model_id": "",
       "version_major": 2,
       "version_minor": 0
      },
      "text/plain": [
       "HBox(children=(HTML(value=''), FloatProgress(value=0.0, max=2.0), HTML(value='')))"
      ]
     },
     "metadata": {},
     "output_type": "display_data"
    },
    {
     "data": {
      "application/vnd.jupyter.widget-view+json": {
       "model_id": "",
       "version_major": 2,
       "version_minor": 0
      },
      "text/plain": [
       "HBox(children=(HTML(value=''), FloatProgress(value=0.0, max=2.0), HTML(value='')))"
      ]
     },
     "metadata": {},
     "output_type": "display_data"
    },
    {
     "data": {
      "application/vnd.jupyter.widget-view+json": {
       "model_id": "",
       "version_major": 2,
       "version_minor": 0
      },
      "text/plain": [
       "HBox(children=(HTML(value=''), FloatProgress(value=0.0, max=2.0), HTML(value='')))"
      ]
     },
     "metadata": {},
     "output_type": "display_data"
    },
    {
     "data": {
      "application/vnd.jupyter.widget-view+json": {
       "model_id": "",
       "version_major": 2,
       "version_minor": 0
      },
      "text/plain": [
       "HBox(children=(HTML(value=''), FloatProgress(value=0.0, max=2.0), HTML(value='')))"
      ]
     },
     "metadata": {},
     "output_type": "display_data"
    },
    {
     "data": {
      "application/vnd.jupyter.widget-view+json": {
       "model_id": "",
       "version_major": 2,
       "version_minor": 0
      },
      "text/plain": [
       "HBox(children=(HTML(value=''), FloatProgress(value=0.0, max=2.0), HTML(value='')))"
      ]
     },
     "metadata": {},
     "output_type": "display_data"
    },
    {
     "data": {
      "application/vnd.jupyter.widget-view+json": {
       "model_id": "",
       "version_major": 2,
       "version_minor": 0
      },
      "text/plain": [
       "HBox(children=(HTML(value=''), FloatProgress(value=0.0, max=2.0), HTML(value='')))"
      ]
     },
     "metadata": {},
     "output_type": "display_data"
    },
    {
     "data": {
      "application/vnd.jupyter.widget-view+json": {
       "model_id": "",
       "version_major": 2,
       "version_minor": 0
      },
      "text/plain": [
       "HBox(children=(HTML(value=''), FloatProgress(value=0.0, max=2.0), HTML(value='')))"
      ]
     },
     "metadata": {},
     "output_type": "display_data"
    },
    {
     "data": {
      "application/vnd.jupyter.widget-view+json": {
       "model_id": "",
       "version_major": 2,
       "version_minor": 0
      },
      "text/plain": [
       "HBox(children=(HTML(value=''), FloatProgress(value=0.0, max=2.0), HTML(value='')))"
      ]
     },
     "metadata": {},
     "output_type": "display_data"
    },
    {
     "data": {
      "application/vnd.jupyter.widget-view+json": {
       "model_id": "",
       "version_major": 2,
       "version_minor": 0
      },
      "text/plain": [
       "HBox(children=(HTML(value=''), FloatProgress(value=0.0, max=2.0), HTML(value='')))"
      ]
     },
     "metadata": {},
     "output_type": "display_data"
    },
    {
     "data": {
      "application/vnd.jupyter.widget-view+json": {
       "model_id": "",
       "version_major": 2,
       "version_minor": 0
      },
      "text/plain": [
       "HBox(children=(HTML(value=''), FloatProgress(value=0.0, max=2.0), HTML(value='')))"
      ]
     },
     "metadata": {},
     "output_type": "display_data"
    },
    {
     "data": {
      "application/vnd.jupyter.widget-view+json": {
       "model_id": "",
       "version_major": 2,
       "version_minor": 0
      },
      "text/plain": [
       "HBox(children=(HTML(value=''), FloatProgress(value=0.0, max=2.0), HTML(value='')))"
      ]
     },
     "metadata": {},
     "output_type": "display_data"
    },
    {
     "data": {
      "application/vnd.jupyter.widget-view+json": {
       "model_id": "",
       "version_major": 2,
       "version_minor": 0
      },
      "text/plain": [
       "HBox(children=(HTML(value=''), FloatProgress(value=0.0, max=2.0), HTML(value='')))"
      ]
     },
     "metadata": {},
     "output_type": "display_data"
    },
    {
     "data": {
      "application/vnd.jupyter.widget-view+json": {
       "model_id": "",
       "version_major": 2,
       "version_minor": 0
      },
      "text/plain": [
       "HBox(children=(HTML(value=''), FloatProgress(value=0.0, max=2.0), HTML(value='')))"
      ]
     },
     "metadata": {},
     "output_type": "display_data"
    },
    {
     "data": {
      "application/vnd.jupyter.widget-view+json": {
       "model_id": "",
       "version_major": 2,
       "version_minor": 0
      },
      "text/plain": [
       "HBox(children=(HTML(value=''), FloatProgress(value=0.0, max=2.0), HTML(value='')))"
      ]
     },
     "metadata": {},
     "output_type": "display_data"
    },
    {
     "data": {
      "application/vnd.jupyter.widget-view+json": {
       "model_id": "",
       "version_major": 2,
       "version_minor": 0
      },
      "text/plain": [
       "HBox(children=(HTML(value=''), FloatProgress(value=0.0, max=2.0), HTML(value='')))"
      ]
     },
     "metadata": {},
     "output_type": "display_data"
    },
    {
     "data": {
      "application/vnd.jupyter.widget-view+json": {
       "model_id": "",
       "version_major": 2,
       "version_minor": 0
      },
      "text/plain": [
       "HBox(children=(HTML(value=''), FloatProgress(value=0.0, max=2.0), HTML(value='')))"
      ]
     },
     "metadata": {},
     "output_type": "display_data"
    },
    {
     "data": {
      "application/vnd.jupyter.widget-view+json": {
       "model_id": "",
       "version_major": 2,
       "version_minor": 0
      },
      "text/plain": [
       "HBox(children=(HTML(value=''), FloatProgress(value=0.0, max=2.0), HTML(value='')))"
      ]
     },
     "metadata": {},
     "output_type": "display_data"
    },
    {
     "data": {
      "application/vnd.jupyter.widget-view+json": {
       "model_id": "",
       "version_major": 2,
       "version_minor": 0
      },
      "text/plain": [
       "HBox(children=(HTML(value=''), FloatProgress(value=0.0, max=2.0), HTML(value='')))"
      ]
     },
     "metadata": {},
     "output_type": "display_data"
    },
    {
     "data": {
      "application/vnd.jupyter.widget-view+json": {
       "model_id": "",
       "version_major": 2,
       "version_minor": 0
      },
      "text/plain": [
       "HBox(children=(HTML(value=''), FloatProgress(value=0.0, max=2.0), HTML(value='')))"
      ]
     },
     "metadata": {},
     "output_type": "display_data"
    },
    {
     "data": {
      "application/vnd.jupyter.widget-view+json": {
       "model_id": "",
       "version_major": 2,
       "version_minor": 0
      },
      "text/plain": [
       "HBox(children=(HTML(value=''), FloatProgress(value=0.0, max=2.0), HTML(value='')))"
      ]
     },
     "metadata": {},
     "output_type": "display_data"
    },
    {
     "data": {
      "application/vnd.jupyter.widget-view+json": {
       "model_id": "",
       "version_major": 2,
       "version_minor": 0
      },
      "text/plain": [
       "HBox(children=(HTML(value=''), FloatProgress(value=0.0, max=2.0), HTML(value='')))"
      ]
     },
     "metadata": {},
     "output_type": "display_data"
    },
    {
     "data": {
      "application/vnd.jupyter.widget-view+json": {
       "model_id": "",
       "version_major": 2,
       "version_minor": 0
      },
      "text/plain": [
       "HBox(children=(HTML(value=''), FloatProgress(value=0.0, max=2.0), HTML(value='')))"
      ]
     },
     "metadata": {},
     "output_type": "display_data"
    },
    {
     "data": {
      "application/vnd.jupyter.widget-view+json": {
       "model_id": "",
       "version_major": 2,
       "version_minor": 0
      },
      "text/plain": [
       "HBox(children=(HTML(value=''), FloatProgress(value=0.0, max=2.0), HTML(value='')))"
      ]
     },
     "metadata": {},
     "output_type": "display_data"
    },
    {
     "data": {
      "application/vnd.jupyter.widget-view+json": {
       "model_id": "",
       "version_major": 2,
       "version_minor": 0
      },
      "text/plain": [
       "HBox(children=(HTML(value=''), FloatProgress(value=0.0, max=2.0), HTML(value='')))"
      ]
     },
     "metadata": {},
     "output_type": "display_data"
    },
    {
     "data": {
      "application/vnd.jupyter.widget-view+json": {
       "model_id": "",
       "version_major": 2,
       "version_minor": 0
      },
      "text/plain": [
       "HBox(children=(HTML(value=''), FloatProgress(value=0.0, max=2.0), HTML(value='')))"
      ]
     },
     "metadata": {},
     "output_type": "display_data"
    },
    {
     "data": {
      "application/vnd.jupyter.widget-view+json": {
       "model_id": "",
       "version_major": 2,
       "version_minor": 0
      },
      "text/plain": [
       "HBox(children=(HTML(value=''), FloatProgress(value=0.0, max=2.0), HTML(value='')))"
      ]
     },
     "metadata": {},
     "output_type": "display_data"
    },
    {
     "data": {
      "application/vnd.jupyter.widget-view+json": {
       "model_id": "",
       "version_major": 2,
       "version_minor": 0
      },
      "text/plain": [
       "HBox(children=(HTML(value=''), FloatProgress(value=0.0, max=2.0), HTML(value='')))"
      ]
     },
     "metadata": {},
     "output_type": "display_data"
    },
    {
     "data": {
      "application/vnd.jupyter.widget-view+json": {
       "model_id": "",
       "version_major": 2,
       "version_minor": 0
      },
      "text/plain": [
       "HBox(children=(HTML(value=''), FloatProgress(value=0.0, max=2.0), HTML(value='')))"
      ]
     },
     "metadata": {},
     "output_type": "display_data"
    },
    {
     "data": {
      "application/vnd.jupyter.widget-view+json": {
       "model_id": "",
       "version_major": 2,
       "version_minor": 0
      },
      "text/plain": [
       "HBox(children=(HTML(value=''), FloatProgress(value=0.0, max=2.0), HTML(value='')))"
      ]
     },
     "metadata": {},
     "output_type": "display_data"
    },
    {
     "data": {
      "application/vnd.jupyter.widget-view+json": {
       "model_id": "",
       "version_major": 2,
       "version_minor": 0
      },
      "text/plain": [
       "HBox(children=(HTML(value=''), FloatProgress(value=0.0, max=2.0), HTML(value='')))"
      ]
     },
     "metadata": {},
     "output_type": "display_data"
    },
    {
     "data": {
      "application/vnd.jupyter.widget-view+json": {
       "model_id": "",
       "version_major": 2,
       "version_minor": 0
      },
      "text/plain": [
       "HBox(children=(HTML(value=''), FloatProgress(value=0.0, max=2.0), HTML(value='')))"
      ]
     },
     "metadata": {},
     "output_type": "display_data"
    },
    {
     "data": {
      "application/vnd.jupyter.widget-view+json": {
       "model_id": "",
       "version_major": 2,
       "version_minor": 0
      },
      "text/plain": [
       "HBox(children=(HTML(value=''), FloatProgress(value=0.0, max=2.0), HTML(value='')))"
      ]
     },
     "metadata": {},
     "output_type": "display_data"
    },
    {
     "data": {
      "application/vnd.jupyter.widget-view+json": {
       "model_id": "",
       "version_major": 2,
       "version_minor": 0
      },
      "text/plain": [
       "HBox(children=(HTML(value=''), FloatProgress(value=0.0, max=2.0), HTML(value='')))"
      ]
     },
     "metadata": {},
     "output_type": "display_data"
    },
    {
     "data": {
      "application/vnd.jupyter.widget-view+json": {
       "model_id": "",
       "version_major": 2,
       "version_minor": 0
      },
      "text/plain": [
       "HBox(children=(HTML(value=''), FloatProgress(value=0.0, max=2.0), HTML(value='')))"
      ]
     },
     "metadata": {},
     "output_type": "display_data"
    },
    {
     "name": "stdout",
     "output_type": "stream",
     "text": [
      "\n"
     ]
    },
    {
     "data": {
      "application/vnd.jupyter.widget-view+json": {
       "model_id": "2a91d2a6f1ab415686dca73a5e8d974b",
       "version_major": 2,
       "version_minor": 0
      },
      "text/plain": [
       "HBox(children=(HTML(value=''), FloatProgress(value=0.0, max=128.0), HTML(value='')))"
      ]
     },
     "metadata": {},
     "output_type": "display_data"
    },
    {
     "data": {
      "application/vnd.jupyter.widget-view+json": {
       "model_id": "",
       "version_major": 2,
       "version_minor": 0
      },
      "text/plain": [
       "HBox(children=(HTML(value=''), FloatProgress(value=0.0, max=2.0), HTML(value='')))"
      ]
     },
     "metadata": {},
     "output_type": "display_data"
    },
    {
     "data": {
      "application/vnd.jupyter.widget-view+json": {
       "model_id": "",
       "version_major": 2,
       "version_minor": 0
      },
      "text/plain": [
       "HBox(children=(HTML(value=''), FloatProgress(value=0.0, max=2.0), HTML(value='')))"
      ]
     },
     "metadata": {},
     "output_type": "display_data"
    },
    {
     "data": {
      "application/vnd.jupyter.widget-view+json": {
       "model_id": "",
       "version_major": 2,
       "version_minor": 0
      },
      "text/plain": [
       "HBox(children=(HTML(value=''), FloatProgress(value=0.0, max=2.0), HTML(value='')))"
      ]
     },
     "metadata": {},
     "output_type": "display_data"
    },
    {
     "data": {
      "application/vnd.jupyter.widget-view+json": {
       "model_id": "",
       "version_major": 2,
       "version_minor": 0
      },
      "text/plain": [
       "HBox(children=(HTML(value=''), FloatProgress(value=0.0, max=2.0), HTML(value='')))"
      ]
     },
     "metadata": {},
     "output_type": "display_data"
    },
    {
     "data": {
      "application/vnd.jupyter.widget-view+json": {
       "model_id": "",
       "version_major": 2,
       "version_minor": 0
      },
      "text/plain": [
       "HBox(children=(HTML(value=''), FloatProgress(value=0.0, max=2.0), HTML(value='')))"
      ]
     },
     "metadata": {},
     "output_type": "display_data"
    },
    {
     "data": {
      "application/vnd.jupyter.widget-view+json": {
       "model_id": "",
       "version_major": 2,
       "version_minor": 0
      },
      "text/plain": [
       "HBox(children=(HTML(value=''), FloatProgress(value=0.0, max=2.0), HTML(value='')))"
      ]
     },
     "metadata": {},
     "output_type": "display_data"
    },
    {
     "data": {
      "application/vnd.jupyter.widget-view+json": {
       "model_id": "",
       "version_major": 2,
       "version_minor": 0
      },
      "text/plain": [
       "HBox(children=(HTML(value=''), FloatProgress(value=0.0, max=2.0), HTML(value='')))"
      ]
     },
     "metadata": {},
     "output_type": "display_data"
    },
    {
     "data": {
      "application/vnd.jupyter.widget-view+json": {
       "model_id": "",
       "version_major": 2,
       "version_minor": 0
      },
      "text/plain": [
       "HBox(children=(HTML(value=''), FloatProgress(value=0.0, max=2.0), HTML(value='')))"
      ]
     },
     "metadata": {},
     "output_type": "display_data"
    },
    {
     "data": {
      "application/vnd.jupyter.widget-view+json": {
       "model_id": "",
       "version_major": 2,
       "version_minor": 0
      },
      "text/plain": [
       "HBox(children=(HTML(value=''), FloatProgress(value=0.0, max=2.0), HTML(value='')))"
      ]
     },
     "metadata": {},
     "output_type": "display_data"
    },
    {
     "data": {
      "application/vnd.jupyter.widget-view+json": {
       "model_id": "",
       "version_major": 2,
       "version_minor": 0
      },
      "text/plain": [
       "HBox(children=(HTML(value=''), FloatProgress(value=0.0, max=2.0), HTML(value='')))"
      ]
     },
     "metadata": {},
     "output_type": "display_data"
    },
    {
     "data": {
      "application/vnd.jupyter.widget-view+json": {
       "model_id": "",
       "version_major": 2,
       "version_minor": 0
      },
      "text/plain": [
       "HBox(children=(HTML(value=''), FloatProgress(value=0.0, max=2.0), HTML(value='')))"
      ]
     },
     "metadata": {},
     "output_type": "display_data"
    },
    {
     "data": {
      "application/vnd.jupyter.widget-view+json": {
       "model_id": "",
       "version_major": 2,
       "version_minor": 0
      },
      "text/plain": [
       "HBox(children=(HTML(value=''), FloatProgress(value=0.0, max=2.0), HTML(value='')))"
      ]
     },
     "metadata": {},
     "output_type": "display_data"
    },
    {
     "data": {
      "application/vnd.jupyter.widget-view+json": {
       "model_id": "",
       "version_major": 2,
       "version_minor": 0
      },
      "text/plain": [
       "HBox(children=(HTML(value=''), FloatProgress(value=0.0, max=2.0), HTML(value='')))"
      ]
     },
     "metadata": {},
     "output_type": "display_data"
    },
    {
     "data": {
      "application/vnd.jupyter.widget-view+json": {
       "model_id": "",
       "version_major": 2,
       "version_minor": 0
      },
      "text/plain": [
       "HBox(children=(HTML(value=''), FloatProgress(value=0.0, max=2.0), HTML(value='')))"
      ]
     },
     "metadata": {},
     "output_type": "display_data"
    },
    {
     "data": {
      "application/vnd.jupyter.widget-view+json": {
       "model_id": "",
       "version_major": 2,
       "version_minor": 0
      },
      "text/plain": [
       "HBox(children=(HTML(value=''), FloatProgress(value=0.0, max=2.0), HTML(value='')))"
      ]
     },
     "metadata": {},
     "output_type": "display_data"
    },
    {
     "data": {
      "application/vnd.jupyter.widget-view+json": {
       "model_id": "",
       "version_major": 2,
       "version_minor": 0
      },
      "text/plain": [
       "HBox(children=(HTML(value=''), FloatProgress(value=0.0, max=2.0), HTML(value='')))"
      ]
     },
     "metadata": {},
     "output_type": "display_data"
    },
    {
     "data": {
      "application/vnd.jupyter.widget-view+json": {
       "model_id": "",
       "version_major": 2,
       "version_minor": 0
      },
      "text/plain": [
       "HBox(children=(HTML(value=''), FloatProgress(value=0.0, max=2.0), HTML(value='')))"
      ]
     },
     "metadata": {},
     "output_type": "display_data"
    },
    {
     "data": {
      "application/vnd.jupyter.widget-view+json": {
       "model_id": "",
       "version_major": 2,
       "version_minor": 0
      },
      "text/plain": [
       "HBox(children=(HTML(value=''), FloatProgress(value=0.0, max=2.0), HTML(value='')))"
      ]
     },
     "metadata": {},
     "output_type": "display_data"
    },
    {
     "data": {
      "application/vnd.jupyter.widget-view+json": {
       "model_id": "",
       "version_major": 2,
       "version_minor": 0
      },
      "text/plain": [
       "HBox(children=(HTML(value=''), FloatProgress(value=0.0, max=2.0), HTML(value='')))"
      ]
     },
     "metadata": {},
     "output_type": "display_data"
    },
    {
     "data": {
      "application/vnd.jupyter.widget-view+json": {
       "model_id": "",
       "version_major": 2,
       "version_minor": 0
      },
      "text/plain": [
       "HBox(children=(HTML(value=''), FloatProgress(value=0.0, max=2.0), HTML(value='')))"
      ]
     },
     "metadata": {},
     "output_type": "display_data"
    },
    {
     "data": {
      "application/vnd.jupyter.widget-view+json": {
       "model_id": "",
       "version_major": 2,
       "version_minor": 0
      },
      "text/plain": [
       "HBox(children=(HTML(value=''), FloatProgress(value=0.0, max=2.0), HTML(value='')))"
      ]
     },
     "metadata": {},
     "output_type": "display_data"
    },
    {
     "data": {
      "application/vnd.jupyter.widget-view+json": {
       "model_id": "",
       "version_major": 2,
       "version_minor": 0
      },
      "text/plain": [
       "HBox(children=(HTML(value=''), FloatProgress(value=0.0, max=2.0), HTML(value='')))"
      ]
     },
     "metadata": {},
     "output_type": "display_data"
    },
    {
     "data": {
      "application/vnd.jupyter.widget-view+json": {
       "model_id": "",
       "version_major": 2,
       "version_minor": 0
      },
      "text/plain": [
       "HBox(children=(HTML(value=''), FloatProgress(value=0.0, max=2.0), HTML(value='')))"
      ]
     },
     "metadata": {},
     "output_type": "display_data"
    },
    {
     "data": {
      "application/vnd.jupyter.widget-view+json": {
       "model_id": "",
       "version_major": 2,
       "version_minor": 0
      },
      "text/plain": [
       "HBox(children=(HTML(value=''), FloatProgress(value=0.0, max=2.0), HTML(value='')))"
      ]
     },
     "metadata": {},
     "output_type": "display_data"
    },
    {
     "data": {
      "application/vnd.jupyter.widget-view+json": {
       "model_id": "",
       "version_major": 2,
       "version_minor": 0
      },
      "text/plain": [
       "HBox(children=(HTML(value=''), FloatProgress(value=0.0, max=2.0), HTML(value='')))"
      ]
     },
     "metadata": {},
     "output_type": "display_data"
    },
    {
     "data": {
      "application/vnd.jupyter.widget-view+json": {
       "model_id": "",
       "version_major": 2,
       "version_minor": 0
      },
      "text/plain": [
       "HBox(children=(HTML(value=''), FloatProgress(value=0.0, max=2.0), HTML(value='')))"
      ]
     },
     "metadata": {},
     "output_type": "display_data"
    },
    {
     "data": {
      "application/vnd.jupyter.widget-view+json": {
       "model_id": "",
       "version_major": 2,
       "version_minor": 0
      },
      "text/plain": [
       "HBox(children=(HTML(value=''), FloatProgress(value=0.0, max=2.0), HTML(value='')))"
      ]
     },
     "metadata": {},
     "output_type": "display_data"
    },
    {
     "data": {
      "application/vnd.jupyter.widget-view+json": {
       "model_id": "",
       "version_major": 2,
       "version_minor": 0
      },
      "text/plain": [
       "HBox(children=(HTML(value=''), FloatProgress(value=0.0, max=2.0), HTML(value='')))"
      ]
     },
     "metadata": {},
     "output_type": "display_data"
    },
    {
     "data": {
      "application/vnd.jupyter.widget-view+json": {
       "model_id": "",
       "version_major": 2,
       "version_minor": 0
      },
      "text/plain": [
       "HBox(children=(HTML(value=''), FloatProgress(value=0.0, max=2.0), HTML(value='')))"
      ]
     },
     "metadata": {},
     "output_type": "display_data"
    },
    {
     "data": {
      "application/vnd.jupyter.widget-view+json": {
       "model_id": "",
       "version_major": 2,
       "version_minor": 0
      },
      "text/plain": [
       "HBox(children=(HTML(value=''), FloatProgress(value=0.0, max=2.0), HTML(value='')))"
      ]
     },
     "metadata": {},
     "output_type": "display_data"
    },
    {
     "data": {
      "application/vnd.jupyter.widget-view+json": {
       "model_id": "",
       "version_major": 2,
       "version_minor": 0
      },
      "text/plain": [
       "HBox(children=(HTML(value=''), FloatProgress(value=0.0, max=2.0), HTML(value='')))"
      ]
     },
     "metadata": {},
     "output_type": "display_data"
    },
    {
     "data": {
      "application/vnd.jupyter.widget-view+json": {
       "model_id": "",
       "version_major": 2,
       "version_minor": 0
      },
      "text/plain": [
       "HBox(children=(HTML(value=''), FloatProgress(value=0.0, max=2.0), HTML(value='')))"
      ]
     },
     "metadata": {},
     "output_type": "display_data"
    },
    {
     "data": {
      "application/vnd.jupyter.widget-view+json": {
       "model_id": "",
       "version_major": 2,
       "version_minor": 0
      },
      "text/plain": [
       "HBox(children=(HTML(value=''), FloatProgress(value=0.0, max=2.0), HTML(value='')))"
      ]
     },
     "metadata": {},
     "output_type": "display_data"
    },
    {
     "data": {
      "application/vnd.jupyter.widget-view+json": {
       "model_id": "",
       "version_major": 2,
       "version_minor": 0
      },
      "text/plain": [
       "HBox(children=(HTML(value=''), FloatProgress(value=0.0, max=2.0), HTML(value='')))"
      ]
     },
     "metadata": {},
     "output_type": "display_data"
    },
    {
     "data": {
      "application/vnd.jupyter.widget-view+json": {
       "model_id": "",
       "version_major": 2,
       "version_minor": 0
      },
      "text/plain": [
       "HBox(children=(HTML(value=''), FloatProgress(value=0.0, max=2.0), HTML(value='')))"
      ]
     },
     "metadata": {},
     "output_type": "display_data"
    },
    {
     "data": {
      "application/vnd.jupyter.widget-view+json": {
       "model_id": "",
       "version_major": 2,
       "version_minor": 0
      },
      "text/plain": [
       "HBox(children=(HTML(value=''), FloatProgress(value=0.0, max=2.0), HTML(value='')))"
      ]
     },
     "metadata": {},
     "output_type": "display_data"
    },
    {
     "data": {
      "application/vnd.jupyter.widget-view+json": {
       "model_id": "",
       "version_major": 2,
       "version_minor": 0
      },
      "text/plain": [
       "HBox(children=(HTML(value=''), FloatProgress(value=0.0, max=2.0), HTML(value='')))"
      ]
     },
     "metadata": {},
     "output_type": "display_data"
    },
    {
     "data": {
      "application/vnd.jupyter.widget-view+json": {
       "model_id": "",
       "version_major": 2,
       "version_minor": 0
      },
      "text/plain": [
       "HBox(children=(HTML(value=''), FloatProgress(value=0.0, max=2.0), HTML(value='')))"
      ]
     },
     "metadata": {},
     "output_type": "display_data"
    },
    {
     "data": {
      "application/vnd.jupyter.widget-view+json": {
       "model_id": "",
       "version_major": 2,
       "version_minor": 0
      },
      "text/plain": [
       "HBox(children=(HTML(value=''), FloatProgress(value=0.0, max=2.0), HTML(value='')))"
      ]
     },
     "metadata": {},
     "output_type": "display_data"
    },
    {
     "data": {
      "application/vnd.jupyter.widget-view+json": {
       "model_id": "",
       "version_major": 2,
       "version_minor": 0
      },
      "text/plain": [
       "HBox(children=(HTML(value=''), FloatProgress(value=0.0, max=2.0), HTML(value='')))"
      ]
     },
     "metadata": {},
     "output_type": "display_data"
    },
    {
     "data": {
      "application/vnd.jupyter.widget-view+json": {
       "model_id": "",
       "version_major": 2,
       "version_minor": 0
      },
      "text/plain": [
       "HBox(children=(HTML(value=''), FloatProgress(value=0.0, max=2.0), HTML(value='')))"
      ]
     },
     "metadata": {},
     "output_type": "display_data"
    },
    {
     "data": {
      "application/vnd.jupyter.widget-view+json": {
       "model_id": "",
       "version_major": 2,
       "version_minor": 0
      },
      "text/plain": [
       "HBox(children=(HTML(value=''), FloatProgress(value=0.0, max=2.0), HTML(value='')))"
      ]
     },
     "metadata": {},
     "output_type": "display_data"
    },
    {
     "data": {
      "application/vnd.jupyter.widget-view+json": {
       "model_id": "",
       "version_major": 2,
       "version_minor": 0
      },
      "text/plain": [
       "HBox(children=(HTML(value=''), FloatProgress(value=0.0, max=2.0), HTML(value='')))"
      ]
     },
     "metadata": {},
     "output_type": "display_data"
    },
    {
     "data": {
      "application/vnd.jupyter.widget-view+json": {
       "model_id": "",
       "version_major": 2,
       "version_minor": 0
      },
      "text/plain": [
       "HBox(children=(HTML(value=''), FloatProgress(value=0.0, max=2.0), HTML(value='')))"
      ]
     },
     "metadata": {},
     "output_type": "display_data"
    },
    {
     "data": {
      "application/vnd.jupyter.widget-view+json": {
       "model_id": "",
       "version_major": 2,
       "version_minor": 0
      },
      "text/plain": [
       "HBox(children=(HTML(value=''), FloatProgress(value=0.0, max=2.0), HTML(value='')))"
      ]
     },
     "metadata": {},
     "output_type": "display_data"
    },
    {
     "data": {
      "application/vnd.jupyter.widget-view+json": {
       "model_id": "",
       "version_major": 2,
       "version_minor": 0
      },
      "text/plain": [
       "HBox(children=(HTML(value=''), FloatProgress(value=0.0, max=2.0), HTML(value='')))"
      ]
     },
     "metadata": {},
     "output_type": "display_data"
    },
    {
     "data": {
      "application/vnd.jupyter.widget-view+json": {
       "model_id": "",
       "version_major": 2,
       "version_minor": 0
      },
      "text/plain": [
       "HBox(children=(HTML(value=''), FloatProgress(value=0.0, max=2.0), HTML(value='')))"
      ]
     },
     "metadata": {},
     "output_type": "display_data"
    },
    {
     "data": {
      "application/vnd.jupyter.widget-view+json": {
       "model_id": "",
       "version_major": 2,
       "version_minor": 0
      },
      "text/plain": [
       "HBox(children=(HTML(value=''), FloatProgress(value=0.0, max=2.0), HTML(value='')))"
      ]
     },
     "metadata": {},
     "output_type": "display_data"
    },
    {
     "data": {
      "application/vnd.jupyter.widget-view+json": {
       "model_id": "",
       "version_major": 2,
       "version_minor": 0
      },
      "text/plain": [
       "HBox(children=(HTML(value=''), FloatProgress(value=0.0, max=2.0), HTML(value='')))"
      ]
     },
     "metadata": {},
     "output_type": "display_data"
    },
    {
     "data": {
      "application/vnd.jupyter.widget-view+json": {
       "model_id": "",
       "version_major": 2,
       "version_minor": 0
      },
      "text/plain": [
       "HBox(children=(HTML(value=''), FloatProgress(value=0.0, max=2.0), HTML(value='')))"
      ]
     },
     "metadata": {},
     "output_type": "display_data"
    },
    {
     "data": {
      "application/vnd.jupyter.widget-view+json": {
       "model_id": "",
       "version_major": 2,
       "version_minor": 0
      },
      "text/plain": [
       "HBox(children=(HTML(value=''), FloatProgress(value=0.0, max=2.0), HTML(value='')))"
      ]
     },
     "metadata": {},
     "output_type": "display_data"
    },
    {
     "data": {
      "application/vnd.jupyter.widget-view+json": {
       "model_id": "",
       "version_major": 2,
       "version_minor": 0
      },
      "text/plain": [
       "HBox(children=(HTML(value=''), FloatProgress(value=0.0, max=2.0), HTML(value='')))"
      ]
     },
     "metadata": {},
     "output_type": "display_data"
    },
    {
     "data": {
      "application/vnd.jupyter.widget-view+json": {
       "model_id": "",
       "version_major": 2,
       "version_minor": 0
      },
      "text/plain": [
       "HBox(children=(HTML(value=''), FloatProgress(value=0.0, max=2.0), HTML(value='')))"
      ]
     },
     "metadata": {},
     "output_type": "display_data"
    },
    {
     "data": {
      "application/vnd.jupyter.widget-view+json": {
       "model_id": "",
       "version_major": 2,
       "version_minor": 0
      },
      "text/plain": [
       "HBox(children=(HTML(value=''), FloatProgress(value=0.0, max=2.0), HTML(value='')))"
      ]
     },
     "metadata": {},
     "output_type": "display_data"
    },
    {
     "data": {
      "application/vnd.jupyter.widget-view+json": {
       "model_id": "",
       "version_major": 2,
       "version_minor": 0
      },
      "text/plain": [
       "HBox(children=(HTML(value=''), FloatProgress(value=0.0, max=2.0), HTML(value='')))"
      ]
     },
     "metadata": {},
     "output_type": "display_data"
    },
    {
     "data": {
      "application/vnd.jupyter.widget-view+json": {
       "model_id": "",
       "version_major": 2,
       "version_minor": 0
      },
      "text/plain": [
       "HBox(children=(HTML(value=''), FloatProgress(value=0.0, max=2.0), HTML(value='')))"
      ]
     },
     "metadata": {},
     "output_type": "display_data"
    },
    {
     "data": {
      "application/vnd.jupyter.widget-view+json": {
       "model_id": "",
       "version_major": 2,
       "version_minor": 0
      },
      "text/plain": [
       "HBox(children=(HTML(value=''), FloatProgress(value=0.0, max=2.0), HTML(value='')))"
      ]
     },
     "metadata": {},
     "output_type": "display_data"
    },
    {
     "data": {
      "application/vnd.jupyter.widget-view+json": {
       "model_id": "",
       "version_major": 2,
       "version_minor": 0
      },
      "text/plain": [
       "HBox(children=(HTML(value=''), FloatProgress(value=0.0, max=2.0), HTML(value='')))"
      ]
     },
     "metadata": {},
     "output_type": "display_data"
    },
    {
     "data": {
      "application/vnd.jupyter.widget-view+json": {
       "model_id": "",
       "version_major": 2,
       "version_minor": 0
      },
      "text/plain": [
       "HBox(children=(HTML(value=''), FloatProgress(value=0.0, max=2.0), HTML(value='')))"
      ]
     },
     "metadata": {},
     "output_type": "display_data"
    },
    {
     "data": {
      "application/vnd.jupyter.widget-view+json": {
       "model_id": "",
       "version_major": 2,
       "version_minor": 0
      },
      "text/plain": [
       "HBox(children=(HTML(value=''), FloatProgress(value=0.0, max=2.0), HTML(value='')))"
      ]
     },
     "metadata": {},
     "output_type": "display_data"
    },
    {
     "data": {
      "application/vnd.jupyter.widget-view+json": {
       "model_id": "",
       "version_major": 2,
       "version_minor": 0
      },
      "text/plain": [
       "HBox(children=(HTML(value=''), FloatProgress(value=0.0, max=2.0), HTML(value='')))"
      ]
     },
     "metadata": {},
     "output_type": "display_data"
    },
    {
     "data": {
      "application/vnd.jupyter.widget-view+json": {
       "model_id": "",
       "version_major": 2,
       "version_minor": 0
      },
      "text/plain": [
       "HBox(children=(HTML(value=''), FloatProgress(value=0.0, max=2.0), HTML(value='')))"
      ]
     },
     "metadata": {},
     "output_type": "display_data"
    },
    {
     "data": {
      "application/vnd.jupyter.widget-view+json": {
       "model_id": "",
       "version_major": 2,
       "version_minor": 0
      },
      "text/plain": [
       "HBox(children=(HTML(value=''), FloatProgress(value=0.0, max=2.0), HTML(value='')))"
      ]
     },
     "metadata": {},
     "output_type": "display_data"
    },
    {
     "data": {
      "application/vnd.jupyter.widget-view+json": {
       "model_id": "",
       "version_major": 2,
       "version_minor": 0
      },
      "text/plain": [
       "HBox(children=(HTML(value=''), FloatProgress(value=0.0, max=2.0), HTML(value='')))"
      ]
     },
     "metadata": {},
     "output_type": "display_data"
    },
    {
     "data": {
      "application/vnd.jupyter.widget-view+json": {
       "model_id": "",
       "version_major": 2,
       "version_minor": 0
      },
      "text/plain": [
       "HBox(children=(HTML(value=''), FloatProgress(value=0.0, max=2.0), HTML(value='')))"
      ]
     },
     "metadata": {},
     "output_type": "display_data"
    },
    {
     "data": {
      "application/vnd.jupyter.widget-view+json": {
       "model_id": "",
       "version_major": 2,
       "version_minor": 0
      },
      "text/plain": [
       "HBox(children=(HTML(value=''), FloatProgress(value=0.0, max=2.0), HTML(value='')))"
      ]
     },
     "metadata": {},
     "output_type": "display_data"
    },
    {
     "data": {
      "application/vnd.jupyter.widget-view+json": {
       "model_id": "",
       "version_major": 2,
       "version_minor": 0
      },
      "text/plain": [
       "HBox(children=(HTML(value=''), FloatProgress(value=0.0, max=2.0), HTML(value='')))"
      ]
     },
     "metadata": {},
     "output_type": "display_data"
    },
    {
     "data": {
      "application/vnd.jupyter.widget-view+json": {
       "model_id": "",
       "version_major": 2,
       "version_minor": 0
      },
      "text/plain": [
       "HBox(children=(HTML(value=''), FloatProgress(value=0.0, max=2.0), HTML(value='')))"
      ]
     },
     "metadata": {},
     "output_type": "display_data"
    },
    {
     "data": {
      "application/vnd.jupyter.widget-view+json": {
       "model_id": "",
       "version_major": 2,
       "version_minor": 0
      },
      "text/plain": [
       "HBox(children=(HTML(value=''), FloatProgress(value=0.0, max=2.0), HTML(value='')))"
      ]
     },
     "metadata": {},
     "output_type": "display_data"
    },
    {
     "data": {
      "application/vnd.jupyter.widget-view+json": {
       "model_id": "",
       "version_major": 2,
       "version_minor": 0
      },
      "text/plain": [
       "HBox(children=(HTML(value=''), FloatProgress(value=0.0, max=2.0), HTML(value='')))"
      ]
     },
     "metadata": {},
     "output_type": "display_data"
    },
    {
     "data": {
      "application/vnd.jupyter.widget-view+json": {
       "model_id": "",
       "version_major": 2,
       "version_minor": 0
      },
      "text/plain": [
       "HBox(children=(HTML(value=''), FloatProgress(value=0.0, max=2.0), HTML(value='')))"
      ]
     },
     "metadata": {},
     "output_type": "display_data"
    },
    {
     "data": {
      "application/vnd.jupyter.widget-view+json": {
       "model_id": "",
       "version_major": 2,
       "version_minor": 0
      },
      "text/plain": [
       "HBox(children=(HTML(value=''), FloatProgress(value=0.0, max=2.0), HTML(value='')))"
      ]
     },
     "metadata": {},
     "output_type": "display_data"
    },
    {
     "data": {
      "application/vnd.jupyter.widget-view+json": {
       "model_id": "",
       "version_major": 2,
       "version_minor": 0
      },
      "text/plain": [
       "HBox(children=(HTML(value=''), FloatProgress(value=0.0, max=2.0), HTML(value='')))"
      ]
     },
     "metadata": {},
     "output_type": "display_data"
    },
    {
     "data": {
      "application/vnd.jupyter.widget-view+json": {
       "model_id": "",
       "version_major": 2,
       "version_minor": 0
      },
      "text/plain": [
       "HBox(children=(HTML(value=''), FloatProgress(value=0.0, max=2.0), HTML(value='')))"
      ]
     },
     "metadata": {},
     "output_type": "display_data"
    },
    {
     "data": {
      "application/vnd.jupyter.widget-view+json": {
       "model_id": "",
       "version_major": 2,
       "version_minor": 0
      },
      "text/plain": [
       "HBox(children=(HTML(value=''), FloatProgress(value=0.0, max=2.0), HTML(value='')))"
      ]
     },
     "metadata": {},
     "output_type": "display_data"
    },
    {
     "data": {
      "application/vnd.jupyter.widget-view+json": {
       "model_id": "",
       "version_major": 2,
       "version_minor": 0
      },
      "text/plain": [
       "HBox(children=(HTML(value=''), FloatProgress(value=0.0, max=2.0), HTML(value='')))"
      ]
     },
     "metadata": {},
     "output_type": "display_data"
    },
    {
     "data": {
      "application/vnd.jupyter.widget-view+json": {
       "model_id": "",
       "version_major": 2,
       "version_minor": 0
      },
      "text/plain": [
       "HBox(children=(HTML(value=''), FloatProgress(value=0.0, max=2.0), HTML(value='')))"
      ]
     },
     "metadata": {},
     "output_type": "display_data"
    },
    {
     "data": {
      "application/vnd.jupyter.widget-view+json": {
       "model_id": "",
       "version_major": 2,
       "version_minor": 0
      },
      "text/plain": [
       "HBox(children=(HTML(value=''), FloatProgress(value=0.0, max=2.0), HTML(value='')))"
      ]
     },
     "metadata": {},
     "output_type": "display_data"
    },
    {
     "data": {
      "application/vnd.jupyter.widget-view+json": {
       "model_id": "",
       "version_major": 2,
       "version_minor": 0
      },
      "text/plain": [
       "HBox(children=(HTML(value=''), FloatProgress(value=0.0, max=2.0), HTML(value='')))"
      ]
     },
     "metadata": {},
     "output_type": "display_data"
    },
    {
     "data": {
      "application/vnd.jupyter.widget-view+json": {
       "model_id": "",
       "version_major": 2,
       "version_minor": 0
      },
      "text/plain": [
       "HBox(children=(HTML(value=''), FloatProgress(value=0.0, max=2.0), HTML(value='')))"
      ]
     },
     "metadata": {},
     "output_type": "display_data"
    },
    {
     "data": {
      "application/vnd.jupyter.widget-view+json": {
       "model_id": "",
       "version_major": 2,
       "version_minor": 0
      },
      "text/plain": [
       "HBox(children=(HTML(value=''), FloatProgress(value=0.0, max=2.0), HTML(value='')))"
      ]
     },
     "metadata": {},
     "output_type": "display_data"
    },
    {
     "data": {
      "application/vnd.jupyter.widget-view+json": {
       "model_id": "",
       "version_major": 2,
       "version_minor": 0
      },
      "text/plain": [
       "HBox(children=(HTML(value=''), FloatProgress(value=0.0, max=2.0), HTML(value='')))"
      ]
     },
     "metadata": {},
     "output_type": "display_data"
    },
    {
     "data": {
      "application/vnd.jupyter.widget-view+json": {
       "model_id": "",
       "version_major": 2,
       "version_minor": 0
      },
      "text/plain": [
       "HBox(children=(HTML(value=''), FloatProgress(value=0.0, max=2.0), HTML(value='')))"
      ]
     },
     "metadata": {},
     "output_type": "display_data"
    },
    {
     "data": {
      "application/vnd.jupyter.widget-view+json": {
       "model_id": "",
       "version_major": 2,
       "version_minor": 0
      },
      "text/plain": [
       "HBox(children=(HTML(value=''), FloatProgress(value=0.0, max=2.0), HTML(value='')))"
      ]
     },
     "metadata": {},
     "output_type": "display_data"
    },
    {
     "data": {
      "application/vnd.jupyter.widget-view+json": {
       "model_id": "",
       "version_major": 2,
       "version_minor": 0
      },
      "text/plain": [
       "HBox(children=(HTML(value=''), FloatProgress(value=0.0, max=2.0), HTML(value='')))"
      ]
     },
     "metadata": {},
     "output_type": "display_data"
    },
    {
     "data": {
      "application/vnd.jupyter.widget-view+json": {
       "model_id": "",
       "version_major": 2,
       "version_minor": 0
      },
      "text/plain": [
       "HBox(children=(HTML(value=''), FloatProgress(value=0.0, max=2.0), HTML(value='')))"
      ]
     },
     "metadata": {},
     "output_type": "display_data"
    },
    {
     "data": {
      "application/vnd.jupyter.widget-view+json": {
       "model_id": "",
       "version_major": 2,
       "version_minor": 0
      },
      "text/plain": [
       "HBox(children=(HTML(value=''), FloatProgress(value=0.0, max=2.0), HTML(value='')))"
      ]
     },
     "metadata": {},
     "output_type": "display_data"
    },
    {
     "data": {
      "application/vnd.jupyter.widget-view+json": {
       "model_id": "",
       "version_major": 2,
       "version_minor": 0
      },
      "text/plain": [
       "HBox(children=(HTML(value=''), FloatProgress(value=0.0, max=2.0), HTML(value='')))"
      ]
     },
     "metadata": {},
     "output_type": "display_data"
    },
    {
     "data": {
      "application/vnd.jupyter.widget-view+json": {
       "model_id": "",
       "version_major": 2,
       "version_minor": 0
      },
      "text/plain": [
       "HBox(children=(HTML(value=''), FloatProgress(value=0.0, max=2.0), HTML(value='')))"
      ]
     },
     "metadata": {},
     "output_type": "display_data"
    },
    {
     "data": {
      "application/vnd.jupyter.widget-view+json": {
       "model_id": "",
       "version_major": 2,
       "version_minor": 0
      },
      "text/plain": [
       "HBox(children=(HTML(value=''), FloatProgress(value=0.0, max=2.0), HTML(value='')))"
      ]
     },
     "metadata": {},
     "output_type": "display_data"
    },
    {
     "data": {
      "application/vnd.jupyter.widget-view+json": {
       "model_id": "",
       "version_major": 2,
       "version_minor": 0
      },
      "text/plain": [
       "HBox(children=(HTML(value=''), FloatProgress(value=0.0, max=2.0), HTML(value='')))"
      ]
     },
     "metadata": {},
     "output_type": "display_data"
    },
    {
     "data": {
      "application/vnd.jupyter.widget-view+json": {
       "model_id": "",
       "version_major": 2,
       "version_minor": 0
      },
      "text/plain": [
       "HBox(children=(HTML(value=''), FloatProgress(value=0.0, max=2.0), HTML(value='')))"
      ]
     },
     "metadata": {},
     "output_type": "display_data"
    },
    {
     "data": {
      "application/vnd.jupyter.widget-view+json": {
       "model_id": "",
       "version_major": 2,
       "version_minor": 0
      },
      "text/plain": [
       "HBox(children=(HTML(value=''), FloatProgress(value=0.0, max=2.0), HTML(value='')))"
      ]
     },
     "metadata": {},
     "output_type": "display_data"
    },
    {
     "data": {
      "application/vnd.jupyter.widget-view+json": {
       "model_id": "",
       "version_major": 2,
       "version_minor": 0
      },
      "text/plain": [
       "HBox(children=(HTML(value=''), FloatProgress(value=0.0, max=2.0), HTML(value='')))"
      ]
     },
     "metadata": {},
     "output_type": "display_data"
    },
    {
     "data": {
      "application/vnd.jupyter.widget-view+json": {
       "model_id": "",
       "version_major": 2,
       "version_minor": 0
      },
      "text/plain": [
       "HBox(children=(HTML(value=''), FloatProgress(value=0.0, max=2.0), HTML(value='')))"
      ]
     },
     "metadata": {},
     "output_type": "display_data"
    },
    {
     "data": {
      "application/vnd.jupyter.widget-view+json": {
       "model_id": "",
       "version_major": 2,
       "version_minor": 0
      },
      "text/plain": [
       "HBox(children=(HTML(value=''), FloatProgress(value=0.0, max=2.0), HTML(value='')))"
      ]
     },
     "metadata": {},
     "output_type": "display_data"
    },
    {
     "data": {
      "application/vnd.jupyter.widget-view+json": {
       "model_id": "",
       "version_major": 2,
       "version_minor": 0
      },
      "text/plain": [
       "HBox(children=(HTML(value=''), FloatProgress(value=0.0, max=2.0), HTML(value='')))"
      ]
     },
     "metadata": {},
     "output_type": "display_data"
    },
    {
     "data": {
      "application/vnd.jupyter.widget-view+json": {
       "model_id": "",
       "version_major": 2,
       "version_minor": 0
      },
      "text/plain": [
       "HBox(children=(HTML(value=''), FloatProgress(value=0.0, max=2.0), HTML(value='')))"
      ]
     },
     "metadata": {},
     "output_type": "display_data"
    },
    {
     "data": {
      "application/vnd.jupyter.widget-view+json": {
       "model_id": "",
       "version_major": 2,
       "version_minor": 0
      },
      "text/plain": [
       "HBox(children=(HTML(value=''), FloatProgress(value=0.0, max=2.0), HTML(value='')))"
      ]
     },
     "metadata": {},
     "output_type": "display_data"
    },
    {
     "data": {
      "application/vnd.jupyter.widget-view+json": {
       "model_id": "",
       "version_major": 2,
       "version_minor": 0
      },
      "text/plain": [
       "HBox(children=(HTML(value=''), FloatProgress(value=0.0, max=2.0), HTML(value='')))"
      ]
     },
     "metadata": {},
     "output_type": "display_data"
    },
    {
     "data": {
      "application/vnd.jupyter.widget-view+json": {
       "model_id": "",
       "version_major": 2,
       "version_minor": 0
      },
      "text/plain": [
       "HBox(children=(HTML(value=''), FloatProgress(value=0.0, max=2.0), HTML(value='')))"
      ]
     },
     "metadata": {},
     "output_type": "display_data"
    },
    {
     "data": {
      "application/vnd.jupyter.widget-view+json": {
       "model_id": "",
       "version_major": 2,
       "version_minor": 0
      },
      "text/plain": [
       "HBox(children=(HTML(value=''), FloatProgress(value=0.0, max=2.0), HTML(value='')))"
      ]
     },
     "metadata": {},
     "output_type": "display_data"
    },
    {
     "data": {
      "application/vnd.jupyter.widget-view+json": {
       "model_id": "",
       "version_major": 2,
       "version_minor": 0
      },
      "text/plain": [
       "HBox(children=(HTML(value=''), FloatProgress(value=0.0, max=2.0), HTML(value='')))"
      ]
     },
     "metadata": {},
     "output_type": "display_data"
    },
    {
     "data": {
      "application/vnd.jupyter.widget-view+json": {
       "model_id": "",
       "version_major": 2,
       "version_minor": 0
      },
      "text/plain": [
       "HBox(children=(HTML(value=''), FloatProgress(value=0.0, max=2.0), HTML(value='')))"
      ]
     },
     "metadata": {},
     "output_type": "display_data"
    },
    {
     "data": {
      "application/vnd.jupyter.widget-view+json": {
       "model_id": "",
       "version_major": 2,
       "version_minor": 0
      },
      "text/plain": [
       "HBox(children=(HTML(value=''), FloatProgress(value=0.0, max=2.0), HTML(value='')))"
      ]
     },
     "metadata": {},
     "output_type": "display_data"
    },
    {
     "data": {
      "application/vnd.jupyter.widget-view+json": {
       "model_id": "",
       "version_major": 2,
       "version_minor": 0
      },
      "text/plain": [
       "HBox(children=(HTML(value=''), FloatProgress(value=0.0, max=2.0), HTML(value='')))"
      ]
     },
     "metadata": {},
     "output_type": "display_data"
    },
    {
     "data": {
      "application/vnd.jupyter.widget-view+json": {
       "model_id": "",
       "version_major": 2,
       "version_minor": 0
      },
      "text/plain": [
       "HBox(children=(HTML(value=''), FloatProgress(value=0.0, max=2.0), HTML(value='')))"
      ]
     },
     "metadata": {},
     "output_type": "display_data"
    },
    {
     "data": {
      "application/vnd.jupyter.widget-view+json": {
       "model_id": "",
       "version_major": 2,
       "version_minor": 0
      },
      "text/plain": [
       "HBox(children=(HTML(value=''), FloatProgress(value=0.0, max=2.0), HTML(value='')))"
      ]
     },
     "metadata": {},
     "output_type": "display_data"
    },
    {
     "data": {
      "application/vnd.jupyter.widget-view+json": {
       "model_id": "",
       "version_major": 2,
       "version_minor": 0
      },
      "text/plain": [
       "HBox(children=(HTML(value=''), FloatProgress(value=0.0, max=2.0), HTML(value='')))"
      ]
     },
     "metadata": {},
     "output_type": "display_data"
    },
    {
     "data": {
      "application/vnd.jupyter.widget-view+json": {
       "model_id": "b683a438603f4206b00206ea88c290ef",
       "version_major": 2,
       "version_minor": 0
      },
      "text/plain": [
       "HBox(children=(HTML(value=''), FloatProgress(value=0.0, max=2.0), HTML(value='')))"
      ]
     },
     "metadata": {},
     "output_type": "display_data"
    }
   ],
   "source": [
    "# n=128,ni=256,ng=1 took 4 hours!\n",
    "n = 128\n",
    "ng = 2\n",
    "ni = 256\n",
    "FocalPercentagesPlot(RAA_et_mg,ng,ni,n,millenialPink,'Exemplar')\n",
    "FocalPercentagesPlot(RAA_pt_mg,ng,ni,n,mediumAquamarine,'Prototype',aArgs={'a':a_prototype,'a_sd':a_sd_prototype,'r':[0,1],'ratioValue':1,'k':k,'e1':4,'e2':4})\n",
    "FocalPercentagesPlot(RAA_qt_mg,ng,ni,n,orange,'Quantum',aArgs={'a':a_quantum,'ratioValue':1,'k':k,'e1':4,'e2':4})\n",
    "FocalPercentagesPlot(RAA_dmt_mg,ng,ni,n,uranianBlue,'Quantum',aArgs={'a':a_quantum,'ratioValue':1,'k':k,'e1':4,'e2':4})\n",
    "FocalPercentagesPlot(RAA_qvt_mg,ng,ni,n,grey,'Quantum',aArgs={'a':a_quantum,'ratioValue':1,'k':k,'e1':4,'e2':4})\n",
    "plt.ylabel('Percentage of focal colours')\n",
    "plt.xlabel('$k$')\n",
    "plt.savefig('./Images/focalColMG.pdf')\n"
   ]
  },
  {
   "cell_type": "code",
   "execution_count": null,
   "metadata": {
    "ExecuteTime": {
     "end_time": "2021-04-30T12:33:56.861282Z",
     "start_time": "2021-04-30T12:32:48.167561Z"
    }
   },
   "outputs": [],
   "source": [
    "# Plot Graph of avg. # focal colours learnt \n",
    "n = 16\n",
    "ng = 8\n",
    "ni = 256\n",
    "results_ekt = [FocalPercentages(RAA_et_mg,l=l_all_2,Y=Y_all_2,nDifferentGames=ng,nIterations=ni,aArgs={'a':a_exemplar,'ratioValue':1,'k':k,'e1':4,'e2':4},pf=PF(3)) for k in tqdm(range(n))]\n",
    "results_ekt = np.array(results_ekt)\n",
    "results_ekt_9 = results_ekt[:,0]\n",
    "results_ekt_11 = results_ekt[:,1]\n",
    "plt.plot(range(n),results_ekt_9[:,0],c=millenialPink,label='Exemplar')\n",
    "    # Use a # of s.d.?\n",
    "plt.fill_between(range(n),results_ekt_9[:,0]-results_ekt_9[:,1],results_ekt_9[:,0]+results_ekt_9[:,1],color=millenialPink,alpha=0.25,linewidth=0.0)\n"
   ]
  },
  {
   "cell_type": "code",
   "execution_count": null,
   "metadata": {
    "ExecuteTime": {
     "end_time": "2021-04-30T12:12:43.771399Z",
     "start_time": "2021-04-30T12:08:50.644278Z"
    },
    "scrolled": true
   },
   "outputs": [],
   "source": [
    "n = 8\n",
    "ng = 4\n",
    "ni = 256\n",
    "results_ekt = [FocalPercentage(RAA_et_mg,l=l_all_2,Y=Y_all_2,nDifferentGames=ng,nIterations=ni,aArgs={'a':a_exemplar,'ratioValue':1,'k':k,'e1':4,'e2':4},pf=PF(3)) for k in tqdm(range(n))]\n",
    "results_pkt = [FocalPercentage(RAA_pt_mg,l=l_all_2,Y=Y_all_2,nDifferentGames=ng,nIterations=ni,aArgs={'a':a_prototype,'a_sd':a_sd_prototype,'r':[0,1],'ratioValue':1,'k':k,'e1':4,'e2':4},pf=PF(3)) for k in tqdm(range(n))]\n",
    "results_qkt = [FocalPercentage(RAA_qt_mg,l=l_all_2,Y=Y_all_2,nDifferentGames=ng,nIterations=ni,aArgs={'a':a_quantum,'ratioValue':1,'k':k,'e1':4,'e2':4},pf=PF(3)) for k in tqdm(range(n))]\n",
    "results_dmkt = [FocalPercentage(RAA_dmt_mg,l=l_all_2,Y=Y_all_2,nDifferentGames=ng,nIterations=ni,aArgs={'a':a_prototype,'a_sd':a_sd_prototype,'r':[0,1],'ratioValue':1,'k':k,'e1':4,'e2':4},pf=PF(3)) for k in tqdm(range(n))]"
   ]
  },
  {
   "cell_type": "code",
   "execution_count": null,
   "metadata": {
    "ExecuteTime": {
     "end_time": "2021-04-30T12:06:03.720389Z",
     "start_time": "2021-04-30T11:46:29.633775Z"
    }
   },
   "outputs": [],
   "source": [
    "results_dmkt = [FocalPercentage(RAA_dmt_mg,l=l_all_2,Y=Y_all_2,nDifferentGames=4,nIterations=256,aArgs={'a':a_prototype,'a_sd':a_sd_prototype,'r':[0,1],'ratioValue':1,'k':k,'e1':4,'e2':4},pf=PF(3)) for k in tqdm(range(n))]\n"
   ]
  },
  {
   "cell_type": "code",
   "execution_count": null,
   "metadata": {
    "ExecuteTime": {
     "end_time": "2021-04-30T12:12:44.439755Z",
     "start_time": "2021-04-30T12:12:43.777762Z"
    }
   },
   "outputs": [],
   "source": [
    "plt.plot(list(range(n)),results_ekt,c=millenialPink)\n",
    "plt.plot(list(range(n)),results_pkt,c=mediumAquamarine)\n",
    "plt.plot(list(range(n)),results_qkt,c=orange)\n",
    "plt.plot(list(range(n)),results_dmkt,c=uranianBlue)"
   ]
  },
  {
   "cell_type": "code",
   "execution_count": 90,
   "metadata": {
    "ExecuteTime": {
     "end_time": "2021-05-09T06:46:09.661895Z",
     "start_time": "2021-05-09T06:46:09.599776Z"
    }
   },
   "outputs": [
    {
     "name": "stdout",
     "output_type": "stream",
     "text": [
      "['red', 'green', 'yellow', 'blue', 'brown', 'orange', 'pink', 'purple', 'grey']\n",
      "[['red', 'green', 'yellow', 'blue', 'brown', 'orange', 'pink', 'purple', 'grey'], ['red', 'green', 'yellow', 'blue', 'brown', 'orange', 'pink', 'purple', 'grey', 'white', 'black']]\n",
      "['red', 'green', 'yellow', 'blue', 'brown', 'orange', 'pink', 'purple', 'grey']\n"
     ]
    }
   ],
   "source": [
    "print(l)\n",
    "l_11 = list(l)\n",
    "l_11.extend(['white','black'])\n",
    "print([l,l_11])\n",
    "l_9 = list(l)\n",
    "print(l_9)"
   ]
  },
  {
   "cell_type": "code",
   "execution_count": null,
   "metadata": {
    "ExecuteTime": {
     "end_time": "2021-04-30T07:44:26.414696Z",
     "start_time": "2021-04-30T07:37:18.052328Z"
    }
   },
   "outputs": [],
   "source": [
    "results_ekt_11 = [FocalPercentage(RAA_et_mg,l=l_all_2,Y=Y_all_2,nDifferentGames=4,nIterations=256,aArgs={'a':a_exemplar,'ratioValue':1,'k':k,'e1':4,'e2':4},pf=PF(3),l_focal=l_11) for k in tqdm(range(n))]"
   ]
  },
  {
   "cell_type": "code",
   "execution_count": 98,
   "metadata": {
    "ExecuteTime": {
     "end_time": "2021-05-09T06:47:46.920419Z",
     "start_time": "2021-05-09T06:47:46.818386Z"
    }
   },
   "outputs": [],
   "source": [
    "# For a single game return dict of whether 11 focal colours are in final agent reps\n",
    "def FocalColsPercentage(RAA,nIterations=nI,nAgents=nA,aArgs={'a':0.12,'ratioValue':1,'k':64,'e1':4,'e2':4},l=l_all_2,Y=Y_all_2,pf=PF(3),k=64):\n",
    "    l_focal = ['red', 'green', 'yellow', 'blue', 'brown', 'orange', 'pink', 'purple', 'grey', 'white', 'black']\n",
    "    aArgs['k'] =  k\n",
    "    agents = RAA(pf,nAgents,aArgs,l,Y)\n",
    "    x = {}\n",
    "    for j in range(nIterations):\n",
    "        GameRound(agents,pf)\n",
    "    for a in agents:\n",
    "        try:\n",
    "            for c in l_focal:\n",
    "                x[c] = np.append(x.get(c,[]),Percentage(list(a.LAK.keys()),[c]))\n",
    "        except:\n",
    "            None\n",
    "    for c in x:\n",
    "        x[c] = np.mean(x[c])\n",
    "    return x"
   ]
  },
  {
   "cell_type": "code",
   "execution_count": null,
   "metadata": {
    "ExecuteTime": {
     "end_time": "2021-05-01T13:04:17.911252Z",
     "start_time": "2021-05-01T13:04:16.781369Z"
    }
   },
   "outputs": [],
   "source": [
    "FocalColsPercentage(RAA_et_mg,l=l_all_2,Y=Y_all_2,nIterations=ni,aArgs={'a':a_exemplar,'ratioValue':1,'k':16,'e1':4,'e2':4},pf=PF(3))"
   ]
  },
  {
   "cell_type": "code",
   "execution_count": 99,
   "metadata": {
    "ExecuteTime": {
     "end_time": "2021-05-09T06:47:54.561321Z",
     "start_time": "2021-05-09T06:47:54.472173Z"
    }
   },
   "outputs": [],
   "source": [
    "# run FocalColsPercentage over several games for exemplar\n",
    "def FocalColsPercentages_exemplar(nDifferentGames=ng,nIterations=512,k=32):\n",
    "    x = {}\n",
    "    for i in tqdm(range(nDifferentGames),leave=False):\n",
    "        y = FocalColsPercentage(RAA_et_mg,nIterations=nIterations,k=k)\n",
    "        for c in y:\n",
    "            x[c] = np.append(x.get(c,[]),y[c])\n",
    "    for c in x:\n",
    "        x[c] = [np.mean(x[c]),np.var(x[c])]\n",
    "    return x"
   ]
  },
  {
   "cell_type": "code",
   "execution_count": null,
   "metadata": {
    "ExecuteTime": {
     "end_time": "2021-05-01T13:13:15.343858Z",
     "start_time": "2021-05-01T13:13:15.291488Z"
    }
   },
   "outputs": [],
   "source": [
    "print(ng)"
   ]
  },
  {
   "cell_type": "code",
   "execution_count": 100,
   "metadata": {
    "ExecuteTime": {
     "end_time": "2021-05-09T06:48:13.381095Z",
     "start_time": "2021-05-09T06:48:00.462095Z"
    }
   },
   "outputs": [
    {
     "name": "stdout",
     "output_type": "stream",
     "text": [
      "\n"
     ]
    },
    {
     "data": {
      "application/vnd.jupyter.widget-view+json": {
       "model_id": "2648d9f3a39c4acdaf156e2bc08bf4f0",
       "version_major": 2,
       "version_minor": 0
      },
      "text/plain": [
       "HBox(children=(HTML(value=''), FloatProgress(value=0.0, max=128.0), HTML(value='')))"
      ]
     },
     "metadata": {},
     "output_type": "display_data"
    },
    {
     "data": {
      "application/vnd.jupyter.widget-view+json": {
       "model_id": "2d0229cf413f44c8bf0a36a85425e576",
       "version_major": 2,
       "version_minor": 0
      },
      "text/plain": [
       "HBox(children=(HTML(value=''), FloatProgress(value=0.0, max=32.0), HTML(value='')))"
      ]
     },
     "metadata": {},
     "output_type": "display_data"
    },
    {
     "name": "stdout",
     "output_type": "stream",
     "text": [
      "\n"
     ]
    },
    {
     "ename": "KeyboardInterrupt",
     "evalue": "",
     "output_type": "error",
     "traceback": [
      "\u001b[0;31m---------------------------------------------------------------------------\u001b[0m",
      "\u001b[0;31mKeyboardInterrupt\u001b[0m                         Traceback (most recent call last)",
      "\u001b[0;32m<ipython-input-100-82ae4aacdc5a>\u001b[0m in \u001b[0;36m<module>\u001b[0;34m\u001b[0m\n\u001b[1;32m      7\u001b[0m \u001b[0my_var\u001b[0m \u001b[0;34m=\u001b[0m \u001b[0;34m{\u001b[0m\u001b[0;34m}\u001b[0m\u001b[0;34m\u001b[0m\u001b[0;34m\u001b[0m\u001b[0m\n\u001b[1;32m      8\u001b[0m \u001b[0;32mfor\u001b[0m \u001b[0mi\u001b[0m \u001b[0;32min\u001b[0m \u001b[0mtqdm\u001b[0m\u001b[0;34m(\u001b[0m\u001b[0mrange\u001b[0m\u001b[0;34m(\u001b[0m\u001b[0mnk\u001b[0m\u001b[0;34m)\u001b[0m\u001b[0;34m)\u001b[0m\u001b[0;34m:\u001b[0m\u001b[0;34m\u001b[0m\u001b[0;34m\u001b[0m\u001b[0m\n\u001b[0;32m----> 9\u001b[0;31m     \u001b[0mx\u001b[0m \u001b[0;34m=\u001b[0m \u001b[0mFocalColsPercentages_exemplar\u001b[0m\u001b[0;34m(\u001b[0m\u001b[0mnDifferentGames\u001b[0m\u001b[0;34m=\u001b[0m\u001b[0mng\u001b[0m\u001b[0;34m,\u001b[0m\u001b[0mk\u001b[0m\u001b[0;34m=\u001b[0m\u001b[0mi\u001b[0m\u001b[0;34m)\u001b[0m\u001b[0;34m\u001b[0m\u001b[0;34m\u001b[0m\u001b[0m\n\u001b[0m\u001b[1;32m     10\u001b[0m     \u001b[0;32mfor\u001b[0m \u001b[0mc\u001b[0m \u001b[0;32min\u001b[0m \u001b[0mx\u001b[0m\u001b[0;34m:\u001b[0m\u001b[0;34m\u001b[0m\u001b[0;34m\u001b[0m\u001b[0m\n\u001b[1;32m     11\u001b[0m         \u001b[0my\u001b[0m\u001b[0;34m[\u001b[0m\u001b[0mc\u001b[0m\u001b[0;34m]\u001b[0m \u001b[0;34m=\u001b[0m \u001b[0mnp\u001b[0m\u001b[0;34m.\u001b[0m\u001b[0mappend\u001b[0m\u001b[0;34m(\u001b[0m\u001b[0my\u001b[0m\u001b[0;34m.\u001b[0m\u001b[0mget\u001b[0m\u001b[0;34m(\u001b[0m\u001b[0mc\u001b[0m\u001b[0;34m,\u001b[0m\u001b[0mnp\u001b[0m\u001b[0;34m.\u001b[0m\u001b[0mzeros\u001b[0m\u001b[0;34m(\u001b[0m\u001b[0mi\u001b[0m\u001b[0;34m)\u001b[0m\u001b[0;34m)\u001b[0m\u001b[0;34m,\u001b[0m\u001b[0mx\u001b[0m\u001b[0;34m[\u001b[0m\u001b[0mc\u001b[0m\u001b[0;34m]\u001b[0m\u001b[0;34m[\u001b[0m\u001b[0;36m0\u001b[0m\u001b[0;34m]\u001b[0m\u001b[0;34m)\u001b[0m\u001b[0;34m\u001b[0m\u001b[0;34m\u001b[0m\u001b[0m\n",
      "\u001b[0;32m<ipython-input-99-3a355163b302>\u001b[0m in \u001b[0;36mFocalColsPercentages_exemplar\u001b[0;34m(nDifferentGames, nIterations, k)\u001b[0m\n\u001b[1;32m      3\u001b[0m     \u001b[0mx\u001b[0m \u001b[0;34m=\u001b[0m \u001b[0;34m{\u001b[0m\u001b[0;34m}\u001b[0m\u001b[0;34m\u001b[0m\u001b[0;34m\u001b[0m\u001b[0m\n\u001b[1;32m      4\u001b[0m     \u001b[0;32mfor\u001b[0m \u001b[0mi\u001b[0m \u001b[0;32min\u001b[0m \u001b[0mtqdm\u001b[0m\u001b[0;34m(\u001b[0m\u001b[0mrange\u001b[0m\u001b[0;34m(\u001b[0m\u001b[0mnDifferentGames\u001b[0m\u001b[0;34m)\u001b[0m\u001b[0;34m,\u001b[0m\u001b[0mleave\u001b[0m\u001b[0;34m=\u001b[0m\u001b[0;32mFalse\u001b[0m\u001b[0;34m)\u001b[0m\u001b[0;34m:\u001b[0m\u001b[0;34m\u001b[0m\u001b[0;34m\u001b[0m\u001b[0m\n\u001b[0;32m----> 5\u001b[0;31m         \u001b[0my\u001b[0m \u001b[0;34m=\u001b[0m \u001b[0mFocalColsPercentage\u001b[0m\u001b[0;34m(\u001b[0m\u001b[0mRAA_et_mg\u001b[0m\u001b[0;34m,\u001b[0m\u001b[0mnIterations\u001b[0m\u001b[0;34m=\u001b[0m\u001b[0mnIterations\u001b[0m\u001b[0;34m,\u001b[0m\u001b[0mk\u001b[0m\u001b[0;34m=\u001b[0m\u001b[0mk\u001b[0m\u001b[0;34m)\u001b[0m\u001b[0;34m\u001b[0m\u001b[0;34m\u001b[0m\u001b[0m\n\u001b[0m\u001b[1;32m      6\u001b[0m         \u001b[0;32mfor\u001b[0m \u001b[0mc\u001b[0m \u001b[0;32min\u001b[0m \u001b[0my\u001b[0m\u001b[0;34m:\u001b[0m\u001b[0;34m\u001b[0m\u001b[0;34m\u001b[0m\u001b[0m\n\u001b[1;32m      7\u001b[0m             \u001b[0mx\u001b[0m\u001b[0;34m[\u001b[0m\u001b[0mc\u001b[0m\u001b[0;34m]\u001b[0m \u001b[0;34m=\u001b[0m \u001b[0mnp\u001b[0m\u001b[0;34m.\u001b[0m\u001b[0mappend\u001b[0m\u001b[0;34m(\u001b[0m\u001b[0mx\u001b[0m\u001b[0;34m.\u001b[0m\u001b[0mget\u001b[0m\u001b[0;34m(\u001b[0m\u001b[0mc\u001b[0m\u001b[0;34m,\u001b[0m\u001b[0;34m[\u001b[0m\u001b[0;34m]\u001b[0m\u001b[0;34m)\u001b[0m\u001b[0;34m,\u001b[0m\u001b[0my\u001b[0m\u001b[0;34m[\u001b[0m\u001b[0mc\u001b[0m\u001b[0;34m]\u001b[0m\u001b[0;34m)\u001b[0m\u001b[0;34m\u001b[0m\u001b[0;34m\u001b[0m\u001b[0m\n",
      "\u001b[0;32m<ipython-input-98-e320d403a6b1>\u001b[0m in \u001b[0;36mFocalColsPercentage\u001b[0;34m(RAA, nIterations, nAgents, aArgs, l, Y, pf, k)\u001b[0m\n\u001b[1;32m      6\u001b[0m     \u001b[0mx\u001b[0m \u001b[0;34m=\u001b[0m \u001b[0;34m{\u001b[0m\u001b[0;34m}\u001b[0m\u001b[0;34m\u001b[0m\u001b[0;34m\u001b[0m\u001b[0m\n\u001b[1;32m      7\u001b[0m     \u001b[0;32mfor\u001b[0m \u001b[0mj\u001b[0m \u001b[0;32min\u001b[0m \u001b[0mrange\u001b[0m\u001b[0;34m(\u001b[0m\u001b[0mnIterations\u001b[0m\u001b[0;34m)\u001b[0m\u001b[0;34m:\u001b[0m\u001b[0;34m\u001b[0m\u001b[0;34m\u001b[0m\u001b[0m\n\u001b[0;32m----> 8\u001b[0;31m         \u001b[0mGameRound\u001b[0m\u001b[0;34m(\u001b[0m\u001b[0magents\u001b[0m\u001b[0;34m,\u001b[0m\u001b[0mpf\u001b[0m\u001b[0;34m)\u001b[0m\u001b[0;34m\u001b[0m\u001b[0;34m\u001b[0m\u001b[0m\n\u001b[0m\u001b[1;32m      9\u001b[0m     \u001b[0;32mfor\u001b[0m \u001b[0ma\u001b[0m \u001b[0;32min\u001b[0m \u001b[0magents\u001b[0m\u001b[0;34m:\u001b[0m\u001b[0;34m\u001b[0m\u001b[0;34m\u001b[0m\u001b[0m\n\u001b[1;32m     10\u001b[0m         \u001b[0;32mtry\u001b[0m\u001b[0;34m:\u001b[0m\u001b[0;34m\u001b[0m\u001b[0;34m\u001b[0m\u001b[0m\n",
      "\u001b[0;32m<ipython-input-32-08bd2c18d735>\u001b[0m in \u001b[0;36mGameRound\u001b[0;34m(agents, pf)\u001b[0m\n\u001b[1;32m      4\u001b[0m         \u001b[0magents\u001b[0m\u001b[0;34m.\u001b[0m\u001b[0mremove\u001b[0m\u001b[0;34m(\u001b[0m\u001b[0mA\u001b[0m\u001b[0;34m)\u001b[0m\u001b[0;34m\u001b[0m\u001b[0;34m\u001b[0m\u001b[0m\n\u001b[1;32m      5\u001b[0m         \u001b[0mB\u001b[0m \u001b[0;34m=\u001b[0m \u001b[0mnp\u001b[0m\u001b[0;34m.\u001b[0m\u001b[0mrandom\u001b[0m\u001b[0;34m.\u001b[0m\u001b[0mchoice\u001b[0m\u001b[0;34m(\u001b[0m\u001b[0magents\u001b[0m\u001b[0;34m)\u001b[0m\u001b[0;34m\u001b[0m\u001b[0;34m\u001b[0m\u001b[0m\n\u001b[0;32m----> 6\u001b[0;31m         \u001b[0mDiscriminationGameRound\u001b[0m\u001b[0;34m(\u001b[0m\u001b[0mA\u001b[0m\u001b[0;34m,\u001b[0m\u001b[0mB\u001b[0m\u001b[0;34m,\u001b[0m\u001b[0mpf\u001b[0m\u001b[0;34m)\u001b[0m\u001b[0;34m\u001b[0m\u001b[0;34m\u001b[0m\u001b[0m\n\u001b[0m\u001b[1;32m      7\u001b[0m         \u001b[0magents\u001b[0m\u001b[0;34m.\u001b[0m\u001b[0mappend\u001b[0m\u001b[0;34m(\u001b[0m\u001b[0mA\u001b[0m\u001b[0;34m)\u001b[0m\u001b[0;34m\u001b[0m\u001b[0;34m\u001b[0m\u001b[0m\n\u001b[1;32m      8\u001b[0m \u001b[0;34m\u001b[0m\u001b[0m\n",
      "\u001b[0;32m<ipython-input-11-18c7e0e19802>\u001b[0m in \u001b[0;36mDiscriminationGameRound\u001b[0;34m(A, B, pf, N)\u001b[0m\n\u001b[1;32m      8\u001b[0m \u001b[0;31m# Play a round with a random selection of elements\u001b[0m\u001b[0;34m\u001b[0m\u001b[0;34m\u001b[0m\u001b[0;34m\u001b[0m\u001b[0m\n\u001b[1;32m      9\u001b[0m \u001b[0;32mdef\u001b[0m \u001b[0mDiscriminationGameRound\u001b[0m\u001b[0;34m(\u001b[0m\u001b[0mA\u001b[0m\u001b[0;34m,\u001b[0m\u001b[0mB\u001b[0m\u001b[0;34m,\u001b[0m\u001b[0mpf\u001b[0m\u001b[0;34m,\u001b[0m\u001b[0mN\u001b[0m\u001b[0;34m=\u001b[0m\u001b[0;36m5\u001b[0m\u001b[0;34m)\u001b[0m\u001b[0;34m:\u001b[0m\u001b[0;34m\u001b[0m\u001b[0;34m\u001b[0m\u001b[0m\n\u001b[0;32m---> 10\u001b[0;31m     \u001b[0mO\u001b[0m \u001b[0;34m=\u001b[0m \u001b[0;34m[\u001b[0m\u001b[0mRE\u001b[0m\u001b[0;34m(\u001b[0m\u001b[0mpf\u001b[0m\u001b[0;34m)\u001b[0m \u001b[0;32mfor\u001b[0m \u001b[0mi\u001b[0m \u001b[0;32min\u001b[0m \u001b[0mrange\u001b[0m\u001b[0;34m(\u001b[0m\u001b[0mN\u001b[0m\u001b[0;34m)\u001b[0m\u001b[0;34m]\u001b[0m \u001b[0;31m# Random elements for N\u001b[0m\u001b[0;34m\u001b[0m\u001b[0;34m\u001b[0m\u001b[0m\n\u001b[0m\u001b[1;32m     11\u001b[0m     \u001b[0mo\u001b[0m \u001b[0;34m=\u001b[0m \u001b[0mO\u001b[0m\u001b[0;34m[\u001b[0m\u001b[0;34m-\u001b[0m\u001b[0;36m1\u001b[0m\u001b[0;34m]\u001b[0m\u001b[0;34m\u001b[0m\u001b[0;34m\u001b[0m\u001b[0m\n\u001b[1;32m     12\u001b[0m     \u001b[0mDiscriminationGame\u001b[0m\u001b[0;34m(\u001b[0m\u001b[0mA\u001b[0m\u001b[0;34m,\u001b[0m\u001b[0mB\u001b[0m\u001b[0;34m,\u001b[0m\u001b[0mO\u001b[0m\u001b[0;34m,\u001b[0m\u001b[0mo\u001b[0m\u001b[0;34m)\u001b[0m\u001b[0;34m\u001b[0m\u001b[0;34m\u001b[0m\u001b[0m\n",
      "\u001b[0;32m<ipython-input-11-18c7e0e19802>\u001b[0m in \u001b[0;36m<listcomp>\u001b[0;34m(.0)\u001b[0m\n\u001b[1;32m      8\u001b[0m \u001b[0;31m# Play a round with a random selection of elements\u001b[0m\u001b[0;34m\u001b[0m\u001b[0;34m\u001b[0m\u001b[0;34m\u001b[0m\u001b[0m\n\u001b[1;32m      9\u001b[0m \u001b[0;32mdef\u001b[0m \u001b[0mDiscriminationGameRound\u001b[0m\u001b[0;34m(\u001b[0m\u001b[0mA\u001b[0m\u001b[0;34m,\u001b[0m\u001b[0mB\u001b[0m\u001b[0;34m,\u001b[0m\u001b[0mpf\u001b[0m\u001b[0;34m,\u001b[0m\u001b[0mN\u001b[0m\u001b[0;34m=\u001b[0m\u001b[0;36m5\u001b[0m\u001b[0;34m)\u001b[0m\u001b[0;34m:\u001b[0m\u001b[0;34m\u001b[0m\u001b[0;34m\u001b[0m\u001b[0m\n\u001b[0;32m---> 10\u001b[0;31m     \u001b[0mO\u001b[0m \u001b[0;34m=\u001b[0m \u001b[0;34m[\u001b[0m\u001b[0mRE\u001b[0m\u001b[0;34m(\u001b[0m\u001b[0mpf\u001b[0m\u001b[0;34m)\u001b[0m \u001b[0;32mfor\u001b[0m \u001b[0mi\u001b[0m \u001b[0;32min\u001b[0m \u001b[0mrange\u001b[0m\u001b[0;34m(\u001b[0m\u001b[0mN\u001b[0m\u001b[0;34m)\u001b[0m\u001b[0;34m]\u001b[0m \u001b[0;31m# Random elements for N\u001b[0m\u001b[0;34m\u001b[0m\u001b[0;34m\u001b[0m\u001b[0m\n\u001b[0m\u001b[1;32m     11\u001b[0m     \u001b[0mo\u001b[0m \u001b[0;34m=\u001b[0m \u001b[0mO\u001b[0m\u001b[0;34m[\u001b[0m\u001b[0;34m-\u001b[0m\u001b[0;36m1\u001b[0m\u001b[0;34m]\u001b[0m\u001b[0;34m\u001b[0m\u001b[0;34m\u001b[0m\u001b[0m\n\u001b[1;32m     12\u001b[0m     \u001b[0mDiscriminationGame\u001b[0m\u001b[0;34m(\u001b[0m\u001b[0mA\u001b[0m\u001b[0;34m,\u001b[0m\u001b[0mB\u001b[0m\u001b[0;34m,\u001b[0m\u001b[0mO\u001b[0m\u001b[0;34m,\u001b[0m\u001b[0mo\u001b[0m\u001b[0;34m)\u001b[0m\u001b[0;34m\u001b[0m\u001b[0;34m\u001b[0m\u001b[0m\n",
      "\u001b[0;32m<ipython-input-11-18c7e0e19802>\u001b[0m in \u001b[0;36mRE\u001b[0;34m(playingField)\u001b[0m\n\u001b[1;32m      4\u001b[0m \u001b[0;31m# This seems an ugly way to do it\u001b[0m\u001b[0;34m\u001b[0m\u001b[0;34m\u001b[0m\u001b[0;34m\u001b[0m\u001b[0m\n\u001b[1;32m      5\u001b[0m \u001b[0;32mdef\u001b[0m \u001b[0mRE\u001b[0m\u001b[0;34m(\u001b[0m\u001b[0mplayingField\u001b[0m\u001b[0;34m)\u001b[0m\u001b[0;34m:\u001b[0m\u001b[0;34m\u001b[0m\u001b[0;34m\u001b[0m\u001b[0m\n\u001b[0;32m----> 6\u001b[0;31m     \u001b[0;32mreturn\u001b[0m \u001b[0mnp\u001b[0m\u001b[0;34m.\u001b[0m\u001b[0mrandom\u001b[0m\u001b[0;34m.\u001b[0m\u001b[0muniform\u001b[0m\u001b[0;34m(\u001b[0m\u001b[0mplayingField\u001b[0m\u001b[0;34m[\u001b[0m\u001b[0;36m0\u001b[0m\u001b[0;34m]\u001b[0m\u001b[0;34m,\u001b[0m\u001b[0mplayingField\u001b[0m\u001b[0;34m[\u001b[0m\u001b[0;36m1\u001b[0m\u001b[0;34m]\u001b[0m\u001b[0;34m)\u001b[0m\u001b[0;34m\u001b[0m\u001b[0;34m\u001b[0m\u001b[0m\n\u001b[0m\u001b[1;32m      7\u001b[0m \u001b[0;34m\u001b[0m\u001b[0m\n\u001b[1;32m      8\u001b[0m \u001b[0;31m# Play a round with a random selection of elements\u001b[0m\u001b[0;34m\u001b[0m\u001b[0;34m\u001b[0m\u001b[0;34m\u001b[0m\u001b[0m\n",
      "\u001b[0;32mmtrand.pyx\u001b[0m in \u001b[0;36mnumpy.random.mtrand.RandomState.uniform\u001b[0;34m()\u001b[0m\n",
      "\u001b[0;32m<__array_function__ internals>\u001b[0m in \u001b[0;36mall\u001b[0;34m(*args, **kwargs)\u001b[0m\n",
      "\u001b[0;31mKeyboardInterrupt\u001b[0m: "
     ]
    }
   ],
   "source": [
    "# nk=128,ng=32, 90mins\n",
    "\n",
    "nk = 128\n",
    "ng = 32\n",
    "\n",
    "y = {}\n",
    "y_var = {}\n",
    "for i in tqdm(range(nk)):\n",
    "    x = FocalColsPercentages_exemplar(nDifferentGames=ng,k=i)\n",
    "    for c in x:\n",
    "        y[c] = np.append(y.get(c,np.zeros(i)),x[c][0])\n",
    "        y_var[c] = np.append(y_var.get(c,np.zeros(i)),x[c][1])\n",
    "for c in y:\n",
    "    plt.plot(list(range(nk)),y[c],c=c)\n",
    "    plt.fill_between(range(nk),y[c]-y_var[c],y[c]+y_var[c],color=c,alpha=0.125,linewidth=0.0)\n",
    "plt.savefig('./Images/mgFocalCols.pdf')"
   ]
  },
  {
   "cell_type": "code",
   "execution_count": 102,
   "metadata": {
    "ExecuteTime": {
     "end_time": "2021-05-09T18:59:43.146907Z",
     "start_time": "2021-05-09T06:48:32.547818Z"
    }
   },
   "outputs": [
    {
     "data": {
      "application/vnd.jupyter.widget-view+json": {
       "model_id": "892d207c3a1f44408f977aa758d60ff5",
       "version_major": 2,
       "version_minor": 0
      },
      "text/plain": [
       "HBox(children=(HTML(value=''), FloatProgress(value=0.0, max=256.0), HTML(value='')))"
      ]
     },
     "metadata": {},
     "output_type": "display_data"
    },
    {
     "data": {
      "application/vnd.jupyter.widget-view+json": {
       "model_id": "",
       "version_major": 2,
       "version_minor": 0
      },
      "text/plain": [
       "HBox(children=(HTML(value=''), FloatProgress(value=0.0, max=64.0), HTML(value='')))"
      ]
     },
     "metadata": {},
     "output_type": "display_data"
    },
    {
     "data": {
      "application/vnd.jupyter.widget-view+json": {
       "model_id": "",
       "version_major": 2,
       "version_minor": 0
      },
      "text/plain": [
       "HBox(children=(HTML(value=''), FloatProgress(value=0.0, max=64.0), HTML(value='')))"
      ]
     },
     "metadata": {},
     "output_type": "display_data"
    },
    {
     "data": {
      "application/vnd.jupyter.widget-view+json": {
       "model_id": "",
       "version_major": 2,
       "version_minor": 0
      },
      "text/plain": [
       "HBox(children=(HTML(value=''), FloatProgress(value=0.0, max=64.0), HTML(value='')))"
      ]
     },
     "metadata": {},
     "output_type": "display_data"
    },
    {
     "data": {
      "application/vnd.jupyter.widget-view+json": {
       "model_id": "",
       "version_major": 2,
       "version_minor": 0
      },
      "text/plain": [
       "HBox(children=(HTML(value=''), FloatProgress(value=0.0, max=64.0), HTML(value='')))"
      ]
     },
     "metadata": {},
     "output_type": "display_data"
    },
    {
     "data": {
      "application/vnd.jupyter.widget-view+json": {
       "model_id": "",
       "version_major": 2,
       "version_minor": 0
      },
      "text/plain": [
       "HBox(children=(HTML(value=''), FloatProgress(value=0.0, max=64.0), HTML(value='')))"
      ]
     },
     "metadata": {},
     "output_type": "display_data"
    },
    {
     "data": {
      "application/vnd.jupyter.widget-view+json": {
       "model_id": "",
       "version_major": 2,
       "version_minor": 0
      },
      "text/plain": [
       "HBox(children=(HTML(value=''), FloatProgress(value=0.0, max=64.0), HTML(value='')))"
      ]
     },
     "metadata": {},
     "output_type": "display_data"
    },
    {
     "data": {
      "application/vnd.jupyter.widget-view+json": {
       "model_id": "",
       "version_major": 2,
       "version_minor": 0
      },
      "text/plain": [
       "HBox(children=(HTML(value=''), FloatProgress(value=0.0, max=64.0), HTML(value='')))"
      ]
     },
     "metadata": {},
     "output_type": "display_data"
    },
    {
     "data": {
      "application/vnd.jupyter.widget-view+json": {
       "model_id": "",
       "version_major": 2,
       "version_minor": 0
      },
      "text/plain": [
       "HBox(children=(HTML(value=''), FloatProgress(value=0.0, max=64.0), HTML(value='')))"
      ]
     },
     "metadata": {},
     "output_type": "display_data"
    },
    {
     "data": {
      "application/vnd.jupyter.widget-view+json": {
       "model_id": "",
       "version_major": 2,
       "version_minor": 0
      },
      "text/plain": [
       "HBox(children=(HTML(value=''), FloatProgress(value=0.0, max=64.0), HTML(value='')))"
      ]
     },
     "metadata": {},
     "output_type": "display_data"
    },
    {
     "data": {
      "application/vnd.jupyter.widget-view+json": {
       "model_id": "",
       "version_major": 2,
       "version_minor": 0
      },
      "text/plain": [
       "HBox(children=(HTML(value=''), FloatProgress(value=0.0, max=64.0), HTML(value='')))"
      ]
     },
     "metadata": {},
     "output_type": "display_data"
    },
    {
     "data": {
      "application/vnd.jupyter.widget-view+json": {
       "model_id": "",
       "version_major": 2,
       "version_minor": 0
      },
      "text/plain": [
       "HBox(children=(HTML(value=''), FloatProgress(value=0.0, max=64.0), HTML(value='')))"
      ]
     },
     "metadata": {},
     "output_type": "display_data"
    },
    {
     "data": {
      "application/vnd.jupyter.widget-view+json": {
       "model_id": "",
       "version_major": 2,
       "version_minor": 0
      },
      "text/plain": [
       "HBox(children=(HTML(value=''), FloatProgress(value=0.0, max=64.0), HTML(value='')))"
      ]
     },
     "metadata": {},
     "output_type": "display_data"
    },
    {
     "data": {
      "application/vnd.jupyter.widget-view+json": {
       "model_id": "",
       "version_major": 2,
       "version_minor": 0
      },
      "text/plain": [
       "HBox(children=(HTML(value=''), FloatProgress(value=0.0, max=64.0), HTML(value='')))"
      ]
     },
     "metadata": {},
     "output_type": "display_data"
    },
    {
     "data": {
      "application/vnd.jupyter.widget-view+json": {
       "model_id": "",
       "version_major": 2,
       "version_minor": 0
      },
      "text/plain": [
       "HBox(children=(HTML(value=''), FloatProgress(value=0.0, max=64.0), HTML(value='')))"
      ]
     },
     "metadata": {},
     "output_type": "display_data"
    },
    {
     "data": {
      "application/vnd.jupyter.widget-view+json": {
       "model_id": "",
       "version_major": 2,
       "version_minor": 0
      },
      "text/plain": [
       "HBox(children=(HTML(value=''), FloatProgress(value=0.0, max=64.0), HTML(value='')))"
      ]
     },
     "metadata": {},
     "output_type": "display_data"
    },
    {
     "data": {
      "application/vnd.jupyter.widget-view+json": {
       "model_id": "",
       "version_major": 2,
       "version_minor": 0
      },
      "text/plain": [
       "HBox(children=(HTML(value=''), FloatProgress(value=0.0, max=64.0), HTML(value='')))"
      ]
     },
     "metadata": {},
     "output_type": "display_data"
    },
    {
     "data": {
      "application/vnd.jupyter.widget-view+json": {
       "model_id": "",
       "version_major": 2,
       "version_minor": 0
      },
      "text/plain": [
       "HBox(children=(HTML(value=''), FloatProgress(value=0.0, max=64.0), HTML(value='')))"
      ]
     },
     "metadata": {},
     "output_type": "display_data"
    },
    {
     "data": {
      "application/vnd.jupyter.widget-view+json": {
       "model_id": "",
       "version_major": 2,
       "version_minor": 0
      },
      "text/plain": [
       "HBox(children=(HTML(value=''), FloatProgress(value=0.0, max=64.0), HTML(value='')))"
      ]
     },
     "metadata": {},
     "output_type": "display_data"
    },
    {
     "data": {
      "application/vnd.jupyter.widget-view+json": {
       "model_id": "",
       "version_major": 2,
       "version_minor": 0
      },
      "text/plain": [
       "HBox(children=(HTML(value=''), FloatProgress(value=0.0, max=64.0), HTML(value='')))"
      ]
     },
     "metadata": {},
     "output_type": "display_data"
    },
    {
     "data": {
      "application/vnd.jupyter.widget-view+json": {
       "model_id": "",
       "version_major": 2,
       "version_minor": 0
      },
      "text/plain": [
       "HBox(children=(HTML(value=''), FloatProgress(value=0.0, max=64.0), HTML(value='')))"
      ]
     },
     "metadata": {},
     "output_type": "display_data"
    },
    {
     "data": {
      "application/vnd.jupyter.widget-view+json": {
       "model_id": "",
       "version_major": 2,
       "version_minor": 0
      },
      "text/plain": [
       "HBox(children=(HTML(value=''), FloatProgress(value=0.0, max=64.0), HTML(value='')))"
      ]
     },
     "metadata": {},
     "output_type": "display_data"
    },
    {
     "data": {
      "application/vnd.jupyter.widget-view+json": {
       "model_id": "",
       "version_major": 2,
       "version_minor": 0
      },
      "text/plain": [
       "HBox(children=(HTML(value=''), FloatProgress(value=0.0, max=64.0), HTML(value='')))"
      ]
     },
     "metadata": {},
     "output_type": "display_data"
    },
    {
     "data": {
      "application/vnd.jupyter.widget-view+json": {
       "model_id": "",
       "version_major": 2,
       "version_minor": 0
      },
      "text/plain": [
       "HBox(children=(HTML(value=''), FloatProgress(value=0.0, max=64.0), HTML(value='')))"
      ]
     },
     "metadata": {},
     "output_type": "display_data"
    },
    {
     "data": {
      "application/vnd.jupyter.widget-view+json": {
       "model_id": "",
       "version_major": 2,
       "version_minor": 0
      },
      "text/plain": [
       "HBox(children=(HTML(value=''), FloatProgress(value=0.0, max=64.0), HTML(value='')))"
      ]
     },
     "metadata": {},
     "output_type": "display_data"
    },
    {
     "data": {
      "application/vnd.jupyter.widget-view+json": {
       "model_id": "",
       "version_major": 2,
       "version_minor": 0
      },
      "text/plain": [
       "HBox(children=(HTML(value=''), FloatProgress(value=0.0, max=64.0), HTML(value='')))"
      ]
     },
     "metadata": {},
     "output_type": "display_data"
    },
    {
     "data": {
      "application/vnd.jupyter.widget-view+json": {
       "model_id": "",
       "version_major": 2,
       "version_minor": 0
      },
      "text/plain": [
       "HBox(children=(HTML(value=''), FloatProgress(value=0.0, max=64.0), HTML(value='')))"
      ]
     },
     "metadata": {},
     "output_type": "display_data"
    },
    {
     "data": {
      "application/vnd.jupyter.widget-view+json": {
       "model_id": "",
       "version_major": 2,
       "version_minor": 0
      },
      "text/plain": [
       "HBox(children=(HTML(value=''), FloatProgress(value=0.0, max=64.0), HTML(value='')))"
      ]
     },
     "metadata": {},
     "output_type": "display_data"
    },
    {
     "data": {
      "application/vnd.jupyter.widget-view+json": {
       "model_id": "",
       "version_major": 2,
       "version_minor": 0
      },
      "text/plain": [
       "HBox(children=(HTML(value=''), FloatProgress(value=0.0, max=64.0), HTML(value='')))"
      ]
     },
     "metadata": {},
     "output_type": "display_data"
    },
    {
     "data": {
      "application/vnd.jupyter.widget-view+json": {
       "model_id": "",
       "version_major": 2,
       "version_minor": 0
      },
      "text/plain": [
       "HBox(children=(HTML(value=''), FloatProgress(value=0.0, max=64.0), HTML(value='')))"
      ]
     },
     "metadata": {},
     "output_type": "display_data"
    },
    {
     "data": {
      "application/vnd.jupyter.widget-view+json": {
       "model_id": "",
       "version_major": 2,
       "version_minor": 0
      },
      "text/plain": [
       "HBox(children=(HTML(value=''), FloatProgress(value=0.0, max=64.0), HTML(value='')))"
      ]
     },
     "metadata": {},
     "output_type": "display_data"
    },
    {
     "data": {
      "application/vnd.jupyter.widget-view+json": {
       "model_id": "",
       "version_major": 2,
       "version_minor": 0
      },
      "text/plain": [
       "HBox(children=(HTML(value=''), FloatProgress(value=0.0, max=64.0), HTML(value='')))"
      ]
     },
     "metadata": {},
     "output_type": "display_data"
    },
    {
     "data": {
      "application/vnd.jupyter.widget-view+json": {
       "model_id": "",
       "version_major": 2,
       "version_minor": 0
      },
      "text/plain": [
       "HBox(children=(HTML(value=''), FloatProgress(value=0.0, max=64.0), HTML(value='')))"
      ]
     },
     "metadata": {},
     "output_type": "display_data"
    },
    {
     "data": {
      "application/vnd.jupyter.widget-view+json": {
       "model_id": "",
       "version_major": 2,
       "version_minor": 0
      },
      "text/plain": [
       "HBox(children=(HTML(value=''), FloatProgress(value=0.0, max=64.0), HTML(value='')))"
      ]
     },
     "metadata": {},
     "output_type": "display_data"
    },
    {
     "data": {
      "application/vnd.jupyter.widget-view+json": {
       "model_id": "",
       "version_major": 2,
       "version_minor": 0
      },
      "text/plain": [
       "HBox(children=(HTML(value=''), FloatProgress(value=0.0, max=64.0), HTML(value='')))"
      ]
     },
     "metadata": {},
     "output_type": "display_data"
    },
    {
     "data": {
      "application/vnd.jupyter.widget-view+json": {
       "model_id": "",
       "version_major": 2,
       "version_minor": 0
      },
      "text/plain": [
       "HBox(children=(HTML(value=''), FloatProgress(value=0.0, max=64.0), HTML(value='')))"
      ]
     },
     "metadata": {},
     "output_type": "display_data"
    },
    {
     "data": {
      "application/vnd.jupyter.widget-view+json": {
       "model_id": "",
       "version_major": 2,
       "version_minor": 0
      },
      "text/plain": [
       "HBox(children=(HTML(value=''), FloatProgress(value=0.0, max=64.0), HTML(value='')))"
      ]
     },
     "metadata": {},
     "output_type": "display_data"
    },
    {
     "data": {
      "application/vnd.jupyter.widget-view+json": {
       "model_id": "",
       "version_major": 2,
       "version_minor": 0
      },
      "text/plain": [
       "HBox(children=(HTML(value=''), FloatProgress(value=0.0, max=64.0), HTML(value='')))"
      ]
     },
     "metadata": {},
     "output_type": "display_data"
    },
    {
     "data": {
      "application/vnd.jupyter.widget-view+json": {
       "model_id": "",
       "version_major": 2,
       "version_minor": 0
      },
      "text/plain": [
       "HBox(children=(HTML(value=''), FloatProgress(value=0.0, max=64.0), HTML(value='')))"
      ]
     },
     "metadata": {},
     "output_type": "display_data"
    },
    {
     "data": {
      "application/vnd.jupyter.widget-view+json": {
       "model_id": "",
       "version_major": 2,
       "version_minor": 0
      },
      "text/plain": [
       "HBox(children=(HTML(value=''), FloatProgress(value=0.0, max=64.0), HTML(value='')))"
      ]
     },
     "metadata": {},
     "output_type": "display_data"
    },
    {
     "data": {
      "application/vnd.jupyter.widget-view+json": {
       "model_id": "",
       "version_major": 2,
       "version_minor": 0
      },
      "text/plain": [
       "HBox(children=(HTML(value=''), FloatProgress(value=0.0, max=64.0), HTML(value='')))"
      ]
     },
     "metadata": {},
     "output_type": "display_data"
    },
    {
     "data": {
      "application/vnd.jupyter.widget-view+json": {
       "model_id": "",
       "version_major": 2,
       "version_minor": 0
      },
      "text/plain": [
       "HBox(children=(HTML(value=''), FloatProgress(value=0.0, max=64.0), HTML(value='')))"
      ]
     },
     "metadata": {},
     "output_type": "display_data"
    },
    {
     "data": {
      "application/vnd.jupyter.widget-view+json": {
       "model_id": "",
       "version_major": 2,
       "version_minor": 0
      },
      "text/plain": [
       "HBox(children=(HTML(value=''), FloatProgress(value=0.0, max=64.0), HTML(value='')))"
      ]
     },
     "metadata": {},
     "output_type": "display_data"
    },
    {
     "data": {
      "application/vnd.jupyter.widget-view+json": {
       "model_id": "",
       "version_major": 2,
       "version_minor": 0
      },
      "text/plain": [
       "HBox(children=(HTML(value=''), FloatProgress(value=0.0, max=64.0), HTML(value='')))"
      ]
     },
     "metadata": {},
     "output_type": "display_data"
    },
    {
     "data": {
      "application/vnd.jupyter.widget-view+json": {
       "model_id": "",
       "version_major": 2,
       "version_minor": 0
      },
      "text/plain": [
       "HBox(children=(HTML(value=''), FloatProgress(value=0.0, max=64.0), HTML(value='')))"
      ]
     },
     "metadata": {},
     "output_type": "display_data"
    },
    {
     "data": {
      "application/vnd.jupyter.widget-view+json": {
       "model_id": "",
       "version_major": 2,
       "version_minor": 0
      },
      "text/plain": [
       "HBox(children=(HTML(value=''), FloatProgress(value=0.0, max=64.0), HTML(value='')))"
      ]
     },
     "metadata": {},
     "output_type": "display_data"
    },
    {
     "data": {
      "application/vnd.jupyter.widget-view+json": {
       "model_id": "",
       "version_major": 2,
       "version_minor": 0
      },
      "text/plain": [
       "HBox(children=(HTML(value=''), FloatProgress(value=0.0, max=64.0), HTML(value='')))"
      ]
     },
     "metadata": {},
     "output_type": "display_data"
    },
    {
     "data": {
      "application/vnd.jupyter.widget-view+json": {
       "model_id": "",
       "version_major": 2,
       "version_minor": 0
      },
      "text/plain": [
       "HBox(children=(HTML(value=''), FloatProgress(value=0.0, max=64.0), HTML(value='')))"
      ]
     },
     "metadata": {},
     "output_type": "display_data"
    },
    {
     "data": {
      "application/vnd.jupyter.widget-view+json": {
       "model_id": "",
       "version_major": 2,
       "version_minor": 0
      },
      "text/plain": [
       "HBox(children=(HTML(value=''), FloatProgress(value=0.0, max=64.0), HTML(value='')))"
      ]
     },
     "metadata": {},
     "output_type": "display_data"
    },
    {
     "data": {
      "application/vnd.jupyter.widget-view+json": {
       "model_id": "",
       "version_major": 2,
       "version_minor": 0
      },
      "text/plain": [
       "HBox(children=(HTML(value=''), FloatProgress(value=0.0, max=64.0), HTML(value='')))"
      ]
     },
     "metadata": {},
     "output_type": "display_data"
    },
    {
     "data": {
      "application/vnd.jupyter.widget-view+json": {
       "model_id": "",
       "version_major": 2,
       "version_minor": 0
      },
      "text/plain": [
       "HBox(children=(HTML(value=''), FloatProgress(value=0.0, max=64.0), HTML(value='')))"
      ]
     },
     "metadata": {},
     "output_type": "display_data"
    },
    {
     "data": {
      "application/vnd.jupyter.widget-view+json": {
       "model_id": "",
       "version_major": 2,
       "version_minor": 0
      },
      "text/plain": [
       "HBox(children=(HTML(value=''), FloatProgress(value=0.0, max=64.0), HTML(value='')))"
      ]
     },
     "metadata": {},
     "output_type": "display_data"
    },
    {
     "data": {
      "application/vnd.jupyter.widget-view+json": {
       "model_id": "",
       "version_major": 2,
       "version_minor": 0
      },
      "text/plain": [
       "HBox(children=(HTML(value=''), FloatProgress(value=0.0, max=64.0), HTML(value='')))"
      ]
     },
     "metadata": {},
     "output_type": "display_data"
    },
    {
     "data": {
      "application/vnd.jupyter.widget-view+json": {
       "model_id": "",
       "version_major": 2,
       "version_minor": 0
      },
      "text/plain": [
       "HBox(children=(HTML(value=''), FloatProgress(value=0.0, max=64.0), HTML(value='')))"
      ]
     },
     "metadata": {},
     "output_type": "display_data"
    },
    {
     "data": {
      "application/vnd.jupyter.widget-view+json": {
       "model_id": "",
       "version_major": 2,
       "version_minor": 0
      },
      "text/plain": [
       "HBox(children=(HTML(value=''), FloatProgress(value=0.0, max=64.0), HTML(value='')))"
      ]
     },
     "metadata": {},
     "output_type": "display_data"
    },
    {
     "data": {
      "application/vnd.jupyter.widget-view+json": {
       "model_id": "",
       "version_major": 2,
       "version_minor": 0
      },
      "text/plain": [
       "HBox(children=(HTML(value=''), FloatProgress(value=0.0, max=64.0), HTML(value='')))"
      ]
     },
     "metadata": {},
     "output_type": "display_data"
    },
    {
     "data": {
      "application/vnd.jupyter.widget-view+json": {
       "model_id": "",
       "version_major": 2,
       "version_minor": 0
      },
      "text/plain": [
       "HBox(children=(HTML(value=''), FloatProgress(value=0.0, max=64.0), HTML(value='')))"
      ]
     },
     "metadata": {},
     "output_type": "display_data"
    },
    {
     "data": {
      "application/vnd.jupyter.widget-view+json": {
       "model_id": "",
       "version_major": 2,
       "version_minor": 0
      },
      "text/plain": [
       "HBox(children=(HTML(value=''), FloatProgress(value=0.0, max=64.0), HTML(value='')))"
      ]
     },
     "metadata": {},
     "output_type": "display_data"
    },
    {
     "data": {
      "application/vnd.jupyter.widget-view+json": {
       "model_id": "",
       "version_major": 2,
       "version_minor": 0
      },
      "text/plain": [
       "HBox(children=(HTML(value=''), FloatProgress(value=0.0, max=64.0), HTML(value='')))"
      ]
     },
     "metadata": {},
     "output_type": "display_data"
    },
    {
     "data": {
      "application/vnd.jupyter.widget-view+json": {
       "model_id": "",
       "version_major": 2,
       "version_minor": 0
      },
      "text/plain": [
       "HBox(children=(HTML(value=''), FloatProgress(value=0.0, max=64.0), HTML(value='')))"
      ]
     },
     "metadata": {},
     "output_type": "display_data"
    },
    {
     "data": {
      "application/vnd.jupyter.widget-view+json": {
       "model_id": "",
       "version_major": 2,
       "version_minor": 0
      },
      "text/plain": [
       "HBox(children=(HTML(value=''), FloatProgress(value=0.0, max=64.0), HTML(value='')))"
      ]
     },
     "metadata": {},
     "output_type": "display_data"
    },
    {
     "data": {
      "application/vnd.jupyter.widget-view+json": {
       "model_id": "",
       "version_major": 2,
       "version_minor": 0
      },
      "text/plain": [
       "HBox(children=(HTML(value=''), FloatProgress(value=0.0, max=64.0), HTML(value='')))"
      ]
     },
     "metadata": {},
     "output_type": "display_data"
    },
    {
     "data": {
      "application/vnd.jupyter.widget-view+json": {
       "model_id": "",
       "version_major": 2,
       "version_minor": 0
      },
      "text/plain": [
       "HBox(children=(HTML(value=''), FloatProgress(value=0.0, max=64.0), HTML(value='')))"
      ]
     },
     "metadata": {},
     "output_type": "display_data"
    },
    {
     "data": {
      "application/vnd.jupyter.widget-view+json": {
       "model_id": "",
       "version_major": 2,
       "version_minor": 0
      },
      "text/plain": [
       "HBox(children=(HTML(value=''), FloatProgress(value=0.0, max=64.0), HTML(value='')))"
      ]
     },
     "metadata": {},
     "output_type": "display_data"
    },
    {
     "data": {
      "application/vnd.jupyter.widget-view+json": {
       "model_id": "",
       "version_major": 2,
       "version_minor": 0
      },
      "text/plain": [
       "HBox(children=(HTML(value=''), FloatProgress(value=0.0, max=64.0), HTML(value='')))"
      ]
     },
     "metadata": {},
     "output_type": "display_data"
    },
    {
     "data": {
      "application/vnd.jupyter.widget-view+json": {
       "model_id": "",
       "version_major": 2,
       "version_minor": 0
      },
      "text/plain": [
       "HBox(children=(HTML(value=''), FloatProgress(value=0.0, max=64.0), HTML(value='')))"
      ]
     },
     "metadata": {},
     "output_type": "display_data"
    },
    {
     "data": {
      "application/vnd.jupyter.widget-view+json": {
       "model_id": "",
       "version_major": 2,
       "version_minor": 0
      },
      "text/plain": [
       "HBox(children=(HTML(value=''), FloatProgress(value=0.0, max=64.0), HTML(value='')))"
      ]
     },
     "metadata": {},
     "output_type": "display_data"
    },
    {
     "data": {
      "application/vnd.jupyter.widget-view+json": {
       "model_id": "",
       "version_major": 2,
       "version_minor": 0
      },
      "text/plain": [
       "HBox(children=(HTML(value=''), FloatProgress(value=0.0, max=64.0), HTML(value='')))"
      ]
     },
     "metadata": {},
     "output_type": "display_data"
    },
    {
     "data": {
      "application/vnd.jupyter.widget-view+json": {
       "model_id": "",
       "version_major": 2,
       "version_minor": 0
      },
      "text/plain": [
       "HBox(children=(HTML(value=''), FloatProgress(value=0.0, max=64.0), HTML(value='')))"
      ]
     },
     "metadata": {},
     "output_type": "display_data"
    },
    {
     "data": {
      "application/vnd.jupyter.widget-view+json": {
       "model_id": "",
       "version_major": 2,
       "version_minor": 0
      },
      "text/plain": [
       "HBox(children=(HTML(value=''), FloatProgress(value=0.0, max=64.0), HTML(value='')))"
      ]
     },
     "metadata": {},
     "output_type": "display_data"
    },
    {
     "data": {
      "application/vnd.jupyter.widget-view+json": {
       "model_id": "",
       "version_major": 2,
       "version_minor": 0
      },
      "text/plain": [
       "HBox(children=(HTML(value=''), FloatProgress(value=0.0, max=64.0), HTML(value='')))"
      ]
     },
     "metadata": {},
     "output_type": "display_data"
    },
    {
     "data": {
      "application/vnd.jupyter.widget-view+json": {
       "model_id": "",
       "version_major": 2,
       "version_minor": 0
      },
      "text/plain": [
       "HBox(children=(HTML(value=''), FloatProgress(value=0.0, max=64.0), HTML(value='')))"
      ]
     },
     "metadata": {},
     "output_type": "display_data"
    },
    {
     "data": {
      "application/vnd.jupyter.widget-view+json": {
       "model_id": "",
       "version_major": 2,
       "version_minor": 0
      },
      "text/plain": [
       "HBox(children=(HTML(value=''), FloatProgress(value=0.0, max=64.0), HTML(value='')))"
      ]
     },
     "metadata": {},
     "output_type": "display_data"
    },
    {
     "data": {
      "application/vnd.jupyter.widget-view+json": {
       "model_id": "",
       "version_major": 2,
       "version_minor": 0
      },
      "text/plain": [
       "HBox(children=(HTML(value=''), FloatProgress(value=0.0, max=64.0), HTML(value='')))"
      ]
     },
     "metadata": {},
     "output_type": "display_data"
    },
    {
     "data": {
      "application/vnd.jupyter.widget-view+json": {
       "model_id": "",
       "version_major": 2,
       "version_minor": 0
      },
      "text/plain": [
       "HBox(children=(HTML(value=''), FloatProgress(value=0.0, max=64.0), HTML(value='')))"
      ]
     },
     "metadata": {},
     "output_type": "display_data"
    },
    {
     "data": {
      "application/vnd.jupyter.widget-view+json": {
       "model_id": "",
       "version_major": 2,
       "version_minor": 0
      },
      "text/plain": [
       "HBox(children=(HTML(value=''), FloatProgress(value=0.0, max=64.0), HTML(value='')))"
      ]
     },
     "metadata": {},
     "output_type": "display_data"
    },
    {
     "data": {
      "application/vnd.jupyter.widget-view+json": {
       "model_id": "",
       "version_major": 2,
       "version_minor": 0
      },
      "text/plain": [
       "HBox(children=(HTML(value=''), FloatProgress(value=0.0, max=64.0), HTML(value='')))"
      ]
     },
     "metadata": {},
     "output_type": "display_data"
    },
    {
     "data": {
      "application/vnd.jupyter.widget-view+json": {
       "model_id": "",
       "version_major": 2,
       "version_minor": 0
      },
      "text/plain": [
       "HBox(children=(HTML(value=''), FloatProgress(value=0.0, max=64.0), HTML(value='')))"
      ]
     },
     "metadata": {},
     "output_type": "display_data"
    },
    {
     "data": {
      "application/vnd.jupyter.widget-view+json": {
       "model_id": "",
       "version_major": 2,
       "version_minor": 0
      },
      "text/plain": [
       "HBox(children=(HTML(value=''), FloatProgress(value=0.0, max=64.0), HTML(value='')))"
      ]
     },
     "metadata": {},
     "output_type": "display_data"
    },
    {
     "data": {
      "application/vnd.jupyter.widget-view+json": {
       "model_id": "",
       "version_major": 2,
       "version_minor": 0
      },
      "text/plain": [
       "HBox(children=(HTML(value=''), FloatProgress(value=0.0, max=64.0), HTML(value='')))"
      ]
     },
     "metadata": {},
     "output_type": "display_data"
    },
    {
     "data": {
      "application/vnd.jupyter.widget-view+json": {
       "model_id": "",
       "version_major": 2,
       "version_minor": 0
      },
      "text/plain": [
       "HBox(children=(HTML(value=''), FloatProgress(value=0.0, max=64.0), HTML(value='')))"
      ]
     },
     "metadata": {},
     "output_type": "display_data"
    },
    {
     "data": {
      "application/vnd.jupyter.widget-view+json": {
       "model_id": "",
       "version_major": 2,
       "version_minor": 0
      },
      "text/plain": [
       "HBox(children=(HTML(value=''), FloatProgress(value=0.0, max=64.0), HTML(value='')))"
      ]
     },
     "metadata": {},
     "output_type": "display_data"
    },
    {
     "data": {
      "application/vnd.jupyter.widget-view+json": {
       "model_id": "",
       "version_major": 2,
       "version_minor": 0
      },
      "text/plain": [
       "HBox(children=(HTML(value=''), FloatProgress(value=0.0, max=64.0), HTML(value='')))"
      ]
     },
     "metadata": {},
     "output_type": "display_data"
    },
    {
     "data": {
      "application/vnd.jupyter.widget-view+json": {
       "model_id": "",
       "version_major": 2,
       "version_minor": 0
      },
      "text/plain": [
       "HBox(children=(HTML(value=''), FloatProgress(value=0.0, max=64.0), HTML(value='')))"
      ]
     },
     "metadata": {},
     "output_type": "display_data"
    },
    {
     "data": {
      "application/vnd.jupyter.widget-view+json": {
       "model_id": "",
       "version_major": 2,
       "version_minor": 0
      },
      "text/plain": [
       "HBox(children=(HTML(value=''), FloatProgress(value=0.0, max=64.0), HTML(value='')))"
      ]
     },
     "metadata": {},
     "output_type": "display_data"
    },
    {
     "data": {
      "application/vnd.jupyter.widget-view+json": {
       "model_id": "",
       "version_major": 2,
       "version_minor": 0
      },
      "text/plain": [
       "HBox(children=(HTML(value=''), FloatProgress(value=0.0, max=64.0), HTML(value='')))"
      ]
     },
     "metadata": {},
     "output_type": "display_data"
    },
    {
     "data": {
      "application/vnd.jupyter.widget-view+json": {
       "model_id": "",
       "version_major": 2,
       "version_minor": 0
      },
      "text/plain": [
       "HBox(children=(HTML(value=''), FloatProgress(value=0.0, max=64.0), HTML(value='')))"
      ]
     },
     "metadata": {},
     "output_type": "display_data"
    },
    {
     "data": {
      "application/vnd.jupyter.widget-view+json": {
       "model_id": "",
       "version_major": 2,
       "version_minor": 0
      },
      "text/plain": [
       "HBox(children=(HTML(value=''), FloatProgress(value=0.0, max=64.0), HTML(value='')))"
      ]
     },
     "metadata": {},
     "output_type": "display_data"
    },
    {
     "data": {
      "application/vnd.jupyter.widget-view+json": {
       "model_id": "",
       "version_major": 2,
       "version_minor": 0
      },
      "text/plain": [
       "HBox(children=(HTML(value=''), FloatProgress(value=0.0, max=64.0), HTML(value='')))"
      ]
     },
     "metadata": {},
     "output_type": "display_data"
    },
    {
     "data": {
      "application/vnd.jupyter.widget-view+json": {
       "model_id": "",
       "version_major": 2,
       "version_minor": 0
      },
      "text/plain": [
       "HBox(children=(HTML(value=''), FloatProgress(value=0.0, max=64.0), HTML(value='')))"
      ]
     },
     "metadata": {},
     "output_type": "display_data"
    },
    {
     "data": {
      "application/vnd.jupyter.widget-view+json": {
       "model_id": "",
       "version_major": 2,
       "version_minor": 0
      },
      "text/plain": [
       "HBox(children=(HTML(value=''), FloatProgress(value=0.0, max=64.0), HTML(value='')))"
      ]
     },
     "metadata": {},
     "output_type": "display_data"
    },
    {
     "data": {
      "application/vnd.jupyter.widget-view+json": {
       "model_id": "",
       "version_major": 2,
       "version_minor": 0
      },
      "text/plain": [
       "HBox(children=(HTML(value=''), FloatProgress(value=0.0, max=64.0), HTML(value='')))"
      ]
     },
     "metadata": {},
     "output_type": "display_data"
    },
    {
     "data": {
      "application/vnd.jupyter.widget-view+json": {
       "model_id": "",
       "version_major": 2,
       "version_minor": 0
      },
      "text/plain": [
       "HBox(children=(HTML(value=''), FloatProgress(value=0.0, max=64.0), HTML(value='')))"
      ]
     },
     "metadata": {},
     "output_type": "display_data"
    },
    {
     "data": {
      "application/vnd.jupyter.widget-view+json": {
       "model_id": "",
       "version_major": 2,
       "version_minor": 0
      },
      "text/plain": [
       "HBox(children=(HTML(value=''), FloatProgress(value=0.0, max=64.0), HTML(value='')))"
      ]
     },
     "metadata": {},
     "output_type": "display_data"
    },
    {
     "data": {
      "application/vnd.jupyter.widget-view+json": {
       "model_id": "",
       "version_major": 2,
       "version_minor": 0
      },
      "text/plain": [
       "HBox(children=(HTML(value=''), FloatProgress(value=0.0, max=64.0), HTML(value='')))"
      ]
     },
     "metadata": {},
     "output_type": "display_data"
    },
    {
     "data": {
      "application/vnd.jupyter.widget-view+json": {
       "model_id": "",
       "version_major": 2,
       "version_minor": 0
      },
      "text/plain": [
       "HBox(children=(HTML(value=''), FloatProgress(value=0.0, max=64.0), HTML(value='')))"
      ]
     },
     "metadata": {},
     "output_type": "display_data"
    },
    {
     "data": {
      "application/vnd.jupyter.widget-view+json": {
       "model_id": "",
       "version_major": 2,
       "version_minor": 0
      },
      "text/plain": [
       "HBox(children=(HTML(value=''), FloatProgress(value=0.0, max=64.0), HTML(value='')))"
      ]
     },
     "metadata": {},
     "output_type": "display_data"
    },
    {
     "data": {
      "application/vnd.jupyter.widget-view+json": {
       "model_id": "",
       "version_major": 2,
       "version_minor": 0
      },
      "text/plain": [
       "HBox(children=(HTML(value=''), FloatProgress(value=0.0, max=64.0), HTML(value='')))"
      ]
     },
     "metadata": {},
     "output_type": "display_data"
    },
    {
     "data": {
      "application/vnd.jupyter.widget-view+json": {
       "model_id": "",
       "version_major": 2,
       "version_minor": 0
      },
      "text/plain": [
       "HBox(children=(HTML(value=''), FloatProgress(value=0.0, max=64.0), HTML(value='')))"
      ]
     },
     "metadata": {},
     "output_type": "display_data"
    },
    {
     "data": {
      "application/vnd.jupyter.widget-view+json": {
       "model_id": "",
       "version_major": 2,
       "version_minor": 0
      },
      "text/plain": [
       "HBox(children=(HTML(value=''), FloatProgress(value=0.0, max=64.0), HTML(value='')))"
      ]
     },
     "metadata": {},
     "output_type": "display_data"
    },
    {
     "data": {
      "application/vnd.jupyter.widget-view+json": {
       "model_id": "",
       "version_major": 2,
       "version_minor": 0
      },
      "text/plain": [
       "HBox(children=(HTML(value=''), FloatProgress(value=0.0, max=64.0), HTML(value='')))"
      ]
     },
     "metadata": {},
     "output_type": "display_data"
    },
    {
     "data": {
      "application/vnd.jupyter.widget-view+json": {
       "model_id": "",
       "version_major": 2,
       "version_minor": 0
      },
      "text/plain": [
       "HBox(children=(HTML(value=''), FloatProgress(value=0.0, max=64.0), HTML(value='')))"
      ]
     },
     "metadata": {},
     "output_type": "display_data"
    },
    {
     "data": {
      "application/vnd.jupyter.widget-view+json": {
       "model_id": "",
       "version_major": 2,
       "version_minor": 0
      },
      "text/plain": [
       "HBox(children=(HTML(value=''), FloatProgress(value=0.0, max=64.0), HTML(value='')))"
      ]
     },
     "metadata": {},
     "output_type": "display_data"
    },
    {
     "data": {
      "application/vnd.jupyter.widget-view+json": {
       "model_id": "",
       "version_major": 2,
       "version_minor": 0
      },
      "text/plain": [
       "HBox(children=(HTML(value=''), FloatProgress(value=0.0, max=64.0), HTML(value='')))"
      ]
     },
     "metadata": {},
     "output_type": "display_data"
    },
    {
     "data": {
      "application/vnd.jupyter.widget-view+json": {
       "model_id": "",
       "version_major": 2,
       "version_minor": 0
      },
      "text/plain": [
       "HBox(children=(HTML(value=''), FloatProgress(value=0.0, max=64.0), HTML(value='')))"
      ]
     },
     "metadata": {},
     "output_type": "display_data"
    },
    {
     "data": {
      "application/vnd.jupyter.widget-view+json": {
       "model_id": "",
       "version_major": 2,
       "version_minor": 0
      },
      "text/plain": [
       "HBox(children=(HTML(value=''), FloatProgress(value=0.0, max=64.0), HTML(value='')))"
      ]
     },
     "metadata": {},
     "output_type": "display_data"
    },
    {
     "data": {
      "application/vnd.jupyter.widget-view+json": {
       "model_id": "",
       "version_major": 2,
       "version_minor": 0
      },
      "text/plain": [
       "HBox(children=(HTML(value=''), FloatProgress(value=0.0, max=64.0), HTML(value='')))"
      ]
     },
     "metadata": {},
     "output_type": "display_data"
    },
    {
     "data": {
      "application/vnd.jupyter.widget-view+json": {
       "model_id": "",
       "version_major": 2,
       "version_minor": 0
      },
      "text/plain": [
       "HBox(children=(HTML(value=''), FloatProgress(value=0.0, max=64.0), HTML(value='')))"
      ]
     },
     "metadata": {},
     "output_type": "display_data"
    },
    {
     "data": {
      "application/vnd.jupyter.widget-view+json": {
       "model_id": "",
       "version_major": 2,
       "version_minor": 0
      },
      "text/plain": [
       "HBox(children=(HTML(value=''), FloatProgress(value=0.0, max=64.0), HTML(value='')))"
      ]
     },
     "metadata": {},
     "output_type": "display_data"
    },
    {
     "data": {
      "application/vnd.jupyter.widget-view+json": {
       "model_id": "",
       "version_major": 2,
       "version_minor": 0
      },
      "text/plain": [
       "HBox(children=(HTML(value=''), FloatProgress(value=0.0, max=64.0), HTML(value='')))"
      ]
     },
     "metadata": {},
     "output_type": "display_data"
    },
    {
     "data": {
      "application/vnd.jupyter.widget-view+json": {
       "model_id": "",
       "version_major": 2,
       "version_minor": 0
      },
      "text/plain": [
       "HBox(children=(HTML(value=''), FloatProgress(value=0.0, max=64.0), HTML(value='')))"
      ]
     },
     "metadata": {},
     "output_type": "display_data"
    },
    {
     "data": {
      "application/vnd.jupyter.widget-view+json": {
       "model_id": "",
       "version_major": 2,
       "version_minor": 0
      },
      "text/plain": [
       "HBox(children=(HTML(value=''), FloatProgress(value=0.0, max=64.0), HTML(value='')))"
      ]
     },
     "metadata": {},
     "output_type": "display_data"
    },
    {
     "data": {
      "application/vnd.jupyter.widget-view+json": {
       "model_id": "",
       "version_major": 2,
       "version_minor": 0
      },
      "text/plain": [
       "HBox(children=(HTML(value=''), FloatProgress(value=0.0, max=64.0), HTML(value='')))"
      ]
     },
     "metadata": {},
     "output_type": "display_data"
    },
    {
     "data": {
      "application/vnd.jupyter.widget-view+json": {
       "model_id": "",
       "version_major": 2,
       "version_minor": 0
      },
      "text/plain": [
       "HBox(children=(HTML(value=''), FloatProgress(value=0.0, max=64.0), HTML(value='')))"
      ]
     },
     "metadata": {},
     "output_type": "display_data"
    },
    {
     "data": {
      "application/vnd.jupyter.widget-view+json": {
       "model_id": "",
       "version_major": 2,
       "version_minor": 0
      },
      "text/plain": [
       "HBox(children=(HTML(value=''), FloatProgress(value=0.0, max=64.0), HTML(value='')))"
      ]
     },
     "metadata": {},
     "output_type": "display_data"
    },
    {
     "data": {
      "application/vnd.jupyter.widget-view+json": {
       "model_id": "",
       "version_major": 2,
       "version_minor": 0
      },
      "text/plain": [
       "HBox(children=(HTML(value=''), FloatProgress(value=0.0, max=64.0), HTML(value='')))"
      ]
     },
     "metadata": {},
     "output_type": "display_data"
    },
    {
     "data": {
      "application/vnd.jupyter.widget-view+json": {
       "model_id": "",
       "version_major": 2,
       "version_minor": 0
      },
      "text/plain": [
       "HBox(children=(HTML(value=''), FloatProgress(value=0.0, max=64.0), HTML(value='')))"
      ]
     },
     "metadata": {},
     "output_type": "display_data"
    },
    {
     "data": {
      "application/vnd.jupyter.widget-view+json": {
       "model_id": "",
       "version_major": 2,
       "version_minor": 0
      },
      "text/plain": [
       "HBox(children=(HTML(value=''), FloatProgress(value=0.0, max=64.0), HTML(value='')))"
      ]
     },
     "metadata": {},
     "output_type": "display_data"
    },
    {
     "data": {
      "application/vnd.jupyter.widget-view+json": {
       "model_id": "",
       "version_major": 2,
       "version_minor": 0
      },
      "text/plain": [
       "HBox(children=(HTML(value=''), FloatProgress(value=0.0, max=64.0), HTML(value='')))"
      ]
     },
     "metadata": {},
     "output_type": "display_data"
    },
    {
     "data": {
      "application/vnd.jupyter.widget-view+json": {
       "model_id": "",
       "version_major": 2,
       "version_minor": 0
      },
      "text/plain": [
       "HBox(children=(HTML(value=''), FloatProgress(value=0.0, max=64.0), HTML(value='')))"
      ]
     },
     "metadata": {},
     "output_type": "display_data"
    },
    {
     "data": {
      "application/vnd.jupyter.widget-view+json": {
       "model_id": "",
       "version_major": 2,
       "version_minor": 0
      },
      "text/plain": [
       "HBox(children=(HTML(value=''), FloatProgress(value=0.0, max=64.0), HTML(value='')))"
      ]
     },
     "metadata": {},
     "output_type": "display_data"
    },
    {
     "data": {
      "application/vnd.jupyter.widget-view+json": {
       "model_id": "",
       "version_major": 2,
       "version_minor": 0
      },
      "text/plain": [
       "HBox(children=(HTML(value=''), FloatProgress(value=0.0, max=64.0), HTML(value='')))"
      ]
     },
     "metadata": {},
     "output_type": "display_data"
    },
    {
     "data": {
      "application/vnd.jupyter.widget-view+json": {
       "model_id": "",
       "version_major": 2,
       "version_minor": 0
      },
      "text/plain": [
       "HBox(children=(HTML(value=''), FloatProgress(value=0.0, max=64.0), HTML(value='')))"
      ]
     },
     "metadata": {},
     "output_type": "display_data"
    },
    {
     "data": {
      "application/vnd.jupyter.widget-view+json": {
       "model_id": "",
       "version_major": 2,
       "version_minor": 0
      },
      "text/plain": [
       "HBox(children=(HTML(value=''), FloatProgress(value=0.0, max=64.0), HTML(value='')))"
      ]
     },
     "metadata": {},
     "output_type": "display_data"
    },
    {
     "data": {
      "application/vnd.jupyter.widget-view+json": {
       "model_id": "",
       "version_major": 2,
       "version_minor": 0
      },
      "text/plain": [
       "HBox(children=(HTML(value=''), FloatProgress(value=0.0, max=64.0), HTML(value='')))"
      ]
     },
     "metadata": {},
     "output_type": "display_data"
    },
    {
     "data": {
      "application/vnd.jupyter.widget-view+json": {
       "model_id": "",
       "version_major": 2,
       "version_minor": 0
      },
      "text/plain": [
       "HBox(children=(HTML(value=''), FloatProgress(value=0.0, max=64.0), HTML(value='')))"
      ]
     },
     "metadata": {},
     "output_type": "display_data"
    },
    {
     "data": {
      "application/vnd.jupyter.widget-view+json": {
       "model_id": "",
       "version_major": 2,
       "version_minor": 0
      },
      "text/plain": [
       "HBox(children=(HTML(value=''), FloatProgress(value=0.0, max=64.0), HTML(value='')))"
      ]
     },
     "metadata": {},
     "output_type": "display_data"
    },
    {
     "data": {
      "application/vnd.jupyter.widget-view+json": {
       "model_id": "",
       "version_major": 2,
       "version_minor": 0
      },
      "text/plain": [
       "HBox(children=(HTML(value=''), FloatProgress(value=0.0, max=64.0), HTML(value='')))"
      ]
     },
     "metadata": {},
     "output_type": "display_data"
    },
    {
     "data": {
      "application/vnd.jupyter.widget-view+json": {
       "model_id": "",
       "version_major": 2,
       "version_minor": 0
      },
      "text/plain": [
       "HBox(children=(HTML(value=''), FloatProgress(value=0.0, max=64.0), HTML(value='')))"
      ]
     },
     "metadata": {},
     "output_type": "display_data"
    },
    {
     "data": {
      "application/vnd.jupyter.widget-view+json": {
       "model_id": "",
       "version_major": 2,
       "version_minor": 0
      },
      "text/plain": [
       "HBox(children=(HTML(value=''), FloatProgress(value=0.0, max=64.0), HTML(value='')))"
      ]
     },
     "metadata": {},
     "output_type": "display_data"
    },
    {
     "data": {
      "application/vnd.jupyter.widget-view+json": {
       "model_id": "",
       "version_major": 2,
       "version_minor": 0
      },
      "text/plain": [
       "HBox(children=(HTML(value=''), FloatProgress(value=0.0, max=64.0), HTML(value='')))"
      ]
     },
     "metadata": {},
     "output_type": "display_data"
    },
    {
     "data": {
      "application/vnd.jupyter.widget-view+json": {
       "model_id": "",
       "version_major": 2,
       "version_minor": 0
      },
      "text/plain": [
       "HBox(children=(HTML(value=''), FloatProgress(value=0.0, max=64.0), HTML(value='')))"
      ]
     },
     "metadata": {},
     "output_type": "display_data"
    },
    {
     "data": {
      "application/vnd.jupyter.widget-view+json": {
       "model_id": "",
       "version_major": 2,
       "version_minor": 0
      },
      "text/plain": [
       "HBox(children=(HTML(value=''), FloatProgress(value=0.0, max=64.0), HTML(value='')))"
      ]
     },
     "metadata": {},
     "output_type": "display_data"
    },
    {
     "data": {
      "application/vnd.jupyter.widget-view+json": {
       "model_id": "",
       "version_major": 2,
       "version_minor": 0
      },
      "text/plain": [
       "HBox(children=(HTML(value=''), FloatProgress(value=0.0, max=64.0), HTML(value='')))"
      ]
     },
     "metadata": {},
     "output_type": "display_data"
    },
    {
     "data": {
      "application/vnd.jupyter.widget-view+json": {
       "model_id": "",
       "version_major": 2,
       "version_minor": 0
      },
      "text/plain": [
       "HBox(children=(HTML(value=''), FloatProgress(value=0.0, max=64.0), HTML(value='')))"
      ]
     },
     "metadata": {},
     "output_type": "display_data"
    },
    {
     "data": {
      "application/vnd.jupyter.widget-view+json": {
       "model_id": "",
       "version_major": 2,
       "version_minor": 0
      },
      "text/plain": [
       "HBox(children=(HTML(value=''), FloatProgress(value=0.0, max=64.0), HTML(value='')))"
      ]
     },
     "metadata": {},
     "output_type": "display_data"
    },
    {
     "data": {
      "application/vnd.jupyter.widget-view+json": {
       "model_id": "",
       "version_major": 2,
       "version_minor": 0
      },
      "text/plain": [
       "HBox(children=(HTML(value=''), FloatProgress(value=0.0, max=64.0), HTML(value='')))"
      ]
     },
     "metadata": {},
     "output_type": "display_data"
    },
    {
     "data": {
      "application/vnd.jupyter.widget-view+json": {
       "model_id": "",
       "version_major": 2,
       "version_minor": 0
      },
      "text/plain": [
       "HBox(children=(HTML(value=''), FloatProgress(value=0.0, max=64.0), HTML(value='')))"
      ]
     },
     "metadata": {},
     "output_type": "display_data"
    },
    {
     "data": {
      "application/vnd.jupyter.widget-view+json": {
       "model_id": "",
       "version_major": 2,
       "version_minor": 0
      },
      "text/plain": [
       "HBox(children=(HTML(value=''), FloatProgress(value=0.0, max=64.0), HTML(value='')))"
      ]
     },
     "metadata": {},
     "output_type": "display_data"
    },
    {
     "data": {
      "application/vnd.jupyter.widget-view+json": {
       "model_id": "",
       "version_major": 2,
       "version_minor": 0
      },
      "text/plain": [
       "HBox(children=(HTML(value=''), FloatProgress(value=0.0, max=64.0), HTML(value='')))"
      ]
     },
     "metadata": {},
     "output_type": "display_data"
    },
    {
     "data": {
      "application/vnd.jupyter.widget-view+json": {
       "model_id": "",
       "version_major": 2,
       "version_minor": 0
      },
      "text/plain": [
       "HBox(children=(HTML(value=''), FloatProgress(value=0.0, max=64.0), HTML(value='')))"
      ]
     },
     "metadata": {},
     "output_type": "display_data"
    },
    {
     "data": {
      "application/vnd.jupyter.widget-view+json": {
       "model_id": "",
       "version_major": 2,
       "version_minor": 0
      },
      "text/plain": [
       "HBox(children=(HTML(value=''), FloatProgress(value=0.0, max=64.0), HTML(value='')))"
      ]
     },
     "metadata": {},
     "output_type": "display_data"
    },
    {
     "data": {
      "application/vnd.jupyter.widget-view+json": {
       "model_id": "",
       "version_major": 2,
       "version_minor": 0
      },
      "text/plain": [
       "HBox(children=(HTML(value=''), FloatProgress(value=0.0, max=64.0), HTML(value='')))"
      ]
     },
     "metadata": {},
     "output_type": "display_data"
    },
    {
     "data": {
      "application/vnd.jupyter.widget-view+json": {
       "model_id": "",
       "version_major": 2,
       "version_minor": 0
      },
      "text/plain": [
       "HBox(children=(HTML(value=''), FloatProgress(value=0.0, max=64.0), HTML(value='')))"
      ]
     },
     "metadata": {},
     "output_type": "display_data"
    },
    {
     "data": {
      "application/vnd.jupyter.widget-view+json": {
       "model_id": "",
       "version_major": 2,
       "version_minor": 0
      },
      "text/plain": [
       "HBox(children=(HTML(value=''), FloatProgress(value=0.0, max=64.0), HTML(value='')))"
      ]
     },
     "metadata": {},
     "output_type": "display_data"
    },
    {
     "data": {
      "application/vnd.jupyter.widget-view+json": {
       "model_id": "",
       "version_major": 2,
       "version_minor": 0
      },
      "text/plain": [
       "HBox(children=(HTML(value=''), FloatProgress(value=0.0, max=64.0), HTML(value='')))"
      ]
     },
     "metadata": {},
     "output_type": "display_data"
    },
    {
     "data": {
      "application/vnd.jupyter.widget-view+json": {
       "model_id": "",
       "version_major": 2,
       "version_minor": 0
      },
      "text/plain": [
       "HBox(children=(HTML(value=''), FloatProgress(value=0.0, max=64.0), HTML(value='')))"
      ]
     },
     "metadata": {},
     "output_type": "display_data"
    },
    {
     "data": {
      "application/vnd.jupyter.widget-view+json": {
       "model_id": "",
       "version_major": 2,
       "version_minor": 0
      },
      "text/plain": [
       "HBox(children=(HTML(value=''), FloatProgress(value=0.0, max=64.0), HTML(value='')))"
      ]
     },
     "metadata": {},
     "output_type": "display_data"
    },
    {
     "data": {
      "application/vnd.jupyter.widget-view+json": {
       "model_id": "",
       "version_major": 2,
       "version_minor": 0
      },
      "text/plain": [
       "HBox(children=(HTML(value=''), FloatProgress(value=0.0, max=64.0), HTML(value='')))"
      ]
     },
     "metadata": {},
     "output_type": "display_data"
    },
    {
     "data": {
      "application/vnd.jupyter.widget-view+json": {
       "model_id": "",
       "version_major": 2,
       "version_minor": 0
      },
      "text/plain": [
       "HBox(children=(HTML(value=''), FloatProgress(value=0.0, max=64.0), HTML(value='')))"
      ]
     },
     "metadata": {},
     "output_type": "display_data"
    },
    {
     "data": {
      "application/vnd.jupyter.widget-view+json": {
       "model_id": "",
       "version_major": 2,
       "version_minor": 0
      },
      "text/plain": [
       "HBox(children=(HTML(value=''), FloatProgress(value=0.0, max=64.0), HTML(value='')))"
      ]
     },
     "metadata": {},
     "output_type": "display_data"
    },
    {
     "data": {
      "application/vnd.jupyter.widget-view+json": {
       "model_id": "",
       "version_major": 2,
       "version_minor": 0
      },
      "text/plain": [
       "HBox(children=(HTML(value=''), FloatProgress(value=0.0, max=64.0), HTML(value='')))"
      ]
     },
     "metadata": {},
     "output_type": "display_data"
    },
    {
     "data": {
      "application/vnd.jupyter.widget-view+json": {
       "model_id": "",
       "version_major": 2,
       "version_minor": 0
      },
      "text/plain": [
       "HBox(children=(HTML(value=''), FloatProgress(value=0.0, max=64.0), HTML(value='')))"
      ]
     },
     "metadata": {},
     "output_type": "display_data"
    },
    {
     "data": {
      "application/vnd.jupyter.widget-view+json": {
       "model_id": "",
       "version_major": 2,
       "version_minor": 0
      },
      "text/plain": [
       "HBox(children=(HTML(value=''), FloatProgress(value=0.0, max=64.0), HTML(value='')))"
      ]
     },
     "metadata": {},
     "output_type": "display_data"
    },
    {
     "data": {
      "application/vnd.jupyter.widget-view+json": {
       "model_id": "",
       "version_major": 2,
       "version_minor": 0
      },
      "text/plain": [
       "HBox(children=(HTML(value=''), FloatProgress(value=0.0, max=64.0), HTML(value='')))"
      ]
     },
     "metadata": {},
     "output_type": "display_data"
    },
    {
     "data": {
      "application/vnd.jupyter.widget-view+json": {
       "model_id": "",
       "version_major": 2,
       "version_minor": 0
      },
      "text/plain": [
       "HBox(children=(HTML(value=''), FloatProgress(value=0.0, max=64.0), HTML(value='')))"
      ]
     },
     "metadata": {},
     "output_type": "display_data"
    },
    {
     "data": {
      "application/vnd.jupyter.widget-view+json": {
       "model_id": "",
       "version_major": 2,
       "version_minor": 0
      },
      "text/plain": [
       "HBox(children=(HTML(value=''), FloatProgress(value=0.0, max=64.0), HTML(value='')))"
      ]
     },
     "metadata": {},
     "output_type": "display_data"
    },
    {
     "data": {
      "application/vnd.jupyter.widget-view+json": {
       "model_id": "",
       "version_major": 2,
       "version_minor": 0
      },
      "text/plain": [
       "HBox(children=(HTML(value=''), FloatProgress(value=0.0, max=64.0), HTML(value='')))"
      ]
     },
     "metadata": {},
     "output_type": "display_data"
    },
    {
     "data": {
      "application/vnd.jupyter.widget-view+json": {
       "model_id": "",
       "version_major": 2,
       "version_minor": 0
      },
      "text/plain": [
       "HBox(children=(HTML(value=''), FloatProgress(value=0.0, max=64.0), HTML(value='')))"
      ]
     },
     "metadata": {},
     "output_type": "display_data"
    },
    {
     "data": {
      "application/vnd.jupyter.widget-view+json": {
       "model_id": "",
       "version_major": 2,
       "version_minor": 0
      },
      "text/plain": [
       "HBox(children=(HTML(value=''), FloatProgress(value=0.0, max=64.0), HTML(value='')))"
      ]
     },
     "metadata": {},
     "output_type": "display_data"
    },
    {
     "data": {
      "application/vnd.jupyter.widget-view+json": {
       "model_id": "",
       "version_major": 2,
       "version_minor": 0
      },
      "text/plain": [
       "HBox(children=(HTML(value=''), FloatProgress(value=0.0, max=64.0), HTML(value='')))"
      ]
     },
     "metadata": {},
     "output_type": "display_data"
    },
    {
     "data": {
      "application/vnd.jupyter.widget-view+json": {
       "model_id": "",
       "version_major": 2,
       "version_minor": 0
      },
      "text/plain": [
       "HBox(children=(HTML(value=''), FloatProgress(value=0.0, max=64.0), HTML(value='')))"
      ]
     },
     "metadata": {},
     "output_type": "display_data"
    },
    {
     "data": {
      "application/vnd.jupyter.widget-view+json": {
       "model_id": "",
       "version_major": 2,
       "version_minor": 0
      },
      "text/plain": [
       "HBox(children=(HTML(value=''), FloatProgress(value=0.0, max=64.0), HTML(value='')))"
      ]
     },
     "metadata": {},
     "output_type": "display_data"
    },
    {
     "data": {
      "application/vnd.jupyter.widget-view+json": {
       "model_id": "",
       "version_major": 2,
       "version_minor": 0
      },
      "text/plain": [
       "HBox(children=(HTML(value=''), FloatProgress(value=0.0, max=64.0), HTML(value='')))"
      ]
     },
     "metadata": {},
     "output_type": "display_data"
    },
    {
     "data": {
      "application/vnd.jupyter.widget-view+json": {
       "model_id": "",
       "version_major": 2,
       "version_minor": 0
      },
      "text/plain": [
       "HBox(children=(HTML(value=''), FloatProgress(value=0.0, max=64.0), HTML(value='')))"
      ]
     },
     "metadata": {},
     "output_type": "display_data"
    },
    {
     "data": {
      "application/vnd.jupyter.widget-view+json": {
       "model_id": "",
       "version_major": 2,
       "version_minor": 0
      },
      "text/plain": [
       "HBox(children=(HTML(value=''), FloatProgress(value=0.0, max=64.0), HTML(value='')))"
      ]
     },
     "metadata": {},
     "output_type": "display_data"
    },
    {
     "data": {
      "application/vnd.jupyter.widget-view+json": {
       "model_id": "",
       "version_major": 2,
       "version_minor": 0
      },
      "text/plain": [
       "HBox(children=(HTML(value=''), FloatProgress(value=0.0, max=64.0), HTML(value='')))"
      ]
     },
     "metadata": {},
     "output_type": "display_data"
    },
    {
     "data": {
      "application/vnd.jupyter.widget-view+json": {
       "model_id": "",
       "version_major": 2,
       "version_minor": 0
      },
      "text/plain": [
       "HBox(children=(HTML(value=''), FloatProgress(value=0.0, max=64.0), HTML(value='')))"
      ]
     },
     "metadata": {},
     "output_type": "display_data"
    },
    {
     "data": {
      "application/vnd.jupyter.widget-view+json": {
       "model_id": "",
       "version_major": 2,
       "version_minor": 0
      },
      "text/plain": [
       "HBox(children=(HTML(value=''), FloatProgress(value=0.0, max=64.0), HTML(value='')))"
      ]
     },
     "metadata": {},
     "output_type": "display_data"
    },
    {
     "data": {
      "application/vnd.jupyter.widget-view+json": {
       "model_id": "",
       "version_major": 2,
       "version_minor": 0
      },
      "text/plain": [
       "HBox(children=(HTML(value=''), FloatProgress(value=0.0, max=64.0), HTML(value='')))"
      ]
     },
     "metadata": {},
     "output_type": "display_data"
    },
    {
     "data": {
      "application/vnd.jupyter.widget-view+json": {
       "model_id": "",
       "version_major": 2,
       "version_minor": 0
      },
      "text/plain": [
       "HBox(children=(HTML(value=''), FloatProgress(value=0.0, max=64.0), HTML(value='')))"
      ]
     },
     "metadata": {},
     "output_type": "display_data"
    },
    {
     "data": {
      "application/vnd.jupyter.widget-view+json": {
       "model_id": "",
       "version_major": 2,
       "version_minor": 0
      },
      "text/plain": [
       "HBox(children=(HTML(value=''), FloatProgress(value=0.0, max=64.0), HTML(value='')))"
      ]
     },
     "metadata": {},
     "output_type": "display_data"
    },
    {
     "data": {
      "application/vnd.jupyter.widget-view+json": {
       "model_id": "",
       "version_major": 2,
       "version_minor": 0
      },
      "text/plain": [
       "HBox(children=(HTML(value=''), FloatProgress(value=0.0, max=64.0), HTML(value='')))"
      ]
     },
     "metadata": {},
     "output_type": "display_data"
    },
    {
     "data": {
      "application/vnd.jupyter.widget-view+json": {
       "model_id": "",
       "version_major": 2,
       "version_minor": 0
      },
      "text/plain": [
       "HBox(children=(HTML(value=''), FloatProgress(value=0.0, max=64.0), HTML(value='')))"
      ]
     },
     "metadata": {},
     "output_type": "display_data"
    },
    {
     "data": {
      "application/vnd.jupyter.widget-view+json": {
       "model_id": "",
       "version_major": 2,
       "version_minor": 0
      },
      "text/plain": [
       "HBox(children=(HTML(value=''), FloatProgress(value=0.0, max=64.0), HTML(value='')))"
      ]
     },
     "metadata": {},
     "output_type": "display_data"
    },
    {
     "data": {
      "application/vnd.jupyter.widget-view+json": {
       "model_id": "",
       "version_major": 2,
       "version_minor": 0
      },
      "text/plain": [
       "HBox(children=(HTML(value=''), FloatProgress(value=0.0, max=64.0), HTML(value='')))"
      ]
     },
     "metadata": {},
     "output_type": "display_data"
    },
    {
     "data": {
      "application/vnd.jupyter.widget-view+json": {
       "model_id": "",
       "version_major": 2,
       "version_minor": 0
      },
      "text/plain": [
       "HBox(children=(HTML(value=''), FloatProgress(value=0.0, max=64.0), HTML(value='')))"
      ]
     },
     "metadata": {},
     "output_type": "display_data"
    },
    {
     "data": {
      "application/vnd.jupyter.widget-view+json": {
       "model_id": "",
       "version_major": 2,
       "version_minor": 0
      },
      "text/plain": [
       "HBox(children=(HTML(value=''), FloatProgress(value=0.0, max=64.0), HTML(value='')))"
      ]
     },
     "metadata": {},
     "output_type": "display_data"
    },
    {
     "data": {
      "application/vnd.jupyter.widget-view+json": {
       "model_id": "",
       "version_major": 2,
       "version_minor": 0
      },
      "text/plain": [
       "HBox(children=(HTML(value=''), FloatProgress(value=0.0, max=64.0), HTML(value='')))"
      ]
     },
     "metadata": {},
     "output_type": "display_data"
    },
    {
     "data": {
      "application/vnd.jupyter.widget-view+json": {
       "model_id": "",
       "version_major": 2,
       "version_minor": 0
      },
      "text/plain": [
       "HBox(children=(HTML(value=''), FloatProgress(value=0.0, max=64.0), HTML(value='')))"
      ]
     },
     "metadata": {},
     "output_type": "display_data"
    },
    {
     "data": {
      "application/vnd.jupyter.widget-view+json": {
       "model_id": "",
       "version_major": 2,
       "version_minor": 0
      },
      "text/plain": [
       "HBox(children=(HTML(value=''), FloatProgress(value=0.0, max=64.0), HTML(value='')))"
      ]
     },
     "metadata": {},
     "output_type": "display_data"
    },
    {
     "data": {
      "application/vnd.jupyter.widget-view+json": {
       "model_id": "",
       "version_major": 2,
       "version_minor": 0
      },
      "text/plain": [
       "HBox(children=(HTML(value=''), FloatProgress(value=0.0, max=64.0), HTML(value='')))"
      ]
     },
     "metadata": {},
     "output_type": "display_data"
    },
    {
     "data": {
      "application/vnd.jupyter.widget-view+json": {
       "model_id": "",
       "version_major": 2,
       "version_minor": 0
      },
      "text/plain": [
       "HBox(children=(HTML(value=''), FloatProgress(value=0.0, max=64.0), HTML(value='')))"
      ]
     },
     "metadata": {},
     "output_type": "display_data"
    },
    {
     "data": {
      "application/vnd.jupyter.widget-view+json": {
       "model_id": "",
       "version_major": 2,
       "version_minor": 0
      },
      "text/plain": [
       "HBox(children=(HTML(value=''), FloatProgress(value=0.0, max=64.0), HTML(value='')))"
      ]
     },
     "metadata": {},
     "output_type": "display_data"
    },
    {
     "data": {
      "application/vnd.jupyter.widget-view+json": {
       "model_id": "",
       "version_major": 2,
       "version_minor": 0
      },
      "text/plain": [
       "HBox(children=(HTML(value=''), FloatProgress(value=0.0, max=64.0), HTML(value='')))"
      ]
     },
     "metadata": {},
     "output_type": "display_data"
    },
    {
     "data": {
      "application/vnd.jupyter.widget-view+json": {
       "model_id": "",
       "version_major": 2,
       "version_minor": 0
      },
      "text/plain": [
       "HBox(children=(HTML(value=''), FloatProgress(value=0.0, max=64.0), HTML(value='')))"
      ]
     },
     "metadata": {},
     "output_type": "display_data"
    },
    {
     "data": {
      "application/vnd.jupyter.widget-view+json": {
       "model_id": "",
       "version_major": 2,
       "version_minor": 0
      },
      "text/plain": [
       "HBox(children=(HTML(value=''), FloatProgress(value=0.0, max=64.0), HTML(value='')))"
      ]
     },
     "metadata": {},
     "output_type": "display_data"
    },
    {
     "data": {
      "application/vnd.jupyter.widget-view+json": {
       "model_id": "",
       "version_major": 2,
       "version_minor": 0
      },
      "text/plain": [
       "HBox(children=(HTML(value=''), FloatProgress(value=0.0, max=64.0), HTML(value='')))"
      ]
     },
     "metadata": {},
     "output_type": "display_data"
    },
    {
     "data": {
      "application/vnd.jupyter.widget-view+json": {
       "model_id": "",
       "version_major": 2,
       "version_minor": 0
      },
      "text/plain": [
       "HBox(children=(HTML(value=''), FloatProgress(value=0.0, max=64.0), HTML(value='')))"
      ]
     },
     "metadata": {},
     "output_type": "display_data"
    },
    {
     "data": {
      "application/vnd.jupyter.widget-view+json": {
       "model_id": "",
       "version_major": 2,
       "version_minor": 0
      },
      "text/plain": [
       "HBox(children=(HTML(value=''), FloatProgress(value=0.0, max=64.0), HTML(value='')))"
      ]
     },
     "metadata": {},
     "output_type": "display_data"
    },
    {
     "data": {
      "application/vnd.jupyter.widget-view+json": {
       "model_id": "",
       "version_major": 2,
       "version_minor": 0
      },
      "text/plain": [
       "HBox(children=(HTML(value=''), FloatProgress(value=0.0, max=64.0), HTML(value='')))"
      ]
     },
     "metadata": {},
     "output_type": "display_data"
    },
    {
     "data": {
      "application/vnd.jupyter.widget-view+json": {
       "model_id": "",
       "version_major": 2,
       "version_minor": 0
      },
      "text/plain": [
       "HBox(children=(HTML(value=''), FloatProgress(value=0.0, max=64.0), HTML(value='')))"
      ]
     },
     "metadata": {},
     "output_type": "display_data"
    },
    {
     "data": {
      "application/vnd.jupyter.widget-view+json": {
       "model_id": "",
       "version_major": 2,
       "version_minor": 0
      },
      "text/plain": [
       "HBox(children=(HTML(value=''), FloatProgress(value=0.0, max=64.0), HTML(value='')))"
      ]
     },
     "metadata": {},
     "output_type": "display_data"
    },
    {
     "data": {
      "application/vnd.jupyter.widget-view+json": {
       "model_id": "",
       "version_major": 2,
       "version_minor": 0
      },
      "text/plain": [
       "HBox(children=(HTML(value=''), FloatProgress(value=0.0, max=64.0), HTML(value='')))"
      ]
     },
     "metadata": {},
     "output_type": "display_data"
    },
    {
     "data": {
      "application/vnd.jupyter.widget-view+json": {
       "model_id": "",
       "version_major": 2,
       "version_minor": 0
      },
      "text/plain": [
       "HBox(children=(HTML(value=''), FloatProgress(value=0.0, max=64.0), HTML(value='')))"
      ]
     },
     "metadata": {},
     "output_type": "display_data"
    },
    {
     "data": {
      "application/vnd.jupyter.widget-view+json": {
       "model_id": "",
       "version_major": 2,
       "version_minor": 0
      },
      "text/plain": [
       "HBox(children=(HTML(value=''), FloatProgress(value=0.0, max=64.0), HTML(value='')))"
      ]
     },
     "metadata": {},
     "output_type": "display_data"
    },
    {
     "data": {
      "application/vnd.jupyter.widget-view+json": {
       "model_id": "",
       "version_major": 2,
       "version_minor": 0
      },
      "text/plain": [
       "HBox(children=(HTML(value=''), FloatProgress(value=0.0, max=64.0), HTML(value='')))"
      ]
     },
     "metadata": {},
     "output_type": "display_data"
    },
    {
     "data": {
      "application/vnd.jupyter.widget-view+json": {
       "model_id": "",
       "version_major": 2,
       "version_minor": 0
      },
      "text/plain": [
       "HBox(children=(HTML(value=''), FloatProgress(value=0.0, max=64.0), HTML(value='')))"
      ]
     },
     "metadata": {},
     "output_type": "display_data"
    },
    {
     "data": {
      "application/vnd.jupyter.widget-view+json": {
       "model_id": "",
       "version_major": 2,
       "version_minor": 0
      },
      "text/plain": [
       "HBox(children=(HTML(value=''), FloatProgress(value=0.0, max=64.0), HTML(value='')))"
      ]
     },
     "metadata": {},
     "output_type": "display_data"
    },
    {
     "data": {
      "application/vnd.jupyter.widget-view+json": {
       "model_id": "",
       "version_major": 2,
       "version_minor": 0
      },
      "text/plain": [
       "HBox(children=(HTML(value=''), FloatProgress(value=0.0, max=64.0), HTML(value='')))"
      ]
     },
     "metadata": {},
     "output_type": "display_data"
    },
    {
     "data": {
      "application/vnd.jupyter.widget-view+json": {
       "model_id": "",
       "version_major": 2,
       "version_minor": 0
      },
      "text/plain": [
       "HBox(children=(HTML(value=''), FloatProgress(value=0.0, max=64.0), HTML(value='')))"
      ]
     },
     "metadata": {},
     "output_type": "display_data"
    },
    {
     "data": {
      "application/vnd.jupyter.widget-view+json": {
       "model_id": "",
       "version_major": 2,
       "version_minor": 0
      },
      "text/plain": [
       "HBox(children=(HTML(value=''), FloatProgress(value=0.0, max=64.0), HTML(value='')))"
      ]
     },
     "metadata": {},
     "output_type": "display_data"
    },
    {
     "data": {
      "application/vnd.jupyter.widget-view+json": {
       "model_id": "",
       "version_major": 2,
       "version_minor": 0
      },
      "text/plain": [
       "HBox(children=(HTML(value=''), FloatProgress(value=0.0, max=64.0), HTML(value='')))"
      ]
     },
     "metadata": {},
     "output_type": "display_data"
    },
    {
     "data": {
      "application/vnd.jupyter.widget-view+json": {
       "model_id": "",
       "version_major": 2,
       "version_minor": 0
      },
      "text/plain": [
       "HBox(children=(HTML(value=''), FloatProgress(value=0.0, max=64.0), HTML(value='')))"
      ]
     },
     "metadata": {},
     "output_type": "display_data"
    },
    {
     "data": {
      "application/vnd.jupyter.widget-view+json": {
       "model_id": "",
       "version_major": 2,
       "version_minor": 0
      },
      "text/plain": [
       "HBox(children=(HTML(value=''), FloatProgress(value=0.0, max=64.0), HTML(value='')))"
      ]
     },
     "metadata": {},
     "output_type": "display_data"
    },
    {
     "data": {
      "application/vnd.jupyter.widget-view+json": {
       "model_id": "",
       "version_major": 2,
       "version_minor": 0
      },
      "text/plain": [
       "HBox(children=(HTML(value=''), FloatProgress(value=0.0, max=64.0), HTML(value='')))"
      ]
     },
     "metadata": {},
     "output_type": "display_data"
    },
    {
     "data": {
      "application/vnd.jupyter.widget-view+json": {
       "model_id": "",
       "version_major": 2,
       "version_minor": 0
      },
      "text/plain": [
       "HBox(children=(HTML(value=''), FloatProgress(value=0.0, max=64.0), HTML(value='')))"
      ]
     },
     "metadata": {},
     "output_type": "display_data"
    },
    {
     "data": {
      "application/vnd.jupyter.widget-view+json": {
       "model_id": "",
       "version_major": 2,
       "version_minor": 0
      },
      "text/plain": [
       "HBox(children=(HTML(value=''), FloatProgress(value=0.0, max=64.0), HTML(value='')))"
      ]
     },
     "metadata": {},
     "output_type": "display_data"
    },
    {
     "data": {
      "application/vnd.jupyter.widget-view+json": {
       "model_id": "",
       "version_major": 2,
       "version_minor": 0
      },
      "text/plain": [
       "HBox(children=(HTML(value=''), FloatProgress(value=0.0, max=64.0), HTML(value='')))"
      ]
     },
     "metadata": {},
     "output_type": "display_data"
    },
    {
     "data": {
      "application/vnd.jupyter.widget-view+json": {
       "model_id": "",
       "version_major": 2,
       "version_minor": 0
      },
      "text/plain": [
       "HBox(children=(HTML(value=''), FloatProgress(value=0.0, max=64.0), HTML(value='')))"
      ]
     },
     "metadata": {},
     "output_type": "display_data"
    },
    {
     "data": {
      "application/vnd.jupyter.widget-view+json": {
       "model_id": "",
       "version_major": 2,
       "version_minor": 0
      },
      "text/plain": [
       "HBox(children=(HTML(value=''), FloatProgress(value=0.0, max=64.0), HTML(value='')))"
      ]
     },
     "metadata": {},
     "output_type": "display_data"
    },
    {
     "data": {
      "application/vnd.jupyter.widget-view+json": {
       "model_id": "",
       "version_major": 2,
       "version_minor": 0
      },
      "text/plain": [
       "HBox(children=(HTML(value=''), FloatProgress(value=0.0, max=64.0), HTML(value='')))"
      ]
     },
     "metadata": {},
     "output_type": "display_data"
    },
    {
     "data": {
      "application/vnd.jupyter.widget-view+json": {
       "model_id": "",
       "version_major": 2,
       "version_minor": 0
      },
      "text/plain": [
       "HBox(children=(HTML(value=''), FloatProgress(value=0.0, max=64.0), HTML(value='')))"
      ]
     },
     "metadata": {},
     "output_type": "display_data"
    },
    {
     "data": {
      "application/vnd.jupyter.widget-view+json": {
       "model_id": "",
       "version_major": 2,
       "version_minor": 0
      },
      "text/plain": [
       "HBox(children=(HTML(value=''), FloatProgress(value=0.0, max=64.0), HTML(value='')))"
      ]
     },
     "metadata": {},
     "output_type": "display_data"
    },
    {
     "data": {
      "application/vnd.jupyter.widget-view+json": {
       "model_id": "",
       "version_major": 2,
       "version_minor": 0
      },
      "text/plain": [
       "HBox(children=(HTML(value=''), FloatProgress(value=0.0, max=64.0), HTML(value='')))"
      ]
     },
     "metadata": {},
     "output_type": "display_data"
    },
    {
     "data": {
      "application/vnd.jupyter.widget-view+json": {
       "model_id": "",
       "version_major": 2,
       "version_minor": 0
      },
      "text/plain": [
       "HBox(children=(HTML(value=''), FloatProgress(value=0.0, max=64.0), HTML(value='')))"
      ]
     },
     "metadata": {},
     "output_type": "display_data"
    },
    {
     "data": {
      "application/vnd.jupyter.widget-view+json": {
       "model_id": "",
       "version_major": 2,
       "version_minor": 0
      },
      "text/plain": [
       "HBox(children=(HTML(value=''), FloatProgress(value=0.0, max=64.0), HTML(value='')))"
      ]
     },
     "metadata": {},
     "output_type": "display_data"
    },
    {
     "data": {
      "application/vnd.jupyter.widget-view+json": {
       "model_id": "",
       "version_major": 2,
       "version_minor": 0
      },
      "text/plain": [
       "HBox(children=(HTML(value=''), FloatProgress(value=0.0, max=64.0), HTML(value='')))"
      ]
     },
     "metadata": {},
     "output_type": "display_data"
    },
    {
     "data": {
      "application/vnd.jupyter.widget-view+json": {
       "model_id": "",
       "version_major": 2,
       "version_minor": 0
      },
      "text/plain": [
       "HBox(children=(HTML(value=''), FloatProgress(value=0.0, max=64.0), HTML(value='')))"
      ]
     },
     "metadata": {},
     "output_type": "display_data"
    },
    {
     "data": {
      "application/vnd.jupyter.widget-view+json": {
       "model_id": "",
       "version_major": 2,
       "version_minor": 0
      },
      "text/plain": [
       "HBox(children=(HTML(value=''), FloatProgress(value=0.0, max=64.0), HTML(value='')))"
      ]
     },
     "metadata": {},
     "output_type": "display_data"
    },
    {
     "data": {
      "application/vnd.jupyter.widget-view+json": {
       "model_id": "",
       "version_major": 2,
       "version_minor": 0
      },
      "text/plain": [
       "HBox(children=(HTML(value=''), FloatProgress(value=0.0, max=64.0), HTML(value='')))"
      ]
     },
     "metadata": {},
     "output_type": "display_data"
    },
    {
     "data": {
      "application/vnd.jupyter.widget-view+json": {
       "model_id": "",
       "version_major": 2,
       "version_minor": 0
      },
      "text/plain": [
       "HBox(children=(HTML(value=''), FloatProgress(value=0.0, max=64.0), HTML(value='')))"
      ]
     },
     "metadata": {},
     "output_type": "display_data"
    },
    {
     "data": {
      "application/vnd.jupyter.widget-view+json": {
       "model_id": "",
       "version_major": 2,
       "version_minor": 0
      },
      "text/plain": [
       "HBox(children=(HTML(value=''), FloatProgress(value=0.0, max=64.0), HTML(value='')))"
      ]
     },
     "metadata": {},
     "output_type": "display_data"
    },
    {
     "data": {
      "application/vnd.jupyter.widget-view+json": {
       "model_id": "",
       "version_major": 2,
       "version_minor": 0
      },
      "text/plain": [
       "HBox(children=(HTML(value=''), FloatProgress(value=0.0, max=64.0), HTML(value='')))"
      ]
     },
     "metadata": {},
     "output_type": "display_data"
    },
    {
     "data": {
      "application/vnd.jupyter.widget-view+json": {
       "model_id": "",
       "version_major": 2,
       "version_minor": 0
      },
      "text/plain": [
       "HBox(children=(HTML(value=''), FloatProgress(value=0.0, max=64.0), HTML(value='')))"
      ]
     },
     "metadata": {},
     "output_type": "display_data"
    },
    {
     "data": {
      "application/vnd.jupyter.widget-view+json": {
       "model_id": "",
       "version_major": 2,
       "version_minor": 0
      },
      "text/plain": [
       "HBox(children=(HTML(value=''), FloatProgress(value=0.0, max=64.0), HTML(value='')))"
      ]
     },
     "metadata": {},
     "output_type": "display_data"
    },
    {
     "data": {
      "application/vnd.jupyter.widget-view+json": {
       "model_id": "",
       "version_major": 2,
       "version_minor": 0
      },
      "text/plain": [
       "HBox(children=(HTML(value=''), FloatProgress(value=0.0, max=64.0), HTML(value='')))"
      ]
     },
     "metadata": {},
     "output_type": "display_data"
    },
    {
     "data": {
      "application/vnd.jupyter.widget-view+json": {
       "model_id": "",
       "version_major": 2,
       "version_minor": 0
      },
      "text/plain": [
       "HBox(children=(HTML(value=''), FloatProgress(value=0.0, max=64.0), HTML(value='')))"
      ]
     },
     "metadata": {},
     "output_type": "display_data"
    },
    {
     "data": {
      "application/vnd.jupyter.widget-view+json": {
       "model_id": "",
       "version_major": 2,
       "version_minor": 0
      },
      "text/plain": [
       "HBox(children=(HTML(value=''), FloatProgress(value=0.0, max=64.0), HTML(value='')))"
      ]
     },
     "metadata": {},
     "output_type": "display_data"
    },
    {
     "data": {
      "application/vnd.jupyter.widget-view+json": {
       "model_id": "",
       "version_major": 2,
       "version_minor": 0
      },
      "text/plain": [
       "HBox(children=(HTML(value=''), FloatProgress(value=0.0, max=64.0), HTML(value='')))"
      ]
     },
     "metadata": {},
     "output_type": "display_data"
    },
    {
     "data": {
      "application/vnd.jupyter.widget-view+json": {
       "model_id": "",
       "version_major": 2,
       "version_minor": 0
      },
      "text/plain": [
       "HBox(children=(HTML(value=''), FloatProgress(value=0.0, max=64.0), HTML(value='')))"
      ]
     },
     "metadata": {},
     "output_type": "display_data"
    },
    {
     "data": {
      "application/vnd.jupyter.widget-view+json": {
       "model_id": "",
       "version_major": 2,
       "version_minor": 0
      },
      "text/plain": [
       "HBox(children=(HTML(value=''), FloatProgress(value=0.0, max=64.0), HTML(value='')))"
      ]
     },
     "metadata": {},
     "output_type": "display_data"
    },
    {
     "data": {
      "application/vnd.jupyter.widget-view+json": {
       "model_id": "",
       "version_major": 2,
       "version_minor": 0
      },
      "text/plain": [
       "HBox(children=(HTML(value=''), FloatProgress(value=0.0, max=64.0), HTML(value='')))"
      ]
     },
     "metadata": {},
     "output_type": "display_data"
    },
    {
     "data": {
      "application/vnd.jupyter.widget-view+json": {
       "model_id": "",
       "version_major": 2,
       "version_minor": 0
      },
      "text/plain": [
       "HBox(children=(HTML(value=''), FloatProgress(value=0.0, max=64.0), HTML(value='')))"
      ]
     },
     "metadata": {},
     "output_type": "display_data"
    },
    {
     "data": {
      "application/vnd.jupyter.widget-view+json": {
       "model_id": "",
       "version_major": 2,
       "version_minor": 0
      },
      "text/plain": [
       "HBox(children=(HTML(value=''), FloatProgress(value=0.0, max=64.0), HTML(value='')))"
      ]
     },
     "metadata": {},
     "output_type": "display_data"
    },
    {
     "data": {
      "application/vnd.jupyter.widget-view+json": {
       "model_id": "",
       "version_major": 2,
       "version_minor": 0
      },
      "text/plain": [
       "HBox(children=(HTML(value=''), FloatProgress(value=0.0, max=64.0), HTML(value='')))"
      ]
     },
     "metadata": {},
     "output_type": "display_data"
    },
    {
     "data": {
      "application/vnd.jupyter.widget-view+json": {
       "model_id": "",
       "version_major": 2,
       "version_minor": 0
      },
      "text/plain": [
       "HBox(children=(HTML(value=''), FloatProgress(value=0.0, max=64.0), HTML(value='')))"
      ]
     },
     "metadata": {},
     "output_type": "display_data"
    },
    {
     "data": {
      "application/vnd.jupyter.widget-view+json": {
       "model_id": "",
       "version_major": 2,
       "version_minor": 0
      },
      "text/plain": [
       "HBox(children=(HTML(value=''), FloatProgress(value=0.0, max=64.0), HTML(value='')))"
      ]
     },
     "metadata": {},
     "output_type": "display_data"
    },
    {
     "data": {
      "application/vnd.jupyter.widget-view+json": {
       "model_id": "",
       "version_major": 2,
       "version_minor": 0
      },
      "text/plain": [
       "HBox(children=(HTML(value=''), FloatProgress(value=0.0, max=64.0), HTML(value='')))"
      ]
     },
     "metadata": {},
     "output_type": "display_data"
    },
    {
     "data": {
      "application/vnd.jupyter.widget-view+json": {
       "model_id": "",
       "version_major": 2,
       "version_minor": 0
      },
      "text/plain": [
       "HBox(children=(HTML(value=''), FloatProgress(value=0.0, max=64.0), HTML(value='')))"
      ]
     },
     "metadata": {},
     "output_type": "display_data"
    },
    {
     "data": {
      "application/vnd.jupyter.widget-view+json": {
       "model_id": "",
       "version_major": 2,
       "version_minor": 0
      },
      "text/plain": [
       "HBox(children=(HTML(value=''), FloatProgress(value=0.0, max=64.0), HTML(value='')))"
      ]
     },
     "metadata": {},
     "output_type": "display_data"
    },
    {
     "data": {
      "application/vnd.jupyter.widget-view+json": {
       "model_id": "",
       "version_major": 2,
       "version_minor": 0
      },
      "text/plain": [
       "HBox(children=(HTML(value=''), FloatProgress(value=0.0, max=64.0), HTML(value='')))"
      ]
     },
     "metadata": {},
     "output_type": "display_data"
    },
    {
     "data": {
      "application/vnd.jupyter.widget-view+json": {
       "model_id": "",
       "version_major": 2,
       "version_minor": 0
      },
      "text/plain": [
       "HBox(children=(HTML(value=''), FloatProgress(value=0.0, max=64.0), HTML(value='')))"
      ]
     },
     "metadata": {},
     "output_type": "display_data"
    },
    {
     "data": {
      "application/vnd.jupyter.widget-view+json": {
       "model_id": "",
       "version_major": 2,
       "version_minor": 0
      },
      "text/plain": [
       "HBox(children=(HTML(value=''), FloatProgress(value=0.0, max=64.0), HTML(value='')))"
      ]
     },
     "metadata": {},
     "output_type": "display_data"
    },
    {
     "data": {
      "application/vnd.jupyter.widget-view+json": {
       "model_id": "",
       "version_major": 2,
       "version_minor": 0
      },
      "text/plain": [
       "HBox(children=(HTML(value=''), FloatProgress(value=0.0, max=64.0), HTML(value='')))"
      ]
     },
     "metadata": {},
     "output_type": "display_data"
    },
    {
     "data": {
      "application/vnd.jupyter.widget-view+json": {
       "model_id": "",
       "version_major": 2,
       "version_minor": 0
      },
      "text/plain": [
       "HBox(children=(HTML(value=''), FloatProgress(value=0.0, max=64.0), HTML(value='')))"
      ]
     },
     "metadata": {},
     "output_type": "display_data"
    },
    {
     "data": {
      "application/vnd.jupyter.widget-view+json": {
       "model_id": "",
       "version_major": 2,
       "version_minor": 0
      },
      "text/plain": [
       "HBox(children=(HTML(value=''), FloatProgress(value=0.0, max=64.0), HTML(value='')))"
      ]
     },
     "metadata": {},
     "output_type": "display_data"
    },
    {
     "data": {
      "application/vnd.jupyter.widget-view+json": {
       "model_id": "",
       "version_major": 2,
       "version_minor": 0
      },
      "text/plain": [
       "HBox(children=(HTML(value=''), FloatProgress(value=0.0, max=64.0), HTML(value='')))"
      ]
     },
     "metadata": {},
     "output_type": "display_data"
    },
    {
     "data": {
      "application/vnd.jupyter.widget-view+json": {
       "model_id": "",
       "version_major": 2,
       "version_minor": 0
      },
      "text/plain": [
       "HBox(children=(HTML(value=''), FloatProgress(value=0.0, max=64.0), HTML(value='')))"
      ]
     },
     "metadata": {},
     "output_type": "display_data"
    },
    {
     "data": {
      "application/vnd.jupyter.widget-view+json": {
       "model_id": "",
       "version_major": 2,
       "version_minor": 0
      },
      "text/plain": [
       "HBox(children=(HTML(value=''), FloatProgress(value=0.0, max=64.0), HTML(value='')))"
      ]
     },
     "metadata": {},
     "output_type": "display_data"
    },
    {
     "data": {
      "application/vnd.jupyter.widget-view+json": {
       "model_id": "",
       "version_major": 2,
       "version_minor": 0
      },
      "text/plain": [
       "HBox(children=(HTML(value=''), FloatProgress(value=0.0, max=64.0), HTML(value='')))"
      ]
     },
     "metadata": {},
     "output_type": "display_data"
    },
    {
     "data": {
      "application/vnd.jupyter.widget-view+json": {
       "model_id": "",
       "version_major": 2,
       "version_minor": 0
      },
      "text/plain": [
       "HBox(children=(HTML(value=''), FloatProgress(value=0.0, max=64.0), HTML(value='')))"
      ]
     },
     "metadata": {},
     "output_type": "display_data"
    },
    {
     "data": {
      "application/vnd.jupyter.widget-view+json": {
       "model_id": "",
       "version_major": 2,
       "version_minor": 0
      },
      "text/plain": [
       "HBox(children=(HTML(value=''), FloatProgress(value=0.0, max=64.0), HTML(value='')))"
      ]
     },
     "metadata": {},
     "output_type": "display_data"
    },
    {
     "data": {
      "application/vnd.jupyter.widget-view+json": {
       "model_id": "",
       "version_major": 2,
       "version_minor": 0
      },
      "text/plain": [
       "HBox(children=(HTML(value=''), FloatProgress(value=0.0, max=64.0), HTML(value='')))"
      ]
     },
     "metadata": {},
     "output_type": "display_data"
    },
    {
     "data": {
      "application/vnd.jupyter.widget-view+json": {
       "model_id": "",
       "version_major": 2,
       "version_minor": 0
      },
      "text/plain": [
       "HBox(children=(HTML(value=''), FloatProgress(value=0.0, max=64.0), HTML(value='')))"
      ]
     },
     "metadata": {},
     "output_type": "display_data"
    },
    {
     "data": {
      "application/vnd.jupyter.widget-view+json": {
       "model_id": "",
       "version_major": 2,
       "version_minor": 0
      },
      "text/plain": [
       "HBox(children=(HTML(value=''), FloatProgress(value=0.0, max=64.0), HTML(value='')))"
      ]
     },
     "metadata": {},
     "output_type": "display_data"
    },
    {
     "data": {
      "application/vnd.jupyter.widget-view+json": {
       "model_id": "",
       "version_major": 2,
       "version_minor": 0
      },
      "text/plain": [
       "HBox(children=(HTML(value=''), FloatProgress(value=0.0, max=64.0), HTML(value='')))"
      ]
     },
     "metadata": {},
     "output_type": "display_data"
    },
    {
     "name": "stdout",
     "output_type": "stream",
     "text": [
      "\n",
      "['red', 44.29379477160666]\n",
      "['green', 10.023136111491215]\n",
      "['yellow', 71.25321759952111]\n",
      "['blue', 10.995958336220236]\n",
      "['brown', 41.18098862604333]\n",
      "['orange', 60.09643420637425]\n",
      "['pink', 23.772418613940484]\n",
      "['purple', 12.402354841230562]\n",
      "['grey', 86.80291704649044]\n",
      "['white', 1360.3257142857142]\n",
      "['black', 218.150744558992]\n"
     ]
    },
    {
     "data": {
      "image/png": "[encoded data removed]",
      "text/plain": [
       "<Figure size 432x288 with 1 Axes>"
      ]
     },
     "metadata": {
      "needs_background": "light"
     },
     "output_type": "display_data"
    }
   ],
   "source": [
    "# nk=128,ng=32, 90mins\n",
    "\n",
    "nk = 256\n",
    "ng = 64\n",
    "\n",
    "m = Y_all_2.shape[0]\n",
    "\n",
    "y = {}\n",
    "y_var = {}\n",
    "for i in tqdm(range(nk)):\n",
    "    x = FocalColsPercentages_exemplar(nDifferentGames=ng,k=i)\n",
    "    for c in x:\n",
    "        y[c] = np.append(y.get(c,np.zeros(i)),x[c][0])\n",
    "        y_var[c] = np.append(y_var.get(c,np.zeros(i)),x[c][1])\n",
    "for c in y:\n",
    "    plt.plot(list(range(nk)),y[c],c=c)\n",
    "    plt.fill_between(range(nk),y[c]-y_var[c],y[c]+y_var[c],color=c,alpha=0.125,linewidth=0.0)\n",
    "    a = m/ld[c]\n",
    "    print([c,a])\n",
    "    if (a < nk):\n",
    "        plt.vlines(a,ymin=0,ymax=1,colors=[c],linestyle='dashed')\n",
    "        \n",
    "plt.xlabel('$k$')\n",
    "plt.savefig('./Images/mgFocalCols.pdf')"
   ]
  },
  {
   "cell_type": "code",
   "execution_count": null,
   "metadata": {
    "ExecuteTime": {
     "end_time": "2021-05-01T15:46:33.788315Z",
     "start_time": "2021-05-01T15:46:33.657198Z"
    }
   },
   "outputs": [],
   "source": [
    "print(Y_all_2.shape)\n"
   ]
  },
  {
   "cell_type": "code",
   "execution_count": null,
   "metadata": {
    "ExecuteTime": {
     "end_time": "2021-05-01T13:32:48.579652Z",
     "start_time": "2021-05-01T13:32:48.105722Z"
    }
   },
   "outputs": [],
   "source": [
    "for c in y:\n",
    "    plt.plot(list(range(nk)),y[c],c=c)\n",
    "    plt.fill_between(range(nk),y[c]-y_var[c],y[c]+y_var[c],color=c,alpha=0.125,linewidth=0.0)"
   ]
  },
  {
   "cell_type": "code",
   "execution_count": null,
   "metadata": {
    "ExecuteTime": {
     "end_time": "2021-04-30T09:46:37.002986Z",
     "start_time": "2021-04-30T09:28:37.631166Z"
    }
   },
   "outputs": [],
   "source": [
    "results_ekt_blue = [FocalPercentage(RAA_et_mg,l=l_all_2,Y=Y_all_2,nDifferentGames=8,nIterations=256,aArgs={'a':a_exemplar,'ratioValue':1,'k':k,'e1':4,'e2':4},pf=PF(3),l_focal=['blue']) for k in tqdm(range(n))]"
   ]
  },
  {
   "cell_type": "code",
   "execution_count": null,
   "metadata": {
    "ExecuteTime": {
     "end_time": "2021-04-30T10:12:17.170019Z",
     "start_time": "2021-04-30T10:12:16.566205Z"
    }
   },
   "outputs": [],
   "source": [
    "plt.plot(list(range(n)),results_ekt_blue,c='blue')\n",
    "plt.plot(list(range(n)),results_ekt_11)"
   ]
  },
  {
   "cell_type": "markdown",
   "metadata": {},
   "source": [
    "# Colour space plots"
   ]
  },
  {
   "cell_type": "code",
   "execution_count": null,
   "metadata": {
    "ExecuteTime": {
     "end_time": "2021-05-04T08:38:41.558954Z",
     "start_time": "2021-05-04T08:38:41.480182Z"
    }
   },
   "outputs": [],
   "source": [
    "def PlotColourSpace(agent,ax,n=16,angle=30):\n",
    "    for x in tqdm(range(n)):\n",
    "        for y in range(n):\n",
    "            for z in range(n):\n",
    "                x,y,z = [x,y,z]\n",
    "                c = agent.FindLabel([x,y,z])\n",
    "                try:\n",
    "                    ax.scatter(x,y,z,c=c,alpha=1/2)\n",
    "                except:\n",
    "                    print(c)\n",
    "    ax.xaxis.pane.fill = False\n",
    "    ax.yaxis.pane.fill = False\n",
    "    ax.zaxis.pane.fill = False\n",
    "    #ax.set_xlabel('r')\n",
    "    #ax.set_ylabel('g')\n",
    "    #ax.set_zlabel('b')\n",
    "    ax.view_init(30,angle)\n",
    "    #plt.tight_layout()\n",
    "    #return fig,ax"
   ]
  },
  {
   "cell_type": "code",
   "execution_count": null,
   "metadata": {
    "ExecuteTime": {
     "end_time": "2021-04-28T09:25:14.943078Z",
     "start_time": "2021-04-28T09:25:14.855819Z"
    }
   },
   "outputs": [],
   "source": [
    "from agentClass import *"
   ]
  },
  {
   "cell_type": "code",
   "execution_count": null,
   "metadata": {
    "ExecuteTime": {
     "end_time": "2021-05-04T08:36:28.155394Z",
     "start_time": "2021-05-04T08:36:27.733657Z"
    }
   },
   "outputs": [],
   "source": [
    "print(l)"
   ]
  },
  {
   "cell_type": "code",
   "execution_count": null,
   "metadata": {
    "ExecuteTime": {
     "end_time": "2021-05-04T08:37:19.929414Z",
     "start_time": "2021-05-04T08:36:30.316209Z"
    }
   },
   "outputs": [],
   "source": [
    "print([nA,nI])\n",
    "pf = PF(3)\n",
    "agents = RAA_quantum(pf,N=nA,aArgs={'a':a_quantum,'ratioValue':1},l=l,Y=Y_train)\n",
    "for i in tqdm(range(128)):\n",
    "    GameRound(agents,pf)"
   ]
  },
  {
   "cell_type": "code",
   "execution_count": null,
   "metadata": {
    "ExecuteTime": {
     "end_time": "2021-05-04T08:37:39.006307Z",
     "start_time": "2021-05-04T08:37:19.936600Z"
    }
   },
   "outputs": [],
   "source": [
    "print(TestingAccuracy(agents,Y_test[:100]))"
   ]
  },
  {
   "cell_type": "code",
   "execution_count": null,
   "metadata": {
    "ExecuteTime": {
     "end_time": "2021-05-04T08:40:37.837629Z",
     "start_time": "2021-05-04T08:38:47.251676Z"
    },
    "scrolled": true
   },
   "outputs": [],
   "source": [
    "print(TestingAccuracy(agents,Y_test[:100]))\n",
    "fig = plt.figure()\n",
    "ax = fig.add_subplot(111, projection='3d')\n",
    "PlotColourSpace(agents[0],ax)"
   ]
  },
  {
   "cell_type": "code",
   "execution_count": null,
   "metadata": {
    "ExecuteTime": {
     "end_time": "2021-05-04T08:46:57.533855Z",
     "start_time": "2021-05-04T08:40:37.842355Z"
    }
   },
   "outputs": [],
   "source": [
    "fig, axs = plt.subplots(1,3,subplot_kw=dict(projection=\"3d\"),figsize=(15,5))\n",
    "angles = [30,150,270]\n",
    "for i in range(3):\n",
    "    PlotColourSpace(agents[0],axs[i],angle=angles[i])\n",
    "plt.tight_layout()\n",
    "plt.savefig('./images/quantumColourSpace.pdf')"
   ]
  },
  {
   "cell_type": "code",
   "execution_count": null,
   "metadata": {
    "ExecuteTime": {
     "end_time": "2021-05-04T08:47:44.559088Z",
     "start_time": "2021-05-04T08:46:57.538703Z"
    },
    "scrolled": true
   },
   "outputs": [],
   "source": [
    "pf = PF(3)\n",
    "agents_dm = RAA_quantum_dm(pf,N=nA,aArgs={'a':a_quantum,'ratioValue':1},l=l,Y=Y_train)\n",
    "for i in tqdm(range(128)):\n",
    "    GameRound(agents_dm,pf)"
   ]
  },
  {
   "cell_type": "code",
   "execution_count": null,
   "metadata": {
    "ExecuteTime": {
     "end_time": "2021-05-04T08:49:26.132960Z",
     "start_time": "2021-05-04T08:47:44.563549Z"
    }
   },
   "outputs": [],
   "source": [
    "print(TestingAccuracy(agents_dm,Y_test[:100]))\n",
    "fig = plt.figure()\n",
    "ax = fig.add_subplot(111, projection='3d')\n",
    "PlotColourSpace(agents_dm[0],ax)"
   ]
  },
  {
   "cell_type": "code",
   "execution_count": null,
   "metadata": {
    "ExecuteTime": {
     "end_time": "2021-05-04T08:55:41.100553Z",
     "start_time": "2021-05-04T08:49:26.138552Z"
    }
   },
   "outputs": [],
   "source": [
    "fig, axs = plt.subplots(1,3,subplot_kw=dict(projection=\"3d\"),figsize=(15,5))\n",
    "angles = [30,150,270]\n",
    "for i in range(3):\n",
    "    PlotColourSpace(agents_dm[0],axs[i],angle=angles[i])\n",
    "plt.tight_layout()\n",
    "plt.savefig('./Images/quantumColourSpace_dm.pdf')"
   ]
  },
  {
   "cell_type": "code",
   "execution_count": null,
   "metadata": {},
   "outputs": [],
   "source": []
  }
 ],
 "metadata": {
  "kernelspec": {
   "display_name": "Python 3",
   "language": "python",
   "name": "python3"
  },
  "language_info": {
   "codemirror_mode": {
    "name": "ipython",
    "version": 3
   },
   "file_extension": ".py",
   "mimetype": "text/x-python",
   "name": "python",
   "nbconvert_exporter": "python",
   "pygments_lexer": "ipython3",
   "version": "3.6.11"
  },
  "latex_envs": {
   "LaTeX_envs_menu_present": true,
   "autoclose": false,
   "autocomplete": true,
   "bibliofile": "biblio.bib",
   "cite_by": "apalike",
   "current_citInitial": 1,
   "eqLabelWithNumbers": true,
   "eqNumInitial": 1,
   "hotkeys": {
    "equation": ""
   },
   "labels_anchors": false,
   "latex_user_defs": false,
   "report_style_numbering": false,
   "user_envs_cfg": false
  },
  "toc": {
   "base_numbering": 1,
   "nav_menu": {
    "height": "173px",
    "width": "211px"
   },
   "number_sections": true,
   "sideBar": true,
   "skip_h1_title": false,
   "title_cell": "Table of Contents",
   "title_sidebar": "Contents",
   "toc_cell": false,
   "toc_position": {
    "height": "calc(100% - 180px)",
    "left": "10px",
    "top": "150px",
    "width": "336px"
   },
   "toc_section_display": true,
   "toc_window_display": true
  }
 },
 "nbformat": 4,
 "nbformat_minor": 4
}
